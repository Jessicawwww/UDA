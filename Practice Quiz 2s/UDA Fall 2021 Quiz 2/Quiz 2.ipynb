{
 "cells": [
  {
   "cell_type": "markdown",
   "id": "a5cfca58",
   "metadata": {},
   "source": [
    "# CMU 95-865 - Unstructured Data Analytics Fall 2021 Quiz 2\n",
    "\n",
    "This is an 80 minute exam. We will only grade what is submitted via Canvas.\n",
    "\n",
    "You must fill in your name and your Andrew ID for this quiz to be graded. Moreover, filling out your name and Andrew ID below will serve as your agreement with us, the course staff, that you did not collaborate with anyone on this exam and that what you submit is truly your own individual work and not that of anyone else. Violations found will result in severe penalties."
   ]
  },
  {
   "cell_type": "markdown",
   "id": "da1174c1",
   "metadata": {},
   "source": [
    "Your name:\n",
    "\n",
    "Your Andrew ID:\n",
    "\n",
    "**Warning: If you leave the above blank, your quiz will not be graded.**"
   ]
  },
  {
   "cell_type": "markdown",
   "id": "ceda6269",
   "metadata": {},
   "source": [
    "**Important:** There are 3 problems that can be done in any order."
   ]
  },
  {
   "cell_type": "markdown",
   "id": "8441fad1",
   "metadata": {},
   "source": [
    "## Problem 1 (no coding) [30 points]\n",
    "\n",
    "Consider the following convolutional neural network:\n",
    "\n",
    "1. Conv2D layer with 64 filters (each 5-by-5), expecting input images to have a single channel\n",
    "2. ReLU\n",
    "3. 2-by-2 max pool 2D layer\n",
    "4. Conv2D layer with 128 filters (each 4-by-4)\n",
    "5. ReLU\n",
    "6. 4-by-4 max pool 2D layer\n",
    "7. Flatten\n",
    "8. Linear layer with 1000 output nodes\n",
    "9. Softmax\n",
    "\n",
    "**(a) [3 points]** For the second Conv2D layer, what is the number of channels that it should expect for every input image it gets?"
   ]
  },
  {
   "cell_type": "markdown",
   "id": "857d2565",
   "metadata": {},
   "source": [
    "- 64, since the first layer has 64 filters, so it outputs a 64-channel image. Activation and pooling donot change the number of channels. \n"
   ]
  },
  {
   "cell_type": "markdown",
   "id": "e61f9a6f",
   "metadata": {},
   "source": [
    "**(b) [6 points]** How many parameters does the second Conv2D layer have?"
   ]
  },
  {
   "cell_type": "markdown",
   "id": "6551576a",
   "metadata": {},
   "source": [
    "- $128\\cdot(64\\cdot4\\cdot4+1) = 131200$"
   ]
  },
  {
   "cell_type": "markdown",
   "id": "9af3befb",
   "metadata": {},
   "source": [
    "**(c) [21 points across subparts]** For the subparts next, assume that the linear layer expects each of its inputs to be a 1D table with 2048 entries. Moreover, each input data point to the overall network is a square image (i.e., its height and width are the same).\n",
    "\n",
    "**Subpart i [3 points].** What is the output shape of the 4-by-4 max pooling layer for a single data point?"
   ]
  },
  {
   "cell_type": "markdown",
   "id": "65f81b79",
   "metadata": {},
   "source": [
    "- each channle of the second pooling layer stores a square image. (128,4,4)"
   ]
  },
  {
   "cell_type": "markdown",
   "id": "0051f35a",
   "metadata": {},
   "source": [
    "**Subpart ii [6 points].** What is the *minimum* size of each input image to the 4-by-4 max pooling layer (specify the number of channels, the height, and the width)? Very briefly also explain why the the input images to the 4-by-4 max pooling layer could actually be slightly larger yet still output the same answer."
   ]
  },
  {
   "cell_type": "markdown",
   "id": "dfce45b9",
   "metadata": {},
   "source": [
    "- (128, 16, 16). "
   ]
  },
  {
   "cell_type": "markdown",
   "id": "b4c24c50",
   "metadata": {},
   "source": [
    "**Subpart iii [12 points].** What is the *minimum* height/width of each input image to the entire convnet?"
   ]
  },
  {
   "cell_type": "markdown",
   "id": "10514875",
   "metadata": {},
   "source": [
    "- 42"
   ]
  },
  {
   "cell_type": "markdown",
   "id": "279e31a0",
   "metadata": {},
   "source": [
    "## Problem 2 (no coding) [15 points]\n",
    "\n",
    "Suppose that we are training a multilayer perceptron for a binary classification task. We set the final linear layer to have 2 nodes with softmax activation. However, we are not sure how to set the number of linear layers before the final linear layer (these linear layers before the final linear layer are commonly called \"hidden\" layers).\n",
    "\n",
    "Specifically, consider the following architecture, where every input data point is assumed to be represented as a 1D table with a total of `D` numbers, and we have a total of `L` hidden layers:\n",
    "\n",
    "- Repeat `L` times: linear layer with `K` nodes and ReLU activation\n",
    "- Finally, we have the last linear layer with 2 nodes and softmax activation\n",
    "\n",
    "Throughout this problem, assume that `K` is at least 2 and at most `D`.\n",
    "\n",
    "**(a) [9 points across subparts]** Let's do some parameter counting.\n",
    "\n",
    "**Subpart i. [6 points]** Suppose that `L` is equal to 3. What is the number of parameters of this multilayer perceptron in terms of `D` and `K`? Do *not* plug in numerical values for `D` or `K` in your answer; they should be left as variables."
   ]
  },
  {
   "cell_type": "markdown",
   "id": "e99bc15b",
   "metadata": {},
   "source": [
    "- `D * K + K + 2 * (K * K + K) + K * 2 + 2`"
   ]
  },
  {
   "cell_type": "markdown",
   "id": "fd9a7ff0",
   "metadata": {},
   "source": [
    "**Subpart ii. [3 points]** Let's generalize your answer from **subpart i**: determine the number of parameters of the multilayer perceptron as a function of `L`, `D`, and `K` (so for this subpart, do *not* plug in numerical values for any of these three variables)."
   ]
  },
  {
   "cell_type": "markdown",
   "id": "30875cb7",
   "metadata": {},
   "source": [
    "`D * K + K + (L - 1) * (K * K + K) + K * 2 + 2`"
   ]
  },
  {
   "cell_type": "markdown",
   "id": "9dccba8b",
   "metadata": {},
   "source": [
    "**(b) [6 points across subparts]** For this part only, assume that `D` is equal to 100, and we want to automatically choose `L` and `K`. We will try every combination of values `L` = 2, 4, 6, 8, 10, 12, `K` = 10, 20, 30, 40, 50, and also learning rates 0.01, 0.001, 0.0001 (using the Adam optimizer, which is the same optimizer we had used in the lecture demos).\n",
    "\n",
    "**Subpart i. [3 points]** Using simple data splitting with a 50/50 train/validation split to select the hyperparameters, how many times will we do model fitting?"
   ]
  },
  {
   "cell_type": "markdown",
   "id": "e5bef65c",
   "metadata": {},
   "source": [
    "- 90"
   ]
  },
  {
   "cell_type": "markdown",
   "id": "56b251d4",
   "metadata": {},
   "source": [
    "**Subpart ii. [3 points]** Will using simple data splitting with a 50/50 train/validation split always give us the same answer for what values of `L`, `K` and the learning rate are best? If not, clearly explain why not including explaining the different sources of randomness that could make the results different."
   ]
  },
  {
   "cell_type": "markdown",
   "id": "a5b87758",
   "metadata": {},
   "source": [
    "- No. different random choices of what is in the training set change the scores we get, leading to a different best hyperparameter setting found. Also, neural net training typically uses random parameter initialization; this also leads to different validation scores that could change what the best hyperparameter setting found is."
   ]
  },
  {
   "cell_type": "markdown",
   "id": "90ab828b",
   "metadata": {},
   "source": [
    "## Problem 3 (coding) [55 points]\n",
    "\n",
    "**Throughout this problem, do not import any packages/functions that are not already imported in the next cell.**\n",
    "\n",
    "In this problem, we examine customer complaints for different cars. Let's first get some Python imports and data loading sorted out. Please run the two cells below."
   ]
  },
  {
   "cell_type": "code",
   "execution_count": 2,
   "id": "f44220ed",
   "metadata": {},
   "outputs": [],
   "source": [
    "# DO NOT MODIFY THIS CELL\n",
    "%matplotlib inline\n",
    "import matplotlib.pyplot as plt\n",
    "import numpy as np\n",
    "from collections import Counter\n",
    "from operator import itemgetter\n",
    "from sklearn.feature_extraction.text import CountVectorizer\n",
    "from sklearn.model_selection import train_test_split\n",
    "\n",
    "# load in data\n",
    "with open('mystery_mentos.txt', 'r', encoding='utf-8') as f:\n",
    "    cars = np.array([_.strip() for _ in f.readlines()])\n",
    "with open('mystery_onions.txt', 'r', encoding='utf-8') as f:\n",
    "    complaints = np.array([_.strip() for _ in f.readlines()])\n",
    "with open('mystery_eggplant.txt', 'r', encoding='utf-8') as f:\n",
    "    labels = np.array([_.strip() for _ in f.readlines()])"
   ]
  },
  {
   "cell_type": "code",
   "execution_count": 3,
   "id": "8890e91b",
   "metadata": {},
   "outputs": [
    {
     "data": {
      "text/plain": [
       "array(['chevrolet camaro', 'chevrolet captiva', 'chevrolet city express',\n",
       "       'chevrolet colorado', 'chevrolet corvette'], dtype='<U30')"
      ]
     },
     "execution_count": 3,
     "metadata": {},
     "output_type": "execute_result"
    }
   ],
   "source": [
    "cars[:5]"
   ]
  },
  {
   "cell_type": "code",
   "execution_count": 4,
   "id": "5949e591",
   "metadata": {},
   "outputs": [
    {
     "data": {
      "text/plain": [
       "array(['ford c-max hybrid', 'ford c-max hybrid', 'ford c-max hybrid',\n",
       "       'ford c-max hybrid', 'ford c-max hybrid'], dtype='<U30')"
      ]
     },
     "execution_count": 4,
     "metadata": {},
     "output_type": "execute_result"
    }
   ],
   "source": [
    "labels[:5]"
   ]
  },
  {
   "cell_type": "code",
   "execution_count": 5,
   "id": "024e24d7",
   "metadata": {},
   "outputs": [
    {
     "name": "stdout",
     "output_type": "stream",
     "text": [
      "(165,) (21511,) (21511,)\n"
     ]
    }
   ],
   "source": [
    "print(cars.shape,complaints.shape,labels.shape)"
   ]
  },
  {
   "cell_type": "code",
   "execution_count": 6,
   "id": "162ab5dc",
   "metadata": {},
   "outputs": [
    {
     "data": {
      "text/plain": [
       "True"
      ]
     },
     "execution_count": 6,
     "metadata": {},
     "output_type": "execute_result"
    }
   ],
   "source": [
    "'ford c-max hybrid' in cars"
   ]
  },
  {
   "cell_type": "markdown",
   "id": "9ba118d1",
   "metadata": {},
   "source": [
    "The variable `cars` lists out all the different cars in the dataset. The variable `complaints` contains a collection of customer complaints. The i-th entry in `complaints` (namely, `complaints[i]`) is about the specific car given by `labels[i]`. Every value in `labels` is one of the cars in `cars`.\n",
    "\n",
    "**(a) [5 pts]** Let's first try to understand the labels in this dataset.\n",
    "\n",
    "Print out a sorted list of cars, where we sort the cars based on the number of complaints there are about the car. Your printed list should be of the format:\n",
    "\n",
    "```\n",
    "car 1 : number of complaints\n",
    "car 2 : number of complaints\n",
    "...\n",
    "last car : number of complaint\n",
    "```\n",
    "\n",
    "Again, `car 1` should correspond to whichever car has the most number of complaints, `car 2` should correspond to whichever car has the second most number of complaints, etc (so the number of complaints should go from biggest to smallest as you go down the list)."
   ]
  },
  {
   "cell_type": "code",
   "execution_count": 13,
   "id": "b5863134",
   "metadata": {},
   "outputs": [
    {
     "name": "stdout",
     "output_type": "stream",
     "text": [
      "car  chrysler 200 : number of complaints:  1792\n",
      "car  jeep cherokee : number of complaints:  1373\n",
      "car  ford explorer : number of complaints:  975\n",
      "car  jeep grand cherokee : number of complaints:  905\n",
      "car  chevrolet silverado 1500 : number of complaints:  787\n",
      "car  nissan altima : number of complaints:  653\n",
      "car  ford focus : number of complaints:  618\n",
      "car  ford fusion : number of complaints:  595\n",
      "car  ford fusion energi : number of complaints:  595\n",
      "car  hyundai sonata : number of complaints:  584\n",
      "car  honda cr-v : number of complaints:  553\n",
      "car  chevrolet tahoe : number of complaints:  476\n",
      "car  honda accord hybrid : number of complaints:  475\n",
      "car  honda accord : number of complaints:  453\n",
      "car  chevrolet equinox : number of complaints:  439\n",
      "car  jeep renegade : number of complaints:  438\n",
      "car  ford escape : number of complaints:  429\n",
      "car  ford edge : number of complaints:  392\n",
      "car  chevrolet colorado : number of complaints:  350\n",
      "car  nissan rogue : number of complaints:  319\n",
      "car  ford mustang : number of complaints:  272\n",
      "car  jeep wrangler : number of complaints:  263\n",
      "car  nissan pathfinder : number of complaints:  247\n",
      "car  chrysler town and country : number of complaints:  245\n",
      "car  jeep patriot : number of complaints:  245\n",
      "car  toyota camry hybrid : number of complaints:  242\n",
      "car  nissan sentra : number of complaints:  230\n",
      "car  toyota camry : number of complaints:  229\n",
      "car  honda civic hybrid : number of complaints:  220\n",
      "car  nissan versa note : number of complaints:  220\n",
      "car  chevrolet impala : number of complaints:  219\n",
      "car  honda civic : number of complaints:  218\n",
      "car  chevrolet malibu : number of complaints:  199\n",
      "car  honda fit : number of complaints:  199\n",
      "car  chevrolet cruze : number of complaints:  198\n",
      "car  chevrolet silverado 2500 : number of complaints:  185\n",
      "car  toyota sienna : number of complaints:  184\n",
      "car  toyota corolla : number of complaints:  177\n",
      "car  toyota rav4 : number of complaints:  172\n",
      "car  ford fiesta : number of complaints:  168\n",
      "car  hyundai genesis : number of complaints:  165\n",
      "car  chevrolet camaro : number of complaints:  162\n",
      "car  chevrolet traverse : number of complaints:  154\n",
      "car  nissan murano : number of complaints:  153\n",
      "car  ford taurus : number of complaints:  152\n",
      "car  nissan versa : number of complaints:  151\n",
      "car  toyota highlander hybrid : number of complaints:  151\n",
      "car  toyota highlander : number of complaints:  147\n",
      "car  honda odyssey : number of complaints:  131\n",
      "car  hyundai elantra : number of complaints:  122\n",
      "car  ford transit : number of complaints:  118\n",
      "car  hyundai santa fe : number of complaints:  115\n",
      "car  chevrolet silverado 3500 : number of complaints:  105\n",
      "car  hyundai tucson : number of complaints:  89\n",
      "car  toyota prius v : number of complaints:  89\n",
      "car  toyota prius c : number of complaints:  86\n",
      "car  chevrolet sonic : number of complaints:  84\n",
      "car  ford expedition : number of complaints:  79\n",
      "car  harley-davidson xg750 : number of complaints:  79\n",
      "car  jeep compass : number of complaints:  79\n",
      "car  chevrolet trax : number of complaints:  76\n",
      "car  chrysler 300 : number of complaints:  76\n",
      "car  toyota prius plug-in hybrid : number of complaints:  75\n",
      "car  toyota prius : number of complaints:  73\n",
      "car  nissan leaf : number of complaints:  71\n",
      "car  toyota 4runner : number of complaints:  71\n",
      "car  honda pilot : number of complaints:  69\n",
      "car  toyota tacoma : number of complaints:  68\n",
      "car  hyundai veloster : number of complaints:  61\n",
      "car  ford flex : number of complaints:  57\n",
      "car  chevrolet spark : number of complaints:  51\n",
      "car  chevrolet spark ev : number of complaints:  51\n",
      "car  chevrolet corvette : number of complaints:  46\n",
      "car  ford transit connect : number of complaints:  46\n",
      "car  toyota avalon : number of complaints:  43\n",
      "car  toyota avalon hybrid : number of complaints:  43\n",
      "car  hyundai accent : number of complaints:  40\n",
      "car  hyundai santa fe sport : number of complaints:  39\n",
      "car  toyota tundra : number of complaints:  36\n",
      "car  hyundai sonata hybrid : number of complaints:  35\n",
      "car  chevrolet volt : number of complaints:  31\n",
      "car  nissan juke : number of complaints:  29\n",
      "car  nissan frontier : number of complaints:  25\n",
      "car  nissan nv200 : number of complaints:  21\n",
      "car  toyota venza : number of complaints:  19\n",
      "car  chevrolet ss : number of complaints:  15\n",
      "car  nissan armada : number of complaints:  15\n",
      "car  honda crosstour : number of complaints:  14\n",
      "car  toyota yaris : number of complaints:  12\n",
      "car  harley-davidson xg500 : number of complaints:  11\n",
      "car  chrysler 300c : number of complaints:  10\n",
      "car  chevrolet captiva : number of complaints:  9\n",
      "car  harley-davidson flhtk : number of complaints:  9\n",
      "car  nissan titan : number of complaints:  9\n",
      "car  ford e-150 : number of complaints:  8\n",
      "car  honda civic si : number of complaints:  8\n",
      "car  ford f-550 sd : number of complaints:  7\n",
      "car  nissan quest : number of complaints:  7\n",
      "car  ford c-max hybrid : number of complaints:  6\n",
      "car  ford e-350 : number of complaints:  6\n",
      "car  ford e-450 : number of complaints:  6\n",
      "car  harley-davidson flhxs : number of complaints:  6\n",
      "car  harley-davidson fltrxs : number of complaints:  6\n",
      "car  honda cb300f : number of complaints:  6\n",
      "car  honda gl1800 : number of complaints:  6\n",
      "car  nissan nv3500 : number of complaints:  6\n",
      "car  nissan xterra : number of complaints:  6\n",
      "car  toyota sequoia : number of complaints:  6\n",
      "car  chevrolet city express : number of complaints:  5\n",
      "car  ford explorer police intercept : number of complaints:  5\n",
      "car  ford f-53 : number of complaints:  5\n",
      "car  harley-davidson flhtcutg : number of complaints:  5\n",
      "car  harley-davidson flhtkl : number of complaints:  5\n",
      "car  honda cbr300r : number of complaints:  5\n",
      "car  ford f-450 : number of complaints:  4\n",
      "car  harley-davidson fld : number of complaints:  4\n",
      "car  honda ctx700 : number of complaints:  4\n",
      "car  hyundai azera : number of complaints:  4\n",
      "car  hyundai equus : number of complaints:  4\n",
      "car  mercedes benz sprinter : number of complaints:  4\n",
      "car  ford e350 : number of complaints:  3\n",
      "car  harley-davidson flhtcul : number of complaints:  3\n",
      "car  harley-davidson flhx : number of complaints:  3\n",
      "car  honda cr-z : number of complaints:  3\n",
      "car  chevrolet n300 : number of complaints:  2\n",
      "car  ford stripped chassis : number of complaints:  2\n",
      "car  harley-davidson flhp : number of complaints:  2\n",
      "car  harley-davidson flhr : number of complaints:  2\n",
      "car  harley-davidson flhtcu : number of complaints:  2\n",
      "car  harley-davidson flhtkse : number of complaints:  2\n",
      "car  harley-davidson flrt : number of complaints:  2\n",
      "car  harley-davidson flstc : number of complaints:  2\n",
      "car  harley-davidson fltruse : number of complaints:  2\n",
      "car  harley-davidson fltrx : number of complaints:  2\n",
      "car  harley-davidson fxdb : number of complaints:  2\n",
      "car  nissan 370z : number of complaints:  2\n",
      "car  toyota land cruiser : number of complaints:  2\n",
      "car  toyota unknown : number of complaints:  2\n",
      "car  chevrolet orlando : number of complaints:  1\n",
      "car  ford f-450 sd : number of complaints:  1\n",
      "car  ford f-59 : number of complaints:  1\n",
      "car  ford f-650 sd : number of complaints:  1\n",
      "car  ford police interceptor utilit : number of complaints:  1\n",
      "car  harley-davidson flhtp : number of complaints:  1\n",
      "car  harley-davidson flhxi : number of complaints:  1\n",
      "car  harley-davidson flhxse : number of complaints:  1\n",
      "car  harley-davidson fls softail : number of complaints:  1\n",
      "car  harley-davidson fxdf : number of complaints:  1\n",
      "car  harley-davidson vrscdx : number of complaints:  1\n",
      "car  harley-davidson vrscf : number of complaints:  1\n",
      "car  harley-davidson xl1200t : number of complaints:  1\n",
      "car  harley-davidson xl1200x : number of complaints:  1\n",
      "car  honda accord fhev : number of complaints:  1\n",
      "car  honda cb500 : number of complaints:  1\n",
      "car  honda gl1800a : number of complaints:  1\n",
      "car  honda grom125 : number of complaints:  1\n",
      "car  honda nc700x : number of complaints:  1\n",
      "car  honda nps50 : number of complaints:  1\n",
      "car  honda ridgeline : number of complaints:  1\n",
      "car  honda sxs700 : number of complaints:  1\n",
      "car  honda vt1300 : number of complaints:  1\n",
      "car  honda vt750c : number of complaints:  1\n",
      "car  mercedes benz e63s amg : number of complaints:  1\n",
      "car  nissan maxima : number of complaints:  1\n",
      "car  nissan nv2500 : number of complaints:  1\n"
     ]
    }
   ],
   "source": [
    "# --------------------------------------------------------------------------------\n",
    "# YOUR CODE HERE\n",
    "#\n",
    "car_complaint_count = Counter()\n",
    "for car in cars:\n",
    "    l= [complaint for complaint, label in zip(complaints, labels) if label==car]\n",
    "    car_complaint_count[car]=len(l)\n",
    "\n",
    "for key,value in car_complaint_count.most_common():\n",
    "    print(\"car \", key, \": number of complaints: \",value)\n",
    "#\n",
    "# END OF YOUR CODE\n",
    "# --------------------------------------------------------------------------------"
   ]
  },
  {
   "cell_type": "code",
   "execution_count": 16,
   "id": "62bc7d05",
   "metadata": {},
   "outputs": [
    {
     "name": "stdout",
     "output_type": "stream",
     "text": [
      "chrysler 200  :  1792\n",
      "jeep cherokee  :  1373\n",
      "ford explorer  :  975\n",
      "jeep grand cherokee  :  905\n",
      "chevrolet silverado 1500  :  787\n",
      "nissan altima  :  653\n",
      "ford focus  :  618\n",
      "ford fusion energi  :  595\n",
      "ford fusion  :  595\n",
      "hyundai sonata  :  584\n",
      "honda cr-v  :  553\n",
      "chevrolet tahoe  :  476\n",
      "honda accord hybrid  :  475\n",
      "honda accord  :  453\n",
      "chevrolet equinox  :  439\n",
      "jeep renegade  :  438\n",
      "ford escape  :  429\n",
      "ford edge  :  392\n",
      "chevrolet colorado  :  350\n",
      "nissan rogue  :  319\n",
      "ford mustang  :  272\n",
      "jeep wrangler  :  263\n",
      "nissan pathfinder  :  247\n",
      "jeep patriot  :  245\n",
      "chrysler town and country  :  245\n",
      "toyota camry hybrid  :  242\n",
      "nissan sentra  :  230\n",
      "toyota camry  :  229\n",
      "nissan versa note  :  220\n",
      "honda civic hybrid  :  220\n",
      "chevrolet impala  :  219\n",
      "honda civic  :  218\n",
      "honda fit  :  199\n",
      "chevrolet malibu  :  199\n",
      "chevrolet cruze  :  198\n",
      "chevrolet silverado 2500  :  185\n",
      "toyota sienna  :  184\n",
      "toyota corolla  :  177\n",
      "toyota rav4  :  172\n",
      "ford fiesta  :  168\n",
      "hyundai genesis  :  165\n",
      "chevrolet camaro  :  162\n",
      "chevrolet traverse  :  154\n",
      "nissan murano  :  153\n",
      "ford taurus  :  152\n",
      "toyota highlander hybrid  :  151\n",
      "nissan versa  :  151\n",
      "toyota highlander  :  147\n",
      "honda odyssey  :  131\n",
      "hyundai elantra  :  122\n",
      "ford transit  :  118\n",
      "hyundai santa fe  :  115\n",
      "chevrolet silverado 3500  :  105\n",
      "toyota prius v  :  89\n",
      "hyundai tucson  :  89\n",
      "toyota prius c  :  86\n",
      "chevrolet sonic  :  84\n",
      "jeep compass  :  79\n",
      "harley-davidson xg750  :  79\n",
      "ford expedition  :  79\n",
      "chrysler 300  :  76\n",
      "chevrolet trax  :  76\n",
      "toyota prius plug-in hybrid  :  75\n",
      "toyota prius  :  73\n",
      "toyota 4runner  :  71\n",
      "nissan leaf  :  71\n",
      "honda pilot  :  69\n",
      "toyota tacoma  :  68\n",
      "hyundai veloster  :  61\n",
      "ford flex  :  57\n",
      "chevrolet spark ev  :  51\n",
      "chevrolet spark  :  51\n",
      "ford transit connect  :  46\n",
      "chevrolet corvette  :  46\n",
      "toyota avalon hybrid  :  43\n",
      "toyota avalon  :  43\n",
      "hyundai accent  :  40\n",
      "hyundai santa fe sport  :  39\n",
      "toyota tundra  :  36\n",
      "hyundai sonata hybrid  :  35\n",
      "chevrolet volt  :  31\n",
      "nissan juke  :  29\n",
      "nissan frontier  :  25\n",
      "nissan nv200  :  21\n",
      "toyota venza  :  19\n",
      "nissan armada  :  15\n",
      "chevrolet ss  :  15\n",
      "honda crosstour  :  14\n",
      "toyota yaris  :  12\n",
      "harley-davidson xg500  :  11\n",
      "chrysler 300c  :  10\n",
      "nissan titan  :  9\n",
      "harley-davidson flhtk  :  9\n",
      "chevrolet captiva  :  9\n",
      "honda civic si  :  8\n",
      "ford e-150  :  8\n",
      "nissan quest  :  7\n",
      "ford f-550 sd  :  7\n",
      "toyota sequoia  :  6\n",
      "nissan xterra  :  6\n",
      "nissan nv3500  :  6\n",
      "honda gl1800  :  6\n",
      "honda cb300f  :  6\n",
      "harley-davidson fltrxs  :  6\n",
      "harley-davidson flhxs  :  6\n",
      "ford e-450  :  6\n",
      "ford e-350  :  6\n",
      "ford c-max hybrid  :  6\n",
      "honda cbr300r  :  5\n",
      "harley-davidson flhtkl  :  5\n",
      "harley-davidson flhtcutg  :  5\n",
      "ford f-53  :  5\n",
      "ford explorer police intercept  :  5\n",
      "chevrolet city express  :  5\n",
      "mercedes benz sprinter  :  4\n",
      "hyundai equus  :  4\n",
      "hyundai azera  :  4\n",
      "honda ctx700  :  4\n",
      "harley-davidson fld  :  4\n",
      "ford f-450  :  4\n",
      "honda cr-z  :  3\n",
      "harley-davidson flhx  :  3\n",
      "harley-davidson flhtcul  :  3\n",
      "ford e350  :  3\n",
      "toyota unknown  :  2\n",
      "toyota land cruiser  :  2\n",
      "nissan 370z  :  2\n",
      "harley-davidson fxdb  :  2\n",
      "harley-davidson fltrx  :  2\n",
      "harley-davidson fltruse  :  2\n",
      "harley-davidson flstc  :  2\n",
      "harley-davidson flrt  :  2\n",
      "harley-davidson flhtkse  :  2\n",
      "harley-davidson flhtcu  :  2\n",
      "harley-davidson flhr  :  2\n",
      "harley-davidson flhp  :  2\n",
      "ford stripped chassis  :  2\n",
      "chevrolet n300  :  2\n",
      "nissan nv2500  :  1\n",
      "nissan maxima  :  1\n",
      "mercedes benz e63s amg  :  1\n",
      "honda vt750c  :  1\n",
      "honda vt1300  :  1\n",
      "honda sxs700  :  1\n",
      "honda ridgeline  :  1\n",
      "honda nps50  :  1\n",
      "honda nc700x  :  1\n",
      "honda grom125  :  1\n",
      "honda gl1800a  :  1\n",
      "honda cb500  :  1\n",
      "honda accord fhev  :  1\n",
      "harley-davidson xl1200x  :  1\n",
      "harley-davidson xl1200t  :  1\n",
      "harley-davidson vrscf  :  1\n",
      "harley-davidson vrscdx  :  1\n",
      "harley-davidson fxdf  :  1\n",
      "harley-davidson fls softail  :  1\n",
      "harley-davidson flhxse  :  1\n",
      "harley-davidson flhxi  :  1\n",
      "harley-davidson flhtp  :  1\n",
      "ford police interceptor utilit  :  1\n",
      "ford f-650 sd  :  1\n",
      "ford f-59  :  1\n",
      "ford f-450 sd  :  1\n",
      "chevrolet orlando  :  1\n"
     ]
    }
   ],
   "source": [
    "for count, car in sorted([((labels==car).sum(), car) for car in cars],reverse =True):\n",
    "    print(car, \" : \",count)"
   ]
  },
  {
   "cell_type": "markdown",
   "id": "79183ac7",
   "metadata": {},
   "source": [
    "**(b) [8 points]** We're not going to be able to say much about cars that had too few complaints (not enough data!). Write code that computes filtered versions of `cars`, `complaints`, and `labels` respectively called `filtered_cars`, `filtered_complaints` and `filtered_labels`; the filtered versions should be in the same order as the unfiltered versions except that they only contain data for cars that appear in at least 100 complaints."
   ]
  },
  {
   "cell_type": "code",
   "execution_count": 18,
   "id": "1a5483a1",
   "metadata": {},
   "outputs": [
    {
     "name": "stdout",
     "output_type": "stream",
     "text": [
      "Number of cars after filtering: 53\n",
      "Filtered complaints and filtered labels have the same length: True\n",
      "Number of complaints after filtering: 19359\n"
     ]
    }
   ],
   "source": [
    "# --------------------------------------------------------------------------------\n",
    "# YOUR CODE HERE (DO NOT CHANGE THE VARIABLE NAMES FOR WHAT WE ARE ASKING YOU TO\n",
    "# COMPUTE)\n",
    "#\n",
    "filtered_cars = np.array([car for car in cars if (labels==car).sum()>=100])\n",
    "filtered_complaints, filtered_labels = zip(*[(complaint, label) for complaint, label in zip(complaints,labels) if label in filtered_cars])\n",
    "\n",
    "#\n",
    "# END OF YOUR CODE\n",
    "# --------------------------------------------------------------------------------\n",
    "\n",
    "# DO NOT MODIFY THE CODE BELOW\n",
    "filtered_complaints = np.array(filtered_complaints)\n",
    "filtered_labels = np.array(filtered_labels)\n",
    "print('Number of cars after filtering:', len(filtered_cars))\n",
    "print('Filtered complaints and filtered labels have the same length:',\n",
    "      len(filtered_complaints) == len(filtered_labels))\n",
    "print('Number of complaints after filtering:', len(filtered_complaints))"
   ]
  },
  {
   "cell_type": "markdown",
   "id": "0d11eac5",
   "metadata": {},
   "source": [
    "**(c) [6 points across subparts]** We have written some code below for you that obtains a train/test split using the filtered data you computed in part **(b)**. Note that here, the test data are treated as actual test data and not validation data that we tune hyperparameters on. Please begin by running the next cell and then proceed to answer some questions."
   ]
  },
  {
   "cell_type": "code",
   "execution_count": null,
   "id": "09409d6f",
   "metadata": {},
   "outputs": [],
   "source": [
    "# DO NOT MODIFY THIS CELL\n",
    "train_indices, test_indices = \\\n",
    "    train_test_split(range(len(filtered_complaints)), test_size=0.25,\n",
    "                     shuffle=True, random_state=42, stratify=filtered_labels)\n",
    "\n",
    "def row_normalize(X):\n",
    "    # given a 2D table, where rows index data points and columns index features, divide each row by its sum\n",
    "    normalized_X = []\n",
    "    for row in X:\n",
    "        row_sum = row.sum()\n",
    "        if row_sum > 0:\n",
    "            normalized_X.append(row / row_sum)\n",
    "        else:\n",
    "            normalized_X.append(row)  # all 0's\n",
    "    return np.array(normalized_X)\n",
    "\n",
    "vectorizer = CountVectorizer(min_df=5, max_df=.7, stop_words='english')\n",
    "X_train = row_normalize(vectorizer.fit_transform(filtered_complaints[train_indices]).toarray())\n",
    "y_train = filtered_labels[train_indices]"
   ]
  },
  {
   "cell_type": "markdown",
   "id": "4ef13df1",
   "metadata": {},
   "source": [
    "**Subpart i. [2 points]** In the above code, the vectorizer builds a vocabulary. How many words are in this vocabulary? To answer this question, write code that prints out the answer."
   ]
  },
  {
   "cell_type": "code",
   "execution_count": null,
   "id": "219855f0",
   "metadata": {},
   "outputs": [],
   "source": [
    "# --------------------------------------------------------------------------------\n",
    "# YOUR CODE HERE\n",
    "#\n",
    "\n",
    "\n",
    "#\n",
    "# END OF YOUR CODE\n",
    "# --------------------------------------------------------------------------------"
   ]
  },
  {
   "cell_type": "markdown",
   "id": "136d05c2",
   "metadata": {},
   "source": [
    "**Subpart ii. [2 points]** What is the word index in the vocabulary for the word `transmission`? To answer this question, write code that prints out the answer."
   ]
  },
  {
   "cell_type": "code",
   "execution_count": null,
   "id": "b6d24f79",
   "metadata": {},
   "outputs": [],
   "source": [
    "# --------------------------------------------------------------------------------\n",
    "# YOUR CODE HERE\n",
    "#\n",
    "\n",
    "\n",
    "#\n",
    "# END OF YOUR CODE\n",
    "# --------------------------------------------------------------------------------"
   ]
  },
  {
   "cell_type": "markdown",
   "id": "04016862",
   "metadata": {},
   "source": [
    "**Subpart iii. [2 points]** Suppose that we train a model using `X_train` and `y_train` above. Now we want to use the model to predict on the test data. We first have to get the test data into the format expected by the model. Consider the following two lines of code:\n",
    "\n",
    "```\n",
    "X_test = row_normalize(vectorizer.fit_transform(filtered_complaints[test_indices]).toarray())\n",
    "y_test = filtered_labels[test_indices]\n",
    "```\n",
    "\n",
    "Does the above code correctly encode the test data for prediction using the model trained using `X_train` and `y_train`? If you think that the answer is \"yes\", briefly justify why. If you instead think that the answer is \"no\", please explain what the bug in the code is."
   ]
  },
  {
   "cell_type": "markdown",
   "id": "89991e37",
   "metadata": {},
   "source": [
    "**Your answer here (indicate either \"yes\" or \"no\", and provide an explanation; a correct answer without an explanation will not receive credit):** REPLACE THIS TEXT WITH YOUR ANSWER"
   ]
  },
  {
   "cell_type": "markdown",
   "id": "5726b073",
   "metadata": {},
   "source": [
    "**(d) [18 points across subparts]** We've actually already fit a model for you using `X_train` and `y_train`. Let's load in the resulting predictions on the test data first, and then please proceed to answering some questions."
   ]
  },
  {
   "cell_type": "code",
   "execution_count": null,
   "id": "584e050a",
   "metadata": {},
   "outputs": [],
   "source": [
    "# DO NOT MODIFY THIS CELL\n",
    "y_test_predicted = np.load('mystery_mug.npy')"
   ]
  },
  {
   "cell_type": "markdown",
   "id": "df5a5512",
   "metadata": {},
   "source": [
    "**Subpart i. [3 points]** What is the raw accuracy rate on the test data (fraction of predicted labels that are correct)? To answer this question, write code that prints out the answer. *As a reminder, do not import any additional packages/functions.*"
   ]
  },
  {
   "cell_type": "code",
   "execution_count": null,
   "id": "66eb67ac",
   "metadata": {},
   "outputs": [],
   "source": [
    "# --------------------------------------------------------------------------------\n",
    "# YOUR CODE HERE\n",
    "#\n",
    "\n",
    "\n",
    "#\n",
    "# END OF YOUR CODE\n",
    "# --------------------------------------------------------------------------------"
   ]
  },
  {
   "cell_type": "markdown",
   "id": "e15aed3b",
   "metadata": {},
   "source": [
    "**Subpart ii. [15 points]** For each car (in `filtered_cars`), compute the recall, precision, and F1 score for predicting that specific car. *As a reminder, do not import any additional packages/functions.*\n",
    "\n",
    "Note on numerical issues: in computing precision, if the denominator is 0, then set precision to be 0 (i.e., do not actually divide by 0). Similarly, for computing F1 score, if precision and recall are both 0, then set the F1 score to be 0.\n",
    "\n",
    "Afterward, print out three lists of cars:\n",
    "- the first list has cars sorted in *descending* (largest to smallest) recall\n",
    "- the second list has cars sorted in *descending* precision\n",
    "- the third list has cars sorted in *descending* F1 score\n",
    "\n",
    "Each list should be of the format:\n",
    "\n",
    "```\n",
    "car 1 : score\n",
    "car 2 : score\n",
    "...\n",
    "last car : score\n",
    "```"
   ]
  },
  {
   "cell_type": "code",
   "execution_count": null,
   "id": "f8660cfe",
   "metadata": {},
   "outputs": [],
   "source": [
    "recall_car_pairs = []  # DO NOT MODIFY\n",
    "precision_car_pairs = []  # DO NOT MODIFY\n",
    "f1_car_pairs = []  # DO NOT MODIFY\n",
    "\n",
    "for car in filtered_cars:  # DO NOT MODIFY\n",
    "    # --------------------------------------------------------------------------------\n",
    "    # YOUR CODE HERE (basically we are treating the current `car` as the \"positive\"\n",
    "    # class and all the other cars collectively as the \"negative\" class to compute\n",
    "    # recall/precision/F1 score here)\n",
    "    #\n",
    "    recall = None\n",
    "    precision = None\n",
    "    f1_score = None\n",
    "    #\n",
    "    # END OF YOUR CODE\n",
    "    # --------------------------------------------------------------------------------\n",
    "    \n",
    "    recall_car_pairs.append((recall, car))  # DO NOT MODIFY\n",
    "    precision_car_pairs.append((precision, car))  # DO NOT MODIFY\n",
    "    f1_car_pairs.append((f1, car))  # DO NOT MODIFY\n",
    "\n",
    "\n",
    "print('[Recall]')\n",
    "# --------------------------------------------------------------------------------\n",
    "# YOUR CODE HERE\n",
    "#\n",
    "\n",
    "# print out cars sorted by descending recall scores (using `recall_car_pairs`)\n",
    "\n",
    "#\n",
    "# END OF YOUR CODE\n",
    "# --------------------------------------------------------------------------------\n",
    "print()\n",
    "\n",
    "print('[Precision]')\n",
    "# --------------------------------------------------------------------------------\n",
    "# YOUR CODE HERE\n",
    "#\n",
    "\n",
    "# print out cars sorted by descending precision scores (using `precision_car_pairs`)\n",
    "\n",
    "#\n",
    "# END OF YOUR CODE\n",
    "# --------------------------------------------------------------------------------\n",
    "print()\n",
    "\n",
    "print('[F1]')\n",
    "# --------------------------------------------------------------------------------\n",
    "# YOUR CODE HERE\n",
    "#\n",
    "\n",
    "# print out cars sorted by descending F1 scores (using `f1_car_pairs`)\n",
    "\n",
    "#\n",
    "# END OF YOUR CODE\n",
    "# --------------------------------------------------------------------------------"
   ]
  },
  {
   "cell_type": "markdown",
   "id": "a5d1df69",
   "metadata": {},
   "source": [
    "Note: the recall/precision/F1 scores can quickly give us a sense of which cars the model we've loaded has an easier time predicting vs which ones appear difficult for the model to predict.\n",
    "\n",
    "---\n",
    "\n",
    "**(e) [18 points across subparts]** Let's look at a specific car, `'honda cr-v'`. For the classifier that we already trained for you, it is actually capable of computing estimated probabilities of different cars. We load this information next."
   ]
  },
  {
   "cell_type": "code",
   "execution_count": null,
   "id": "a6b6c285",
   "metadata": {},
   "outputs": [],
   "source": [
    "# DO NOT MODIFY THIS CELL\n",
    "y_test_predicted_prob = np.load('mystery_mouse.npy')"
   ]
  },
  {
   "cell_type": "markdown",
   "id": "40b5ba0e",
   "metadata": {},
   "source": [
    "The columns of `y_test_predicted_prob` are in the same order as `filtered_cars` (assuming you computed it correctly).\n",
    "\n",
    "**Subpart i. [6 points]** Let's look at an example row of `y_test_predicted_prob`."
   ]
  },
  {
   "cell_type": "code",
   "execution_count": null,
   "id": "8b0004c7",
   "metadata": {},
   "outputs": [],
   "source": [
    "# DO NOT MODIFY THIS CELL\n",
    "print(y_test_predicted_prob[42])"
   ]
  },
  {
   "cell_type": "markdown",
   "id": "c95c5b25",
   "metadata": {},
   "source": [
    "Briefly explain what these numbers mean (your explanation should help explain the sum of these numbers), print out the complaint that corresponds to these numbers, and also print out the car name corresponding to the highest number."
   ]
  },
  {
   "cell_type": "markdown",
   "id": "5b17a572",
   "metadata": {},
   "source": [
    "**Your answer here for what the numbers mean (your explanation should help explain the sum of these numbers):** REPLACE THIS TEXT WITH YOUR ANSWER"
   ]
  },
  {
   "cell_type": "code",
   "execution_count": null,
   "id": "96932390",
   "metadata": {},
   "outputs": [],
   "source": [
    "# --------------------------------------------------------------------------------\n",
    "# YOUR CODE HERE\n",
    "#\n",
    "complaint = ''  # replace this with the complaint corresponding to `y_test_predicted_prob[42]`\n",
    "car = ''  # replace this with the car corresponding to the highest number in `y_test_predicted_prob[42]`\n",
    "#\n",
    "# END OF YOUR CODE\n",
    "# --------------------------------------------------------------------------------\n",
    "\n",
    "# DO NOT MODIFY THE CODE BELOW\n",
    "print('Complaint:', complaint)\n",
    "print()\n",
    "print('Car:', car)"
   ]
  },
  {
   "cell_type": "markdown",
   "id": "7c3c3d19",
   "metadata": {},
   "source": [
    "**Subpart ii. [5 points]** Compute the top 20 test set complaints with the highest probability for `'honda cr-v'`."
   ]
  },
  {
   "cell_type": "code",
   "execution_count": null,
   "id": "57835b7c",
   "metadata": {},
   "outputs": [],
   "source": [
    "# --------------------------------------------------------------------------------\n",
    "# YOUR CODE HERE\n",
    "#\n",
    "\n",
    "top20_complaints = []  # list of strings\n",
    "\n",
    "#\n",
    "# END OF YOUR CODE\n",
    "# --------------------------------------------------------------------------------\n",
    "\n",
    "print(\"\\n\\n\".join(top20_complaints))"
   ]
  },
  {
   "cell_type": "markdown",
   "id": "859cbcaf",
   "metadata": {},
   "source": [
    "**Subpart iii. [5 points]** Using the vocabulary computed by `vectorizer` on the training data, compute the raw counts for words that appear in the top 20 test complaints (the ones from **subpart i**), and print out the top 10 words in the vocabulary that appear the most in the top 20 test complaints.\n",
    "\n",
    "*Hint:* You may find it helpful to use `vectorizer` to transform the top 20 complaints you found in the previous subpart."
   ]
  },
  {
   "cell_type": "code",
   "execution_count": null,
   "id": "a246c563",
   "metadata": {},
   "outputs": [],
   "source": [
    "# --------------------------------------------------------------------------------\n",
    "# YOUR CODE HERE\n",
    "#\n",
    "\n",
    "\n",
    "#\n",
    "# END OF YOUR CODE\n",
    "# --------------------------------------------------------------------------------"
   ]
  },
  {
   "cell_type": "markdown",
   "id": "5e948e98",
   "metadata": {},
   "source": [
    "**Subpart iv. [2 points]** At least one of the words found is indeed a recurring problem that people complain about for the Honda CR-V car. Which word is it?"
   ]
  },
  {
   "cell_type": "markdown",
   "id": "19f2d82d",
   "metadata": {},
   "source": [
    "**Your answer here:** REPLACE THIS TEXT WITH YOUR ANSWER"
   ]
  }
 ],
 "metadata": {
  "kernelspec": {
   "display_name": "Python 3",
   "language": "python",
   "name": "python3"
  },
  "language_info": {
   "codemirror_mode": {
    "name": "ipython",
    "version": 3
   },
   "file_extension": ".py",
   "mimetype": "text/x-python",
   "name": "python",
   "nbconvert_exporter": "python",
   "pygments_lexer": "ipython3",
   "version": "3.8.8"
  }
 },
 "nbformat": 4,
 "nbformat_minor": 5
}
