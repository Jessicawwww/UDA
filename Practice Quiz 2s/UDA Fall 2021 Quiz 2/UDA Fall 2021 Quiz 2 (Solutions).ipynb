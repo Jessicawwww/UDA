{
 "cells": [
  {
   "cell_type": "markdown",
   "id": "a5cfca58",
   "metadata": {},
   "source": [
    "# CMU 95-865 - Unstructured Data Analytics Fall 2021 Quiz 2\n",
    "\n",
    "This is an 80 minute exam. We will only grade what is submitted via Canvas.\n",
    "\n",
    "You must fill in your name and your Andrew ID for this quiz to be graded. Moreover, filling out your name and Andrew ID below will serve as your agreement with us, the course staff, that you did not collaborate with anyone on this exam and that what you submit is truly your own individual work and not that of anyone else. Violations found will result in severe penalties."
   ]
  },
  {
   "cell_type": "markdown",
   "id": "da1174c1",
   "metadata": {},
   "source": [
    "Your name: solutions\n",
    "\n",
    "Your Andrew ID: I don't have an Andrew ID :(\n",
    "\n",
    "**Warning: If you leave the above blank, your quiz will not be graded.**"
   ]
  },
  {
   "cell_type": "markdown",
   "id": "ceda6269",
   "metadata": {},
   "source": [
    "**Important:** There are 3 problems that can be done in any order."
   ]
  },
  {
   "cell_type": "markdown",
   "id": "8441fad1",
   "metadata": {},
   "source": [
    "## Problem 1 (no coding) [30 points]\n",
    "\n",
    "Consider the following convolutional neural network:\n",
    "\n",
    "1. Conv2D layer with 64 filters (each 5-by-5), expecting input images to have a single channel\n",
    "2. ReLU\n",
    "3. 2-by-2 max pool 2D layer\n",
    "4. Conv2D layer with 128 filters (each 4-by-4)\n",
    "5. ReLU\n",
    "6. 4-by-4 max pool 2D layer\n",
    "7. Flatten\n",
    "8. Linear layer with 1000 output nodes\n",
    "9. Softmax\n",
    "\n",
    "**(a) [3 points]** For the second Conv2D layer, what is the number of channels that it should expect for every input image it gets?"
   ]
  },
  {
   "cell_type": "markdown",
   "id": "857d2565",
   "metadata": {},
   "source": [
    "**Your answer and explanation (warning: a correct answer without an explanation of how you got it will not receive credit):** 64. *Explanation:* The first Conv2D layer has 64 filters, so it outputs a 64-channel image. The ReLU and 2-by-2 max pooling do not change the number of channels. Thus, the input to the second Conv2D layer will also have 64 channels."
   ]
  },
  {
   "cell_type": "markdown",
   "id": "e61f9a6f",
   "metadata": {},
   "source": [
    "**(b) [6 points]** How many parameters does the second Conv2D layer have?"
   ]
  },
  {
   "cell_type": "markdown",
   "id": "6551576a",
   "metadata": {},
   "source": [
    "**Your answer and explanation (warning: a correct answer without an explanation of how you got it will not receive credit):** 131,200. *Explanation:* Each filter is 64-by-4-by-4 (importantly, recall that Conv2D will automatically make each filter 3D when we have more than 1 channel!) and has a bias. Thus, the number of parameters is $128\\cdot(64\\cdot4\\cdot4+1) = 131200$."
   ]
  },
  {
   "cell_type": "markdown",
   "id": "9af3befb",
   "metadata": {},
   "source": [
    "**(c) [21 points across subparts]** For the subparts next, assume that the linear layer expects each of its inputs to be a 1D table with 2048 entries. Moreover, each input data point to the overall network is a square image (i.e., its height and width are the same).\n",
    "\n",
    "**Subpart i [3 points].** What is the output shape of the 4-by-4 max pooling layer for a single data point?"
   ]
  },
  {
   "cell_type": "markdown",
   "id": "65f81b79",
   "metadata": {},
   "source": [
    "**Your answer and explanation (warning: a correct answer without an explanation of how you got it will not receive credit):** (128, 4, 4). *Explanation:* The output of the second Conv2D layer (and thus also the second max-pooling layer) has 128 channels. As the input to the overall network is a square image, each image here will also be square. Thus, each channel of the second max-pooling layer will also store a square image; if we call the height and width of this square image $x$, then $2048 = 128 \\cdot x \\cdot x$. Solving for $x$, we get that $x = 4$. Thus, the 4-by-4 max pooling layer's output shape per input data point is (128, 4, 4)."
   ]
  },
  {
   "cell_type": "markdown",
   "id": "0051f35a",
   "metadata": {},
   "source": [
    "**Subpart ii [6 points].** What is the *minimum* size of each input image to the 4-by-4 max pooling layer (specify the number of channels, the height, and the width)? Very briefly also explain why the the input images to the 4-by-4 max pooling layer could actually be slightly larger yet still output the same answer."
   ]
  },
  {
   "cell_type": "markdown",
   "id": "dfce45b9",
   "metadata": {},
   "source": [
    "**Your answer and explanation (warning: a correct answer without an explanation of how you got it will not receive credit):** (128, 16, 16). *Explanation:* We're shrinking the height and width each by 4. Thus the minimum size of the input to the second max-pooling layer is (128, 16, 16). Of course, the image could be slightly larger, and the 4-by-4 max-pooling layer will ignore the additional rows and columns. Specifically, if the second max-pooling layer gets an input of size (128, 19, 19), it will still produce an output of size (128, 4, 4)."
   ]
  },
  {
   "cell_type": "markdown",
   "id": "b4c24c50",
   "metadata": {},
   "source": [
    "**Subpart iii [12 points].** What is the *minimum* height/width of each input image to the entire convnet?"
   ]
  },
  {
   "cell_type": "markdown",
   "id": "10514875",
   "metadata": {},
   "source": [
    "**Your answer and explanation (warning: a correct answer without an explanation of how you got it will not receive credit):** 42. *Explanation:* We basically work backwards, building on our reasoning from the previous subpart. The minimum size of the input to the second max-pooling layer is (128, 16, 16). The ReLU layer right before does not alter the shape. Then the input to the second Conv2D layer is (64, 19, 19) --- the 4-by-4 filters used shrink each image to be 16-by-16. Then the input to the first max-pooling layer has minimum size (64, 38, 38). The ReLU right before, once again, does not alter the shape. Then the initial input has size (1, 42, 42), i.e., its an image with height/width each equal to 42."
   ]
  },
  {
   "cell_type": "markdown",
   "id": "279e31a0",
   "metadata": {},
   "source": [
    "## Problem 2 (no coding) [15 points]\n",
    "\n",
    "Suppose that we are training a multilayer perceptron for a binary classification task. We set the final linear layer to have 2 nodes with softmax activation. However, we are not sure how to set the number of linear layers before the final linear layer (these linear layers before the final linear layer are commonly called \"hidden\" layers).\n",
    "\n",
    "Specifically, consider the following architecture, where every input data point is assumed to be represented as a 1D table with a total of `D` numbers, and we have a total of `L` hidden layers:\n",
    "\n",
    "- Repeat `L` times: linear layer with `K` nodes and ReLU activation\n",
    "- Finally, we have the last linear layer with 2 nodes and softmax activation\n",
    "\n",
    "Throughout this problem, assume that `K` is at least 2 and at most `D`.\n",
    "\n",
    "**(a) [9 points across subparts]** Let's do some parameter counting.\n",
    "\n",
    "**Subpart i. [6 points]** Suppose that `L` is equal to 3. What is the number of parameters of this multilayer perceptron in terms of `D` and `K`? Do *not* plug in numerical values for `D` or `K` in your answer; they should be left as variables."
   ]
  },
  {
   "cell_type": "markdown",
   "id": "e99bc15b",
   "metadata": {},
   "source": [
    "**Your answer (in terms of `D` and `K`) and explanation (warning: a correct answer without an explanation of how you got it will not receive credit):\n",
    "\n",
    "** `D * K + K + 2 * (K * K + K) + K * 2 + 2`. \n",
    "\n",
    "*Explanation:* The first linear layer has a weight matrix with `D * K` entries and a bias vector with `K` entries. The second and third linear layers each have a weight matrix with `K * K` entries and a bias vector with `K` entries. The final linear layer has a weight matrix with `K * 2` entries and a bias vector with 2 entries. In total, we have `(D * K + K) + 2 * (K * K + K) + K * 2 + 2` parameters."
   ]
  },
  {
   "cell_type": "markdown",
   "id": "fd9a7ff0",
   "metadata": {},
   "source": [
    "**Subpart ii. [3 points]** Let's generalize your answer from **subpart i**: determine the number of parameters of the multilayer perceptron as a function of `L`, `D`, and `K` (so for this subpart, do *not* plug in numerical values for any of these three variables)."
   ]
  },
  {
   "cell_type": "markdown",
   "id": "30875cb7",
   "metadata": {},
   "source": [
    "**Your answer (in terms of `L`, `D`, and `K`) and explanation (warning: a correct answer without an explanation of how you got it will not receive credit):** `D * K + K + (L - 1) * (K * K + K) + K * 2 + 2`. *Explanation:* Trivially, the only change is that the expression `2 * (K * K + K)` gets replaced by `(L - 1) * (K * K + K)` in the reasoning from subpart i."
   ]
  },
  {
   "cell_type": "markdown",
   "id": "9dccba8b",
   "metadata": {},
   "source": [
    "**(b) [6 points across subparts]** For this part only, assume that `D` is equal to 100, and we want to automatically choose `L` and `K`. We will try every combination of values `L` = 2, 4, 6, 8, 10, 12, `K` = 10, 20, 30, 40, 50, and also learning rates 0.01, 0.001, 0.0001 (using the Adam optimizer, which is the same optimizer we had used in the lecture demos).\n",
    "\n",
    "**Subpart i. [3 points]** Using simple data splitting with a 50/50 train/validation split to select the hyperparameters, how many times will we do model fitting?"
   ]
  },
  {
   "cell_type": "markdown",
   "id": "e5bef65c",
   "metadata": {},
   "source": [
    "**Your answer and explanation (warning: a correct answer without an explanation of how you got it will not receive credit):** 90. *Explanation:* The number of hyperparameter settings is $6 \\times 5 \\times 3 = 90$ (corresponding to the number of options for `L`, `K`, and the learning rate). Since we are using simple data splitting, the number of model fits is just the number of hyperparameter settings that we are trying, which is equal to 90."
   ]
  },
  {
   "cell_type": "markdown",
   "id": "56b251d4",
   "metadata": {},
   "source": [
    "**Subpart ii. [3 points]** Will using simple data splitting with a 50/50 train/validation split always give us the same answer for what values of `L`, `K` and the learning rate are best? If not, clearly explain why not including explaining the different sources of randomness that could make the results different."
   ]
  },
  {
   "cell_type": "markdown",
   "id": "a5b87758",
   "metadata": {},
   "source": [
    "**Your answer and explanation (warning: a correct answer without an explanation of how you got it will not receive credit):** No. *Explanation:* Different random choices of what is in the training set vs what is in the validation set can change the validaton scores that we get, leading to a different \"best\" hyperparameter setting found. Also, neural net training typically uses random parameter initialization; this could also lead to different validation scores that could change what the \"best\" hyperparameter setting found is."
   ]
  },
  {
   "cell_type": "markdown",
   "id": "90ab828b",
   "metadata": {},
   "source": [
    "## Problem 3 (coding) [55 points]\n",
    "\n",
    "**Throughout this problem, do not import any packages/functions that are not already imported in the next cell.**\n",
    "\n",
    "In this problem, we examine customer complaints for different cars. Let's first get some Python imports and data loading sorted out. Please run the two cells below."
   ]
  },
  {
   "cell_type": "code",
   "execution_count": 2,
   "id": "f44220ed",
   "metadata": {},
   "outputs": [],
   "source": [
    "# DO NOT MODIFY THIS CELL\n",
    "%matplotlib inline\n",
    "import matplotlib.pyplot as plt\n",
    "import numpy as np\n",
    "from collections import Counter\n",
    "from operator import itemgetter\n",
    "from sklearn.feature_extraction.text import CountVectorizer\n",
    "from sklearn.model_selection import train_test_split\n",
    "\n",
    "# load in data\n",
    "with open('mystery_mentos.txt', 'r', encoding='utf-8') as f:\n",
    "    cars = np.array([_.strip() for _ in f.readlines()])\n",
    "with open('mystery_onions.txt', 'r', encoding='utf-8') as f:\n",
    "    complaints = np.array([_.strip() for _ in f.readlines()])\n",
    "with open('mystery_eggplant.txt', 'r', encoding='utf-8') as f:\n",
    "    labels = np.array([_.strip() for _ in f.readlines()])"
   ]
  },
  {
   "cell_type": "markdown",
   "id": "9ba118d1",
   "metadata": {},
   "source": [
    "The variable `cars` lists out all the different cars in the dataset. The variable `complaints` contains a collection of customer complaints. The i-th entry in `complaints` (namely, `complaints[i]`) is about the specific car given by `labels[i]`. Every value in `labels` is one of the cars in `cars`.\n",
    "\n",
    "**(a) [5 points]** Let's first try to understand the labels in this dataset.\n",
    "\n",
    "Print out a sorted list of cars, where we sort the cars based on the number of complaints there are about the car. Your printed list should be of the format:\n",
    "\n",
    "```\n",
    "car 1 : number of complaints\n",
    "car 2 : number of complaints\n",
    "...\n",
    "last car : number of complaint\n",
    "```\n",
    "\n",
    "Again, `car 1` should correspond to whichever car has the most number of complaints, `car 2` should correspond to whichever car has the second most number of complaints, etc (so the number of complaints should go from biggest to smallest as you go down the list)."
   ]
  },
  {
   "cell_type": "code",
   "execution_count": 3,
   "id": "b5863134",
   "metadata": {},
   "outputs": [
    {
     "name": "stdout",
     "output_type": "stream",
     "text": [
      "chrysler 200 : 1792\n",
      "jeep cherokee : 1373\n",
      "ford explorer : 975\n",
      "jeep grand cherokee : 905\n",
      "chevrolet silverado 1500 : 787\n",
      "nissan altima : 653\n",
      "ford focus : 618\n",
      "ford fusion energi : 595\n",
      "ford fusion : 595\n",
      "hyundai sonata : 584\n",
      "honda cr-v : 553\n",
      "chevrolet tahoe : 476\n",
      "honda accord hybrid : 475\n",
      "honda accord : 453\n",
      "chevrolet equinox : 439\n",
      "jeep renegade : 438\n",
      "ford escape : 429\n",
      "ford edge : 392\n",
      "chevrolet colorado : 350\n",
      "nissan rogue : 319\n",
      "ford mustang : 272\n",
      "jeep wrangler : 263\n",
      "nissan pathfinder : 247\n",
      "jeep patriot : 245\n",
      "chrysler town and country : 245\n",
      "toyota camry hybrid : 242\n",
      "nissan sentra : 230\n",
      "toyota camry : 229\n",
      "nissan versa note : 220\n",
      "honda civic hybrid : 220\n",
      "chevrolet impala : 219\n",
      "honda civic : 218\n",
      "honda fit : 199\n",
      "chevrolet malibu : 199\n",
      "chevrolet cruze : 198\n",
      "chevrolet silverado 2500 : 185\n",
      "toyota sienna : 184\n",
      "toyota corolla : 177\n",
      "toyota rav4 : 172\n",
      "ford fiesta : 168\n",
      "hyundai genesis : 165\n",
      "chevrolet camaro : 162\n",
      "chevrolet traverse : 154\n",
      "nissan murano : 153\n",
      "ford taurus : 152\n",
      "toyota highlander hybrid : 151\n",
      "nissan versa : 151\n",
      "toyota highlander : 147\n",
      "honda odyssey : 131\n",
      "hyundai elantra : 122\n",
      "ford transit : 118\n",
      "hyundai santa fe : 115\n",
      "chevrolet silverado 3500 : 105\n",
      "toyota prius v : 89\n",
      "hyundai tucson : 89\n",
      "toyota prius c : 86\n",
      "chevrolet sonic : 84\n",
      "jeep compass : 79\n",
      "harley-davidson xg750 : 79\n",
      "ford expedition : 79\n",
      "chrysler 300 : 76\n",
      "chevrolet trax : 76\n",
      "toyota prius plug-in hybrid : 75\n",
      "toyota prius : 73\n",
      "toyota 4runner : 71\n",
      "nissan leaf : 71\n",
      "honda pilot : 69\n",
      "toyota tacoma : 68\n",
      "hyundai veloster : 61\n",
      "ford flex : 57\n",
      "chevrolet spark ev : 51\n",
      "chevrolet spark : 51\n",
      "ford transit connect : 46\n",
      "chevrolet corvette : 46\n",
      "toyota avalon hybrid : 43\n",
      "toyota avalon : 43\n",
      "hyundai accent : 40\n",
      "hyundai santa fe sport : 39\n",
      "toyota tundra : 36\n",
      "hyundai sonata hybrid : 35\n",
      "chevrolet volt : 31\n",
      "nissan juke : 29\n",
      "nissan frontier : 25\n",
      "nissan nv200 : 21\n",
      "toyota venza : 19\n",
      "nissan armada : 15\n",
      "chevrolet ss : 15\n",
      "honda crosstour : 14\n",
      "toyota yaris : 12\n",
      "harley-davidson xg500 : 11\n",
      "chrysler 300c : 10\n",
      "nissan titan : 9\n",
      "harley-davidson flhtk : 9\n",
      "chevrolet captiva : 9\n",
      "honda civic si : 8\n",
      "ford e-150 : 8\n",
      "nissan quest : 7\n",
      "ford f-550 sd : 7\n",
      "toyota sequoia : 6\n",
      "nissan xterra : 6\n",
      "nissan nv3500 : 6\n",
      "honda gl1800 : 6\n",
      "honda cb300f : 6\n",
      "harley-davidson fltrxs : 6\n",
      "harley-davidson flhxs : 6\n",
      "ford e-450 : 6\n",
      "ford e-350 : 6\n",
      "ford c-max hybrid : 6\n",
      "honda cbr300r : 5\n",
      "harley-davidson flhtkl : 5\n",
      "harley-davidson flhtcutg : 5\n",
      "ford f-53 : 5\n",
      "ford explorer police intercept : 5\n",
      "chevrolet city express : 5\n",
      "mercedes benz sprinter : 4\n",
      "hyundai equus : 4\n",
      "hyundai azera : 4\n",
      "honda ctx700 : 4\n",
      "harley-davidson fld : 4\n",
      "ford f-450 : 4\n",
      "honda cr-z : 3\n",
      "harley-davidson flhx : 3\n",
      "harley-davidson flhtcul : 3\n",
      "ford e350 : 3\n",
      "toyota unknown : 2\n",
      "toyota land cruiser : 2\n",
      "nissan 370z : 2\n",
      "harley-davidson fxdb : 2\n",
      "harley-davidson fltrx : 2\n",
      "harley-davidson fltruse : 2\n",
      "harley-davidson flstc : 2\n",
      "harley-davidson flrt : 2\n",
      "harley-davidson flhtkse : 2\n",
      "harley-davidson flhtcu : 2\n",
      "harley-davidson flhr : 2\n",
      "harley-davidson flhp : 2\n",
      "ford stripped chassis : 2\n",
      "chevrolet n300 : 2\n",
      "nissan nv2500 : 1\n",
      "nissan maxima : 1\n",
      "mercedes benz e63s amg : 1\n",
      "honda vt750c : 1\n",
      "honda vt1300 : 1\n",
      "honda sxs700 : 1\n",
      "honda ridgeline : 1\n",
      "honda nps50 : 1\n",
      "honda nc700x : 1\n",
      "honda grom125 : 1\n",
      "honda gl1800a : 1\n",
      "honda cb500 : 1\n",
      "honda accord fhev : 1\n",
      "harley-davidson xl1200x : 1\n",
      "harley-davidson xl1200t : 1\n",
      "harley-davidson vrscf : 1\n",
      "harley-davidson vrscdx : 1\n",
      "harley-davidson fxdf : 1\n",
      "harley-davidson fls softail : 1\n",
      "harley-davidson flhxse : 1\n",
      "harley-davidson flhxi : 1\n",
      "harley-davidson flhtp : 1\n",
      "ford police interceptor utilit : 1\n",
      "ford f-650 sd : 1\n",
      "ford f-59 : 1\n",
      "ford f-450 sd : 1\n",
      "chevrolet orlando : 1\n"
     ]
    }
   ],
   "source": [
    "# --------------------------------------------------------------------------------\n",
    "# YOUR CODE HERE\n",
    "#\n",
    "\n",
    "for count, car in sorted([((labels == car).sum(), car) for car in cars], reverse=True):\n",
    "    print(car, ':', count)\n",
    "\n",
    "#\n",
    "# END OF YOUR CODE\n",
    "# --------------------------------------------------------------------------------"
   ]
  },
  {
   "cell_type": "markdown",
   "id": "79183ac7",
   "metadata": {},
   "source": [
    "**(b) [8 points]** We're not going to be able to say much about cars that had too few complaints (not enough data!). Write code that computes filtered versions of `cars`, `complaints`, and `labels` respectively called `filtered_cars`, `filtered_complaints` and `filtered_labels`; the filtered versions should be in the same order as the unfiltered versions except that they only contain data for cars that appear in at least 100 complaints."
   ]
  },
  {
   "cell_type": "code",
   "execution_count": 4,
   "id": "1a5483a1",
   "metadata": {},
   "outputs": [
    {
     "name": "stdout",
     "output_type": "stream",
     "text": [
      "Number of cars after filtering: 53\n",
      "Filtered complaints and filtered labels have the same length: True\n",
      "Number of complaints after filtering: 19359\n"
     ]
    }
   ],
   "source": [
    "# --------------------------------------------------------------------------------\n",
    "# YOUR CODE HERE (DO NOT CHANGE THE VARIABLE NAMES FOR WHAT WE ARE ASKING YOU TO\n",
    "# COMPUTE)\n",
    "#\n",
    "filtered_cars = np.array([car for car in cars if (labels == car).sum() >= 100])\n",
    "filtered_complaints, filtered_labels = zip(*[(complaint, label) for complaint, label\n",
    "                                             in zip(complaints, labels) if label in filtered_cars])\n",
    "#\n",
    "# END OF YOUR CODE\n",
    "# --------------------------------------------------------------------------------\n",
    "\n",
    "# DO NOT MODIFY THE CODE BELOW\n",
    "filtered_complaints = np.array(filtered_complaints)\n",
    "filtered_labels = np.array(filtered_labels)\n",
    "print('Number of cars after filtering:', len(filtered_cars))\n",
    "print('Filtered complaints and filtered labels have the same length:',\n",
    "      len(filtered_complaints) == len(filtered_labels))\n",
    "print('Number of complaints after filtering:', len(filtered_complaints))"
   ]
  },
  {
   "cell_type": "markdown",
   "id": "0d11eac5",
   "metadata": {},
   "source": [
    "**(c) [6 points across subparts]** We have written some code below for you that obtains a train/test split using the filtered data you computed in part **(b)**. Note that here, the test data are treated as actual test data and not validation data that we tune hyperparameters on. Please begin by running the next cell and then proceed to answer some questions."
   ]
  },
  {
   "cell_type": "code",
   "execution_count": 4,
   "id": "09409d6f",
   "metadata": {},
   "outputs": [],
   "source": [
    "# DO NOT MODIFY THIS CELL\n",
    "train_indices, test_indices = \\\n",
    "    train_test_split(range(len(filtered_complaints)), test_size=0.25,\n",
    "                     shuffle=True, random_state=42, stratify=filtered_labels)\n",
    "\n",
    "def row_normalize(X):\n",
    "    # given a 2D table, where rows index data points and columns index features, divide each row by its sum\n",
    "    normalized_X = []\n",
    "    for row in X:\n",
    "        row_sum = row.sum()\n",
    "        if row_sum > 0:\n",
    "            normalized_X.append(row / row_sum)\n",
    "        else:\n",
    "            normalized_X.append(row)  # all 0's\n",
    "    return np.array(normalized_X)\n",
    "\n",
    "vectorizer = CountVectorizer(min_df=5, max_df=.7, stop_words='english')\n",
    "X_train = row_normalize(vectorizer.fit_transform(filtered_complaints[train_indices]).toarray())\n",
    "y_train = filtered_labels[train_indices]"
   ]
  },
  {
   "cell_type": "markdown",
   "id": "4ef13df1",
   "metadata": {},
   "source": [
    "**Subpart i. [2 points]** In the above code, the vectorizer builds a vocabulary. How many words are in this vocabulary? To answer this question, write code that prints out the answer."
   ]
  },
  {
   "cell_type": "code",
   "execution_count": 5,
   "id": "219855f0",
   "metadata": {},
   "outputs": [
    {
     "name": "stdout",
     "output_type": "stream",
     "text": [
      "6371\n"
     ]
    }
   ],
   "source": [
    "# --------------------------------------------------------------------------------\n",
    "# YOUR CODE HERE\n",
    "#\n",
    "print(X_train.shape[1])\n",
    "#\n",
    "# END OF YOUR CODE\n",
    "# --------------------------------------------------------------------------------"
   ]
  },
  {
   "cell_type": "markdown",
   "id": "136d05c2",
   "metadata": {},
   "source": [
    "**Subpart ii. [2 points]** What is the word index in the vocabulary for the word `transmission`? To answer this question, write code that prints out the answer."
   ]
  },
  {
   "cell_type": "code",
   "execution_count": 6,
   "id": "b6d24f79",
   "metadata": {},
   "outputs": [
    {
     "name": "stdout",
     "output_type": "stream",
     "text": [
      "5877\n"
     ]
    }
   ],
   "source": [
    "# --------------------------------------------------------------------------------\n",
    "# YOUR CODE HERE\n",
    "#\n",
    "print(vectorizer.vocabulary_['transmission'])\n",
    "#\n",
    "# END OF YOUR CODE\n",
    "# --------------------------------------------------------------------------------"
   ]
  },
  {
   "cell_type": "markdown",
   "id": "04016862",
   "metadata": {},
   "source": [
    "**Subpart iii. [2 points]** Suppose that we train a model using `X_train` and `y_train` above. Now we want to use the model to predict on the test data. We first have to get the test data into the format expected by the model. Consider the following two lines of code:\n",
    "\n",
    "```\n",
    "X_test = row_normalize(vectorizer.fit_transform(filtered_complaints[test_indices]).toarray())\n",
    "y_test = filtered_labels[test_indices]\n",
    "```\n",
    "\n",
    "Does the above code correctly encode the test data for prediction using the model trained using `X_train` and `y_train`? If you think that the answer is \"yes\", briefly justify why. If you instead think that the answer is \"no\", please explain what the bug in the code is."
   ]
  },
  {
   "cell_type": "markdown",
   "id": "89991e37",
   "metadata": {},
   "source": [
    "**Your answer here (indicate either \"yes\" or \"no\", and provide an explanation; a correct answer without an explanation will not receive credit):** No. The bug is that we should *not* be refitting the vectorizer. It has already been fit to the training data and at this point, we should only be using it to transform the test data."
   ]
  },
  {
   "cell_type": "markdown",
   "id": "5726b073",
   "metadata": {},
   "source": [
    "**(d) [18 points across subparts]** We've actually already fit a model for you using `X_train` and `y_train`. Let's load in the resulting predictions on the test data first, and then please proceed to answering some questions."
   ]
  },
  {
   "cell_type": "code",
   "execution_count": 7,
   "id": "584e050a",
   "metadata": {},
   "outputs": [],
   "source": [
    "# DO NOT MODIFY THIS CELL\n",
    "y_test_predicted = np.load('mystery_mug.npy')"
   ]
  },
  {
   "cell_type": "markdown",
   "id": "df5a5512",
   "metadata": {},
   "source": [
    "**Subpart i. [3 points]** What is the raw accuracy rate on the test data (fraction of predicted labels that are correct)? To answer this question, write code that prints out the answer. *As a reminder, do not import any additional packages/functions.*"
   ]
  },
  {
   "cell_type": "code",
   "execution_count": 8,
   "id": "66eb67ac",
   "metadata": {},
   "outputs": [
    {
     "data": {
      "text/plain": [
       "0.4921487603305785"
      ]
     },
     "execution_count": 8,
     "metadata": {},
     "output_type": "execute_result"
    }
   ],
   "source": [
    "# --------------------------------------------------------------------------------\n",
    "# YOUR CODE HERE\n",
    "#\n",
    "y_test = filtered_labels[test_indices]\n",
    "np.mean(y_test_predicted == y_test)\n",
    "#\n",
    "# END OF YOUR CODE\n",
    "# --------------------------------------------------------------------------------"
   ]
  },
  {
   "cell_type": "markdown",
   "id": "e15aed3b",
   "metadata": {},
   "source": [
    "**Subpart ii. [15 points]** For each car (in `filtered_cars`), compute the recall, precision, and F1 score for predicting that specific car. *As a reminder, do not import any additional packages/functions.*\n",
    "\n",
    "Note on numerical issues: in computing precision, if the denominator is 0, then set precision to be 0 (i.e., do not actually divide by 0). Similarly, for computing F1 score, if precision and recall are both 0, then set the F1 score to be 0.\n",
    "\n",
    "Afterward, print out three lists of cars:\n",
    "- the first list has cars sorted in *descending* (largest to smallest) recall\n",
    "- the second list has cars sorted in *descending* precision\n",
    "- the third list has cars sorted in *descending* F1 score\n",
    "\n",
    "Each list should be of the format:\n",
    "\n",
    "```\n",
    "car 1 : score\n",
    "car 2 : score\n",
    "...\n",
    "last car : score\n",
    "```"
   ]
  },
  {
   "cell_type": "code",
   "execution_count": 9,
   "id": "f8660cfe",
   "metadata": {},
   "outputs": [
    {
     "name": "stdout",
     "output_type": "stream",
     "text": [
      "[Recall]\n",
      "chrysler 200 : 0.8214285714285714\n",
      "ford explorer : 0.7950819672131147\n",
      "honda cr-v : 0.7753623188405797\n",
      "chevrolet equinox : 0.7454545454545455\n",
      "jeep cherokee : 0.7434402332361516\n",
      "chevrolet silverado 1500 : 0.7411167512690355\n",
      "chevrolet colorado : 0.7272727272727273\n",
      "nissan altima : 0.6993865030674846\n",
      "jeep grand cherokee : 0.6637168141592921\n",
      "hyundai sonata : 0.6027397260273972\n",
      "ford transit : 0.5862068965517241\n",
      "ford taurus : 0.5789473684210527\n",
      "ford focus : 0.5741935483870968\n",
      "chevrolet tahoe : 0.5714285714285714\n",
      "toyota sienna : 0.5434782608695652\n",
      "hyundai genesis : 0.5365853658536586\n",
      "hyundai santa fe : 0.5172413793103449\n",
      "ford escape : 0.514018691588785\n",
      "chevrolet impala : 0.509090909090909\n",
      "honda fit : 0.5\n",
      "chevrolet camaro : 0.5\n",
      "ford edge : 0.4897959183673469\n",
      "ford mustang : 0.45588235294117646\n",
      "toyota corolla : 0.45454545454545453\n",
      "nissan pathfinder : 0.43548387096774194\n",
      "nissan rogue : 0.3875\n",
      "ford fiesta : 0.38095238095238093\n",
      "jeep renegade : 0.37272727272727274\n",
      "jeep patriot : 0.3442622950819672\n",
      "nissan murano : 0.34210526315789475\n",
      "honda odyssey : 0.3333333333333333\n",
      "chevrolet malibu : 0.32\n",
      "nissan sentra : 0.3103448275862069\n",
      "chevrolet cruze : 0.30612244897959184\n",
      "chrysler town and country : 0.29508196721311475\n",
      "toyota rav4 : 0.27906976744186046\n",
      "hyundai elantra : 0.26666666666666666\n",
      "chevrolet traverse : 0.18421052631578946\n",
      "jeep wrangler : 0.18181818181818182\n",
      "chevrolet silverado 2500 : 0.17391304347826086\n",
      "nissan versa note : 0.12727272727272726\n",
      "ford fusion : 0.10738255033557047\n",
      "honda accord hybrid : 0.07563025210084033\n",
      "honda accord : 0.061946902654867256\n",
      "honda civic : 0.05555555555555555\n",
      "honda civic hybrid : 0.03636363636363636\n",
      "ford fusion energi : 0.03355704697986577\n",
      "toyota camry hybrid : 0.03278688524590164\n",
      "toyota highlander : 0.02702702702702703\n",
      "toyota highlander hybrid : 0.02631578947368421\n",
      "nissan versa : 0.02631578947368421\n",
      "toyota camry : 0.017543859649122806\n",
      "chevrolet silverado 3500 : 0.0\n",
      "\n",
      "[Precision]\n",
      "hyundai santa fe : 1.0\n",
      "ford taurus : 1.0\n",
      "ford fiesta : 1.0\n",
      "chevrolet traverse : 1.0\n",
      "ford transit : 0.9444444444444444\n",
      "nissan murano : 0.9285714285714286\n",
      "hyundai genesis : 0.9166666666666666\n",
      "honda odyssey : 0.9166666666666666\n",
      "jeep patriot : 0.875\n",
      "toyota sienna : 0.8620689655172413\n",
      "chevrolet malibu : 0.8421052631578947\n",
      "honda fit : 0.8333333333333334\n",
      "ford escape : 0.8333333333333334\n",
      "chevrolet impala : 0.8235294117647058\n",
      "nissan pathfinder : 0.7941176470588235\n",
      "chevrolet cruze : 0.7894736842105263\n",
      "jeep renegade : 0.7884615384615384\n",
      "nissan sentra : 0.782608695652174\n",
      "chevrolet tahoe : 0.7816091954022989\n",
      "ford mustang : 0.7560975609756098\n",
      "toyota corolla : 0.7407407407407407\n",
      "hyundai elantra : 0.7272727272727273\n",
      "chevrolet equinox : 0.7256637168141593\n",
      "honda cr-v : 0.7181208053691275\n",
      "toyota rav4 : 0.7058823529411765\n",
      "ford focus : 0.7007874015748031\n",
      "chrysler town and country : 0.6923076923076923\n",
      "chevrolet camaro : 0.6896551724137931\n",
      "jeep grand cherokee : 0.6787330316742082\n",
      "nissan rogue : 0.6739130434782609\n",
      "hyundai sonata : 0.6518518518518519\n",
      "ford edge : 0.6486486486486487\n",
      "ford explorer : 0.6423841059602649\n",
      "jeep wrangler : 0.6\n",
      "nissan altima : 0.5757575757575758\n",
      "chevrolet colorado : 0.5663716814159292\n",
      "chevrolet silverado 1500 : 0.48344370860927155\n",
      "jeep cherokee : 0.4811320754716981\n",
      "chrysler 200 : 0.41025641025641024\n",
      "chevrolet silverado 2500 : 0.36363636363636365\n",
      "nissan versa note : 0.17073170731707318\n",
      "ford fusion : 0.09815950920245399\n",
      "honda accord hybrid : 0.08108108108108109\n",
      "honda civic : 0.0625\n",
      "honda accord : 0.06086956521739131\n",
      "honda civic hybrid : 0.044444444444444446\n",
      "toyota camry hybrid : 0.03636363636363636\n",
      "ford fusion energi : 0.034482758620689655\n",
      "toyota highlander hybrid : 0.03125\n",
      "nissan versa : 0.030303030303030304\n",
      "toyota highlander : 0.02857142857142857\n",
      "toyota camry : 0.01818181818181818\n",
      "chevrolet silverado 3500 : 0.0\n",
      "\n",
      "[F1]\n",
      "honda cr-v : 0.7456445993031359\n",
      "chevrolet equinox : 0.73542600896861\n",
      "ford taurus : 0.7333333333333334\n",
      "ford transit : 0.7234042553191489\n",
      "ford explorer : 0.7106227106227107\n",
      "hyundai santa fe : 0.6818181818181819\n",
      "hyundai genesis : 0.676923076923077\n",
      "jeep grand cherokee : 0.6711409395973154\n",
      "toyota sienna : 0.6666666666666666\n",
      "chevrolet tahoe : 0.6601941747572815\n",
      "chevrolet colorado : 0.6368159203980099\n",
      "ford escape : 0.6358381502890172\n",
      "nissan altima : 0.6315789473684211\n",
      "ford focus : 0.6312056737588653\n",
      "chevrolet impala : 0.6292134831460674\n",
      "hyundai sonata : 0.6263345195729537\n",
      "honda fit : 0.625\n",
      "chevrolet silverado 1500 : 0.5851703406813628\n",
      "jeep cherokee : 0.584192439862543\n",
      "chevrolet camaro : 0.5797101449275363\n",
      "ford mustang : 0.5688073394495413\n",
      "toyota corolla : 0.5633802816901408\n",
      "nissan pathfinder : 0.5625\n",
      "ford edge : 0.5581395348837208\n",
      "ford fiesta : 0.5517241379310345\n",
      "chrysler 200 : 0.5472118959107806\n",
      "jeep renegade : 0.5061728395061729\n",
      "nissan murano : 0.5\n",
      "jeep patriot : 0.4941176470588235\n",
      "nissan rogue : 0.4920634920634921\n",
      "honda odyssey : 0.4888888888888888\n",
      "chevrolet malibu : 0.463768115942029\n",
      "nissan sentra : 0.4444444444444444\n",
      "chevrolet cruze : 0.44117647058823534\n",
      "chrysler town and country : 0.41379310344827586\n",
      "toyota rav4 : 0.4\n",
      "hyundai elantra : 0.3902439024390244\n",
      "chevrolet traverse : 0.3111111111111111\n",
      "jeep wrangler : 0.27906976744186046\n",
      "chevrolet silverado 2500 : 0.2352941176470588\n",
      "nissan versa note : 0.14583333333333334\n",
      "ford fusion : 0.10256410256410256\n",
      "honda accord hybrid : 0.07826086956521738\n",
      "honda accord : 0.06140350877192983\n",
      "honda civic : 0.058823529411764705\n",
      "honda civic hybrid : 0.04\n",
      "toyota camry hybrid : 0.03448275862068966\n",
      "ford fusion energi : 0.034013605442176874\n",
      "toyota highlander hybrid : 0.02857142857142857\n",
      "nissan versa : 0.028169014084507043\n",
      "toyota highlander : 0.02777777777777778\n",
      "toyota camry : 0.017857142857142856\n",
      "chevrolet silverado 3500 : 0\n"
     ]
    }
   ],
   "source": [
    "recall_car_pairs = []  # DO NOT MODIFY\n",
    "precision_car_pairs = []  # DO NOT MODIFY\n",
    "f1_car_pairs = []  # DO NOT MODIFY\n",
    "\n",
    "for car in filtered_cars:  # DO NOT MODIFY\n",
    "    # --------------------------------------------------------------------------------\n",
    "    # YOUR CODE HERE (basically we are treating the current `car` as the \"positive\"\n",
    "    # class and all the other cars collectively as the \"negative\" class to compute\n",
    "    # recall/precision/F1 score here)\n",
    "    #\n",
    "    recall = (y_test_predicted == y_test)[y_test == car].mean()\n",
    "    positive_mask = (y_test_predicted == car)\n",
    "    if np.any(positive_mask):\n",
    "        precision = (y_test_predicted == y_test)[positive_mask].mean()\n",
    "    else:\n",
    "        precision = 0\n",
    "    if precision == 0 and recall == 0:\n",
    "        f1 = 0\n",
    "    else:\n",
    "        f1 = 2 * precision * recall / (precision + recall)\n",
    "    #\n",
    "    # END OF YOUR CODE\n",
    "    # --------------------------------------------------------------------------------\n",
    "    \n",
    "    recall_car_pairs.append((recall, car))  # DO NOT MODIFY\n",
    "    precision_car_pairs.append((precision, car))  # DO NOT MODIFY\n",
    "    f1_car_pairs.append((f1, car))  # DO NOT MODIFY\n",
    "\n",
    "\n",
    "print('[Recall]')\n",
    "# --------------------------------------------------------------------------------\n",
    "# YOUR CODE HERE\n",
    "#\n",
    "for recall, car in sorted(recall_car_pairs, reverse=True):\n",
    "    print(car, ':', recall)\n",
    "#\n",
    "# END OF YOUR CODE\n",
    "# --------------------------------------------------------------------------------\n",
    "print()\n",
    "\n",
    "print('[Precision]')\n",
    "# --------------------------------------------------------------------------------\n",
    "# YOUR CODE HERE\n",
    "#\n",
    "for precision, car in sorted(precision_car_pairs, reverse=True):\n",
    "    print(car, ':', precision)\n",
    "#\n",
    "# END OF YOUR CODE\n",
    "# --------------------------------------------------------------------------------\n",
    "print()\n",
    "\n",
    "print('[F1]')\n",
    "# --------------------------------------------------------------------------------\n",
    "# YOUR CODE HERE\n",
    "#\n",
    "for f1, car in sorted(f1_car_pairs, reverse=True):\n",
    "    print(car, ':', f1)\n",
    "#\n",
    "# END OF YOUR CODE\n",
    "# --------------------------------------------------------------------------------"
   ]
  },
  {
   "cell_type": "markdown",
   "id": "a5d1df69",
   "metadata": {},
   "source": [
    "Note: the recall/precision/F1 scores can quickly give us a sense of which cars the model we've loaded has an easier time predicting vs which ones appear difficult for the model to predict.\n",
    "\n",
    "---\n",
    "\n",
    "**(e) [18 points across subparts]** Let's look at a specific car, `'honda cr-v'`. For the classifier that we already trained for you, it is actually capable of computing estimated probabilities of different cars. We load this information next."
   ]
  },
  {
   "cell_type": "code",
   "execution_count": 10,
   "id": "a6b6c285",
   "metadata": {},
   "outputs": [],
   "source": [
    "# DO NOT MODIFY THIS CELL\n",
    "y_test_predicted_prob = np.load('mystery_mouse.npy')"
   ]
  },
  {
   "cell_type": "markdown",
   "id": "40b5ba0e",
   "metadata": {},
   "source": [
    "The columns of `y_test_predicted_prob` are in the same order as `filtered_cars` (assuming you computed it correctly).\n",
    "\n",
    "**Subpart i. [6 points]** Let's look at an example row of `y_test_predicted_prob`."
   ]
  },
  {
   "cell_type": "code",
   "execution_count": 11,
   "id": "8b0004c7",
   "metadata": {},
   "outputs": [
    {
     "name": "stdout",
     "output_type": "stream",
     "text": [
      "[0.01       0.01       0.         0.01       0.01       0.\n",
      " 0.0725     0.015      0.0325     0.         0.01       0.16\n",
      " 0.02       0.03       0.01       0.02       0.         0.01\n",
      " 0.01       0.         0.01       0.01       0.         0.\n",
      " 0.         0.         0.01       0.01       0.         0.\n",
      " 0.         0.01       0.         0.01       0.02       0.02\n",
      " 0.         0.         0.01       0.04       0.01       0.02\n",
      " 0.03       0.         0.         0.01       0.00833333 0.01166667\n",
      " 0.         0.115      0.175      0.01       0.03      ]\n"
     ]
    }
   ],
   "source": [
    "# DO NOT MODIFY THIS CELL\n",
    "print(y_test_predicted_prob[42])"
   ]
  },
  {
   "cell_type": "markdown",
   "id": "c95c5b25",
   "metadata": {},
   "source": [
    "Briefly explain what these numbers mean (your explanation should help explain the sum of these numbers), print out the complaint that corresponds to these numbers, and also print out the car name corresponding to the highest number."
   ]
  },
  {
   "cell_type": "markdown",
   "id": "5b17a572",
   "metadata": {},
   "source": [
    "**Your answer here for what the numbers mean (your explanation should help explain the sum of these numbers):** These are the predicted probabilities of the car corresponding to the 42nd test set complaint (i.e., `filtered_complaints[test_indices][42]`); these numbers form a probability distribution (they are nonnegative and sum to 1)."
   ]
  },
  {
   "cell_type": "code",
   "execution_count": 12,
   "id": "19bdd56e",
   "metadata": {},
   "outputs": [
    {
     "name": "stdout",
     "output_type": "stream",
     "text": [
      "Complaint: i purchased this car 7-31-2015, by 8-3-2015 i noticed the windshield and passenger side windows looked badly pitted. i called the dealership and on 8-7-2015 took it in. they said it was pitch from a tree and agreed to detail it to remove the sap. i picked it up the same day. that was not the problem as the windows are still showing prisms when light comes through. when i came back about it again 8-28-25015 they said they couldn't see it at all but did pull another highlander out that was just taken off the truck, it too had the same issues with the pitting, the dealer has agreed to replace the windshield but not the passenger windows. i'm not happy that i was sold a car with defective windows. it is a safety hazard for night driving or when the sun is low. what can i do about this?\n",
      "\n",
      "Car: toyota highlander hybrid\n"
     ]
    }
   ],
   "source": [
    "# --------------------------------------------------------------------------------\n",
    "# YOUR CODE HERE\n",
    "#\n",
    "complaint = filtered_complaints[test_indices][42]\n",
    "car = filtered_cars[np.argmax(y_test_predicted_prob[42])]\n",
    "#\n",
    "# END OF YOUR CODE\n",
    "# --------------------------------------------------------------------------------\n",
    "\n",
    "# DO NOT MODIFY THE CODE BELOW\n",
    "print('Complaint:', complaint)\n",
    "print()\n",
    "print('Car:', car)"
   ]
  },
  {
   "cell_type": "markdown",
   "id": "7c3c3d19",
   "metadata": {},
   "source": [
    "**Subpart ii. [5 points]** Compute the top 20 test set complaints with the highest probability for `'honda cr-v'`."
   ]
  },
  {
   "cell_type": "code",
   "execution_count": 13,
   "id": "57835b7c",
   "metadata": {},
   "outputs": [
    {
     "name": "stdout",
     "output_type": "stream",
     "text": [
      "my brand new 2015 honda cr-v is experiencing strong vibrations in idle when in drive. i can feel the vibrations in my seat as i am in idle, but it is most noticeable when the passenger seat is empty as it shakes aggressively from the vibrations. it's annoying and its distracting when driving. there are many complaints on the internet on this issue but honda is calling it a \"characteristic\" of the car. i've called the dealership twice now but they have no fix so they are basically telling me i am out of luck at this time and to wait it out. i've also made a phone call to honda america and awaiting a call back on my case. a brand new car with this price tag should not have vibrations when in idle. many consumers are worried about the long term effects of this vibration to the car. *tr\n",
      "\n",
      "there is very noticeable vibrations when vehicle stops at stop light. if vehicle is 'd' and 0 speed it vibrates and rpm needle is not sable. also, vibrations are at 60 and higher speed. engine is not smooth at all and feel/sound like engine is stressed. called honda multiple times but they are not acknowledging the issue. dealership also says all the 2015 crv has the issue so its normal!! please discuss with honda as all the new honda 2015 crv has vibration issue. this is a major defect and honda needs to face up to the issue with their new engine cvt design. *tr\n",
      "\n",
      "i have brought a brand new honda 2015 crv from one of the honda dealer in san leandro, ca. few days later, i noticed some vibration on the front seats of the car when i am at the stop sign/signal with car is in the drive mode (d) with my foot on the brake paddle. the vibration is random and not always but can be feel at the back of your body and it is very strong sometime that as a driver you get distracted and feel very uncomfortable while driving. if you have to are stuck in some traffic jam and have to stop longer then the vibration on both the front seat is quite noticing and causes irritation on the back and you cannot sit for long in while the seats vibrating. and i reported the issue to the dealer, they told me they are helpless and cannot do anything and asked me to contact american honda. most of the 2015 honda crv have the same problem, and it's been more then 8 months, but honda did not take any action to fix it!\n",
      "\n",
      "i recently purchased a 2015 honda crv with serious vibration issues at idle. i first noted the vibration at 420 miles at a red light. i brought it to the dealer to be checked as vibrations intensity increased around 800 miles. the dealer did nothing, denied knowing about the issue, and notes: \"customer states the car has a vibration when stopped and foot on brake. it comes through the brake and the seat base and the back of the seat. can be felt through the whole car. has been happening since 450 miles. verified customers concern. honda is aware of customer reports of this concern. honda is actively reviewing reports and testing. since review is in progress no product review is available.\" absolutely unacceptable.\n",
      "\n",
      "tl* the contact owns a 2015 honda cr-v. while driving 25 mph, the vehicle vibrated severely. the failure occurred constantly. the vehicle was taken to a dealer where it was diagnosed, but the cause of the failure was not determined. the contact mentioned that the vehicle's software was updated, but the failure recurred. the vehicle was not repaired. the manufacturer was notified of the failure. the approximate failure mileage was 150.\n",
      "\n",
      "honda cr-v 2015 vibration problem. i am still facing the vibration at idle issue even after the software update and repair performed by the honda dealer which is intended to solve the problem.it is now more noticeable than before. the dealer says there is nothing they can do. american honda says that it's dealers responsibility. the vibration is very distracting and nauseating.\n",
      "\n",
      "took delivery of 2015 crv exl on 04-09-15. found pronounced drive train shudder while operating vehicle at speeds from idle to 30mph at 1000-1250 rpm. returned veh. to lia honda in northampton mass. where technician was able to duplicate and document complaint. service writer states that honda is aware of issue but has no fix. my 2011 crv ran smooth as glass. honda has been the benchmark for quality vehicles but has really dropped the ball on the 2015 crv. if a machine shudders or vibrates when in operation there is an indication that it was mis-designed, something is broken or will break in the near future. real shame that honda released this vehicle with this known problem. will certainly become a safety issue if something comes apart in the powertrain while the vehicle is at speed. *tr\n",
      "\n",
      "i purchased my crv ex awd a couple of weeks ago. shortly thereafter, i noticed that the seats shake causing a vibration in the car when i'm stopped and the vehicle is in drive. when this happens, the engine is warm and idles around 600 rpms. i have found that if the a/c is on or the headlights are on, then the vibrations lessens after the engine idle increases. i've contacted honda, but they only said that they are aware of the complaint and that \"if\" a remedy can be found they would notify the owners.\n",
      "\n",
      "tl* the contact owns a 2015 honda cr-v. while driving at various speeds, the front end of the vehicle vibrated without warning. the failure was persistent. the vehicle was taken to a dealer, but was not diagnosed or repaired. the manufacturer was notified of the failure. the failure mileage was approximately 15.\n",
      "\n",
      "very strong vibration at idle. very annoying and can cause harm to my body and it really makes me regret buying the car each time i stop at a stop signal or at a red light. i have filed a complaint with both the dealer and honda to take back my costly brand new crv 2015 touring for a full refund. i haven't heard back from them yet.\n",
      "\n",
      "vibration: in december of 2014, we purchased a brand new honda crv 2015 model from tom wood honda in anderson, indiana. shortly after purchasing the vehicle, (at around 5,000 miles driven on the vehicle), we noticed that; the vehicle vibrated when stopped (say at a stop light) when the car was in 'drive'. the vibration was not detected when the vehicle was stopped and in 'park'. the vibration at this time was slight and only a little disturbing. the vehicle was taken to penske honda (on the north side of indianapolis) at around 28,000 miles or so, where a '16-053 crv update' was applied. the vibration problem was made much worse, not better. immediately after driving the car off of penske's lot, it vibrated so badly that it was extremely disturbing. follow a few frustrating conversations with penske honda about this problem, the vehicle was taken to fisher's honda. fisher's honda performed update 15-046 for vibration at idle, which ameliorated the problem, however, the vehicle still vibrates quite noticeably when engaged in drive and stopped at a stop light for example. the idle speed drops to around 550 rpm when stopped and in drive. the entire car shakes. the steering wheel vibrates in the driver's hands. in my opinion, no one would buy a new or even used car with this problem. i certainly wouldn't. we took the 2015 honda crv to tom wood honda. one of their top technicians drove the car with us in it. he acknowledged the problem, but stated that there was nothing more he could do to fix the problem than what had already been done, and that the problem had something to do with the engine and drive train pairing. since that time, the vibration phenomenon when the car is stopped and engaged in drive has worsened. in addition, the car vibrates when driving the car at 35 to 45 miles per hour and the rpms are around 1,100 rpm or so. *tr\n",
      "\n",
      "tl* the contact owns a 2015 honda cr-v. the contact stated that while driving at various speeds, when the brake pedal was depressed, the vehicle shook and vibrated abnormally. the vehicle was taken to the dealer several times, but they were not able to provide a permanent remedy for the condition. the dealer test drove the vehicle and indicated that the failure was associated with the newly designed engine and transmission/power train. the contact stated that the condition continued to progress with no solution to repair the vehicle. the manufacturer provided no permanent remedy. the failure mileage was 800. sj\n",
      "\n",
      "i bought 2015 honda cr-v ex just 4 week ago, it has a huge vibration that you can feel and see inside the vehicle especially when its stop and in idle mode or drive shift. vibration can feel in the seating, steering wheel, side doors, brake and gas pedals, shift knob and even the back passager seat. i bought this car for my family to enjoy their daily rides but their not, and keep asking me why has it. psychologically and emotionally my driving concentration are always affected, and that is unsafe for our everyday driving and to anyone who has this issue. i always feel sick every times i get out of this car, i feel my hand like i use a jack hammer after a while. dealer's service dept. confirmed to me that there are three issues that cause the vibration and there is no fix yet about the issue. i love honda eversince, it my favorite brand. i hope they can do something to fix it fast before any can get hurt..\n",
      "\n",
      "i purchased a 2015 honda cr-v with 35 miles. before my purchase i test drove it with no complaints. shortly after taking it home at about 500 miles i noticed i vibration while my honda cr-v is idling. i have taken it back to the dealer who has done nothing yo resolve this issue. i have also called honda headquarters who have also not offered me a solution to this issue. it vibrates real hard when i stop , it's idling or when i'm in reverse. it also tends to want to shut off . this is a major issue for me that creates a safety issue. for a brand new car this should be occurring . i'm afraid to drive it . i would really appreciate some help in getting some solution as honda and the dealer is not helping me. i feel very stuck driving a car that has a defect. i was deceived in purchasing a car that obviously a safety issue.\n",
      "\n",
      "my 2015 honda cr-v touring model vibrates intermittently. it is worse when at idle such as at a stop sign or red light. it does happen, dangerously so while driving down the highway at speeds of 65-76 mph. honda call this a \"characteristic of the car\" \"an annoyance\". it is more than this. it is a safety issue. sow one is going to be seriously injured or worse. *tr\n",
      "\n",
      "this 2015 honda crv ex model when idling at a stop sign or in traffic it vibrates terribly. if i sit idle at a stop sign or traffic light for sometime the vibration becomes so annoying i need to shut the vehicle off. the other issue is between 1000 and 2000 rpm and between 20 mph and 30 mph there is a significant vibration which makes me feel very uneasy that the car is shifting properly and that it is safe to take on a highway. it took me a while to realize that it was a problem and now i have 2000 miles on the vehicle and contacted honda. i also looked online and have noticed approximately 80,000 people that i've had this issue. i spoke to the service manager over at sloan honda located in philadelphia pennsylvania about this issue and he explained that he would love to fix my vehicle as others have complained of this problem. he also explained that the dealer and his service shop makes money off of repairs. i would like to bring the vehicle in for service but there is nothing that they can do.my major concern is if i am doing 55 to 65 mph on a busy highway whether the car is going to fail because honda doesn't know why these vibrations are occurring at idol and various speeds. *tr\n",
      "\n",
      "bought the 2015 honda cr-v and it has a problem of vibration when at stop lights or stopped with the brake on. when it idles the vibration is quite obvious - passenger seat shakes. put the car in neutral and it stops. took the car to the honda dealership and said honda is aware of this problem and they are looking for a fix. i do hope it is soon as i am very disappointed that this is happening with a brand new car. sometimes also notice the engine revs up when going downhill - very disappointed and i would like to a fix to these problems immediately. *tr\n",
      "\n",
      "this is regarding a brand new 2015 honda cr-v bought from a honda dealer in northridge, ca. started noticing a vibration of the seats when i stopped at a red light(in d gear with brakes fully pressed). being a hot day, i thought it was the a/c causing the vibration. later that day, without the a/c running, the vibration had increased. i reported this to the dealership and was told to bring it in when my accessories would arrive in a few days. checked into service department with the car after a week and the service mechanic claimed that this was normal. upon insistence, he brought out a similar car and showed that the vibration existed on that car as well and that they cannot do anything about it. researching online i find that there are numerous forums, including a facebook page and a honda owners forum that reflects the issue faced by many other owners of the new 2015 model honda cr-v. i would like to formally request an investigation into this issue since american honda refuses to acknowledge the issue. *tr\n",
      "\n",
      "tl* the contact owns a 2015 honda cr-v. while idling, the vehicle vibrated. the failure recurred. the vehicle was taken to a dealer, but could not be diagnosed or repaired. the manufacturer was notified of the failure. the failure mileage was approximately 4,900. updated 01/27/16*lj the consumer stated as of 12-15-15 the vibration issue had worsened and there was also a loss of power. updated 04/05/16. *jb\n",
      "\n",
      "the honda crv ex-l 2015 idles rough/vibrates profusely when in drive/foot on brake. the steering wheel, headrests, items in the cup holder all rattle/vibrate vigorously when the vehicle is idling at approx. 550-600 rpm. even the back seats carry the vibration of the vehicle. my children (back seat passengers) now complain of nausea/headaches when in the vehicle for prolonged periods of time. this is much more than an 'annoyance'. this is extremely distracting to the driver, causing the driver to potentially loose focus on what is important, which is safe driving. i've had passengers comment on the vigorous vibration as well. we have brought the vehicle in for service numerous times. the vibration/rough idle was indeed confirmed; however, there is no way for the service dept to fix. a service request has been sent to honda as there is no 'fix' at this time. completely unacceptable for a new vehicle. there are many consistent complaints of this exact problem on reputable websites all stating that honda is not fixing the problem. *tr\n"
     ]
    }
   ],
   "source": [
    "# --------------------------------------------------------------------------------\n",
    "# YOUR CODE HERE\n",
    "#\n",
    "\n",
    "top20_complaints = []  # list of strings, each string is a complaint\n",
    "honda_crv_idx = list(filtered_cars).index('honda cr-v')\n",
    "sort_indices = np.argsort(-y_test_predicted_prob[:, honda_crv_idx])\n",
    "for idx in sort_indices[:20]:\n",
    "    top20_complaints.append(filtered_complaints[test_indices][idx])\n",
    "\n",
    "#\n",
    "# END OF YOUR CODE\n",
    "# --------------------------------------------------------------------------------\n",
    "\n",
    "print(\"\\n\\n\".join(top20_complaints))"
   ]
  },
  {
   "cell_type": "markdown",
   "id": "859cbcaf",
   "metadata": {},
   "source": [
    "**Subpart iii. [5 points]** Using the vocabulary computed by `vectorizer` on the training data, compute the raw counts for words that appear in the top 20 test complaints (the ones from **subpart i**), and print out the top 10 words in the vocabulary that appear the most in the top 20 test complaints.\n",
    "\n",
    "*Hint:* You may find it helpful to use `vectorizer` to transform the top 20 complaints you found in the previous subpart."
   ]
  },
  {
   "cell_type": "code",
   "execution_count": 14,
   "id": "a246c563",
   "metadata": {},
   "outputs": [
    {
     "name": "stdout",
     "output_type": "stream",
     "text": [
      "honda : 59\n",
      "vibration : 35\n",
      "vehicle : 35\n",
      "car : 31\n",
      "issue : 25\n",
      "2015 : 24\n",
      "problem : 17\n",
      "dealer : 17\n",
      "crv : 15\n",
      "idle : 14\n"
     ]
    }
   ],
   "source": [
    "# --------------------------------------------------------------------------------\n",
    "# YOUR CODE HERE\n",
    "#\n",
    "for count, word in sorted(zip(vectorizer.transform(top20_complaints).toarray().sum(axis=0),\n",
    "                              vectorizer.get_feature_names()), reverse=True)[:10]:\n",
    "    print(word, ':', count)\n",
    "#\n",
    "# END OF YOUR CODE\n",
    "# --------------------------------------------------------------------------------"
   ]
  },
  {
   "cell_type": "markdown",
   "id": "5e948e98",
   "metadata": {},
   "source": [
    "**Subpart iv. [2 points]** At least one of the words found is indeed a recurring problem that people complain about for the Honda CR-V car. Which word is it?"
   ]
  },
  {
   "cell_type": "markdown",
   "id": "19f2d82d",
   "metadata": {},
   "source": [
    "**Your answer here:** \"vibration\"; if you look at the complaints from the previous subpart, many of them are indeed about vibrations."
   ]
  }
 ],
 "metadata": {
  "kernelspec": {
   "display_name": "Python 3",
   "language": "python",
   "name": "python3"
  },
  "language_info": {
   "codemirror_mode": {
    "name": "ipython",
    "version": 3
   },
   "file_extension": ".py",
   "mimetype": "text/x-python",
   "name": "python",
   "nbconvert_exporter": "python",
   "pygments_lexer": "ipython3",
   "version": "3.8.8"
  }
 },
 "nbformat": 4,
 "nbformat_minor": 5
}
