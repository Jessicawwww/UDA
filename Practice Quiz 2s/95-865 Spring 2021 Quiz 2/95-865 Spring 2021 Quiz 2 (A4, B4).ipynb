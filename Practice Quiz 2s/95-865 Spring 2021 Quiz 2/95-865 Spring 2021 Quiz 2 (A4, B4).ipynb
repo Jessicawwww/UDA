{
 "cells": [
  {
   "cell_type": "markdown",
   "metadata": {},
   "source": [
    "# 95-865 Spring 2021 Quiz 2 (80 minutes)"
   ]
  },
  {
   "cell_type": "markdown",
   "metadata": {},
   "source": [
    "**Please make sure that your Zoom video is *on* during the duration of the exam. Also, please make sure that you can hear the course staff make announcements (i.e., please mute yourself but please make sure your speakers/headphones/earphones/etc are on so that you can hear us say things). The exam ends at 2:20pm Pittsburgh time and we will only grade what is submitted to the official Canvas assignment submission system for Quiz 2.**\n",
    "\n",
    "You must fill in your name and your Andrew ID for this quiz to be graded. Moreover, filling out your name and Andrew ID below will serve as your agreement with us, the course staff, that you did not collaborate with anyone on this exam and that what you submit is truly your own individual work and not that of anyone else. Violations found will result in severe penalties."
   ]
  },
  {
   "cell_type": "markdown",
   "metadata": {},
   "source": [
    "**Your name:** `REPLACE THIS WITH YOUR NAME`\n",
    "\n",
    "**Your Andrew ID:** `REPLACE THIS WITH YOUR ANDREW ID`"
   ]
  },
  {
   "cell_type": "markdown",
   "metadata": {},
   "source": [
    "**Warning: If you leave the above blank, your quiz will not be graded.**"
   ]
  },
  {
   "cell_type": "markdown",
   "metadata": {},
   "source": [
    "This exam has 3 problems. The first two problems are conceptual and do *not* involve coding. The third problem is a coding problem. These three problems do *not* depend on each other."
   ]
  },
  {
   "cell_type": "markdown",
   "metadata": {},
   "source": [
    "**Warning: For Quiz 1, we had an issue where a number of students decided to answer non-coding questions using code. For this quiz, if your answer to any of the parts in Problems 1 and 2 has code, then it will not receive any credit. We want to see that you can reason about these conceptual non-coding questions _without coding_.**"
   ]
  },
  {
   "cell_type": "markdown",
   "metadata": {},
   "source": [
    "## Problem 1: Helping Hiro, chief data scientist at a mystery hotel (no coding) [20 points]\n",
    "\n",
    "A hotel is trying to understand its customer feedback by looking at its reviews on a popular booking website. The hotel's chief data scientist Hiro needs your help! Hiro knows how to fit LDA models but he doesn't know how to interpret the results (oh no!). Specifically, Hiro has pulled together reviews with negative feedback, with the hope that addressing the negative feedback will improve the hotel's ratings and reviews in the future. He fit an LDA model with 3 topics on these reviews with negative feedback. When he prints the top 10 words for these 3 topics, he gets the following top words:\n",
    "\n",
    "```\n",
    "[Topic 0]\n",
    "expensive : 0.030600213751045272\n",
    "breakfast : 0.030345769019162853\n",
    "bar : 0.022021306244415374\n",
    "drinks : 0.018382998200127707\n",
    "bit : 0.01808736596159469\n",
    "sky : 0.01639120050699651\n",
    "lounge : 0.015624256127078288\n",
    "good : 0.015059833628184426\n",
    "tv : 0.014574690390133602\n",
    "prices : 0.013063836244048383\n",
    "\n",
    "[Topic 1]\n",
    "check : 0.022064854062341033\n",
    "breakfast : 0.018317066362752776\n",
    "staff : 0.017050449710318993\n",
    "room : 0.014665613551050505\n",
    "lifts : 0.014501708706490058\n",
    "service : 0.013566345365791698\n",
    "long : 0.012461962142041118\n",
    "didn : 0.012083924313901413\n",
    "queue : 0.010925943906777428\n",
    "time : 0.010057715515288846\n",
    "\n",
    "[Topic 2]\n",
    "room : 0.05332001529422074\n",
    "small : 0.026644562299531296\n",
    "view : 0.018036472262517454\n",
    "rooms : 0.017669051106014563\n",
    "hotel : 0.012260103828499232\n",
    "price : 0.011665855952688492\n",
    "bathroom : 0.010423438408224399\n",
    "little : 0.01017290080740334\n",
    "breakfast : 0.009552047646415329\n",
    "basic : 0.009508452013283673\n",
    "```"
   ]
  },
  {
   "cell_type": "markdown",
   "metadata": {},
   "source": [
    "**(a) [5 points]** When considering only the top 10 words per topic, how many **unique top words** does topic 0 have? What are these unique top words? (As a reminder, we discussed unique top words when we talked about how to choose the number of topics for LDA. Here, we are *not* talking about issues like lemmatization.)"
   ]
  },
  {
   "cell_type": "markdown",
   "metadata": {},
   "source": [
    "**Your answer, and a brief explanation of your answer (a correct answer without an explanation will not receive full credit; if your answer includes code, you will receive 0 credit for this part):** REPLACE THIS TEXT WITH YOUR ANSWER"
   ]
  },
  {
   "cell_type": "markdown",
   "metadata": {},
   "source": [
    "---\n",
    "\n",
    "In trying to understand the topics a little better, Hiro found 9 simple reviews that are easy for him to understand:\n",
    "\n",
    "```\n",
    "'old dirty carpet bathroom door wouldn t stay open'\n",
    "'they could consider putting mats down in the showers as my partner and i both nearly slipped'\n",
    "'i paid for deluxe rather than standard however when we arrived the room and bed was very small we asked to pay to upgrade to a larger room and were told all the room sizes are the same'\n",
    "'huge queues for breakfast'\n",
    "'25 mins later with noservice in sight we left disgusted'\n",
    "'there were an abundance or staff who obviously had better things to do let down the hotel and upset us'\n",
    "'we ate at the hotel bar where food was nice but prices not so reasonable'\n",
    "'it was quite expensive in the sky lounge bar but again it is something you would expect from a 4 star hotel'\n",
    "'complimentary water in the room would ve been nice'\n",
    "```\n",
    "\n",
    "After converting these reviews into vectors (using the same vectorizer that was fit to training data) and then using LDA's `transform` functionality, Hiro gets the following output:\n",
    "\n",
    "```\n",
    "[[0.05927271, 0.059097  , 0.88163029],\n",
    " [0.07704245, 0.08125536, 0.84170219],\n",
    " [0.05029396, 0.05100571, 0.89870033],\n",
    " [0.08967747, 0.82142778, 0.08889475],\n",
    " [0.0770966 , 0.84584912, 0.07705428],\n",
    " [0.06912285, 0.86148806, 0.06938909],\n",
    " [0.86469712, 0.06761666, 0.06768623],\n",
    " [0.87579453, 0.06350525, 0.06070023],\n",
    " [0.85240959, 0.07338239, 0.07420802]]\n",
    "```\n",
    "\n",
    "**(b) [5 points]** Hiro doesn't understand how to interpret the above 9-by-3 table of numbers that he got from LDA's `transform` function. He wants your help and, to make it simple, he wants you to explain to him how to interpret just the very last line `[0.85240959, 0.07338239, 0.07420802]`. Which review are these three numbers for, and what do the three numbers mean?"
   ]
  },
  {
   "cell_type": "markdown",
   "metadata": {},
   "source": [
    "**Your answer, and a brief explanation of your answer (a correct answer without an explanation will not receive full credit; if your answer includes code, you will receive 0 credit for this part):** REPLACE THIS TEXT WITH YOUR ANSWER"
   ]
  },
  {
   "cell_type": "markdown",
   "metadata": {},
   "source": [
    "**(c) [5 points]** Given the 9-by-3 table of numbers above, as well as the top words shown above, how would you interpret the topics?"
   ]
  },
  {
   "cell_type": "markdown",
   "metadata": {},
   "source": [
    "**Your answer, and a brief explanation of your answer (a correct answer without an explanation will not receive full credit; if your answer includes code, you will receive 0 credit for this part):** REPLACE THIS TEXT WITH YOUR ANSWER"
   ]
  },
  {
   "cell_type": "markdown",
   "metadata": {},
   "source": [
    "**(d) [5 points]** Give an example of one way the hotel can address the negative feedback it is getting. *If your answer does not actually account for the negative reviews that Hiro is analyzing with LDA, then your answer will receive 0 credit. For example, saying that the hotel should add a 3-star Michelin restaurant would obviously improve the hotel but this is not something that the negative feedback mentions so it would receive 0 credit.*"
   ]
  },
  {
   "cell_type": "markdown",
   "metadata": {},
   "source": [
    "**Your answer, and a brief explanation of your answer (a correct answer without an explanation will not receive full credit; if your answer includes code, you will receive 0 credit for this part):** REPLACE THIS TEXT WITH YOUR ANSWER"
   ]
  },
  {
   "cell_type": "markdown",
   "metadata": {},
   "source": [
    "## Problem 2: Convolutional and recurrent neural net concepts (no coding) [35 points]"
   ]
  },
  {
   "cell_type": "markdown",
   "metadata": {},
   "source": [
    "Suppose that the function `f` corresponds to a sequential neural net that takes as input an image of shape `(3, d, d)`, where 3 means that the image has 3 channels, and where `d` is a variable that corresponds to both the height and width of the image. The neural net `f` consists of 5 layers:\n",
    "\n",
    "1. A conv2d layer with `k` kernels each of size `m`-by-`m`\n",
    "2. A ReLU activation layer\n",
    "3. Another conv2d layer with `k` kernels each of size `m`-by-`m`\n",
    "4. A ReLU activation layer\n",
    "5. A flatten layer\n",
    "\n",
    "As a reminder, when we say that the neural net is \"sequential\" in this case, we do *not* mean that the input data point is a time series. Instead, we mean that the neural net consists of a sequence of layers: the input data point goes into the first layer, the output of the first layer is treated as the input to the second layer, the output of the second layer is treated as the input to the third layer, etc. The final output is the output of the last layer."
   ]
  },
  {
   "cell_type": "markdown",
   "metadata": {},
   "source": [
    "**(a) [8 points]** The output of `f` is a 1D table. How many entries are in this 1D table in terms of `d`, `k`, and `m`? Please be sure to explain how you got your answer (a correct answer without an explanation will not receive full credit).\n",
    "\n",
    "**Warning: If you plug in specific numerical values for `d`, `k`, and `m`, you will not receive any credit. We want you to actually explain your answer in terms of these variables without plugging in specific values for them.**"
   ]
  },
  {
   "cell_type": "markdown",
   "metadata": {},
   "source": [
    "**Your answer for the number of entries in the output of `f`:** REPLACE THIS TEXT WITH YOUR ANSWER\n",
    "\n",
    "**Your explanation of how you got your answer:** REPLACE THIS TEXT WITH YOUR ANSWER"
   ]
  },
  {
   "cell_type": "markdown",
   "metadata": {},
   "source": [
    "**(b) [8 points]** How many parameters does the neural net `f` have in terms of `d`, `k`, and `m`? Please be sure to explain how you got your answer (a correct answer without an explanation will not receive full credit).\n",
    "\n",
    "**Warning: If you plug in specific numerical values for `d`, `k`, and `m`, you will not receive any credit. We want you to actually explain your answer in terms of these variables without plugging in specific values for them.**"
   ]
  },
  {
   "cell_type": "markdown",
   "metadata": {},
   "source": [
    "**Your answer for the number of parameters of `f`**: REPLACE THIS TEXT WITH YOUR ANSWER\n",
    "\n",
    "**Your explanation of how you got your answer:** REPLACE THIS TEXT WITH YOUR ANSWER"
   ]
  },
  {
   "cell_type": "markdown",
   "metadata": {},
   "source": [
    "---\n",
    "\n",
    "The rest of this problem (parts (c), (d), and (e)) will use the above neural net `f` within a larger overall neural net.\n",
    "\n",
    "We now suppose that we have a video with `t` time steps, and each frame of the video has shape `(3, d, d)`. Thought of another way, the video is stored as a 4D table of shape `(t, 3, d, d)`, where `t` is the number of time steps, the number of channels is 3, and `d` is the height and width of each frame/image in the video.\n",
    "\n",
    "For each time step of the video, we first feed the time step's image into the neural net `f` described above. Then we have a vanilla ReLU RNN (with number of output nodes equal to 5) keep track of how the outputs of `f` evolve over time. The final output of the RNN is then fed as input to a linear layer with 2 nodes and softmax activation. A diagram is shown below in **Figure 1** (in case the figure isn't showing up for you, we have also included it as the file `mystery_5316.png`)."
   ]
  },
  {
   "attachments": {
    "mystery_5316.png": {
     "image/png": "[encoded data removed]"
    }
   },
   "cell_type": "markdown",
   "metadata": {},
   "source": [
    "![mystery_5316.png](attachment:mystery_5316.png)"
   ]
  },
  {
   "cell_type": "markdown",
   "metadata": {},
   "source": [
    "**(c) [13 points]** How many parameters does this overall neural net have in terms of `d`, `k`, and `m`? (Hint: Keep in mind that we apply the *same* neural net `f` to each frame/image in the video. Moreover, the vanilla ReLU RNN uses the exact same weight matrices and bias vector across all time steps.) Please be sure to explain how you got your answer (a correct answer without an explanation will not receive full credit)."
   ]
  },
  {
   "cell_type": "markdown",
   "metadata": {},
   "source": [
    "**Your answer here for the number of total parameters:** REPLACE THIS TEXT WITH YOUR ANSWER\n",
    "\n",
    "**Your explanation of how you got your answer:** REPLACE THIS TEXT WITH YOUR ANSWER"
   ]
  },
  {
   "cell_type": "markdown",
   "metadata": {},
   "source": [
    "**(d) [3 points]** True or false: for the overall neural net shown in **Figure 1**, we can train this neural net using videos with different numbers of total time steps and for which every frame/image has the shape `(3, d, d)`."
   ]
  },
  {
   "cell_type": "markdown",
   "metadata": {},
   "source": [
    "**Your answer, and a brief explanation of your answer (a correct answer without an explanation will not receive full credit):** REPLACE THIS TEXT WITH YOUR ANSWER"
   ]
  },
  {
   "cell_type": "markdown",
   "metadata": {},
   "source": [
    "**(e) [3 points]** True or false: for the overall neural net shown in **Figure 1**, we can train this neural net using videos that have the exact same number of time steps total, but that have different image heights and widths."
   ]
  },
  {
   "cell_type": "markdown",
   "metadata": {},
   "source": [
    "**Your answer, and a brief explanation of your answer (a correct answer without an explanation will not receive full credit):** REPLACE THIS TEXT WITH YOUR ANSWER"
   ]
  },
  {
   "cell_type": "markdown",
   "metadata": {},
   "source": [
    "## Problem 3: Predicting hotel ratings (coding) [45 points]\n",
    "\n",
    "In this problem, we will analyze some data from a popular hotel booking website, where we aim to come up with a prediction model for a review's overall impression (positive or negative) of hotel.\n",
    "\n",
    "Note that we have already constructed a proper training dataset that consists of positive reviews (text) in `pos_reviews_proper_train`, and negative reviews (text) in `neg_reviews_proper_train`, and labels (`1` and `0`) in `impressions_proper_train`, and a validation dataset in the same manner (`pos_reviews_val`, `neg_reviews_val`, and `impressions_val`). Label `1` corresponds to \"positive\", whereas `0` corresponds to \"negative\".\n",
    "\n",
    "**Let's begin by importing packages and loading in the data. Across all of Problem 3, do not import any other packages. In particular, to receive full credit for the different parts/subparts of this problem, please only use the packages imported in the next cell.**"
   ]
  },
  {
   "cell_type": "code",
   "execution_count": null,
   "metadata": {},
   "outputs": [],
   "source": [
    "# DO NOT MODIFY THIS CELL\n",
    "%matplotlib inline\n",
    "import numpy as np\n",
    "import matplotlib.pyplot as plt\n",
    "from joblib import load\n",
    "from sklearn.feature_extraction.text import TfidfVectorizer\n",
    "from sklearn.ensemble import RandomForestClassifier\n",
    "\n",
    "# load data\n",
    "def load_mystery_data(pos_reviews_filename, neg_reviews_filename, impressions_filename):\n",
    "    with open(pos_reviews_filename, 'r') as f:\n",
    "        positive_reviews = [line.strip() for line in f.readlines()]\n",
    "        positive_reviews = [x if x != 'no positive' else '' for x in positive_reviews]\n",
    "    with open(neg_reviews_filename, 'r') as f:\n",
    "        negative_reviews = [line.strip() for line in f.readlines()]\n",
    "        negative_reviews = [x if x != 'no negative' else '' for x in negative_reviews]\n",
    "    with open(impressions_filename, 'r') as f:\n",
    "        impressions = np.array([1*(line.strip() == 'pos') for line in f.readlines()])\n",
    "    return positive_reviews, negative_reviews, impressions\n",
    "\n",
    "pos_reviews_proper_train, neg_reviews_proper_train, impressions_proper_train = \\\n",
    "    load_mystery_data('mystery_10736a.txt', 'mystery_10736b.txt', 'mystery_10736c.txt')\n",
    "pos_reviews_val, neg_reviews_val, impressions_val = \\\n",
    "    load_mystery_data('mystery_10736d.txt', 'mystery_10736e.txt', 'mystery_10736f.txt')\n",
    "\n",
    "# load mystery models (for part (b); not needed for part (a))\n",
    "models = {10: load('mystery_31093a.joblib'),\n",
    "          20: load('mystery_31093b.joblib'),\n",
    "          40: load('mystery_31093c.joblib')}"
   ]
  },
  {
   "cell_type": "markdown",
   "metadata": {},
   "source": [
    "**Let's check out the training data!**"
   ]
  },
  {
   "cell_type": "code",
   "execution_count": null,
   "metadata": {},
   "outputs": [],
   "source": [
    "# DO NOT MODIFY THIS CELL\n",
    "print(\"0-th data point's positive review:\", pos_reviews_proper_train[0], \"\\n\")\n",
    "print(\"0-th data point's negative review:\", neg_reviews_proper_train[0], \"\\n\")\n",
    "print(\"0-th data point's overall impression (1 = positive, 0 = negative):\", impressions_proper_train[0], \"\\n\")"
   ]
  },
  {
   "cell_type": "markdown",
   "metadata": {},
   "source": [
    "**(a) [15 points across subparts]** In this part of the problem, we construct a feature vector for each data point. To do this, we actually have part of the feature vector be based on the positive review for the data point, and the rest of the feature vector based on the negative review for the data point.\n",
    "\n",
    "**Subpart i [5 points].** Construct a TF-IDF vectorizer for the positive reviews, and a *separate* TF-IDF vectorizer for the negative reviews; for both of these TF-IDF vectorizers, use the settings `min_df=5, max_df=0.8, stop_words='english', max_features=200` (do not set any other parameters). Fit these vectorizers to the proper training positive reviews, and proper training negative reviews, respectively. Use the vectorizer for the positive reviews to transform the proper training positive reviews into TF-IDF feature vectors (store these vectors in the variable `pos_reviews_proper_train_tfidf_scores`). Similarly, use the vectorizer for the negative reviews to transform the proper training negative reviews into TF-IDF vectors (store these vectors in the variable `neg_reviews_proper_train_tfidf_scores`).\n",
    "\n",
    "**Hint:** `pos_reviews_proper_train_tfidf_vectors` and `neg_reviews_proper_train_tfidf_scores` should each have shape `(19200, 200)`, and you need to convert them to dense matrices using the function of `.toarray()`."
   ]
  },
  {
   "cell_type": "code",
   "execution_count": null,
   "metadata": {},
   "outputs": [],
   "source": [
    "# WRITE YOUR CODE HERE (you should use the same variable names as\n",
    "# the ones we specify below; the temporary values that we have\n",
    "# assigned to them are incorrect and for you to replace with\n",
    "# correct values)\n",
    "pos_review_vectorizer = None\n",
    "neg_review_vectorizer = None\n",
    "pos_reviews_proper_train_tfidf_vectors = np.zeros((19200, 200))\n",
    "neg_reviews_proper_train_tfidf_vectors = np.zeros((19200, 200)) "
   ]
  },
  {
   "cell_type": "markdown",
   "metadata": {},
   "source": [
    "**Subpart ii [5 points].** Create the proper training feature vectors by combining the positive and negative TF-IDF vectors, such that the i-th proper training data point's feature vector has 400 numbers, with the first 200 numbers from the TF-IDF representation of the i-th data point's positive review, and the last 200 numbers from the TF-IDF representation of the i-th data point's negative review. Store the resulting feature vectors in the variable `X_proper_train`.\n",
    "\n",
    "*Note:* `X_proper_train` should have shape `(19200, 400)`."
   ]
  },
  {
   "cell_type": "code",
   "execution_count": null,
   "metadata": {},
   "outputs": [],
   "source": [
    "# WRITE YOUR CODE HERE (you should use the same variable name as\n",
    "# the one we specify below; the temporary value that we have\n",
    "# assigned to it is incorrect and for you to replace with a\n",
    "# correct value)\n",
    "X_proper_train = np.zeros((19200, 400))"
   ]
  },
  {
   "cell_type": "markdown",
   "metadata": {},
   "source": [
    "**Subpart iii [5 points].** Repeat **subpart i** and **subpart ii** for validation set. Store the validation feature vactors in `X_val`. Make sure that you do *not* fit new vectorizers; you should be using the vectorizers you already fitted in **subpart i** to transform the validation positive/negative reviews. \n",
    "\n",
    "*Note:* while we have 19200 reviews in the training dataset, we only have 4800 reviews in the validation dataset."
   ]
  },
  {
   "cell_type": "code",
   "execution_count": null,
   "metadata": {},
   "outputs": [],
   "source": [
    "# WRITE YOUR CODE HERE (you should use the same variable names as\n",
    "# the ones we specify below; the temporary values that we have\n",
    "# assigned to them are incorrect and for you to replace with\n",
    "# correct values)\n",
    "pos_reviews_val_tfidf_vectors = np.zeros((4800, 200))\n",
    "neg_reviews_val_tfidf_vectors = np.zeros((4800, 200))\n",
    "X_val = np.zeros((4800, 400))"
   ]
  },
  {
   "cell_type": "markdown",
   "metadata": {},
   "source": [
    "**(b) [20 points across subparts]** We now try a random forest classifier with different hyperparameter settings with the goal of selecting the best hyperparameter setting to use based on the validation data. We have already specified the hyperparameter settings that we would like you to try in the next cell. **We have also already trained the random forest models for you to save on computation time; each model is trained on the proper training set.**"
   ]
  },
  {
   "cell_type": "code",
   "execution_count": null,
   "metadata": {},
   "outputs": [],
   "source": [
    "# DO NOT MODIFY THIS CELL\n",
    "hyperparameter_settings = [(max_features, prob_threshold)\n",
    "                           for max_features in [10, 20, 40]\n",
    "                           for prob_threshold in [0.05, 0.1 , 0.15, 0.2 , 0.25, 0.3 , 0.35, 0.4 , 0.45,\n",
    "                                                  0.5, 0.55, 0.6 , 0.65, 0.7 , 0.75, 0.8 , 0.85, 0.9 , 0.95]]"
   ]
  },
  {
   "cell_type": "markdown",
   "metadata": {},
   "source": [
    "**Subpart i [5 points].** Write code that, for each hyperparameter setting above, uses a pre-trained random forest model to compute the true positive rate (TPR) and false positive rate (FPR) on the *validation* data (which you computed in **(a)-subpart iii**). Store the results in the variables `TPR_list` and `FPR_list` so that `hyperparameter_settings[i]` has a validation set TPR and FPR given by `TPR_list[i]` and `FPR_list[i]`, respectively.\n",
    "\n",
    "Our pre-trained scikit-learn `RandomForestClassifier` instances are stored in `models`, which is a Python dictionary where the keys are the three different `max_features` values (10, 20, 40); note that we do *not* need any additional models for the different probability thresholds.\n",
    "\n",
    "*Hint:* Please read the code we have provided for you carefully so that you better understand what we are asking you to code up. We are asking you to compute predicted labels for the validation set using a pre-trained random forest classifier and a given probability threshold. The TPR/FPR calculation code is already provided for you."
   ]
  },
  {
   "cell_type": "code",
   "execution_count": null,
   "metadata": {},
   "outputs": [],
   "source": [
    "TPR_list = []  # DO NOT MODIFY THIS LINE\n",
    "FPR_list = []  # DO NOT MODIFY THIS LINE\n",
    "\n",
    "for max_features, prob_threshold in hyperparameter_settings:  # DO NOT MODIFY THIS LINE\n",
    "    \n",
    "    model = models[max_features]  # DO NOT MODIFY THIS LINE\n",
    "    # `model` contains a RandomForestClassifier instance that has\n",
    "    # already been fitted to proper training data (do not fit it again);\n",
    "    # note that the model does not depend on `prob_threshold`\n",
    "    \n",
    "    \n",
    "    # ------------------------------------------------------------------\n",
    "    # YOUR CODE HERE TO COMPUTE PREDICTIONS ON THE VALIDATION SET USING\n",
    "    # `model`, `prob_threshold`, and `X_val`; REMINDER: DO NOT IMPORT ANY\n",
    "    # ADDITIONAL PACKAGES/FUNCTIONS TO SOLVE THIS PART\n",
    "    #\n",
    "    \n",
    "    # here we are asking you to compute the 1D numpy table\n",
    "    # `pred_val_impressions` so that the i-th entry yields the predicted\n",
    "    # impression (1 for positive and 0 for negative) according to\n",
    "    # `model` and using probability threshold `prob_threshold` (i.e., if\n",
    "    # at least `prob_threshold` fraction of the trees say that the i-th\n",
    "    # validation feature vector `X_val[i]` is positive, then\n",
    "    # `pred_val_impressions[i] = 1`; otherwise, `pred_val_impressions[i] = 0`\n",
    "    \n",
    "    pred_val_impressions = np.zeros(4800)  # replace this with correct predictions\n",
    "    \n",
    "    # ------------------------------------------------------------------\n",
    "    \n",
    "    \n",
    "    # DO NOT MODIFY THE CODE BELOW THAT CALCULATES TPR/FPR\n",
    "    true_pos_mask = impressions_val == 1  # mask specifying validation labels that are positive\n",
    "    true_neg_mask = impressions_val == 0  # mask specifying validation labels that are negative\n",
    "    TPR_list.append(np.mean(pred_val_impressions[true_pos_mask]))\n",
    "    FPR_list.append(np.mean(pred_val_impressions[true_neg_mask]))"
   ]
  },
  {
   "cell_type": "markdown",
   "metadata": {},
   "source": [
    "**Subpart ii [5 points].** Use a scatter plot to plot the validation set TPR vs FPR for the different hyperparameter settings we asked you to try."
   ]
  },
  {
   "cell_type": "code",
   "execution_count": null,
   "metadata": {},
   "outputs": [],
   "source": [
    "# YOUR CODE HERE"
   ]
  },
  {
   "cell_type": "markdown",
   "metadata": {},
   "source": [
    "**Subpart iii [10 points].** What hyperparameter setting yields a validation set TPR that is as high as possible while achieving a validation set FPR that is at most 0.4?"
   ]
  },
  {
   "cell_type": "markdown",
   "metadata": {},
   "source": [
    "**Your answer here (you should justify your answer with the help of code; you can write whatever code you think can help you answer the question in the cell below):** REPLACE THIS TEXT WITH YOUR ANSWER"
   ]
  },
  {
   "cell_type": "code",
   "execution_count": null,
   "metadata": {},
   "outputs": [],
   "source": [
    "# YOUR CODE HERE"
   ]
  },
  {
   "cell_type": "markdown",
   "metadata": {},
   "source": [
    "**(c) [10 points]** Finally, we load in the test data and predict on the test data. For simplicity, here, do *not* fit a new random forest model on the entire training set; instead, we will still just use a model fitted to the *proper* training dataset (that we have pre-computed for you in `models`; for example, if you want to use the random forest model corresponding to setting `max_features=10`, then use `models[10]`)."
   ]
  },
  {
   "cell_type": "code",
   "execution_count": null,
   "metadata": {},
   "outputs": [],
   "source": [
    "# DO NOT MODIFY THIS CELL\n",
    "pos_reviews_test, neg_reviews_test, impressions_test = \\\n",
    "    load_mystery_data('mystery_10736g.txt', 'mystery_10736h.txt', 'mystery_10736i.txt')"
   ]
  },
  {
   "cell_type": "markdown",
   "metadata": {},
   "source": [
    "Compute the test set TPR and FPR using the hyperparameter you obtained in **(b)-subpart iii**; if you did not manage to answer **(b)-subpart iii** then use `max_features` equal to 10 and `prob_threshold` equal to 0.5. Store the test set TPR and FPR in the variables `test_TPR` and `test_FPR` respectively.\n",
    "\n",
    "If you answered **(b)-subpart iii** correctly, you should find that the test set TPR and FPR in this case are somewhat close to the validation set TPR and FPR achieved by the hyperparameter that you found."
   ]
  },
  {
   "cell_type": "code",
   "execution_count": null,
   "metadata": {},
   "outputs": [],
   "source": [
    "# YOUR CODE HERE\n",
    "test_TPR = None\n",
    "test_FPR = None\n",
    "print(test_TPR, test_FPR)"
   ]
  },
  {
   "cell_type": "markdown",
   "metadata": {},
   "source": [
    "**As a friendly reminder:** Please remember to write your name and Andrew ID at the top of this notebook; we will only grade quizzes with these filled out. Thanks."
   ]
  }
 ],
 "metadata": {
  "kernelspec": {
   "display_name": "Python 3",
   "language": "python",
   "name": "python3"
  },
  "language_info": {
   "codemirror_mode": {
    "name": "ipython",
    "version": 3
   },
   "file_extension": ".py",
   "mimetype": "text/x-python",
   "name": "python",
   "nbconvert_exporter": "python",
   "pygments_lexer": "ipython3",
   "version": "3.7.6"
  }
 },
 "nbformat": 4,
 "nbformat_minor": 4
}
