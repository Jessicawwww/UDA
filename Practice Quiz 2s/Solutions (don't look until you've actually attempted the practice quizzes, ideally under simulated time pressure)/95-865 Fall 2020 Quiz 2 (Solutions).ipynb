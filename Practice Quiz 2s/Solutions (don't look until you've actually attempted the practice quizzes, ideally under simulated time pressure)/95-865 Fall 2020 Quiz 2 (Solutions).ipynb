{
 "cells": [
  {
   "cell_type": "markdown",
   "metadata": {},
   "source": [
    "## 95-865 Fall 2020 Quiz 2"
   ]
  },
  {
   "cell_type": "markdown",
   "metadata": {},
   "source": [
    "**Your name:** Solutions!\n",
    "\n",
    "**Your Andrew ID:** I don't have an Andrew ID :("
   ]
  },
  {
   "cell_type": "markdown",
   "metadata": {},
   "source": [
    "### Q1. Conceptual Questions (No coding)"
   ]
  },
  {
   "cell_type": "markdown",
   "metadata": {},
   "source": [
    "A video streaming company Hooloo wants to understand which users are likely to subscribe\n",
    "to its monthly subscription service. They hire you to analyze their data. Hooloo specifically is\n",
    "interested in understanding how users' preferences in different genres are associated with\n",
    "whether they end up subscribing after an initial trial period (in which users watch whatever they\n",
    "want on the streaming service for free for up to 7 days).\n",
    "\n",
    "To tackle this problem, you decide to use topic modeling combined with classification. The idea\n",
    "is that users can be represented as being partly interested in different genres (which are the\n",
    "topics). For the purposes of this problem, assume that an LDA topic model has already been\n",
    "learned for 5 topics and that the topics are interpretable: it turns out that:\n",
    "\n",
    "topic 0 corresponds to\"action\", \n",
    "topic 1 to \"comedy\", \n",
    "topic 2 to \"drama\", \n",
    "topic 3 to \"romance\", \n",
    "and topic 4 to \"science fiction\".\n",
    "\n",
    "For example, a user with 20% interest in \"action\", 5% interest in \"comedy\", 35% interest in\n",
    "\"romance\", and 40% interest in \"science fiction\" could be represented as the \"LDA-transformed\"\n",
    "feature vector [0.2, 0.05, 0.0, 0.35, 0.4] .\n",
    "\n",
    "For an arbitrary user, we denote the user's LDA-transformed feature vector representation by\n",
    "the variable z , which is a 1D numpy array of numbers of length 5 (since there are 5 topics). To\n",
    "make a prediction for whether the user corresponding to z will subscribe to the Hooloo\n",
    "subscription service, we further assume that we feed z as input to a logistic regression\n",
    "predictor, i.e., a linear layer with 2 nodes and softmax activation. Suppose that this already-\n",
    "trained linear layer has the 5-by-2 weight matrix given by\n",
    "\n",
    "$$\n",
    "\\begin{bmatrix}\n",
    "1/2 & 0 \\\\\n",
    "0 & 1/2 \\\\\n",
    "0 & 1/2 \\\\\n",
    "1/2 & 0 \\\\\n",
    "0 & 0\n",
    "\\end{bmatrix},\n",
    "$$\n",
    "\n",
    "and bias vector [-1/2, 1/2]. Note that here, output node 0 corresponds to \"will subscribe\" and\n",
    "output node 1 corresponds to \"will not subscribe\". Also, for the weight matrix, the rows\n",
    "correspond to topics 0, 1, 2, 3, and 4. The weight matrix and bias vector at this point are treated\n",
    "as fixed---we are not updating the values in them."
   ]
  },
  {
   "cell_type": "markdown",
   "metadata": {},
   "source": [
    "**(a) [5 points]** Hooloo wants to ensure that among users predicted to be likely to subscribe, that\n",
    "as many of these users are actually going to subscribe. Which metric do they care about?"
   ]
  },
  {
   "cell_type": "markdown",
   "metadata": {},
   "source": [
    "- True positive rate\n",
    "- False positive rate\n",
    "- Precision\n",
    "- F1 score"
   ]
  },
  {
   "cell_type": "markdown",
   "metadata": {},
   "source": [
    "**Your answer here (for this part, we are explicitly not asking you to explain your answer and will only be giving full credit for a correct answer or 0 for an incorrect answer):** Precision"
   ]
  },
  {
   "cell_type": "markdown",
   "metadata": {},
   "source": [
    "**(b) [5 points]** True or false: if we add up the values in z , we get 1."
   ]
  },
  {
   "cell_type": "markdown",
   "metadata": {},
   "source": [
    "- True\n",
    "- False"
   ]
  },
  {
   "cell_type": "markdown",
   "metadata": {},
   "source": [
    "**Your answer here (for this part, we are explicitly not asking you to explain your answer and will only be giving full credit for a correct answer or 0 for an incorrect answer):** True"
   ]
  },
  {
   "cell_type": "markdown",
   "metadata": {},
   "source": [
    "**(c) [5 points]** According to the already trained logistic regression model, which two genres\n",
    "being present are associated with a user being more likely to subscribe?"
   ]
  },
  {
   "cell_type": "markdown",
   "metadata": {},
   "source": [
    "- action\n",
    "- comedy\n",
    "- drama\n",
    "- romance\n",
    "- science fiction"
   ]
  },
  {
   "cell_type": "markdown",
   "metadata": {},
   "source": [
    "**Your answer here (for this part, we are explicitly not asking you to explain your answer and will only be giving full credit for a correct answer or 0 for an incorrect answer):** action, romance"
   ]
  },
  {
   "cell_type": "markdown",
   "metadata": {},
   "source": [
    "**(d) [5 points]** Does the \"science ﬁction\" topic aﬀect the prediction of the already trained logistic\n",
    "regression model?\n",
    "- Yes\n",
    "- No\n",
    "\n",
    "**Your answer here:** No\n",
    "\n",
    "**Briefly justify your answer (for this part, a correct answer without an explanation will not receive full credit):** The weights for \"science ﬁction\" are both 0 for \"will subscribe\" and \"will not subscribe\" (last row of the given 5-by-2 table). Thus, information about a user's interest in science ﬁction will be disregarded by the logistic regression classifier. Instead, the classifier will be looking at the user's interest in action/romance (predictive of a user more likely subscribing) vs comedy/drama (predictive of a user less likely subscribing)."
   ]
  },
  {
   "cell_type": "markdown",
   "metadata": {},
   "source": [
    "**(e) [5 points]** By feeding `z` into the already trained logistic regression model, what is the output\n",
    "before the softmax activation? Note that this output has 2 values (1 per node). For each value,\n",
    "please write the value in terms of the variable `z` . For example, if you think output node 0 has a\n",
    "value given by the 0-th entry of `z` added to the log of the 4-th entry of `z` , then you would write\n",
    "`z[0] + log(z[4])`."
   ]
  },
  {
   "cell_type": "markdown",
   "metadata": {},
   "source": [
    "**Output node 0 (\"will subscribe\") value before softmax (just the ﬁnal answer; we ask for an\n",
    "explanation later):** `1/2 * z[0] + 1/2 * z[3] - 1/2`"
   ]
  },
  {
   "cell_type": "markdown",
   "metadata": {},
   "source": [
    "**Output node 1 (\"will subscribe\") value before softmax (just the ﬁnal answer; we ask for an\n",
    "explanation later):** `1/2 * z[1] + 1/2 * z[2] + 1/2`"
   ]
  },
  {
   "cell_type": "markdown",
   "metadata": {},
   "source": [
    "**Brieﬂy explain how you got your answers above (correct answers above without correct explanations will not receive full credit):**\n",
    "    \n",
    "- Output node 0:  We take the inner product of `z` with column 0 of the weight matrix, and then\n",
    "add entry 0 of the bias vector.\n",
    "\n",
    "- Output node 1: We take the inner product of `z` with column 0 of the weight matrix, and then\n",
    "add entry 0 of the bias vector."
   ]
  },
  {
   "cell_type": "markdown",
   "metadata": {},
   "source": [
    "**(f) [5 points]** Continuing oﬀ the previous subpart, by feeding `z` into the already trained logistic\n",
    "regression model, what is the ﬁnal output, i.e., the output after the softmax activation? Just as\n",
    "with **part (e)**, please express your answer in terms of the variable `z` ."
   ]
  },
  {
   "cell_type": "markdown",
   "metadata": {},
   "source": [
    "**Output node 0 (\"will subscribe\") value after softmax (just the ﬁnal answer; we ask for an\n",
    "explanation later):** `exp(1/2 * z[0] + 1/2 * z[3] - 1/2) / [exp(1/2 * z[0] + 1/2 * z[3] - 1/2) + exp(1/2 * z[1] + 1/2 * z[2] + 1/2)]`"
   ]
  },
  {
   "cell_type": "markdown",
   "metadata": {},
   "source": [
    "**Output node 1 (\"will subscribe\") value after softmax (just the ﬁnal answer; we ask for an\n",
    "explanation later):** `exp(1/2 * z[0] + 1/2 * z[3] - 1/2) / [exp(1/2 * z[0] + 1/2 * z[3] - 1/2) + exp(1/2 * z[1] + 1/2 * z[2] + 1/2)]`"
   ]
  },
  {
   "cell_type": "markdown",
   "metadata": {},
   "source": [
    "**Brieﬂy explain how you got your answers above (correct answers above without correct explanations will not receive full credit):** We exponentiate the answers from part (e) and then divide by the sum.\n",
    "After exponentiating:\n",
    "- node 0: `exp(1/2 * z[0] + 1/2 * z[3] - 1/2)`\n",
    "- node 1: `exp(1/2 * z[1] + 1/2 * z[2] + 1/2)`\n",
    "\n",
    "After dividing by the sum:\n",
    "\n",
    "- node 0: `exp(1/2 * z[0] + 1/2 * z[3] - 1/2) / [exp(1/2 * z[0] + 1/2 * z[3] - 1/2) + exp(1/2 * z[1] + 1/2 * z[2] + 1/2)]`\n",
    "- node 1: `exp(1/2 * z[1] + 1/2 * z[2] + 1/2) / [exp(1/2 * z[0] + 1/2 * z[3] - 1/2) + exp(1/2 * z[1] + 1/2 * z[2] + 1/2)]`"
   ]
  },
  {
   "cell_type": "markdown",
   "metadata": {},
   "source": [
    "**(g) [5 points]** True or false: when making a prediction, we do not actually need to compute the\n",
    "softmax activation; we can already ﬁgure out which class has higher probability by only using\n",
    "the linear layer output before the softmax activation. In other words, to ﬁgure out which class\n",
    "has higher probability, we do not actually need to do the calculation in part (f).\n",
    "- True\n",
    "- False\n",
    "\n",
    "**Your answer here:** True\n",
    "\n",
    "**Briefly justify your answer (for this part, a correct answer without an explanation will not receive full credit):** At the time of prediction, note that the model has already been trained. At this point, we do not need the softmax activation to ﬁgure out which class has higher probability. We can just look at which node has the highest value. The softmax transformation does not affect the ranking of node values!\n",
    "\n",
    "Note that in grading the quiz, we accepted an answer of \"False\" when the student explicitly says that during prediction, softmax is not needed to figure out which class has the highest probability **but during training, it actually is needed to compute the cross entropy loss**."
   ]
  },
  {
   "cell_type": "markdown",
   "metadata": {},
   "source": [
    "### Q2. Predicting Alcoholism Using Brain Activity Data (65 Points)\n",
    "\n",
    "Before starting this problem, please be sure to download the dataset:\n",
    "\n",
    "http://www.andrew.cmu.edu/user/georgech/95-865/Fall%202020%20quiz%202%20data.zip\n",
    "\n",
    "In this problem, we look at how brain activity can be used to predict whether a person is an\n",
    "alcoholic or not. Here, brain activity is measured using electroencephalogram (EEG) sensors.\n",
    "For the purposes of this problem, you don't need to know how EEG works. We've computed a\n",
    "preprocessed dataset, where each data point is for one person and consists of a time series of\n",
    "length 256 (there are 256 time steps, where at each time step there is 1 measurement; each ).\n",
    "You can think of a higher value for the time series to mean more brain activity and a smaller\n",
    "value to be less brain activity. For the code in this problem, 1 corresponds to \"alcoholic\"\n",
    "whereas 0 corresponds to \"non-alcoholic\".\n",
    "\n",
    "In your Jupyter notebook answer booklet, be sure to run the next cell ﬁrst."
   ]
  },
  {
   "cell_type": "code",
   "execution_count": 1,
   "metadata": {},
   "outputs": [],
   "source": [
    "# DO NOT MODIFY THIS CELL -- ** BE SURE TO RUN THIS CELL **\n",
    "%matplotlib inline\n",
    "import matplotlib.pyplot as plt\n",
    "import numpy as np\n",
    "from collections import Counter\n",
    "plt.style.use('seaborn')\n",
    "\n",
    "# the next two lines are needed on my Intel-based MacBook Air to get the code to run; you likely don't need t\n",
    "# (in fact I used to not need these two lines)\n",
    "# import os\n",
    "# os.environ['KMP_DUPLICATE_LIB_OK'] = 'True'\n",
    "\n",
    "import torch\n",
    "import torch.nn as nn\n",
    "from torchsummaryX import summary\n",
    "from UDA_pytorch_utils import UDA_LSTMforSequential, UDA_pytorch_classifier_fit, \\\n",
    "UDA_plot_train_val_accuracy_vs_epoch, UDA_pytorch_classifier_predict, \\\n",
    "UDA_compute_accuracy, UDA_pytorch_model_transform\n",
    "from sklearn.ensemble import RandomForestClassifier\n",
    "from sklearn.metrics import auc\n",
    "from sklearn.metrics import plot_confusion_matrix\n",
    "from sklearn.metrics import precision_score\n",
    "from sklearn.metrics import roc_curve"
   ]
  },
  {
   "cell_type": "markdown",
   "metadata": {},
   "source": [
    "**(a) [5 points]** Let's ﬁrst make sure that you can load in the data and plot what one of the EEG\n",
    "time series looks like. Please complete the following tasks:"
   ]
  },
  {
   "cell_type": "markdown",
   "metadata": {},
   "source": [
    "- Load the .txt data with `np.loadtxt(filename)` .\n",
    "- Report the shape of training set features and test set features.\n",
    "- Plot the 0th sample feature in the training set (the x-axis should correspond to the diﬀerent time steps 0, 1, ..., up to 255, and the y-axis should be the brain activity measurement)."
   ]
  },
  {
   "cell_type": "code",
   "execution_count": 2,
   "metadata": {},
   "outputs": [],
   "source": [
    "# DO NOT MODIFY THIS CELL -- ** BE SURE TO RUN THIS CELL **\n",
    "train_features = np.loadtxt('EEG_single_channel_train_features.txt')\n",
    "test_features = np.loadtxt('EEG_single_channel_test_features.txt')\n",
    "train_labels = np.loadtxt('EEG_single_channel_train_labels.txt')\n",
    "test_labels = np.loadtxt('EEG_single_channel_test_labels.txt')"
   ]
  },
  {
   "cell_type": "code",
   "execution_count": 3,
   "metadata": {},
   "outputs": [
    {
     "data": {
      "text/plain": [
       "(200, 256)"
      ]
     },
     "execution_count": 3,
     "metadata": {},
     "output_type": "execute_result"
    }
   ],
   "source": [
    "# DO NOT MODIFY THIS CELL -- ** BE SURE TO RUN THIS CELL **\n",
    "train_features.shape"
   ]
  },
  {
   "cell_type": "code",
   "execution_count": 4,
   "metadata": {},
   "outputs": [
    {
     "data": {
      "text/plain": [
       "(200, 256)"
      ]
     },
     "execution_count": 4,
     "metadata": {},
     "output_type": "execute_result"
    }
   ],
   "source": [
    "# DO NOT MODIFY THIS CELL -- ** BE SURE TO RUN THIS CELL **\n",
    "test_features.shape"
   ]
  },
  {
   "cell_type": "code",
   "execution_count": 5,
   "metadata": {},
   "outputs": [
    {
     "data": {
      "text/plain": [
       "Text(0, 0.5, 'Brain activity measurement')"
      ]
     },
     "execution_count": 5,
     "metadata": {},
     "output_type": "execute_result"
    },
    {
     "data": {
      "image/png": "[encoded data removed]",
      "text/plain": [
       "<Figure size 576x396 with 1 Axes>"
      ]
     },
     "metadata": {},
     "output_type": "display_data"
    }
   ],
   "source": [
    "# ---------------------------------------------------------------\n",
    "# WRITE YOUR CODE HERE (PLOTTING DATA POINT 0 TIME SERIES)\n",
    "#\n",
    "plt.plot(range(train_features.shape[1]), train_features[0])\n",
    "plt.xlabel('Time step')\n",
    "plt.ylabel('Brain activity measurement')"
   ]
  },
  {
   "cell_type": "markdown",
   "metadata": {},
   "source": [
    "**(b) [14 points across subparts]** Let's try doing the prediction with a simple baseline model first. Specifically, let's use a **random forest**, treating each time series as a feature vector (so basically we do not actually take advantage of time series structure).\n",
    "\n",
    "\n",
    "**Subpart i. [3 points]** Fit the model with sklearn's random forest classifier; set `max_features` to 15, `random_state` to 0, and leave all other hyperparameters to their default values."
   ]
  },
  {
   "cell_type": "code",
   "execution_count": 6,
   "metadata": {},
   "outputs": [
    {
     "data": {
      "text/plain": [
       "RandomForestClassifier(max_features=15, random_state=0)"
      ]
     },
     "execution_count": 6,
     "metadata": {},
     "output_type": "execute_result"
    }
   ],
   "source": [
    "# ---------------------------------------------------------------\n",
    "# WRITE YOUR CODE HERE (TRAINING RANDOM FOREST)\n",
    "#\n",
    "rf = RandomForestClassifier(max_features=15, random_state=0)\n",
    "rf.fit(train_features, train_labels)"
   ]
  },
  {
   "cell_type": "markdown",
   "metadata": {},
   "source": [
    "**Subpart ii. [4 points]** Report the training and test accuracy."
   ]
  },
  {
   "cell_type": "code",
   "execution_count": 7,
   "metadata": {},
   "outputs": [
    {
     "name": "stdout",
     "output_type": "stream",
     "text": [
      "Train accuracy: 1.0\n",
      "Test accuracy: 0.655\n"
     ]
    }
   ],
   "source": [
    "# ---------------------------------------------------------------\n",
    "# WRITE YOUR CODE HERE (COMPUTING TRAINING AND TESTING ACCURACY)\n",
    "#\n",
    "rf_predicted_test_labels = rf.predict(test_features)\n",
    "print('Train accuracy:', np.mean(rf.predict(train_features) == train_labels))\n",
    "print('Test accuracy:', np.mean(rf_predicted_test_labels == test_labels))"
   ]
  },
  {
   "cell_type": "markdown",
   "metadata": {},
   "source": [
    "**Subpart iii. [3 points]** Plot the confusion matrix of the test result. "
   ]
  },
  {
   "cell_type": "code",
   "execution_count": 8,
   "metadata": {},
   "outputs": [
    {
     "data": {
      "text/plain": [
       "<sklearn.metrics._plot.confusion_matrix.ConfusionMatrixDisplay at 0x1a2c764f50>"
      ]
     },
     "execution_count": 8,
     "metadata": {},
     "output_type": "execute_result"
    },
    {
     "data": {
      "image/png": "[encoded data removed]",
      "text/plain": [
       "<Figure size 576x396 with 2 Axes>"
      ]
     },
     "metadata": {},
     "output_type": "display_data"
    }
   ],
   "source": [
    "# ---------------------------------------------------------------\n",
    "# WRITE YOUR CODE HERE (PLOTTING THE CONFUSION MATRIX)\n",
    "# (hint: use `plot_confusion_matrix` (already imported for you))\n",
    "#\n",
    "plot_confusion_matrix(rf, test_features, test_labels)"
   ]
  },
  {
   "cell_type": "markdown",
   "metadata": {},
   "source": [
    "**Subpart iv. [4 points]** Plot the ROC curve with calculated AUC on the test result. "
   ]
  },
  {
   "cell_type": "code",
   "execution_count": 9,
   "metadata": {},
   "outputs": [
    {
     "data": {
      "text/plain": [
       "<matplotlib.legend.Legend at 0x1a2d0e2750>"
      ]
     },
     "execution_count": 9,
     "metadata": {},
     "output_type": "execute_result"
    },
    {
     "data": {
      "image/png": "[encoded data removed]",
      "text/plain": [
       "<Figure size 576x396 with 1 Axes>"
      ]
     },
     "metadata": {},
     "output_type": "display_data"
    }
   ],
   "source": [
    "# ---------------------------------------------------------------\n",
    "# WRITE YOUR CODE HERE (ROC CURVE)\n",
    "# (hint: use `auc` and/or `roc_curve` (already imported for you))\n",
    "#\n",
    "FPR, TPR, thresholds = roc_curve(test_labels, rf.predict_proba(test_features)[:, 1])\n",
    "AUC = auc(FPR, TPR)\n",
    "plt.plot(FPR, TPR, label='AUC: %.2f' % AUC)\n",
    "plt.xlabel('False positive rate')\n",
    "plt.ylabel('True positive rate')\n",
    "plt.legend()"
   ]
  },
  {
   "cell_type": "markdown",
   "metadata": {},
   "source": [
    "**(c) [28 points across subparts]** Now we try using a CNN. Specifically, we represent each training point as a 2D grayscale image, where the rows correspond to the time steps, and there is only 1 column.\n",
    "\n",
    "Throughout this part, we use the following sequential CNN architecture:\n",
    "\n",
    "1. A convolution layer with **16 kernels**, each of which is of size **2 rows by 1 column** (please figure out the number of **input** channel(s) by yourself)\n",
    "2. ReLU activation function\n",
    "3. A Maxpooling layer with kernel size **2 rows by 1 column**;\n",
    "4. A convolution layer with **8 kernels**, each of which is of size **5 rows by 1 column** (please figure out the number of **input** channel(s) by yourself)\n",
    "5. ReLU activation function\n",
    "6. A convolution layer with **8 kernels**, each of which is of size **5 rows by 1 column** (please figure out the number of **input** channel(s) by yourself)\n",
    "7. A Maxpooling layer with kernel size **5 rows by 1 column**;\n",
    "8. ReLU activation function\n",
    "9. A Flatten layer\n",
    "10. A Fully Connected layer with **2 output features**\n",
    "11. Softmax activation for classification\n",
    "\n",
    "**Subpart i. [5 points]**  Write code that constructs a PyTorch model implementing the above CNN **and also** reports of a summary table of the CNN with the example input `torch.zeros((200, ?, 256, 1))` (where you have to replace `?` with the  correct number of channels)."
   ]
  },
  {
   "cell_type": "code",
   "execution_count": 10,
   "metadata": {},
   "outputs": [
    {
     "name": "stdout",
     "output_type": "stream",
     "text": [
      "==========================================================\n",
      "        Kernel Shape       Output Shape Params Mult-Adds\n",
      "Layer                                                   \n",
      "0_0    [1, 16, 2, 1]  [200, 16, 255, 1]   48.0     8.16k\n",
      "1_1                -  [200, 16, 255, 1]      -         -\n",
      "2_2                -  [200, 16, 127, 1]      -         -\n",
      "3_3    [16, 8, 5, 1]   [200, 8, 123, 1]  648.0    78.72k\n",
      "4_4                -   [200, 8, 123, 1]      -         -\n",
      "5_5     [8, 8, 5, 1]   [200, 8, 119, 1]  328.0    38.08k\n",
      "6_6                -    [200, 8, 23, 1]      -         -\n",
      "7_7                -    [200, 8, 23, 1]      -         -\n",
      "8_8                -         [200, 184]      -         -\n",
      "9_9         [184, 2]           [200, 2]  370.0     368.0\n",
      "----------------------------------------------------------\n",
      "                        Totals\n",
      "Total params            1.394k\n",
      "Trainable params        1.394k\n",
      "Non-trainable params       0.0\n",
      "Mult-Adds             125.328k\n",
      "==========================================================\n",
      "Epoch 1 [==================================================] 120/120\n",
      "  Train accuracy: 0.6000\n",
      "  Validation accuracy: 0.5875\n",
      "Epoch 2 [==================================================] 120/120\n",
      "  Train accuracy: 0.7167\n",
      "  Validation accuracy: 0.7000\n",
      "Epoch 3 [==================================================] 120/120\n",
      "  Train accuracy: 0.7583\n",
      "  Validation accuracy: 0.7500\n",
      "Epoch 4 [==================================================] 120/120\n",
      "  Train accuracy: 0.7667\n",
      "  Validation accuracy: 0.7375\n",
      "Epoch 5 [==================================================] 120/120\n",
      "  Train accuracy: 0.7667\n",
      "  Validation accuracy: 0.7250\n",
      "Epoch 6 [==================================================] 120/120\n",
      "  Train accuracy: 0.7667\n",
      "  Validation accuracy: 0.7500\n",
      "Epoch 7 [==================================================] 120/120\n",
      "  Train accuracy: 0.7583\n",
      "  Validation accuracy: 0.7250\n",
      "Epoch 8 [==================================================] 120/120\n",
      "  Train accuracy: 0.7667\n",
      "  Validation accuracy: 0.7250\n",
      "Epoch 9 [==================================================] 120/120\n",
      "  Train accuracy: 0.7750\n",
      "  Validation accuracy: 0.7250\n",
      "Epoch 10 [==================================================] 120/120\n",
      "  Train accuracy: 0.8000\n",
      "  Validation accuracy: 0.7375\n",
      "Epoch 11 [==================================================] 120/120\n",
      "  Train accuracy: 0.8167\n",
      "  Validation accuracy: 0.7375\n",
      "Epoch 12 [==================================================] 120/120\n",
      "  Train accuracy: 0.8083\n",
      "  Validation accuracy: 0.7250\n",
      "Epoch 13 [==================================================] 120/120\n",
      "  Train accuracy: 0.8167\n",
      "  Validation accuracy: 0.7125\n",
      "Epoch 14 [==================================================] 120/120\n",
      "  Train accuracy: 0.8167\n",
      "  Validation accuracy: 0.6750\n",
      "Epoch 15 [==================================================] 120/120\n",
      "  Train accuracy: 0.8333\n",
      "  Validation accuracy: 0.7125\n",
      "Epoch 16 [==================================================] 120/120\n",
      "  Train accuracy: 0.8000\n",
      "  Validation accuracy: 0.6875\n",
      "Epoch 17 [==================================================] 120/120\n",
      "  Train accuracy: 0.8333\n",
      "  Validation accuracy: 0.7125\n",
      "Epoch 18 [==================================================] 120/120\n",
      "  Train accuracy: 0.8583\n",
      "  Validation accuracy: 0.6875\n",
      "Epoch 19 [==================================================] 120/120\n",
      "  Train accuracy: 0.8500\n",
      "  Validation accuracy: 0.7250\n",
      "Epoch 20 [==================================================] 120/120\n",
      "  Train accuracy: 0.8417\n",
      "  Validation accuracy: 0.6875\n",
      "Epoch 21 [==================================================] 120/120\n",
      "  Train accuracy: 0.8583\n",
      "  Validation accuracy: 0.7125\n",
      "Epoch 22 [==================================================] 120/120\n",
      "  Train accuracy: 0.8667\n",
      "  Validation accuracy: 0.7500\n",
      "Epoch 23 [==================================================] 120/120\n",
      "  Train accuracy: 0.8583\n",
      "  Validation accuracy: 0.7500\n",
      "Epoch 24 [==================================================] 120/120\n",
      "  Train accuracy: 0.8833\n",
      "  Validation accuracy: 0.6875\n",
      "Epoch 25 [==================================================] 120/120\n",
      "  Train accuracy: 0.8833\n",
      "  Validation accuracy: 0.7000\n",
      "Epoch 26 [==================================================] 120/120\n",
      "  Train accuracy: 0.8667\n",
      "  Validation accuracy: 0.7500\n",
      "Epoch 27 [==================================================] 120/120\n",
      "  Train accuracy: 0.8833\n",
      "  Validation accuracy: 0.7250\n",
      "Epoch 28 [==================================================] 120/120\n",
      "  Train accuracy: 0.8917\n",
      "  Validation accuracy: 0.7250\n",
      "Epoch 29 [==================================================] 120/120\n",
      "  Train accuracy: 0.9000\n",
      "  Validation accuracy: 0.7375\n",
      "Epoch 30 [==================================================] 120/120\n",
      "  Train accuracy: 0.9000\n",
      "  Validation accuracy: 0.7500\n",
      "Epoch 31 [==================================================] 120/120\n",
      "  Train accuracy: 0.9000\n",
      "  Validation accuracy: 0.7625\n",
      "Epoch 32 [==================================================] 120/120\n",
      "  Train accuracy: 0.9000\n",
      "  Validation accuracy: 0.7375\n",
      "Epoch 33 [==================================================] 120/120\n",
      "  Train accuracy: 0.9000\n",
      "  Validation accuracy: 0.7625\n",
      "Epoch 34 [==================================================] 120/120\n",
      "  Train accuracy: 0.9000\n",
      "  Validation accuracy: 0.7625\n",
      "Epoch 35 [==================================================] 120/120\n",
      "  Train accuracy: 0.9000\n",
      "  Validation accuracy: 0.7500\n",
      "Epoch 36 [==================================================] 120/120\n",
      "  Train accuracy: 0.9000\n",
      "  Validation accuracy: 0.7625\n",
      "Epoch 37 [==================================================] 120/120\n",
      "  Train accuracy: 0.9167\n",
      "  Validation accuracy: 0.7500\n",
      "Epoch 38 [==================================================] 120/120\n",
      "  Train accuracy: 0.9250\n",
      "  Validation accuracy: 0.7625\n",
      "Epoch 39 [==================================================] 120/120\n",
      "  Train accuracy: 0.9250\n",
      "  Validation accuracy: 0.7500\n",
      "Epoch 40 [==================================================] 120/120\n",
      "  Train accuracy: 0.9250\n",
      "  Validation accuracy: 0.7375\n",
      "Epoch 41 [==================================================] 120/120\n",
      "  Train accuracy: 0.9333\n",
      "  Validation accuracy: 0.7500\n",
      "Epoch 42 [==================================================] 120/120\n",
      "  Train accuracy: 0.9333\n",
      "  Validation accuracy: 0.7500\n",
      "Epoch 43 [==================================================] 120/120\n",
      "  Train accuracy: 0.9333\n",
      "  Validation accuracy: 0.7500\n",
      "Epoch 44 [==================================================] 120/120\n",
      "  Train accuracy: 0.9333\n",
      "  Validation accuracy: 0.7500\n",
      "Epoch 45 [==================================================] 120/120\n",
      "  Train accuracy: 0.9333\n",
      "  Validation accuracy: 0.7625\n",
      "Epoch 46 [==================================================] 120/120\n",
      "  Train accuracy: 0.9333\n",
      "  Validation accuracy: 0.7625\n",
      "Epoch 47 [==================================================] 120/120\n",
      "  Train accuracy: 0.9417\n",
      "  Validation accuracy: 0.7500\n",
      "Epoch 48 [==================================================] 120/120\n",
      "  Train accuracy: 0.9417\n",
      "  Validation accuracy: 0.7500\n",
      "Epoch 49 [==================================================] 120/120\n",
      "  Train accuracy: 0.9500\n",
      "  Validation accuracy: 0.7625\n",
      "Epoch 50 [==================================================] 120/120\n",
      "  Train accuracy: 0.9500\n",
      "  Validation accuracy: 0.7500\n"
     ]
    },
    {
     "data": {
      "image/png": "[encoded data removed]",
      "text/plain": [
       "<Figure size 576x396 with 1 Axes>"
      ]
     },
     "metadata": {},
     "output_type": "display_data"
    }
   ],
   "source": [
    "# ---------------------------------------------------------------\n",
    "# DO NOT MODIFY THIS TOP BLOCK OF CODE\n",
    "#\n",
    "torch.manual_seed(0) # DO NOT MODIFY\n",
    "np.random.seed(0) # DO NOT MODIFY\n",
    "# ---------------------------------------------------------------\n",
    "\n",
    "\n",
    "# ---------------------------------------------------------------\n",
    "# WRITE YOUR CODE HERE (CONSTRUCT CNN)\n",
    "#\n",
    "convnet = nn.Sequential(nn.Conv2d(1, 16, (2, 1)),\n",
    "    nn.ReLU(),\n",
    "    nn.MaxPool2d((2, 1)),\n",
    "    nn.Conv2d(16, 8, (5, 1)),\n",
    "    nn.ReLU(),\n",
    "    nn.Conv2d(8, 8, (5, 1)),\n",
    "    nn.MaxPool2d((5, 1)),\n",
    "    nn.ReLU(),\n",
    "    nn.Flatten(),\n",
    "    nn.Linear(184, 2))\n",
    "\n",
    "summary(convnet, torch.zeros((200, 1, 256, 1)))\n",
    "\n",
    "\n",
    "\n",
    "# NOTE: later in subpart iv, you will want to copy and paste code here\n",
    "\n",
    "# ---------------------------------------------------------------\n",
    "# DO NOT MODIFY THIS TOP BLOCK OF CODE\n",
    "#\n",
    "num_epochs = 50 # DO NOT MODIFY\n",
    "batch_size = 40 # DO NOT MODIFY\n",
    "proper_train_size = int(0.6 * len(train_labels)) # DO NOT MODIFY\n",
    "val_size = len(train_labels) - proper_train_size # DO NOT MODIFY\n",
    "# ---------------------------------------------------------------\n",
    "\n",
    "\n",
    "# ---------------------------------------------------------------\n",
    "# WRITE YOUR CODE HERE (COMPUTE PROPER TRAINING/VALIDATION SETS,\n",
    "# SET LEARNING RATE)\n",
    "#\n",
    "train_features_torch = torch.tensor(train_features.reshape((-1,1, 256, 1)),\n",
    "dtype=torch.float)\n",
    "train_labels_torch = torch.tensor(train_labels,\n",
    "dtype=torch.long)\n",
    "proper_train_dataset, val_dataset = torch.utils.data.random_split(list(zip(train_features_torch,\n",
    "                                                                           train_labels_torch)),\n",
    "                                                                  [proper_train_size,val_size])\n",
    "learning_rate = 1e-3\n",
    "# ---------------------------------------------------------------\n",
    "\n",
    "\n",
    "# ---------------------------------------------------------------\n",
    "# DO NOT MODIFY THE CODE BELOW\n",
    "#\n",
    "train_accuracies, val_accuracies = UDA_pytorch_classifier_fit(convnet,\n",
    "                                                              torch.optim.Adam(convnet.parameters(),\n",
    "                                                                               lr=learning_rate),#includes softmax\n",
    "                                                              nn.CrossEntropyLoss(), \n",
    "                                                              proper_train_dataset,\n",
    "                                                              val_dataset,\n",
    "                                                              num_epochs, batch_size)\n",
    "UDA_plot_train_val_accuracy_vs_epoch(train_accuracies,val_accuracies)"
   ]
  },
  {
   "cell_type": "markdown",
   "metadata": {},
   "source": [
    "**Subpart ii. [2 points]** Briefly explain why the total number of parameters of the second convolution layer (layer #4 in the CNN architecture description above) is the number shown in the summary.\n",
    "\n",
    "**Your answer here along with an brief justification (for this part, a correct answer without an explanation will not receive full credit):** The second convolution layer has 8 kernels/filters. Each filter is speciﬁed to be 5-by-1 but since the input has 16 channels, PyTorch automatically adds an additional dimension of size 16, so that each filter has shape (16, 5, 1). Finally each filter has its own bias value. In total, each filter has 16 * 5 * 1 + 1 = 81 parameters. There are 8 filters, so there are a total of 81 * 8 = 648 parameters."
   ]
  },
  {
   "cell_type": "markdown",
   "metadata": {},
   "source": [
    "**Subpart iii. [2 points]** Briefly explain why the total number of parameters of the last fully connected layer (layer #10 in the CNN architecture description above) is the number shown in the summary.\n",
    "\n",
    "**Your answer here along with an brief justification (for this part, a correct answer without an explanation will not receive full credit):** The fully connected layer has 184 inputs and 2 outputs. Thus, the weight matrix has shape (184, 2) and the bias vector has length 2. The number of parameters is 184 * 2 + 2 = 370."
   ]
  },
  {
   "cell_type": "markdown",
   "metadata": {},
   "source": [
    "**Subpart iv. [13 points]** We now train the CNN. First, write code to split the training set into a proper training set and a validation set. Then train the CNN with the Adam optimizer using three different learning rates: 1e-1, 1e-3, and 1e-5 (do **not** tune any other hyperparameters aside from the learning rate; for simplicity, do not try other learning rates aside from the three we're asking you to try). **We suggest that you copy and paste this block of code to be in the same Jupyter notebook cell as the code for subpart i for debugging purposes (so that re-running the cell will indeed retrain the model from scratch rather than resuming training from an intermediate model).**"
   ]
  },
  {
   "cell_type": "code",
   "execution_count": 11,
   "metadata": {},
   "outputs": [],
   "source": [
    "# SEE THE CODE AT THE END OF THE SUBPART i BLOCK"
   ]
  },
  {
   "cell_type": "markdown",
   "metadata": {},
   "source": [
    "**Subpart iv. [13 points]** Of the three learning rates we asked you to try (1e-1, 1e-3, 1e-5), which would you choose to use, and why?"
   ]
  },
  {
   "cell_type": "markdown",
   "metadata": {},
   "source": [
    "**Write your answer here (no coding):** Of the 3 learning rates speciﬁed, the validation accuracy plots look terrible for learning rates 1e-1 and 1e-5 (with validation accuracies tapering oﬀ at around 0.5 or lower), whereas the plot looks dramatically more reasonable for 1e-3 (the validation accuracy tapers oﬀ at around 0.75 whereas the training accuracy keeps increasing; this sort of plot is fairly normal for what plots should look like for deep nets)."
   ]
  },
  {
   "cell_type": "markdown",
   "metadata": {},
   "source": [
    "**Subpart v. [3 points]** Using the best learning rate (among the three we asked you to try) that you chose in the previous part, compute the test set raw accuracy."
   ]
  },
  {
   "cell_type": "code",
   "execution_count": 12,
   "metadata": {},
   "outputs": [
    {
     "name": "stdout",
     "output_type": "stream",
     "text": [
      "0.715\n"
     ]
    }
   ],
   "source": [
    "# ---------------------------------------------------------------\n",
    "# WRITE YOUR CODE HERE (TEST SET RAW ACCURACY)\n",
    "#\n",
    "cnn_predicted_test_labels = UDA_pytorch_classifier_predict(convnet,\n",
    "                                                           torch.tensor(test_features.reshape((-1, 1, 256, 1)),\n",
    "                                                                        dtype=torch.float)).cpu().numpy()\n",
    "print(np.mean(cnn_predicted_test_labels == test_labels))"
   ]
  },
  {
   "attachments": {
    "mystery_donkey.png": {
     "image/png": "[encoded data removed]"
    }
   },
   "cell_type": "markdown",
   "metadata": {},
   "source": [
    "**Subpart vi. [3 points]** Interpretation. We separately also trained the same model (remember that on different machines, even if you set a random seed for PyTorch, it is possible to get different answers!). We plot the values of the 16 kernels in the first convolution layer as follows (you do not need to compare to see whether your first convolution layer's kernels have the same values; they will likely not have the same values, which is fine). In our plot below, each row is a kernel/filter with two values. For example, row 0 corresponds to the 0-th filter, which has a value somewhat close to 0 followed by a value somewhat close to 0.4. (In case you are having trouble viewing the image below, we have also included it with the quiz as the file `mystery_donkey.png`.)\n",
    "\n",
    "![mystery_donkey.png](attachment:mystery_donkey.png)"
   ]
  },
  {
   "cell_type": "markdown",
   "metadata": {},
   "source": [
    "Which kernel has two weights with the biggest difference？What kind of time series trend will activate this kernel？\n",
    "**Hint:** think about the edge detection for images.\n",
    "\n",
    "**Your answer here along with an brief justification (for this part, a correct answer without an explanation will not receive full credit):** Filter 13 has the largest contrast in grayscale intensities; we're taking the previous time step with a large weight and subtracting the current time step. This filter outputs a larger number when there's a larger drop in the time series at two consecutive time steps; it's easily an edge detector in time."
   ]
  },
  {
   "cell_type": "markdown",
   "metadata": {},
   "source": [
    "**(d) [13 points across subparts]** Finally, we try using a recurrent neural net with the following layers:\n",
    "\n",
    "1. An LSTM layer with **output size 12**\n",
    "2. ReLU activation function\n",
    "3. A Fully Connected layer with **2 output features** (please figure out the number of **input** feature(s) by yourself)\n",
    "4. Softmax activation for classification\n",
    "\n",
    "**Subpart i. [5 points]** Write code to construct a PyTorch model implementing the recurrent neural net stated above and report the summary table with the input `torch.zeros((200, 19, 1))`."
   ]
  },
  {
   "cell_type": "code",
   "execution_count": 13,
   "metadata": {
    "scrolled": true
   },
   "outputs": [
    {
     "name": "stdout",
     "output_type": "stream",
     "text": [
      "=============================================================\n",
      "               Kernel Shape   Output Shape Params Mult-Adds\n",
      "Layer                                                      \n",
      "0_0.LSTM_model            -  [200, 19, 12]  720.0     624.0\n",
      "1_1                       -      [200, 12]      -         -\n",
      "2_2                 [12, 2]       [200, 2]   26.0      24.0\n",
      "-------------------------------------------------------------\n",
      "                      Totals\n",
      "Total params           746.0\n",
      "Trainable params       746.0\n",
      "Non-trainable params     0.0\n",
      "Mult-Adds              648.0\n",
      "=============================================================\n"
     ]
    },
    {
     "data": {
      "text/html": [
       "<div>\n",
       "<style scoped>\n",
       "    .dataframe tbody tr th:only-of-type {\n",
       "        vertical-align: middle;\n",
       "    }\n",
       "\n",
       "    .dataframe tbody tr th {\n",
       "        vertical-align: top;\n",
       "    }\n",
       "\n",
       "    .dataframe thead th {\n",
       "        text-align: right;\n",
       "    }\n",
       "</style>\n",
       "<table border=\"1\" class=\"dataframe\">\n",
       "  <thead>\n",
       "    <tr style=\"text-align: right;\">\n",
       "      <th></th>\n",
       "      <th>Kernel Shape</th>\n",
       "      <th>Output Shape</th>\n",
       "      <th>Params</th>\n",
       "      <th>Mult-Adds</th>\n",
       "    </tr>\n",
       "    <tr>\n",
       "      <th>Layer</th>\n",
       "      <th></th>\n",
       "      <th></th>\n",
       "      <th></th>\n",
       "      <th></th>\n",
       "    </tr>\n",
       "  </thead>\n",
       "  <tbody>\n",
       "    <tr>\n",
       "      <th>0_0.LSTM_model</th>\n",
       "      <td>-</td>\n",
       "      <td>[200, 19, 12]</td>\n",
       "      <td>720.0</td>\n",
       "      <td>624.0</td>\n",
       "    </tr>\n",
       "    <tr>\n",
       "      <th>1_1</th>\n",
       "      <td>-</td>\n",
       "      <td>[200, 12]</td>\n",
       "      <td>NaN</td>\n",
       "      <td>NaN</td>\n",
       "    </tr>\n",
       "    <tr>\n",
       "      <th>2_2</th>\n",
       "      <td>[12, 2]</td>\n",
       "      <td>[200, 2]</td>\n",
       "      <td>26.0</td>\n",
       "      <td>24.0</td>\n",
       "    </tr>\n",
       "  </tbody>\n",
       "</table>\n",
       "</div>"
      ],
      "text/plain": [
       "               Kernel Shape   Output Shape  Params  Mult-Adds\n",
       "Layer                                                        \n",
       "0_0.LSTM_model            -  [200, 19, 12]   720.0      624.0\n",
       "1_1                       -      [200, 12]     NaN        NaN\n",
       "2_2                 [12, 2]       [200, 2]    26.0       24.0"
      ]
     },
     "execution_count": 13,
     "metadata": {},
     "output_type": "execute_result"
    }
   ],
   "source": [
    "torch.manual_seed(0) # DO NOT MODIFY\n",
    "np.random.seed(0) # DO NOT MODIFY\n",
    "\n",
    "# ---------------------------------------------------------------\n",
    "# WRITE YOUR CODE HERE (CONSTRUCT RNN AND REPORT SUMMARY)\n",
    "#\n",
    "rnn = nn.Sequential(UDA_LSTMforSequential(1, 12),\n",
    "                    nn.ReLU(),\n",
    "                    nn.Linear(12, 2))\n",
    "summary(rnn, torch.zeros((200, 19, 1)))"
   ]
  },
  {
   "cell_type": "markdown",
   "metadata": {},
   "source": [
    "What does the number 19 mean for the example input above?"
   ]
  },
  {
   "cell_type": "markdown",
   "metadata": {},
   "source": [
    "**Your answer here (for this subpart, we are explicitly grading just based on whether your answer is correct or not, so no explanation is needed; you either get full credit or no credit):** The number 19 corresponds to the number of time steps."
   ]
  },
  {
   "cell_type": "markdown",
   "metadata": {},
   "source": [
    "**Subpart ii. [5 points]** Train the RNN using the Adam optimizer with a learning rate of 1e-2, a batch size of 20, and a total of 20 epochs. You don't need to tune the hyperparameters and don't worry about the accuracy of the model (if you find it to be unusually low or high--the point of this problem is **not** for you to be hyperparameter tuning to figure out how to get the RNN to get as high of an accuracy as possible; we just want to see that you can get the RNN to train). **To get training to work, you should only need to fill in the portion below on computing the proper training/validation sets (for simplicity, use the same fraction of data in the proper training set as when you trained the CNN--either use a new random split for what data are selected as proper training data vs validation data, or reuse the indices from when you trained the CNN for what is proper training vs validation). We've already put in code for you that does the model training using learning rate 1e-2, batch size 20, and number of epochs 20.**"
   ]
  },
  {
   "cell_type": "code",
   "execution_count": 14,
   "metadata": {
    "scrolled": true
   },
   "outputs": [
    {
     "name": "stdout",
     "output_type": "stream",
     "text": [
      "Epoch 1 [==================================================] 120/120\n",
      "  Train accuracy: 0.5333\n",
      "  Validation accuracy: 0.5000\n",
      "Epoch 2 [==================================================] 120/120\n",
      "  Train accuracy: 0.5750\n",
      "  Validation accuracy: 0.5125\n",
      "Epoch 3 [==================================================] 120/120\n",
      "  Train accuracy: 0.5833\n",
      "  Validation accuracy: 0.5125\n",
      "Epoch 4 [==================================================] 120/120\n",
      "  Train accuracy: 0.5833\n",
      "  Validation accuracy: 0.4875\n",
      "Epoch 5 [==================================================] 120/120\n",
      "  Train accuracy: 0.6167\n",
      "  Validation accuracy: 0.5000\n",
      "Epoch 6 [==================================================] 120/120\n",
      "  Train accuracy: 0.6000\n",
      "  Validation accuracy: 0.5250\n",
      "Epoch 7 [==================================================] 120/120\n",
      "  Train accuracy: 0.6333\n",
      "  Validation accuracy: 0.5625\n",
      "Epoch 8 [==================================================] 120/120\n",
      "  Train accuracy: 0.6417\n",
      "  Validation accuracy: 0.5750\n",
      "Epoch 9 [==================================================] 120/120\n",
      "  Train accuracy: 0.6250\n",
      "  Validation accuracy: 0.5625\n",
      "Epoch 10 [==================================================] 120/120\n",
      "  Train accuracy: 0.6583\n",
      "  Validation accuracy: 0.5625\n",
      "Epoch 11 [==================================================] 120/120\n",
      "  Train accuracy: 0.6833\n",
      "  Validation accuracy: 0.4875\n",
      "Epoch 12 [==================================================] 120/120\n",
      "  Train accuracy: 0.6667\n",
      "  Validation accuracy: 0.4750\n",
      "Epoch 13 [==================================================] 120/120\n",
      "  Train accuracy: 0.7167\n",
      "  Validation accuracy: 0.4875\n",
      "Epoch 14 [==================================================] 120/120\n",
      "  Train accuracy: 0.6750\n",
      "  Validation accuracy: 0.5375\n",
      "Epoch 15 [==================================================] 120/120\n",
      "  Train accuracy: 0.7000\n",
      "  Validation accuracy: 0.4875\n",
      "Epoch 16 [==================================================] 120/120\n",
      "  Train accuracy: 0.7250\n",
      "  Validation accuracy: 0.5125\n",
      "Epoch 17 [==================================================] 120/120\n",
      "  Train accuracy: 0.7167\n",
      "  Validation accuracy: 0.5375\n",
      "Epoch 18 [==================================================] 120/120\n",
      "  Train accuracy: 0.7500\n",
      "  Validation accuracy: 0.5375\n",
      "Epoch 19 [==================================================] 120/120\n",
      "  Train accuracy: 0.7333\n",
      "  Validation accuracy: 0.5125\n",
      "Epoch 20 [==================================================] 120/120\n",
      "  Train accuracy: 0.7583\n",
      "  Validation accuracy: 0.5250\n"
     ]
    },
    {
     "data": {
      "image/png": "[encoded data removed]",
      "text/plain": [
       "<Figure size 576x396 with 1 Axes>"
      ]
     },
     "metadata": {},
     "output_type": "display_data"
    }
   ],
   "source": [
    "# ---------------------------------------------------------------\n",
    "# WRITE YOUR CODE HERE (COMPUTE PROPER TRAINING/VALIDATION SETS)\n",
    "#\n",
    "\n",
    "# this solution uses the same proper train/validation split as computed for the CNN\n",
    "# (this is the better way to do the training here rather than computing a different\n",
    "# split since we're giving the two different models the exact same proper\n",
    "# training/validation sets to look at; otherwise, one model doing better could be\n",
    "# attributed to us just getting lucky by using a different split; we did allow\n",
    "# students to use a different split and still get full credit though)\n",
    "proper_train_dataset = [(features.reshape((256, 1)), label) for features, label in proper_train_dataset]\n",
    "val_dataset = [(features.reshape((256, 1)), label) for features, label in val_dataset]\n",
    "\n",
    "# ---------------------------------------------------------------\n",
    "\n",
    "\n",
    "# ---------------------------------------------------------------\n",
    "# DO NOT MODIFY THE CODE BELOW\n",
    "#\n",
    "train_accuracies, val_accuracies = \\\n",
    "    UDA_pytorch_classifier_fit(rnn,\n",
    "                               torch.optim.Adam(rnn.parameters(),\n",
    "                                                lr=1e-2),\n",
    "                               nn.CrossEntropyLoss(),  # includes softmax\n",
    "                               proper_train_dataset, val_dataset,20,20)\n",
    "UDA_plot_train_val_accuracy_vs_epoch(train_accuracies, val_accuracies)"
   ]
  },
  {
   "cell_type": "markdown",
   "metadata": {},
   "source": [
    "**Subpart iii. [3 points]** Report the test set raw accuracy for the RNN model you trained."
   ]
  },
  {
   "cell_type": "code",
   "execution_count": 15,
   "metadata": {},
   "outputs": [
    {
     "name": "stdout",
     "output_type": "stream",
     "text": [
      "0.515\n"
     ]
    }
   ],
   "source": [
    "# ---------------------------------------------------------------\n",
    "# WRITE YOUR CODE HERE (TEST SET RAW ACCURACY)\n",
    "#\n",
    "rnn_predicted_test_labels = UDA_pytorch_classifier_predict(rnn,\n",
    "                                                           torch.tensor(test_features.reshape((-1, 256, 1)),\n",
    "                                                                        dtype=torch.float)).cpu().numpy()\n",
    "print(np.mean(rnn_predicted_test_labels == test_labels))"
   ]
  },
  {
   "cell_type": "markdown",
   "metadata": {},
   "source": [
    "**(e) [5 points]** Of the random forest, CNN, and RNN models that you trained, which has the highest **precision** on the test set?"
   ]
  },
  {
   "cell_type": "markdown",
   "metadata": {},
   "source": [
    "**Your answer here along with code to justify your answer (for this part, a correct answer without code that justifies your answer will not receive full credit):** The CNN achieves the highest precision of 0.747; see below for the code that computes the precisions."
   ]
  },
  {
   "cell_type": "code",
   "execution_count": 16,
   "metadata": {},
   "outputs": [
    {
     "name": "stdout",
     "output_type": "stream",
     "text": [
      "RF precision: 0.6597938144329897\n",
      "CNN precision: 0.7471264367816092\n",
      "RNN precision: 0.5176470588235295\n"
     ]
    }
   ],
   "source": [
    "# ---------------------------------------------------------------\n",
    "# WRITE YOUR CODE HERE THAT HELPS JUSTIFY YOUR ANSWER\n",
    "#\n",
    "def compute_precision(predicted_labels, true_labels):\n",
    "    pos_mask = predicted_labels == 1\n",
    "    return np.mean(predicted_labels[pos_mask] == true_labels[pos_mask])\n",
    "\n",
    "print('RF precision:', compute_precision(rf_predicted_test_labels, test_labels))\n",
    "print('CNN precision:', compute_precision(cnn_predicted_test_labels, test_labels))\n",
    "print('RNN precision:', compute_precision(rnn_predicted_test_labels, test_labels))"
   ]
  }
 ],
 "metadata": {
  "kernelspec": {
   "display_name": "Python 3",
   "language": "python",
   "name": "python3"
  },
  "language_info": {
   "codemirror_mode": {
    "name": "ipython",
    "version": 3
   },
   "file_extension": ".py",
   "mimetype": "text/x-python",
   "name": "python",
   "nbconvert_exporter": "python",
   "pygments_lexer": "ipython3",
   "version": "3.7.6"
  }
 },
 "nbformat": 4,
 "nbformat_minor": 4
}
