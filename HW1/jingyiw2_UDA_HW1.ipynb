{
 "cells": [
  {
   "cell_type": "markdown",
   "metadata": {},
   "source": [
    "# Unstructured Data Analytics HW1\n",
    "\n",
    "Name:Jingyi Wu \n",
    "\n",
    "Andrew ID: jingyiw2\n",
    "\n",
    "Collaborators (if none, say \"none\"; do *not* leave this blank): none\n",
    "\n",
    "Reminder: you should not be sharing code."
   ]
  },
  {
   "cell_type": "markdown",
   "metadata": {},
   "source": [
    "**Warning: make sure your compute environment is set up first.** This homework assignment assumes that you have already installed Anaconda Python 3 and spaCy. Instructions for installing these are part of the tutorial [here](https://www.andrew.cmu.edu/user/georgech/95-865/Anaconda,%20Jupyter,%20and%20spaCy%20setup%20tutorial.pdf)."
   ]
  },
  {
   "cell_type": "markdown",
   "metadata": {},
   "source": [
    "### Instructions\n",
    "1. Fill in your name, Andrew ID, and collaborators above.\n",
    "2. Fill in the code/text blocks to answer each question.\n",
    "3. Do *not* change any of the existing code provided.\n",
    "4. Run the entire notebook *before* submitting it on Canvas to make sure that the code actually runs without errors. (**Important**: Any code cells that you have entered code for but did not actually execute will be disregarded, so please be sure to actually run your code first and make sure it runs without errors! We may re-run a subset of your code for grading purposes.)\n",
    "5. Be careful about where you save data for use with this Jupyter notebook (more details on this later)."
   ]
  },
  {
   "cell_type": "markdown",
   "metadata": {},
   "source": [
    "### [Problem 1] Basic Text Analysis [45 pts]\n",
    "\n",
    "This problem involves a mix of Python review (loops, conditionals, counters/dictionaries, sorting) and learning to work with a sizable collection of text data.\n",
    "\n",
    "You will be looking at a phenomenon of \"natural languages\" (i.e., human languages, such as English) called *Zipf's law*, which relates how frequently a word occurs in a language to its \"rank\" (the word with rank 1 is the most frequently occurring word, the word with rank 2 is the second most frequently occurring word, etc). Roughly speaking, the word with rank 1 appears twice as likely as the word with rank 2, and the three times as likely as the word with rank 3, and so forth. (Some details on Zipf's law can be found on [Wikipedia](https://en.wikipedia.org/wiki/Zipf%27s_law).) In this problem, you are going to check whether Zipf's law holds for a real dataset of text documents.\n",
    "\n",
    "The dataset we look at is a collection of the 100 most popular books downloaded from the [Gutenburg Project](https://www.gutenberg.org/browse/scores/top). These 100 books form the corpus that we consider for this problem. Each file contains the text of a book. We will read in all 100 books.\n",
    "\n",
    "Note: Please *do not* change the folder name or the path, and make sure you use a relative path (e.g. './HW1_Dataset/*filename*) when reading the files. When grading your homework, we will put your Jupyter notebook file and the dataset in the same folder, and run your code. **You will not receive points for this problem if your code fails to load the data.**\n",
    "\n",
    "Hint: To list all files that match a certain pattern, you can use the `glob` package. Here's an example usage:\n",
    "\n",
    "```python\n",
    "import glob\n",
    "print(glob.glob('./HW1_Dataset/*.txt'))\n",
    "```\n",
    "\n",
    "**(a) Warm-up/basic Python review [15 pts across subparts].** This part serves as a warm-up, getting you familiar with the kind of code we will be writing in this class. Note that throughout part (a), your code should **not** be using spaCy.\n",
    "\n",
    "**Subpart i [5 pts].** Write a loop that iterates through all 100 books; for each book, print out its corresponding file name and also how long the book is in terms of string length (meaning that if we load in the book as a string, we compute the length of the string using the built-in Python function `len`; this is just counting the number of characters).\n",
    "\n",
    "**Please do not actually print out the contents of each book since many of the books are extremely long, and by printing out all the books' contents, you'll end up creating a Jupyter notebook that has a massive file size.**\n",
    "\n",
    "Hint: When debugging your code, you may want to first make sure your code runs on a few of the books rather than all 100 (for example, you can start by only having 3 of the text files in `HW1_Dataset`). Once you're confident that your solution is correct on a few text files, then run on all of them! This is a standard approach to debugging code that is meant to handle large datasets.\n",
    "\n",
    "Your output should look like (although there should be 100 books rather than 3 as shown below; also, the ordering of the books might be different on your machine):\n",
    "\n",
    "```\n",
    "./HW1_Dataset/War and Peace by graf Leo Tolstoy (251).txt 3227580\n",
    "./HW1_Dataset/Democracy in America — Volume 1 by Alexis de Tocqueville (147).txt 1148435\n",
    "./HW1_Dataset/Frankenstein; Or, The Modern Prometheus by Mary Wollstonecraft Shelley (501).txt 441034\n",
    "```"
   ]
  },
  {
   "cell_type": "code",
   "execution_count": 17,
   "metadata": {},
   "outputs": [],
   "source": [
    "#!/usr/bin/python\n",
    "# -*- coding: UTF-8 -*-"
   ]
  },
  {
   "cell_type": "code",
   "execution_count": 18,
   "metadata": {
    "scrolled": true
   },
   "outputs": [
    {
     "name": "stdout",
     "output_type": "stream",
     "text": [
      "./HW1_Dataset\\A Christmas Carol in Prose; Being a Ghost Story of Christmas by Charles Dickens (265).txt   177758\n",
      "./HW1_Dataset\\A History of Spanish Literature by James Fitzmaurice-Kelly (109).txt   765918\n",
      "./HW1_Dataset\\A Modest Proposal by Jonathan Swift (233).txt   38966\n",
      "./HW1_Dataset\\A Study in Scarlet by Arthur Conan Doyle (163).txt   262340\n",
      "./HW1_Dataset\\A Tale of Two Cities by Charles Dickens (425).txt   776702\n",
      "./HW1_Dataset\\Adventures of Huckleberry Finn by Mark Twain (401).txt   593962\n",
      "./HW1_Dataset\\Alice in Wonderland by Lewis Carroll and Alice Gerstenberg (126).txt   104079\n",
      "./HW1_Dataset\\Alice's Adventures in Wonderland by Lewis Carroll (564).txt   163817\n",
      "./HW1_Dataset\\Anne of Green Gables by L. M.  Montgomery (114).txt   580635\n",
      "./HW1_Dataset\\Autobiography of Benjamin Franklin by Benjamin Franklin (247).txt   458600\n",
      "./HW1_Dataset\\Beowulf An Anglo-Saxon Epic Poem (403).txt   292953\n",
      "./HW1_Dataset\\Beyond Good and Evil by Friedrich Wilhelm Nietzsche (120).txt   402273\n",
      "./HW1_Dataset\\Candide by Voltaire (180).txt   224924\n",
      "./HW1_Dataset\\Carmilla by Joseph Sheridan Le Fanu (135).txt   176408\n",
      "./HW1_Dataset\\Common Sense by Thomas Paine (297).txt   145353\n",
      "./HW1_Dataset\\Dracula by Bram Stoker (461).txt   867141\n",
      "./HW1_Dataset\\Dubliners by James Joyce (219).txt   389199\n",
      "./HW1_Dataset\\Emma by Jane Austen (166).txt   902390\n",
      "./HW1_Dataset\\Essays by Ralph Waldo Emerson by Ralph Waldo Emerson (239).txt   557197\n",
      "./HW1_Dataset\\Et dukkehjem. English by Henrik Ibsen (557).txt   161241\n",
      "./HW1_Dataset\\Frankenstein; Or, The Modern Prometheus by Mary Wollstonecraft Shelley (501).txt   441034\n",
      "./HW1_Dataset\\Great Expectations by Charles Dickens (293).txt   1013450\n",
      "./HW1_Dataset\\Grimms' Fairy Tales by Jacob Grimm and Wilhelm Grimm (429).txt   540241\n",
      "./HW1_Dataset\\Gulliver's Travels into Several Remote Nations of the World by Jonathan Swift (136).txt   600105\n",
      "./HW1_Dataset\\Heart of Darkness by Joseph Conrad (213).txt   229835\n",
      "./HW1_Dataset\\Hedda Gabler by Henrik Ibsen (123).txt   193875\n",
      "./HW1_Dataset\\Il Principe. English by Niccolo虁 Machiavelli (428) (Unicode Encoding Conflict).txt   300788\n",
      "./HW1_Dataset\\Jane Eyre_ An Autobiography by Charlotte Bronte虉 (290) (Unicode Encoding Conflict).txt   1049267\n",
      "./HW1_Dataset\\Leaves of Grass by Walt Whitman (164).txt   757361\n",
      "./HW1_Dataset\\Les Mise虂rables by Victor Hugo (165) (Unicode Encoding Conflict).txt   3254333\n",
      "./HW1_Dataset\\Leviathan by Thomas Hobbes (417).txt   1231784\n",
      "./HW1_Dataset\\Liberalism by L. T.  Hobhouse (119).txt   305345\n",
      "./HW1_Dataset\\Metamorphosis by Franz Kafka (483).txt   139056\n",
      "./HW1_Dataset\\Moby Dick; Or, The Whale by Herman Melville (413).txt   1238569\n",
      "./HW1_Dataset\\My Fifteen Lost Years by Florence Elizabeth Maybrick (499).txt   383694\n",
      "./HW1_Dataset\\My Secret Life, Volumes I. to III. by Anonymous (157).txt   1378627\n",
      "./HW1_Dataset\\Narrative of the Captivity and Restoration of Mrs. Mary Rowlandson by Mary White Rowlandson (222).txt   123784\n",
      "./HW1_Dataset\\Narrative of the Life of Frederick Douglass, an American Slave by Frederick Douglass (243).txt   244263\n",
      "./HW1_Dataset\\On Liberty by John Stuart Mill (116).txt   325922\n",
      "./HW1_Dataset\\Outpost in the Wilderness_ Fort Wayne, 1706-1828 by Charles Poinsatte (161).txt   363234\n",
      "./HW1_Dataset\\Persuasion by Jane Austen (2234).txt   486251\n",
      "./HW1_Dataset\\Peter Pan by J. M.  Barrie (274).txt   278194\n",
      "./HW1_Dataset\\Prestuplenie i nakazanie. English by Fyodor Dostoyevsky (160).txt   1154508\n",
      "./HW1_Dataset\\Pride and Prejudice by Jane Austen (1003).txt   704192\n",
      "./HW1_Dataset\\Robert Greene by Robert Greene (126).txt   760655\n",
      "./HW1_Dataset\\Semmering 1912 by Peter Altenberg (221).txt   264946\n",
      "./HW1_Dataset\\Sense and Sensibility by Jane Austen (177).txt   693095\n",
      "./HW1_Dataset\\Siddhartha by Hermann Hesse (216).txt   236855\n",
      "./HW1_Dataset\\Songs of Innocence, and Songs of Experience by William Blake (166).txt   51724\n",
      "./HW1_Dataset\\The Adventures of Sherlock Holmes by Arthur Conan Doyle (447).txt   581864\n",
      "./HW1_Dataset\\The Adventures of Tom Sawyer by Mark Twain (371).txt   412712\n",
      "./HW1_Dataset\\The Awakening, and Selected Short Stories by Kate Chopin (192).txt   378936\n",
      "./HW1_Dataset\\The Boy Fortune Hunters in China by L. Frank  Baum (215).txt   324452\n",
      "./HW1_Dataset\\The Boy Fortune Hunters in the South Seas by L. Frank  Baum (150).txt   266166\n",
      "./HW1_Dataset\\The Complete Works of William Shakespeare by William Shakespeare (132).txt   5465100\n",
      "./HW1_Dataset\\The Confessions of St. Augustine by Bishop of Hippo Saint Augustine (157).txt   622405\n",
      "./HW1_Dataset\\The Count of Monte Cristo, Illustrated by Alexandre Dumas (160).txt   2643849\n",
      "./HW1_Dataset\\The Divine Comedy by Dante, Illustrated by Dante Alighieri (119).txt   2161\n",
      "./HW1_Dataset\\The Faery Queen and Her Knights by Alfred John Church (177).txt   447320\n",
      "./HW1_Dataset\\The Federalist Papers by Alexander Hamilton and John Jay and James Madison (116).txt   1167141\n",
      "./HW1_Dataset\\The Guardsman by Homer Greene (175).txt   412900\n",
      "./HW1_Dataset\\The History of the Peloponnesian War by Thucydides (122).txt   1200021\n",
      "./HW1_Dataset\\The Hound of the Baskervilles by Arthur Conan Doyle (223).txt   339188\n",
      "./HW1_Dataset\\The Iliad by Homer (256).txt   1175588\n",
      "./HW1_Dataset\\The Importance of Being Earnest_ A Trivial Comedy for Serious People by Oscar Wilde (454).txt   138887\n",
      "./HW1_Dataset\\The Innocents Abroad by Mark Twain (108).txt   1126278\n",
      "./HW1_Dataset\\The Interesting Narrative of the Life of Olaudah Equiano, Or Gustavus Vassa, The African by Equiano (114).txt   471165\n",
      "./HW1_Dataset\\The Kama Sutra of Vatsyayana by Vatsyayana (172).txt   351664\n",
      "./HW1_Dataset\\The King James Version of the Bible (132).txt   4351846\n",
      "./HW1_Dataset\\The Law of Storms by John Wilson Ross (110).txt   65264\n",
      "./HW1_Dataset\\The Legend of Sleepy Hollow by Washington Irving (399).txt   89237\n",
      "./HW1_Dataset\\The Life and Adventures of Robinson Crusoe by Daniel Defoe (126).txt   642909\n",
      "./HW1_Dataset\\The Mysterious Affair at Styles by Agatha Christie (115).txt   340770\n",
      "./HW1_Dataset\\The Odyssey by Homer (124).txt   697404\n",
      "./HW1_Dataset\\The Peddler Spy by W. J. Hamilton (356).txt   197390\n",
      "./HW1_Dataset\\The Philosophy of Spiritual Activity by Rudolf Steiner (144).txt   545031\n",
      "./HW1_Dataset\\The Picture of Dorian Gray by Oscar Wilde (282).txt   453169\n",
      "./HW1_Dataset\\The Republic by Plato (246).txt   1214387\n",
      "./HW1_Dataset\\The Romance of Lust_ A Classic Victorian erotic novel by Anonymous (294).txt   1051148\n",
      "./HW1_Dataset\\The Scarlet Letter by Nathaniel Hawthorne (211).txt   506975\n",
      "./HW1_Dataset\\The Souls of Black Folk by W. E. B.  Du Bois (172).txt   421336\n",
      "./HW1_Dataset\\The Strange Case of Dr. Jekyll and Mr. Hyde by Robert Louis Stevenson (158).txt   158048\n",
      "./HW1_Dataset\\The Strange Case of Dr. Jekyll and Mr. Hyde by Robert Louis Stevenson (170).txt   159542\n",
      "./HW1_Dataset\\The Time Machine by H. G.  Wells (137).txt   198281\n",
      "./HW1_Dataset\\The Tragedy of Romeo and Juliet by William Shakespeare (131).txt   174128\n",
      "./HW1_Dataset\\The Tragical History of Doctor Faustus by Christopher Marlowe (144).txt   143736\n",
      "./HW1_Dataset\\The Turn of the Screw by Henry James (185).txt   248089\n",
      "./HW1_Dataset\\The Wendigo by Algernon Blackwood (174).txt   127464\n",
      "./HW1_Dataset\\The Wonderful Wizard of Oz by L. Frank  Baum (150).txt   227654\n",
      "./HW1_Dataset\\The Yellow Wallpaper by Charlotte Perkins Gilman (462).txt   50841\n",
      "./HW1_Dataset\\Through the Looking-Glass by Lewis Carroll (134).txt   181667\n",
      "./HW1_Dataset\\Treasure Island by Robert Louis Stevenson (236).txt   383675\n",
      "./HW1_Dataset\\Ulysses by James Joyce (282).txt   1534140\n",
      "./HW1_Dataset\\Uncle Tom's Cabin by Harriet Beecher Stowe (108).txt   1025501\n",
      "./HW1_Dataset\\Walden, and On The Duty Of Civil Disobedience by Henry David Thoreau (180).txt   656207\n",
      "./HW1_Dataset\\War and Peace by graf Leo Tolstoy (251).txt   3227580\n",
      "./HW1_Dataset\\Wuthering Heights by Emily Bronte虉 (179) (Unicode Encoding Conflict).txt   669150\n"
     ]
    }
   ],
   "source": [
    "########################################################################\n",
    "######################### Write your code here #########################\n",
    "########################################################################\n",
    "import os\n",
    "import glob \n",
    "\n",
    "#get all file paths that match specific pattern\n",
    "book_path_list = glob.glob('./HW1_Dataset/*.txt')\n",
    "\n",
    "\n",
    "for book_path in book_path_list:\n",
    "    if os.path.isfile(book_path): #chekc if the file exists\n",
    "        #read the book txt file as a string (open file in read mode first)\n",
    "        book_file = open(book_path, \"r\",encoding = 'utf-8')\n",
    "        book_content = book_file.read()\n",
    "        book_file.close() \n",
    "        print(book_path,' ',len(book_content))"
   ]
  },
  {
   "cell_type": "markdown",
   "metadata": {},
   "source": [
    "**Subpart ii [5 pts].** Copy and paste your code from **subpart i** into the code cell below. Then in the code cell below, modify the code so that it prints out the top 15 longest books (in terms of raw string length, which is what you had already computed). In particular, please write your code so that the printout is of the following format:\n",
    "\n",
    "```\n",
    "1. <number of characters in longest text file> <filename of longest text file>\n",
    "2. <number of characters in 2nd longest text file> <filename of 2nd longest text file>\n",
    "...\n",
    "15. <number of characters in 15th longest text file> <filename of 15th longest text file>\n",
    "```\n",
    "\n",
    "Note: only print out information for the top 15 books in the format above; please do not repeat printing what we asked you to print in **subpart i**."
   ]
  },
  {
   "cell_type": "code",
   "execution_count": 24,
   "metadata": {},
   "outputs": [
    {
     "name": "stdout",
     "output_type": "stream",
     "text": [
      "5465100  of characters in  1 longest text file:  The Complete Works of William Shakespeare by William Shakespeare (132).txt\n",
      "4351846  of characters in  2 longest text file:  The King James Version of the Bible (132).txt\n",
      "3254333  of characters in  3 longest text file:  Les Mise虂rables by Victor Hugo (165) (Unicode Encoding Conflict).txt\n",
      "3227580  of characters in  4 longest text file:  War and Peace by graf Leo Tolstoy (251).txt\n",
      "2643849  of characters in  5 longest text file:  The Count of Monte Cristo, Illustrated by Alexandre Dumas (160).txt\n",
      "1534140  of characters in  6 longest text file:  Ulysses by James Joyce (282).txt\n",
      "1378627  of characters in  7 longest text file:  My Secret Life, Volumes I. to III. by Anonymous (157).txt\n",
      "1238569  of characters in  8 longest text file:  Moby Dick; Or, The Whale by Herman Melville (413).txt\n",
      "1231784  of characters in  9 longest text file:  Leviathan by Thomas Hobbes (417).txt\n",
      "1214387  of characters in  10 longest text file:  The Republic by Plato (246).txt\n",
      "1200021  of characters in  11 longest text file:  The History of the Peloponnesian War by Thucydides (122).txt\n",
      "1175588  of characters in  12 longest text file:  The Iliad by Homer (256).txt\n",
      "1167141  of characters in  13 longest text file:  The Federalist Papers by Alexander Hamilton and John Jay and James Madison (116).txt\n",
      "1154508  of characters in  14 longest text file:  Prestuplenie i nakazanie. English by Fyodor Dostoyevsky (160).txt\n",
      "1126278  of characters in  15 longest text file:  The Innocents Abroad by Mark Twain (108).txt\n"
     ]
    }
   ],
   "source": [
    "########################################################################\n",
    "######################### Write your code here #########################\n",
    "########################################################################\n",
    "import os\n",
    "import glob \n",
    "\n",
    "#get all file paths that match specific pattern\n",
    "book_path_list = glob.glob('./HW1_Dataset/*.txt')\n",
    "\n",
    "book_str_dict = {}\n",
    "for book_path in book_path_list:\n",
    "    if os.path.isfile(book_path): #chekc if the file exists\n",
    "        #read the book txt file as a string (open file in read mode first)\n",
    "        book_file = open(book_path, \"r\",encoding = 'utf-8')\n",
    "        book_content = book_file.read()\n",
    "        book_file.close() \n",
    "        book_str_dict[os.path.basename(book_path)]=len(book_content)\n",
    "\n",
    "#print(len(book_str_dict))\n",
    "\n",
    "from operator import itemgetter\n",
    "\n",
    "sorted_book_str_dict = sorted(book_str_dict.items(),\n",
    "                             reverse = True,\n",
    "                             key = itemgetter(1))\n",
    "index = 1\n",
    "for book_str in sorted_book_str_dict[:15]:\n",
    "    print(book_str[1],\" of characters in \",index, \"longest text file: \",book_str[0])\n",
    "    index +=1"
   ]
  },
  {
   "cell_type": "markdown",
   "metadata": {},
   "source": [
    "**Subpart iii [5 pts].** You should find that some of the books are quite long. Processing very long books will be problematic with spaCy, so we will want to chop up long books into pieces. Note that later on in the course, we shall see that chopping up large amounts of data into small pieces or \"batches\" is in fact quite common in machine learning since for massive datasets, we often cannot store them in their entirety on a CPU or GPU for processing all at once.\n",
    "\n",
    "As a toy example, suppose that a book's text is `'cat dog shark spam eggs'` and we want to split it up into batches where each batch has at most 3 words. Then we could split up the book's text into two batches/pieces: `'cat dog shark'` and `'spam eggs'`.\n",
    "\n",
    "We have provided code for you to do this below."
   ]
  },
  {
   "cell_type": "code",
   "execution_count": 30,
   "metadata": {},
   "outputs": [
    {
     "name": "stdout",
     "output_type": "stream",
     "text": [
      "['cat dog shark', 'spam eggs']\n"
     ]
    }
   ],
   "source": [
    "import numpy as np\n",
    "\n",
    "def split_into_batches(book_text, max_num_words_per_batch):\n",
    "    words_split_on_spaces = book_text.split(' ')\n",
    "    num_book_pieces = int(np.ceil(len(words_split_on_spaces) / max_num_words_per_batch))\n",
    "    batches = []\n",
    "    for piece_idx in range(num_book_pieces):\n",
    "        start_idx = piece_idx * max_num_words_per_batch\n",
    "        end_idx = (piece_idx + 1) * max_num_words_per_batch\n",
    "        if end_idx > len(words_split_on_spaces):\n",
    "            end_idx = len(words_split_on_spaces)\n",
    "        book_piece = ' '.join(words_split_on_spaces[start_idx:end_idx])\n",
    "        batches.append(book_piece)\n",
    "    return batches\n",
    "\n",
    "print(split_into_batches('cat dog shark spam eggs', 3))"
   ]
  },
  {
   "cell_type": "markdown",
   "metadata": {},
   "source": [
    "Now write a loop that goes through all 100 books again. However, for each book, split it up into batches so that each batch has at most 10000 words. In this case, how many batches are there total across all 100 books? Please write code that computes this number of batches. Your code should print out the following (with the correct total number of batches):\n",
    "\n",
    "```\n",
    "Total number of batches: <total number of batches across all 100 books>\n",
    "```"
   ]
  },
  {
   "cell_type": "code",
   "execution_count": 32,
   "metadata": {},
   "outputs": [
    {
     "name": "stdout",
     "output_type": "stream",
     "text": [
      "Total number of batches:  1162\n"
     ]
    }
   ],
   "source": [
    "########################################################################\n",
    "######################### Write your code here #########################\n",
    "########################################################################\n",
    "\n",
    "import os\n",
    "import glob \n",
    "\n",
    "#get all file paths that match specific pattern\n",
    "book_path_list = glob.glob('./HW1_Dataset/*.txt')\n",
    "\n",
    "num_of_batches = 0\n",
    "for book_path in book_path_list:\n",
    "    if os.path.isfile(book_path): #chekc if the file exists\n",
    "        #read the book txt file as a string (open file in read mode first)\n",
    "        book_file = open(book_path, \"r\",encoding = 'utf-8')\n",
    "        book_content = book_file.read()\n",
    "        book_file.close() \n",
    "        \n",
    "        batch_num = len(split_into_batches(book_content, 10000))\n",
    "        num_of_batches += batch_num\n",
    "\n",
    "print(\"Total number of batches: \", num_of_batches)"
   ]
  },
  {
   "cell_type": "markdown",
   "metadata": {},
   "source": [
    "**(b) [10 pts]** Now we will finally use spaCy. Note that for this problem, you don't actually need `spaCy`'s named entity recognition or grammatical parsing. Turning these elements off when you instantiate the `nlp` object can substantially speed up your code. To make sure these are off when instantiating the `nlp` object, call: \n",
    "\n",
    "```python\n",
    "nlp = spacy.load('en_core_web_sm', disable=['ner', 'parser'])\n",
    "```\n",
    "\n",
    "**Throughout this problem, do not remove stopwords.**\n",
    "\n",
    "Build a term frequency (raw counts) table that is for all 100 books. Specifically, building on your solution to part (a)-subpart iii, read in a single book at a time and for each book, do the following:\n",
    "\n",
    "  1. Split it up into batches where each batch has at most 10000 words.\n",
    "  2. For each batch:\n",
    "    1. Process the batch by separating and lemmatizing the words\n",
    "    2. Count the number of times each lemma appears and add these to the frequency table. For simplicity, **do not convert lemmas to lowercase**. (Note that we use raw counts as the \"frequency\"--do not do any division.) Also, as we explain below, we will only count lemmas that are alphanumeric.\n",
    "\n",
    "Note that just as we had said in part (a): do **not** print out the complete contents of every book since doing so will result in a Jupyter notebook file that is massive.\n",
    "\n",
    "After looping through all 100 books, you should have the term frequency table for the entire corpus (importantly, the frequency table should not just be for a single book; it should be for all 100 books). Sort the table and print the top 50 most frequent words, along with their frequencies and ranks. Don't worry about ties (for example, if multiple things have the same frequency, it's fine if your solution breaks ties arbitrarily in the sorting).\n",
    "\n",
    "Note: When counting the lemmas, only include lemmas that consist of alphabetic letters (a-z and A-Z). You can do this with what's called a *regular expression*. For example, to check whether the words \"will.i.am\" or \"Tesla\" are alphabetic, you would do the following:\n",
    "\n",
    "```python\n",
    "import re  # regular expression package\n",
    "if re.match('[a-zA-Z]+$', 'will.i.am'):\n",
    "    print('will.i.am consists only of alphabetic letters!')\n",
    "if re.match('[a-zA-Z]+$', 'Tesla'):\n",
    "    print('tesla consists only of alphabetic letters!')\n",
    "```"
   ]
  },
  {
   "cell_type": "code",
   "execution_count": 46,
   "metadata": {},
   "outputs": [],
   "source": [
    "########################################################################\n",
    "######################### Write your code here #########################\n",
    "########################################################################\n",
    "\n",
    "import os\n",
    "import glob \n",
    "import re\n",
    "#get all file paths that match specific pattern\n",
    "book_path_list = glob.glob('./HW1_Dataset/*.txt')\n",
    "\n",
    "import spacy\n",
    "nlp = spacy.load('en_core_web_sm', disable=['ner', 'parser'])\n",
    "\n",
    "from collections import Counter\n",
    "\n",
    "term_freq_table = Counter()\n",
    "\n",
    "whole_batches = []\n",
    "for book_path in book_path_list:\n",
    "    if os.path.isfile(book_path): #chekc if the file exists\n",
    "        #read the book txt file as a string (open file in read mode first)\n",
    "        book_file = open(book_path, \"r\",encoding = 'utf-8')\n",
    "        book_content = book_file.read()\n",
    "        book_file.close() \n",
    "        \n",
    "        #get the batches for each book\n",
    "        book_batches = split_into_batches(book_content, 10000)\n",
    "        whole_batches.append(book_batches)"
   ]
  },
  {
   "cell_type": "code",
   "execution_count": 52,
   "metadata": {},
   "outputs": [],
   "source": [
    "for book in whole_batches:\n",
    "    for batch in book:\n",
    "        parsed_batch_txt = nlp(batch)\n",
    "        for token in parsed_batch_txt:\n",
    "            token_lemma = token.lemma_\n",
    "            if re.match('[a-zA-Z]+$', token_lemma):\n",
    "                term_freq_table[token_lemma] += 1"
   ]
  },
  {
   "cell_type": "code",
   "execution_count": 57,
   "metadata": {},
   "outputs": [
    {
     "name": "stdout",
     "output_type": "stream",
     "text": [
      "Rank:  1 Word:  the :  Frequency:  690242\n",
      "Rank:  2 Word:  be :  Frequency:  435082\n",
      "Rank:  3 Word:  and :  Frequency:  432127\n",
      "Rank:  4 Word:  of :  Frequency:  371195\n",
      "Rank:  5 Word:  to :  Frequency:  315887\n",
      "Rank:  6 Word:  a :  Frequency:  234188\n",
      "Rank:  7 Word:  in :  Frequency:  201156\n",
      "Rank:  8 Word:  have :  Frequency:  158358\n",
      "Rank:  9 Word:  that :  Frequency:  154227\n",
      "Rank:  10 Word:  not :  Frequency:  112086\n",
      "Rank:  11 Word:  with :  Frequency:  101395\n",
      "Rank:  12 Word:  for :  Frequency:  95204\n",
      "Rank:  13 Word:  as :  Frequency:  89330\n",
      "Rank:  14 Word:  but :  Frequency:  74487\n",
      "Rank:  15 Word:  do :  Frequency:  69941\n",
      "Rank:  16 Word:  at :  Frequency:  65376\n",
      "Rank:  17 Word:  on :  Frequency:  65349\n",
      "Rank:  18 Word:  say :  Frequency:  60968\n",
      "Rank:  19 Word:  by :  Frequency:  59621\n",
      "Rank:  20 Word:  this :  Frequency:  59526\n",
      "Rank:  21 Word:  all :  Frequency:  58341\n",
      "Rank:  22 Word:  which :  Frequency:  55013\n",
      "Rank:  23 Word:  from :  Frequency:  49062\n",
      "Rank:  24 Word:  or :  Frequency:  46798\n",
      "Rank:  25 Word:  so :  Frequency:  46717\n",
      "Rank:  26 Word:  will :  Frequency:  42716\n",
      "Rank:  27 Word:  one :  Frequency:  40381\n",
      "Rank:  28 Word:  no :  Frequency:  38209\n",
      "Rank:  29 Word:  man :  Frequency:  37841\n",
      "Rank:  30 Word:  there :  Frequency:  37617\n",
      "Rank:  31 Word:  what :  Frequency:  37508\n",
      "Rank:  32 Word:  go :  Frequency:  35955\n",
      "Rank:  33 Word:  if :  Frequency:  34749\n",
      "Rank:  34 Word:  when :  Frequency:  33967\n",
      "Rank:  35 Word:  come :  Frequency:  33483\n",
      "Rank:  36 Word:  see :  Frequency:  32256\n",
      "Rank:  37 Word:  an :  Frequency:  31940\n",
      "Rank:  38 Word:  would :  Frequency:  30369\n",
      "Rank:  39 Word:  make :  Frequency:  29851\n",
      "Rank:  40 Word:  who :  Frequency:  29531\n",
      "Rank:  41 Word:  then :  Frequency:  28295\n",
      "Rank:  42 Word:  out :  Frequency:  27949\n",
      "Rank:  43 Word:  up :  Frequency:  26804\n",
      "Rank:  44 Word:  know :  Frequency:  26153\n",
      "Rank:  45 Word:  may :  Frequency:  25084\n",
      "Rank:  46 Word:  take :  Frequency:  24131\n",
      "Rank:  47 Word:  now :  Frequency:  23914\n",
      "Rank:  48 Word:  more :  Frequency:  23316\n",
      "Rank:  49 Word:  well :  Frequency:  22964\n",
      "Rank:  50 Word:  shall :  Frequency:  22662\n"
     ]
    }
   ],
   "source": [
    "sorted_term_freq_table = term_freq_table.most_common(50)\n",
    "index=1\n",
    "for lemma, count in sorted_term_freq_table:\n",
    "    print(\"Rank: \", index, \"Word: \", lemma, \": \", \"Frequency: \",count)\n",
    "    index+=1"
   ]
  },
  {
   "cell_type": "markdown",
   "metadata": {},
   "source": [
    "**(c) [10 pts]** Visualize the frequency table by plotting a **raw scatter plot** (put frequency as the y-axis and rank as the x-axis), and a **log-log plot** (use logarithmic scales on both the x- and y- axes). Note that this should be for all words and not only the top 50. As before, for the ranks, do not worry about ties, i.e., break ties arbitrarily."
   ]
  },
  {
   "cell_type": "code",
   "execution_count": 61,
   "metadata": {},
   "outputs": [],
   "source": [
    "# Raw scatter plot\n",
    "########################################################################\n",
    "######################### Write your code here #########################\n",
    "########################################################################\n",
    "\n",
    "%matplotlib inline \n",
    "import matplotlib.pyplot as plt\n",
    "\n",
    "plt.style.use('seaborn') \n",
    "#%config InlineBackend.figure_format = 'retina'  # if you use a Mac with Retina display\n",
    "\n",
    "sorted_term_freq_table2 = term_freq_table.most_common()\n"
   ]
  },
  {
   "cell_type": "code",
   "execution_count": 73,
   "metadata": {},
   "outputs": [
    {
     "data": {
      "text/plain": [
       "Text(0, 0.5, 'Raw count')"
      ]
     },
     "execution_count": 73,
     "metadata": {},
     "output_type": "execute_result"
    },
    {
     "data": {
      "image/png": "[encoded data removed]",
      "text/plain": [
       "<Figure size 576x396 with 1 Axes>"
      ]
     },
     "metadata": {},
     "output_type": "display_data"
    }
   ],
   "source": [
    "num_words = len(sorted_term_freq_table2)\n",
    "#top_lemmas = [lemma for lemma, count in sorted_term_freq_table2[:num_words]]\n",
    "top_counts = [count for lemma, count in sorted_term_freq_table2[:num_words]]\n",
    "plt.scatter(range(1,num_words+1), top_counts)\n",
    "#plt.xticks(range(num_top_lemmas_to_plot), top_lemmas, rotation=90)\n",
    "plt.xlabel('Lemma rank')\n",
    "plt.ylabel('Raw count')"
   ]
  },
  {
   "cell_type": "code",
   "execution_count": 67,
   "metadata": {},
   "outputs": [
    {
     "data": {
      "text/plain": [
       "int"
      ]
     },
     "execution_count": 67,
     "metadata": {},
     "output_type": "execute_result"
    }
   ],
   "source": [
    "type(top_counts[0])"
   ]
  },
  {
   "cell_type": "code",
   "execution_count": 74,
   "metadata": {},
   "outputs": [
    {
     "data": {
      "text/plain": [
       "Text(0, 0.5, 'Raw count')"
      ]
     },
     "execution_count": 74,
     "metadata": {},
     "output_type": "execute_result"
    },
    {
     "data": {
      "image/png": "[encoded data removed]",
      "text/plain": [
       "<Figure size 576x396 with 1 Axes>"
      ]
     },
     "metadata": {},
     "output_type": "display_data"
    }
   ],
   "source": [
    "# Log-log plot\n",
    "########################################################################\n",
    "######################### Write your code here #########################\n",
    "########################################################################\n",
    "\n",
    "log_x = np.log(range(1,num_words+1))\n",
    "log_y = np.log(top_counts)\n",
    "plt.scatter(log_x,log_y)\n",
    "plt.xlabel('Lemma rank')\n",
    "plt.ylabel('Raw count')"
   ]
  },
  {
   "cell_type": "markdown",
   "metadata": {},
   "source": [
    "**(d) [10 pts across subparts]** Let's now try to make sense of the very last plot in part **(c)**. Zipf's law states that term frequency is governed by a power law, i.e. the relationship between term frequency and rank can be approximated by $f(r) = cr^{-1}$, where $f(r)$ is the frequency of the term at rank $r$, $r$ is the rank of a term, and $c$ is a constant that is approximately 0.1*(corpus size) for English.\n",
    "\n",
    "Please answer the following questions:\n",
    "\n",
    "**Subpart i [3 pts].** What do you observe in the log-log plot above? Is this consist with the power law?"
   ]
  },
  {
   "cell_type": "markdown",
   "metadata": {},
   "source": [
    "Your text answer (for this question, your answer is *not* code): \n",
    "\n",
    "*** WRITE YOUR ANSWER HERE ***\n",
    "\n",
    "The above plot shows that the frequency is negatively related to the rank. \n",
    "If it is consistent with the law, then log(f(r))=log(c)-log(r), which aligns with the plot above(with a coefficient approximates to -1). So it applies to the law. "
   ]
  },
  {
   "cell_type": "markdown",
   "metadata": {},
   "source": [
    "**Subpart ii [4 pts].** Think of the corpus as a (large) unigram bag of words. Following the analogy from lecture, imagine drawing a single word from this big bag (note that we are assuming that we've lemmatized the words and also filtered out non-alphanumeric words; thus what remains in the bag are actually alphanumeric lemmas). What is the probability of drawing one of the 4 most frequent alphanumeric lemmas? What is the probability of drawing one of the 50 most frequent alphanumeric lemmas? Answer these two questions using code rather than just entering in the final answers as numbers."
   ]
  },
  {
   "cell_type": "code",
   "execution_count": 78,
   "metadata": {},
   "outputs": [
    {
     "name": "stdout",
     "output_type": "stream",
     "text": [
      "Probability of drawing one of the 4 most frequent alphanumeric lemmas:  17.2 %\n",
      "Probability of drawing one of the 50 most frequent alphanumeric lemmas:  37.14 %\n"
     ]
    }
   ],
   "source": [
    "Freq_whole = 0\n",
    "Freq_4=0\n",
    "Freq_50 = 0\n",
    "num_words = len(sorted_term_freq_table2)\n",
    "\n",
    "for i in range(1,num_words+1):\n",
    "    freq = 0.1*num_words*pow(i, -1)\n",
    "    Freq_whole +=freq\n",
    "    \n",
    "for i in range(1,5):\n",
    "    freq = 0.1*num_words*pow(i, -1)\n",
    "    Freq_4 +=freq\n",
    "print('Probability of drawing one of the 4 most frequent alphanumeric lemmas: ',round(Freq_4/Freq_whole*100,2),\"%\")\n",
    "########################################################################\n",
    "######################### Write your code here #########################\n",
    "########################################################################\n",
    "\n",
    "for i in range(1,51):\n",
    "    freq = 0.1*num_words*pow(i, -1)\n",
    "    Freq_50 +=freq\n",
    "print('Probability of drawing one of the 50 most frequent alphanumeric lemmas: ', round(Freq_50/Freq_whole*100,2),\"%\")\n",
    "########################################################################\n",
    "######################### Write your code here #########################\n",
    "########################################################################"
   ]
  },
  {
   "cell_type": "markdown",
   "metadata": {},
   "source": [
    "**Subpart iii [4 pts].** What proportion of the alphanumeric lemmas occur only once? What proportion of the alphanumeric lemmas occur fewer than 10 times?"
   ]
  },
  {
   "cell_type": "code",
   "execution_count": 86,
   "metadata": {
    "scrolled": true
   },
   "outputs": [
    {
     "name": "stdout",
     "output_type": "stream",
     "text": [
      "Occur only once:  0.9\n",
      "Occur fewer than 10 times:  0.99\n"
     ]
    }
   ],
   "source": [
    "threshold_rank = int(0.1*num_words)\n",
    "Prob_once = (num_words-threshold_rank)/num_words   #frequency cannot be zero\n",
    "print(\"Occur only once: \", round(Prob_once,5))\n",
    "########################################################################\n",
    "######################### Write your code here #########################\n",
    "########################################################################\n",
    "\n",
    "threshold_rank2 = int(0.1*num_words/10)\n",
    "Prob_10 = (num_words-threshold_rank2)/num_words\n",
    "print(\"Occur fewer than 10 times: \", round(Prob_10,5))\n",
    "########################################################################\n",
    "######################### Write your code here #########################\n",
    "########################################################################\n"
   ]
  },
  {
   "cell_type": "markdown",
   "metadata": {},
   "source": [
    "### [Problem 2] Entity Recognition and Pointwise Mutual Information (PMI) [50 pts]\n",
    "By using the entity recognition system in `spaCy`, let's identify named entities from newspaper articles. You'll be using Reuters corpus which contains more than ten thousand newspaper articles. To run the code below, you need to download the Reuters dataset. To do so, in a terminal/command line (recall that you can open a terminal from Jupyter's webpage that shows all the files, which by default is [http://localhost:8888/tree](http://localhost:8888/tree)), start up Python and enter:\n",
    "\n",
    "```python\n",
    "import nltk\n",
    "nltk.download('reuters')\n",
    "```\n",
    "\n",
    "Then proceed to the problem subparts below.\n",
    "\n",
    "Note that in this problem you will need named entity recognition but not grammatical parsing. Hence, you will want to instantiate the nlp object by calling:\n",
    "\n",
    "```python\n",
    "nlp = spacy.load('en_core_web_sm', disable=['parser'])\n",
    "```\n"
   ]
  },
  {
   "cell_type": "markdown",
   "metadata": {},
   "source": [
    "**(a) [15 pts]** Draw a bar chart in which one of the axes shows entity labels and the other shows the frequency of the corresponding label. Use the variables `reuters_nlp` and `label_counter` provided in the code below."
   ]
  },
  {
   "cell_type": "code",
   "execution_count": 87,
   "metadata": {},
   "outputs": [],
   "source": [
    "import nltk"
   ]
  },
  {
   "cell_type": "code",
   "execution_count": 88,
   "metadata": {},
   "outputs": [
    {
     "name": "stderr",
     "output_type": "stream",
     "text": [
      "[nltk_data] Downloading package reuters to\n",
      "[nltk_data]     C:\\Users\\Think\\AppData\\Roaming\\nltk_data...\n"
     ]
    },
    {
     "data": {
      "text/plain": [
       "True"
      ]
     },
     "execution_count": 88,
     "metadata": {},
     "output_type": "execute_result"
    }
   ],
   "source": [
    "nltk.download('reuters')"
   ]
  },
  {
   "cell_type": "code",
   "execution_count": 90,
   "metadata": {},
   "outputs": [],
   "source": [
    "import matplotlib.pyplot as plt\n",
    "from collections import Counter\n",
    "from nltk.corpus import reuters\n",
    "import re\n",
    "import spacy"
   ]
  },
  {
   "cell_type": "code",
   "execution_count": 91,
   "metadata": {
    "scrolled": false
   },
   "outputs": [],
   "source": [
    "nlp = spacy.load('en_core_web_sm', disable=['parser', 'tagger'])\n",
    "reuters_fileids = reuters.fileids()  # hint: when first debugging, consider looking at just the first few\n",
    "reuters_nlp = [nlp(re.sub('\\s+',' ', reuters.raw(i)).strip()) for i in reuters_fileids]\n",
    "label_counter = Counter()\n",
    "\n",
    "########################################################################\n",
    "######################### Write your code below #########################\n",
    "########################################################################"
   ]
  },
  {
   "cell_type": "code",
   "execution_count": 95,
   "metadata": {},
   "outputs": [
    {
     "data": {
      "text/plain": [
       "spacy.tokens.doc.Doc"
      ]
     },
     "execution_count": 95,
     "metadata": {},
     "output_type": "execute_result"
    }
   ],
   "source": [
    "type(reuters_nlp[0])"
   ]
  },
  {
   "cell_type": "code",
   "execution_count": 98,
   "metadata": {},
   "outputs": [],
   "source": [
    "for article in reuters_nlp:\n",
    "    for entity in article.ents:\n",
    "        label_counter[entity.label_] +=1"
   ]
  },
  {
   "cell_type": "code",
   "execution_count": 99,
   "metadata": {},
   "outputs": [],
   "source": [
    "sorted_label  = label_counter.most_common()"
   ]
  },
  {
   "cell_type": "code",
   "execution_count": 101,
   "metadata": {},
   "outputs": [
    {
     "data": {
      "text/plain": [
       "Text(0, 0.5, 'Raw count')"
      ]
     },
     "execution_count": 101,
     "metadata": {},
     "output_type": "execute_result"
    },
    {
     "data": {
      "image/png": "[encoded data removed]",
      "text/plain": [
       "<Figure size 576x396 with 1 Axes>"
      ]
     },
     "metadata": {},
     "output_type": "display_data"
    }
   ],
   "source": [
    "%matplotlib inline \n",
    "import matplotlib.pyplot as plt\n",
    "plt.style.use('seaborn')  \n",
    "\n",
    "num_top_labels_to_plot = len(sorted_label)\n",
    "top_labels = [label for label, count in sorted_label[:num_top_labels_to_plot]]\n",
    "top_counts = [count for label, count in sorted_label[:num_top_labels_to_plot]]\n",
    "plt.bar(range(num_top_labels_to_plot), top_counts)\n",
    "plt.xticks(range(num_top_labels_to_plot), top_labels, rotation=90)\n",
    "plt.xlabel('Label')\n",
    "plt.ylabel('Raw count')"
   ]
  },
  {
   "cell_type": "markdown",
   "metadata": {},
   "source": [
    "**(b) [15 pts]** Now list the top 10 most frequently occurring entities (entity text and the number of occurence) with label `ORG` (organization). Separately list the top 10 most frequently occurring entities with label `GPE` (geopolitical entity such as countries, cities, states) respectively. **In both cases, please convert the entity names to lowercase first before computing the top 10.**\n",
    "\n",
    "Here, when counting the (raw count) frequency, we need to count how many articles have an entity with the desired property. For every article, we add 1 if the article has the entity and 0 otherwise."
   ]
  },
  {
   "cell_type": "code",
   "execution_count": 126,
   "metadata": {},
   "outputs": [
    {
     "name": "stdout",
     "output_type": "stream",
     "text": [
      "Rank  1  entity in ORG:  reuters  ocurring times:  443\n",
      "Rank  2  entity in ORG:  qtr  ocurring times:  430\n",
      "Rank  3  entity in ORG:  the securities and exchange commission  ocurring times:  248\n",
      "Rank  4  entity in ORG:  treasury  ocurring times:  244\n",
      "Rank  5  entity in ORG:  ec  ocurring times:  239\n",
      "Rank  6  entity in ORG:  fed  ocurring times:  225\n",
      "Rank  7  entity in ORG:  mln avg  ocurring times:  222\n",
      "Rank  8  entity in ORG:  usda  ocurring times:  188\n",
      "Rank  9  entity in ORG:  pct  ocurring times:  172\n",
      "Rank  10  entity in ORG:  net  ocurring times:  150\n",
      "#################################################################\n",
      "Rank  1  entity in GPE:  u.s.  ocurring times:  1701\n",
      "Rank  2  entity in GPE:  japan  ocurring times:  580\n",
      "Rank  3  entity in GPE:  the united states  ocurring times:  384\n",
      "Rank  4  entity in GPE:  u.k.  ocurring times:  282\n",
      "Rank  5  entity in GPE:  canada  ocurring times:  254\n",
      "Rank  6  entity in GPE:  new york  ocurring times:  251\n",
      "Rank  7  entity in GPE:  washington  ocurring times:  233\n",
      "Rank  8  entity in GPE:  west germany  ocurring times:  229\n",
      "Rank  9  entity in GPE:  london  ocurring times:  215\n",
      "Rank  10  entity in GPE:  paris  ocurring times:  187\n"
     ]
    }
   ],
   "source": [
    "########################################################################\n",
    "######################### Write your code here #########################\n",
    "########################################################################\n",
    "ORG_counter = Counter()\n",
    "GPE_counter = Counter()\n",
    "\n",
    "for article in reuters_nlp:\n",
    "    OPG_each = Counter()\n",
    "    GPE_each = Counter()\n",
    "    for entity in article.ents:\n",
    "        if entity.label_=='ORG':\n",
    "            OPG_each[str(entity).lower()]=1\n",
    "        if entity.label_=='GPE':\n",
    "            GPE_each[str(entity).lower()]=1\n",
    "    \n",
    "    for entity, count in OPG_each.most_common():\n",
    "        ORG_counter[entity] += count\n",
    "    for entity, count in GPE_each.most_common():\n",
    "        GPE_counter[entity] += count\n",
    "\n",
    "sorted_ORG = ORG_counter.most_common(10)\n",
    "sorted_GPE = GPE_counter.most_common(10)\n",
    "index = 1\n",
    "for entity, count in sorted_ORG:\n",
    "    print(\"Rank \",index,\" entity in ORG: \", entity,\" ocurring times: \",count)\n",
    "    index += 1\n",
    "print(\"#################################################################\")\n",
    "index2 = 1\n",
    "for entity, count in sorted_GPE:\n",
    "    print(\"Rank \",index2,\" entity in GPE: \", entity,\" ocurring times: \",count)\n",
    "    index2 += 1"
   ]
  },
  {
   "cell_type": "code",
   "execution_count": 125,
   "metadata": {},
   "outputs": [
    {
     "data": {
      "text/plain": [
       "10788"
      ]
     },
     "execution_count": 125,
     "metadata": {},
     "output_type": "execute_result"
    }
   ],
   "source": [
    "len(reuters_nlp)"
   ]
  },
  {
   "cell_type": "code",
   "execution_count": 136,
   "metadata": {},
   "outputs": [
    {
     "data": {
      "text/plain": [
       "True"
      ]
     },
     "execution_count": 136,
     "metadata": {},
     "output_type": "execute_result"
    }
   ],
   "source": [
    "article = reuters_nlp[15]\n",
    "entity_list = [str(entity).lower() for entity in article.ents]\n",
    "type(entity_list[0])\n",
    "entity_list\n",
    "'two' in entity_list"
   ]
  },
  {
   "cell_type": "markdown",
   "metadata": {},
   "source": [
    "**(c) [20 pts]** Give the top 50 `GPE` (countries, cities, states) entities that have the highest Pointwise Mutual Information (PMI) values with regard to the `ORG` (organization) entity **'opec'** (your list of this top 50 should be ranked in decreasing PMI value). Did you find any unexpected results? If so, why do you think it happened? If you found some of the results to be unsurprisingly, how come? **Just like in the previous part, please convert entity names to lowercase in your analysis.**\n",
    "\n",
    "Hint 1: As in lecture, when computing PMI, we will compute probabilities by counting the number of documents where entities occur or co-occur.  For example, $P('opec') = \\frac{number \\ \\ of \\ \\ documents \\ \\ containing \\ \\ 'opec'}{number \\ \\ of \\ \\ documents}$.  \n",
    "\n",
    "Hint 2: To compute this ranking, you do not have to compute the full PMI equation."
   ]
  },
  {
   "cell_type": "code",
   "execution_count": 139,
   "metadata": {},
   "outputs": [
    {
     "data": {
      "text/plain": [
       "1934"
      ]
     },
     "execution_count": 139,
     "metadata": {},
     "output_type": "execute_result"
    }
   ],
   "source": [
    "sorted_all_GPE = GPE_counter.most_common()\n",
    "len(sorted_all_GPE)"
   ]
  },
  {
   "cell_type": "code",
   "execution_count": 141,
   "metadata": {},
   "outputs": [
    {
     "name": "stdout",
     "output_type": "stream",
     "text": [
      "125\n"
     ]
    }
   ],
   "source": [
    "########################################################################\n",
    "######################### Write your code here #########################\n",
    "########################################################################\n",
    "'''\n",
    "To compare the interestingness of GPEi and OPEC,\n",
    "compare between P(G1,OPEC)/(P(G1)*P(OPEC)) and P(G2,OPEC)/(P(G2)*P(OPEC))\n",
    "so just compare P(G1,OPEC)/P(G1) and P(G2,OPEC)/P(G2)\n",
    "Given the same toatl number of documents, just compare Freq(G1,OPEC)/Freq(G1) and Freq(G2,OPEC)/Freq(G2)\n",
    "'''\n",
    "sorted_GPE_to_OPEC = Counter()\n",
    "sorted_all_GPE = GPE_counter.most_common()\n",
    "\n",
    "opec_txt = []\n",
    "for article in reuters_nlp:\n",
    "    entity_list = [str(entity).lower() for entity in article.ents]\n",
    "    if 'opec' in entity_list:\n",
    "        opec_txt.append(article)\n",
    "print(len(opec_txt))"
   ]
  },
  {
   "cell_type": "code",
   "execution_count": 142,
   "metadata": {},
   "outputs": [],
   "source": [
    "for gpe, freq_gpe in sorted_all_GPE:\n",
    "    freq_gpe_opec=0\n",
    "    for article in opec_txt:\n",
    "        entity_list = [str(entity).lower() for entity in article.ents]\n",
    "        if gpe in entity_list:\n",
    "            freq_gpe_opec +=1\n",
    "    sorted_GPE_to_OPEC[gpe] = freq_gpe_opec/freq_gpe"
   ]
  },
  {
   "cell_type": "code",
   "execution_count": 1,
   "metadata": {},
   "outputs": [
    {
     "ename": "NameError",
     "evalue": "name 'sorted_GPE_to_OPEC' is not defined",
     "output_type": "error",
     "traceback": [
      "\u001b[1;31m---------------------------------------------------------------------------\u001b[0m",
      "\u001b[1;31mNameError\u001b[0m                                 Traceback (most recent call last)",
      "\u001b[1;32m<ipython-input-1-75036a4b42d1>\u001b[0m in \u001b[0;36m<module>\u001b[1;34m\u001b[0m\n\u001b[1;32m----> 1\u001b[1;33m \u001b[0msorted_GPE_table\u001b[0m \u001b[1;33m=\u001b[0m \u001b[0msorted_GPE_to_OPEC\u001b[0m\u001b[1;33m.\u001b[0m\u001b[0mmost_common\u001b[0m\u001b[1;33m(\u001b[0m\u001b[1;36m50\u001b[0m\u001b[1;33m)\u001b[0m\u001b[1;33m\u001b[0m\u001b[1;33m\u001b[0m\u001b[0m\n\u001b[0m\u001b[0;32m      2\u001b[0m \u001b[0mindex\u001b[0m \u001b[1;33m=\u001b[0m \u001b[1;36m1\u001b[0m\u001b[1;33m\u001b[0m\u001b[1;33m\u001b[0m\u001b[0m\n\u001b[0;32m      3\u001b[0m \u001b[1;32mfor\u001b[0m \u001b[0mentity\u001b[0m\u001b[1;33m,\u001b[0m \u001b[0mpmi\u001b[0m \u001b[1;32min\u001b[0m \u001b[0msorted_GPE_table\u001b[0m\u001b[1;33m:\u001b[0m\u001b[1;33m\u001b[0m\u001b[1;33m\u001b[0m\u001b[0m\n\u001b[0;32m      4\u001b[0m     \u001b[0mprint\u001b[0m\u001b[1;33m(\u001b[0m\u001b[1;34m\"Rank:\"\u001b[0m\u001b[1;33m,\u001b[0m \u001b[0mindex\u001b[0m\u001b[1;33m,\u001b[0m \u001b[1;34m\" entity:\"\u001b[0m\u001b[1;33m,\u001b[0m \u001b[0mentity\u001b[0m\u001b[1;33m,\u001b[0m \u001b[0mpmi\u001b[0m\u001b[1;33m)\u001b[0m\u001b[1;33m\u001b[0m\u001b[1;33m\u001b[0m\u001b[0m\n\u001b[0;32m      5\u001b[0m     \u001b[0mindex\u001b[0m\u001b[1;33m+=\u001b[0m\u001b[1;36m1\u001b[0m\u001b[1;33m\u001b[0m\u001b[1;33m\u001b[0m\u001b[0m\n",
      "\u001b[1;31mNameError\u001b[0m: name 'sorted_GPE_to_OPEC' is not defined"
     ]
    }
   ],
   "source": [
    "sorted_GPE_table = sorted_GPE_to_OPEC.most_common(50)\n",
    "index = 1\n",
    "for entity, pmi in sorted_GPE_table:\n",
    "    print(\"Rank:\", index, \" entity:\", entity, pmi)\n",
    "    index+=1"
   ]
  },
  {
   "cell_type": "markdown",
   "metadata": {},
   "source": [
    "Your text answer (for this question, your answer is *not* code): \n",
    "\n",
    "*** WRITE YOUR ANSWER HERE ***\n",
    "\n",
    "The top 50 GPE entities with regard to ORG are some **small cities and places** which don't have high frequency on its own. \n",
    "On contrary, many high-frequency big countries and cities didnot appear here. \n",
    "\n",
    "The interestingness of two entity does not only relate to its own occurring frequency but also relate to its co-occurence with other entity and therefore their division. It measures how far these two entities are from being independent. "
   ]
  },
  {
   "cell_type": "markdown",
   "metadata": {},
   "source": [
    "### [Problem 3] Questionnaire [5 pts]\n",
    "\n",
    "Please provide feedback! To receive the 5 points, be sure to enter your Andrew ID correctly in this Google form: https://forms.gle/6CfMBvBxy5aYpJDN6"
   ]
  }
 ],
 "metadata": {
  "anaconda-cloud": {},
  "kernelspec": {
   "display_name": "Python 3",
   "language": "python",
   "name": "python3"
  },
  "language_info": {
   "codemirror_mode": {
    "name": "ipython",
    "version": 3
   },
   "file_extension": ".py",
   "mimetype": "text/x-python",
   "name": "python",
   "nbconvert_exporter": "python",
   "pygments_lexer": "ipython3",
   "version": "3.8.8"
  }
 },
 "nbformat": 4,
 "nbformat_minor": 2
}
