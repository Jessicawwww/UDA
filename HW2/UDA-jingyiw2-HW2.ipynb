{
 "cells": [
  {
   "cell_type": "markdown",
   "metadata": {},
   "source": [
    "# Unstructured Data Analytics HW2\n",
    "\n",
    "Name: Jingyi Wu\n",
    "\n",
    "Andrew ID: jingyiw2\n",
    "\n",
    "Collaborators (if none, say \"none\"; do *not* leave this blank):\n",
    "\n",
    "Reminder: you should not be sharing code."
   ]
  },
  {
   "cell_type": "markdown",
   "metadata": {},
   "source": [
    "## Question 1: Clustering emails using Gaussian Mixture Models [50 pts]"
   ]
  },
  {
   "cell_type": "markdown",
   "metadata": {},
   "source": [
    "For this problem, we will be analyzing emails taken from the [Enron Email Dataset](https://www.cs.cmu.edu/~enron/). We have already curated the data for you in the `data/enron` directory, with one file per email (so there is no need to redownload the dataset as it is already included in this homework zip archive). The dataset includes a combination of \"spam\" and \"ham\" emails. Spam emails are unsolicited messages intended to sell a product or scam users into providing personal information, while ham emails represent everything that is not spam.\n",
    "\n",
    "The language used in spam emails tends to be considerably different from typical business emails. Most spam filters leverage this difference in word frequencies to detect spam as it arrives and filter it out of email inboxes. We will use Gaussian Mixture Models (GMMs) to cluster the emails and attempt to identify groups of emails which are likely to be spam."
   ]
  },
  {
   "cell_type": "markdown",
   "metadata": {},
   "source": [
    "### Part A: Construct a list of processed documents [10 points]"
   ]
  },
  {
   "cell_type": "markdown",
   "metadata": {},
   "source": [
    "Provided below is a function that returns a document present in a file given a filename. The function performs some preprocessing to (1) remove punctuation, (2),(3) remove whitespace and (4) lowercase all words. Using the `make_word_list` function, construct a list of processed documents."
   ]
  },
  {
   "cell_type": "code",
   "execution_count": 1,
   "metadata": {},
   "outputs": [],
   "source": [
    "import re\n",
    "import string\n",
    "import codecs\n",
    "\n",
    "def make_word_list(path):\n",
    "    \n",
    "    with codecs.open(path, \"r\", encoding='utf-8', errors='ignore') as f:\n",
    "        corpus_text = f.read()\n",
    "\n",
    "    for c in string.punctuation:\n",
    "        corpus_text = corpus_text.replace(c, \"\")  # -- (1)\n",
    "    \n",
    "    text = re.sub(r'\\S*\\d\\S*', '', corpus_text) # -- (2)\n",
    "    text = re.sub(r'[^\\w\\s]', '', text)         # -- (3)\n",
    "    \n",
    "    text = text.lower().split()           # -- (4)         \n",
    "    \n",
    "    li = []\n",
    "    for token in text:\n",
    "        li.append(token)\n",
    "\n",
    "    return \" \".join(li)"
   ]
  },
  {
   "cell_type": "code",
   "execution_count": 8,
   "metadata": {},
   "outputs": [
    {
     "name": "stdout",
     "output_type": "stream",
     "text": [
      "5171\n"
     ]
    }
   ],
   "source": [
    "########################################################################\n",
    "######################### Write your code here #########################\n",
    "########################################################################\n",
    "import glob\n",
    "file_paths  = glob.glob('./data/enron/*.txt')\n",
    "documents = [make_word_list(path) for path in file_paths]\n",
    "print(len(documents))"
   ]
  },
  {
   "cell_type": "markdown",
   "metadata": {},
   "source": [
    "### Part B: Construct a document matrix [10 points]"
   ]
  },
  {
   "cell_type": "markdown",
   "metadata": {},
   "source": [
    "Next, construct a document matrix `X` as a matrix of [TF-IDF](https://en.wikipedia.org/wiki/Tf%E2%80%93idf) features for each document. TF-IDF features encode information about the word frequency within a document, weighted by the frequency of the same word for corpus as a whole.\n",
    "\n",
    "   - Use the `TfidfVectorizer` from [scikit-learn](http://scikit-learn.org/stable/modules/generated/sklearn.feature_extraction.text.TfidfVectorizer.html) to create the document matrix `X`.\n",
    "   - Set `min_df=50`; this drops words that don't occur in at least 50 documents.\n",
    "   - Set `stop_words=\"english\"` and `max_df=0.8` to filter out stop-words.\n",
    "   - Print the number of unique words in the vocabulary Hint: Look for the `vocabulary_` attribute in the `TfidfVectorizer` object after fitting the vectorizer to the data set. The vocabulary will also be needed in part (d)."
   ]
  },
  {
   "cell_type": "code",
   "execution_count": 11,
   "metadata": {},
   "outputs": [
    {
     "name": "stdout",
     "output_type": "stream",
     "text": [
      "(5171, 1680)\n"
     ]
    }
   ],
   "source": [
    "########################################################################\n",
    "######################### Write your code here #########################\n",
    "########################################################################\n",
    "from sklearn.feature_extraction.text import TfidfVectorizer\n",
    "tfidf_vector = TfidfVectorizer(use_idf=True,stop_words='english',min_df=50,max_df=0.8)\n",
    "X = tfidf_vector.fit_transform(documents)\n",
    "print(X.shape)"
   ]
  },
  {
   "cell_type": "code",
   "execution_count": 29,
   "metadata": {},
   "outputs": [
    {
     "name": "stdout",
     "output_type": "stream",
     "text": [
      "1680\n"
     ]
    }
   ],
   "source": [
    "vocabulary  = tfidf_vector.vocabulary_.keys()\n",
    "print(len(vocabulary))"
   ]
  },
  {
   "cell_type": "markdown",
   "metadata": {},
   "source": [
    "### Part C: Perform Clustering [10 points]"
   ]
  },
  {
   "cell_type": "markdown",
   "metadata": {},
   "source": [
    "Perform clustering on the document matrix `X` using GMMs. \n",
    "- Use the `GaussianMixture` module from [scikit-learn](http://scikit-learn.org/stable/modules/generated/sklearn.mixture.GaussianMixture.html) to cluster the documents.\n",
    "- Set the number of clusters (mixture components) to 3.\n",
    "- Print the number of documents assigned to each cluster."
   ]
  },
  {
   "cell_type": "code",
   "execution_count": 19,
   "metadata": {},
   "outputs": [
    {
     "data": {
      "text/plain": [
       "array([1, 2, 1, ..., 2, 2, 2], dtype=int64)"
      ]
     },
     "execution_count": 19,
     "metadata": {},
     "output_type": "execute_result"
    }
   ],
   "source": [
    "########################################################################\n",
    "######################### Write your code here #########################\n",
    "########################################################################\n",
    "from sklearn.mixture import GaussianMixture\n",
    "\n",
    "gmm = GaussianMixture(n_components=3, n_init=10, random_state=123)\n",
    "gmm.fit(X.toarray())\n",
    "gmm_cluster_assignments = gmm.predict(X.toarray())\n",
    "gmm_cluster_assignments"
   ]
  },
  {
   "cell_type": "code",
   "execution_count": 25,
   "metadata": {},
   "outputs": [
    {
     "name": "stdout",
     "output_type": "stream",
     "text": [
      "cluster 0 has 2854 documents\n",
      "cluster 1 has 467 documents\n",
      "cluster 2 has 1850 documents\n"
     ]
    }
   ],
   "source": [
    "from collections import Counter\n",
    "gmm_cluster_count = Counter(gmm_cluster_assignments)\n",
    "for i in range(3):\n",
    "    print('cluster {} has {} documents'.format(i,gmm_cluster_count[i]))"
   ]
  },
  {
   "cell_type": "markdown",
   "metadata": {},
   "source": [
    "### Part D: Characterize the clusters [10 points]"
   ]
  },
  {
   "cell_type": "markdown",
   "metadata": {},
   "source": [
    "Now, we will attempt to characterize the clusters based on the frequency of spam-relevant words. \n",
    "- Select 3 \"spammy\" words from the vocabulary that you expect to occur frequently in spam emails and less frequently in normal business emails (e.g., 'click', 'www', 'offer'). Construct a list, `spam_indices`, storing the indices of the spammy words you selected in the vocabulary generated by `TfidfVectorizer`.\n",
    "- Select 3 \"hammy\" words from the vocabulary you think will occur frequently in business emails and infrequently in spam emails (e.g., 'meeting', 'attached', 'review'). Construct a list, `ham_indices`, storing the indices of the hammy words you selected in the vocabulary generated by `TfidfVectorizer`.\n",
    "- Use the function provided below, `plot_spam_words_by_cluster`, to plot the average TF-IDF features for your selected spammy words and hammy words for each cluster. The function takes the following parameters:\n",
    "    - `X` is a matrix of TF-IDF features (rows index documents, columns index terms).\n",
    "    - `predicted` is predicted cluster assignments returned by `GaussianMixture.predict()`\n",
    "    - `n_clusters` is the number of clusters. This should match the number of clusters from your GMM.\n",
    "    - `spam_indices` is a list of indices of spammy words in the vocabulary.\n",
    "    - `ham_indices` is a list of indices of hammy (typical business) words in the vocabulary."
   ]
  },
  {
   "cell_type": "code",
   "execution_count": 37,
   "metadata": {},
   "outputs": [],
   "source": [
    "def plot_spam_words_by_cluster(X, predicted, n_clusters, spam_indices, ham_indices):\n",
    "    import numpy as np\n",
    "    import matplotlib.pyplot as plt\n",
    "    \n",
    "    # Calculate mean TF-IDF features for each cluster\n",
    "    mean_tfidf_spam = []\n",
    "    mean_tfidf_ham = []\n",
    "    for spam in spam_indices:\n",
    "        mean_tfidf_spam.append([])\n",
    "    for ham in ham_indices:\n",
    "        mean_tfidf_ham.append([])\n",
    "    \n",
    "    for i in range(n_clusters):\n",
    "        for j, spam_idx in enumerate(spam_indices):\n",
    "            mean_tfidf_spam[j].append(X[predicted==i, spam_idx].mean())\n",
    "        for j, ham_idx in enumerate(ham_indices):\n",
    "            mean_tfidf_ham[j].append(X[predicted==i, ham_idx].mean())\n",
    "    \n",
    "    # Generate plot\n",
    "    fig, ax = plt.subplots()\n",
    "\n",
    "    ind = np.arange(n_clusters)    # the x locations for the groups\n",
    "    width = 0.10         # the width of the bars\n",
    "\n",
    "    # Plot spam bars\n",
    "    for i, val in enumerate(mean_tfidf_spam):\n",
    "        spam_bar = ax.bar(ind - (len(mean_tfidf_spam)-i-1)*width, val, width, color='r', bottom=0)\n",
    "\n",
    "    # Plot ham bars\n",
    "    for i, val in enumerate(mean_tfidf_ham):\n",
    "        ham_bar = ax.bar(ind + (len(mean_tfidf_ham)-i)*width, val, width,\n",
    "                color='y', bottom=0)\n",
    "\n",
    "    ax.set_title('Mean TF-IDF Features by Cluster for Spam-Relevant Words')\n",
    "    ax.set_xticks(ind + width / 2)\n",
    "    xticklabels = []\n",
    "    for i in range(n_clusters):\n",
    "        xticklabels.append('Cluster ' + str(i) + '\\n(n=' + str((predicted==i).sum()) + ')')\n",
    "    ax.set_xticklabels(xticklabels)\n",
    "\n",
    "    ax.legend((spam_bar[0], ham_bar[0]), ('Spammy words', 'Hammy words'))\n",
    "    ax.autoscale_view()\n",
    "    ax.set_ylabel('Mean TF-IDF')\n",
    "    plt.show()"
   ]
  },
  {
   "cell_type": "code",
   "execution_count": 45,
   "metadata": {},
   "outputs": [
    {
     "name": "stdout",
     "output_type": "stream",
     "text": [
      "[114, 322, 191]\n",
      "[99, 70, 341]\n"
     ]
    },
    {
     "data": {
      "image/png": "[encoded data removed]",
      "text/plain": [
       "<Figure size 432x288 with 1 Axes>"
      ]
     },
     "metadata": {
      "needs_background": "light"
     },
     "output_type": "display_data"
    }
   ],
   "source": [
    "########################################################################\n",
    "######################### Write your code here #########################\n",
    "########################################################################\n",
    "spam_words = ['click','www','offer']\n",
    "ham_words = ['meeting','attached','review']\n",
    "\n",
    "spam_indices = [list(vocabulary).index(word) for word in spam_words]\n",
    "ham_indices = [list(vocabulary).index(word) for word in ham_words]\n",
    "\n",
    "print(spam_indices)\n",
    "print(ham_indices)\n",
    "\n",
    "plot_spam_words_by_cluster(X.toarray(),gmm_cluster_assignments,3,spam_indices,ham_indices)"
   ]
  },
  {
   "cell_type": "markdown",
   "metadata": {},
   "source": [
    "### Part E: Interpret results [10 points]"
   ]
  },
  {
   "cell_type": "markdown",
   "metadata": {},
   "source": [
    "From the plot generated in part (d), do any of the clusters correspond to spam emails, based on the frequency of spammy and hammy words? Do any of the clusters appear to correspond to typical business emails (ham)? \n",
    "\n",
    "Re-run your analysis with a different choice for the number of clusters in your GMM (e.g., `n_clusters=5` or `n_clusters=2`). How does changing the number of clusters affect your results? Does one choice of `n_clusters` appear better than another for locating clusters of spam emails?"
   ]
  },
  {
   "cell_type": "markdown",
   "metadata": {},
   "source": [
    "*** WRITE YOUR ANSWER HERE IN TEXT ***\n",
    "\n",
    "We can see that for cluster0, the three hammy words' mean TF-IDF value is higher than other 2 clusters, indicating mostly typical business emails in this cluster. But note that most emails are classified into this cluster. Generally speaking, most emails in the dataset are business emails. It's not surprising that cluster0 contains mostly business emails.\n",
    "For cluster2, mean TF-IDF values of three hammy words are small but values of spam words are not small, indicating some spam emails in the cluster.\n",
    "\n",
    "After re-running the cluster model with 2 clusters, for each cluster, both ham and spam exist. But the one with more instances have more business emails. The cluster with fewer instances have a larger proportion of spams. Try 5 clusters, we can get a quite \"pure\" ham email cluster3 and an almost pure cluster4. For the two clusters with most instances, both spam and ham exist. Therefore, by choosing a larger number of cluster, which means more similarity within each cluster, we tend to get clusters with almost business emails and filter out the spam ones. \n",
    "\n",
    "\n"
   ]
  },
  {
   "cell_type": "code",
   "execution_count": 50,
   "metadata": {},
   "outputs": [
    {
     "name": "stdout",
     "output_type": "stream",
     "text": [
      "[4 2 4 ... 2 2 3]\n",
      "[114, 322, 191]\n",
      "[99, 70, 341]\n"
     ]
    },
    {
     "data": {
      "image/png": "[encoded data removed]",
      "text/plain": [
       "<Figure size 432x288 with 1 Axes>"
      ]
     },
     "metadata": {
      "needs_background": "light"
     },
     "output_type": "display_data"
    }
   ],
   "source": [
    "########################################################################\n",
    "######################### Write your code here #########################\n",
    "########################################################################\n",
    "gmm = GaussianMixture(n_components=5, n_init=10, random_state=123)\n",
    "gmm.fit(X.toarray())\n",
    "gmm_cluster_assignments = gmm.predict(X.toarray())\n",
    "print(gmm_cluster_assignments)\n",
    "\n",
    "spam_words = ['click','www','offer']\n",
    "ham_words = ['meeting','attached','review']\n",
    "\n",
    "spam_indices = [list(vocabulary).index(word) for word in spam_words]\n",
    "ham_indices = [list(vocabulary).index(word) for word in ham_words]\n",
    "\n",
    "print(spam_indices)\n",
    "print(ham_indices)\n",
    "\n",
    "plot_spam_words_by_cluster(X.toarray(),gmm_cluster_assignments,5,spam_indices,ham_indices)"
   ]
  },
  {
   "cell_type": "code",
   "execution_count": 49,
   "metadata": {},
   "outputs": [
    {
     "name": "stdout",
     "output_type": "stream",
     "text": [
      "[1 0 1 ... 0 0 1]\n",
      "[114, 322, 191]\n",
      "[99, 70, 341]\n"
     ]
    },
    {
     "data": {
      "image/png": "[encoded data removed]",
      "text/plain": [
       "<Figure size 432x288 with 1 Axes>"
      ]
     },
     "metadata": {
      "needs_background": "light"
     },
     "output_type": "display_data"
    }
   ],
   "source": [
    "gmm = GaussianMixture(n_components=2, n_init=10, random_state=123)\n",
    "gmm.fit(X.toarray())\n",
    "gmm_cluster_assignments = gmm.predict(X.toarray())\n",
    "print(gmm_cluster_assignments)\n",
    "\n",
    "spam_words = ['click','www','offer']\n",
    "ham_words = ['meeting','attached','review']\n",
    "\n",
    "spam_indices = [list(vocabulary).index(word) for word in spam_words]\n",
    "ham_indices = [list(vocabulary).index(word) for word in ham_words]\n",
    "\n",
    "print(spam_indices)\n",
    "print(ham_indices)\n",
    "\n",
    "plot_spam_words_by_cluster(X.toarray(),gmm_cluster_assignments,2,spam_indices,ham_indices)"
   ]
  },
  {
   "cell_type": "markdown",
   "metadata": {},
   "source": [
    "## Question 2: Latent \"Purposes\" in Mobile Apps [45 points]\n",
    "\n",
    "\n",
    "Think of Android applications as \"documents\", where \"words\" are the \"permissions\" that each app requests. Each app has a set of latent \"purposes\" (topics); a \"purpose\" may be a specific task (such as taking photographs and uploading them to the internet), and an application may have a mixture of purposes of varying strength.\n",
    "\n",
    "Can we uncover these purposes from a dataset of Android applications and the permissions they request?"
   ]
  },
  {
   "cell_type": "code",
   "execution_count": 2,
   "metadata": {},
   "outputs": [],
   "source": [
    "import numpy as np\n",
    "import matplotlib.pyplot as plt\n",
    "import pandas as pd\n",
    "%matplotlib inline"
   ]
  },
  {
   "cell_type": "markdown",
   "metadata": {},
   "source": [
    "### Part A: Load the data [0 points]"
   ]
  },
  {
   "cell_type": "markdown",
   "metadata": {},
   "source": [
    "The [dataset](http://www.mariofrank.net/andrApps/) contains ~180,000 applications from the Android app store, including each app's name, description and permissions requested. For more about Android app permissions, see [this report](http://www.pewinternet.org/2015/11/10/an-analysis-of-android-app-permissions/).\n",
    "\n",
    "   * Download the data and unzip it into the same folder as this notebook.\n",
    "   * Rename the CSV file to \"android.csv\".\n",
    "   * Run the cells below to load the data into the notebook.\n",
    "\n",
    "This may take up ~2GB of RAM."
   ]
  },
  {
   "cell_type": "code",
   "execution_count": 3,
   "metadata": {},
   "outputs": [],
   "source": [
    "df = pd.read_csv(\"android.csv\", sep=\",\",  thousands=\",\")"
   ]
  },
  {
   "cell_type": "code",
   "execution_count": 4,
   "metadata": {},
   "outputs": [],
   "source": [
    "df[\"Number of ratings\"] = df[\"Number of ratings\"].astype(int) # fix data type\n",
    "df = df.drop_duplicates(subset=[\"App\"]).reset_index(drop=True)"
   ]
  },
  {
   "cell_type": "code",
   "execution_count": 5,
   "metadata": {},
   "outputs": [
    {
     "data": {
      "text/html": [
       "<div>\n",
       "<style scoped>\n",
       "    .dataframe tbody tr th:only-of-type {\n",
       "        vertical-align: middle;\n",
       "    }\n",
       "\n",
       "    .dataframe tbody tr th {\n",
       "        vertical-align: top;\n",
       "    }\n",
       "\n",
       "    .dataframe thead th {\n",
       "        text-align: right;\n",
       "    }\n",
       "</style>\n",
       "<table border=\"1\" class=\"dataframe\">\n",
       "  <thead>\n",
       "    <tr style=\"text-align: right;\">\n",
       "      <th></th>\n",
       "      <th>App</th>\n",
       "      <th>Package</th>\n",
       "      <th>Category</th>\n",
       "      <th>Description</th>\n",
       "      <th>Rating</th>\n",
       "      <th>Number of ratings</th>\n",
       "      <th>Price</th>\n",
       "      <th>Related apps</th>\n",
       "      <th>Dangerous permissions count</th>\n",
       "      <th>Safe permissions count</th>\n",
       "      <th>...</th>\n",
       "      <th>Your personal information : read Browser's history and bookmarks (D)</th>\n",
       "      <th>Your personal information : read calendar events (D)</th>\n",
       "      <th>Your personal information : read contact data (D)</th>\n",
       "      <th>Your personal information : read sensitive log data (D)</th>\n",
       "      <th>Your personal information : read user defined dictionary (D)</th>\n",
       "      <th>Your personal information : retrieve system internal state (S)</th>\n",
       "      <th>Your personal information : set alarm in alarm clock (S)</th>\n",
       "      <th>Your personal information : write Browser's history and bookmarks (D)</th>\n",
       "      <th>Your personal information : write contact data (D)</th>\n",
       "      <th>Your personal information : write to user defined dictionary (S)</th>\n",
       "    </tr>\n",
       "  </thead>\n",
       "  <tbody>\n",
       "    <tr>\n",
       "      <th>0</th>\n",
       "      <td>Google Maps</td>\n",
       "      <td>com.google.android.apps.maps</td>\n",
       "      <td>Travel &amp; Local</td>\n",
       "      <td>Download the latest release of Google Maps, an...</td>\n",
       "      <td>4.4</td>\n",
       "      <td>1438259</td>\n",
       "      <td>$0.00</td>\n",
       "      <td>{com.jsdfproductions.ctatrackerpro, com.alk.co...</td>\n",
       "      <td>17.0</td>\n",
       "      <td>8</td>\n",
       "      <td>...</td>\n",
       "      <td>0</td>\n",
       "      <td>0</td>\n",
       "      <td>1</td>\n",
       "      <td>0</td>\n",
       "      <td>0</td>\n",
       "      <td>0</td>\n",
       "      <td>0</td>\n",
       "      <td>0</td>\n",
       "      <td>1</td>\n",
       "      <td>0</td>\n",
       "    </tr>\n",
       "    <tr>\n",
       "      <th>1</th>\n",
       "      <td>Snowfall Live Wallpaper</td>\n",
       "      <td>fishnoodle.snowfall_free</td>\n",
       "      <td>Personalization</td>\n",
       "      <td>Snowfall Live Wallpaper: Wintertime on your ho...</td>\n",
       "      <td>4.3</td>\n",
       "      <td>18147</td>\n",
       "      <td>$0.00</td>\n",
       "      <td>{colfore.wallpaper.snowfree, com.tabsoft.wallp...</td>\n",
       "      <td>0.0</td>\n",
       "      <td>0</td>\n",
       "      <td>...</td>\n",
       "      <td>0</td>\n",
       "      <td>0</td>\n",
       "      <td>0</td>\n",
       "      <td>0</td>\n",
       "      <td>0</td>\n",
       "      <td>0</td>\n",
       "      <td>0</td>\n",
       "      <td>0</td>\n",
       "      <td>0</td>\n",
       "      <td>0</td>\n",
       "    </tr>\n",
       "    <tr>\n",
       "      <th>2</th>\n",
       "      <td>Aquarium Live Wallpaper</td>\n",
       "      <td>fishnoodle.aquarium_free</td>\n",
       "      <td>Personalization</td>\n",
       "      <td>A beautiful tropical fish tank live wallpaper!...</td>\n",
       "      <td>4.1</td>\n",
       "      <td>62145</td>\n",
       "      <td>$0.00</td>\n",
       "      <td>{com.convisual.lwp.fishometerlite, com.accessl...</td>\n",
       "      <td>0.0</td>\n",
       "      <td>0</td>\n",
       "      <td>...</td>\n",
       "      <td>0</td>\n",
       "      <td>0</td>\n",
       "      <td>0</td>\n",
       "      <td>0</td>\n",
       "      <td>0</td>\n",
       "      <td>0</td>\n",
       "      <td>0</td>\n",
       "      <td>0</td>\n",
       "      <td>0</td>\n",
       "      <td>0</td>\n",
       "    </tr>\n",
       "  </tbody>\n",
       "</table>\n",
       "<p>3 rows × 183 columns</p>\n",
       "</div>"
      ],
      "text/plain": [
       "                       App                       Package         Category  \\\n",
       "0              Google Maps  com.google.android.apps.maps   Travel & Local   \n",
       "1  Snowfall Live Wallpaper      fishnoodle.snowfall_free  Personalization   \n",
       "2  Aquarium Live Wallpaper      fishnoodle.aquarium_free  Personalization   \n",
       "\n",
       "                                         Description  Rating  \\\n",
       "0  Download the latest release of Google Maps, an...     4.4   \n",
       "1  Snowfall Live Wallpaper: Wintertime on your ho...     4.3   \n",
       "2  A beautiful tropical fish tank live wallpaper!...     4.1   \n",
       "\n",
       "   Number of ratings  Price  \\\n",
       "0            1438259  $0.00   \n",
       "1              18147  $0.00   \n",
       "2              62145  $0.00   \n",
       "\n",
       "                                        Related apps  \\\n",
       "0  {com.jsdfproductions.ctatrackerpro, com.alk.co...   \n",
       "1  {colfore.wallpaper.snowfree, com.tabsoft.wallp...   \n",
       "2  {com.convisual.lwp.fishometerlite, com.accessl...   \n",
       "\n",
       "   Dangerous permissions count  Safe permissions count  ...  \\\n",
       "0                         17.0                       8  ...   \n",
       "1                          0.0                       0  ...   \n",
       "2                          0.0                       0  ...   \n",
       "\n",
       "   Your personal information : read Browser's history and bookmarks (D)  \\\n",
       "0                                                  0                      \n",
       "1                                                  0                      \n",
       "2                                                  0                      \n",
       "\n",
       "   Your personal information : read calendar events (D)  \\\n",
       "0                                                  0      \n",
       "1                                                  0      \n",
       "2                                                  0      \n",
       "\n",
       "   Your personal information : read contact data (D)  \\\n",
       "0                                                  1   \n",
       "1                                                  0   \n",
       "2                                                  0   \n",
       "\n",
       "   Your personal information : read sensitive log data (D)  \\\n",
       "0                                                  0         \n",
       "1                                                  0         \n",
       "2                                                  0         \n",
       "\n",
       "   Your personal information : read user defined dictionary (D)  \\\n",
       "0                                                  0              \n",
       "1                                                  0              \n",
       "2                                                  0              \n",
       "\n",
       "   Your personal information : retrieve system internal state (S)  \\\n",
       "0                                                  0                \n",
       "1                                                  0                \n",
       "2                                                  0                \n",
       "\n",
       "   Your personal information : set alarm in alarm clock (S)  \\\n",
       "0                                                  0          \n",
       "1                                                  0          \n",
       "2                                                  0          \n",
       "\n",
       "   Your personal information : write Browser's history and bookmarks (D)  \\\n",
       "0                                                  0                       \n",
       "1                                                  0                       \n",
       "2                                                  0                       \n",
       "\n",
       "   Your personal information : write contact data (D)  \\\n",
       "0                                                  1    \n",
       "1                                                  0    \n",
       "2                                                  0    \n",
       "\n",
       "   Your personal information : write to user defined dictionary (S)  \n",
       "0                                                  0                 \n",
       "1                                                  0                 \n",
       "2                                                  0                 \n",
       "\n",
       "[3 rows x 183 columns]"
      ]
     },
     "execution_count": 5,
     "metadata": {},
     "output_type": "execute_result"
    }
   ],
   "source": [
    "df.head(n=3)"
   ]
  },
  {
   "cell_type": "markdown",
   "metadata": {},
   "source": [
    "### Part B: Convert each app into a \"document\" [0 points]\n",
    "\n",
    "The code below does the following:\n",
    "\n",
    "   * Filter out all the columns except the permission columns.\n",
    "   * Convert this dataframe into a numpy matrix.\n",
    "\n",
    "There are thus 180295 apps (documents) and 173 permissions (words).\n",
    "\n",
    "   - `X` is the \"document\" or \"word-frequency\" matrix.\n",
    "   - `permission_columns` contains the words ordered by their column index in X.\n",
    "   - `app_names` contains the application names ordered by their row index in X.\n",
    "   - `app_ratings` contains the *number* of application ratings (not the ratings themselves)."
   ]
  },
  {
   "cell_type": "code",
   "execution_count": 6,
   "metadata": {},
   "outputs": [
    {
     "data": {
      "text/plain": [
       "(180295, 173)"
      ]
     },
     "execution_count": 6,
     "metadata": {},
     "output_type": "execute_result"
    }
   ],
   "source": [
    "permission_columns = list(df.columns[10:])\n",
    "app_names = list(df[\"App\"])\n",
    "app_ratings = np.array(df[\"Number of ratings\"])\n",
    "df_perms = df[permission_columns]\n",
    "X = df_perms.values\n",
    "#del df # uncomment to free up RAM\n",
    "#del df_perms # uncomment to free up RAM\n",
    "X.shape"
   ]
  },
  {
   "cell_type": "code",
   "execution_count": 60,
   "metadata": {},
   "outputs": [
    {
     "data": {
      "text/plain": [
       "array([[0, 0, 0, ..., 0, 1, 0],\n",
       "       [0, 0, 0, ..., 0, 0, 0],\n",
       "       [0, 0, 0, ..., 0, 0, 0],\n",
       "       ...,\n",
       "       [0, 0, 0, ..., 0, 0, 0],\n",
       "       [0, 0, 0, ..., 0, 0, 0],\n",
       "       [0, 0, 0, ..., 0, 0, 0]], dtype=int64)"
      ]
     },
     "execution_count": 60,
     "metadata": {},
     "output_type": "execute_result"
    }
   ],
   "source": [
    "########################################################################\n",
    "######################### Write your code here #########################\n",
    "########################################################################\n",
    "X"
   ]
  },
  {
   "cell_type": "markdown",
   "metadata": {},
   "source": [
    "### Part D: Discover 10 \"topics\" [2.5 points]\n",
    "\n",
    "   * Use the `LatentDirichletAllocation` class in `scikit-learn` to fit 10 topics to the data.\n",
    "   * Use 10 max iterations, set `n_jobs=-1` to use all cores on your machine (if it helps).\n",
    "   * Feel free to understand and play around with other parameters.\n",
    "   * This may take around 3 minutes to run."
   ]
  },
  {
   "cell_type": "code",
   "execution_count": 7,
   "metadata": {},
   "outputs": [
    {
     "name": "stdout",
     "output_type": "stream",
     "text": [
      "Wall time: 3min 49s\n"
     ]
    },
    {
     "data": {
      "text/plain": [
       "LatentDirichletAllocation(n_jobs=-1, random_state=0)"
      ]
     },
     "execution_count": 7,
     "metadata": {},
     "output_type": "execute_result"
    }
   ],
   "source": [
    "%%time\n",
    "########################################################################\n",
    "######################### Write your code here #########################\n",
    "########################################################################\n",
    "num_topics = 10\n",
    "from sklearn.decomposition import LatentDirichletAllocation\n",
    "lda = LatentDirichletAllocation(n_components=num_topics, random_state=0, n_jobs=-1, max_iter=10)\n",
    "lda.fit(X)"
   ]
  },
  {
   "cell_type": "markdown",
   "metadata": {},
   "source": [
    "Now each app can be viewed as a distribution over these 10 topics, and each topic is a distribution over all the permissions in the data."
   ]
  },
  {
   "cell_type": "markdown",
   "metadata": {},
   "source": [
    "### Part E: List the top 10 \"words\" in each topic [15 points]\n",
    "\n",
    "Do any of the topics correspond to meaningful app \"purposes\"? List the ones you find meaningful below:\n",
    "\n",
    "   * Topic #i: \"your interpretation\""
   ]
  },
  {
   "cell_type": "code",
   "execution_count": 65,
   "metadata": {},
   "outputs": [
    {
     "name": "stdout",
     "output_type": "stream",
     "text": [
      "(10, 173)\n",
      "Displaying the top 10 words per topic and their probabilities within the topic...\n",
      "\n",
      "[Topic 0]\n",
      "Your location : coarse (network-based) location (D) : 0.24496544174756196\n",
      "Your location : fine (GPS) location (D) : 0.24349646687969284\n",
      "Network communication : full Internet access (D) : 0.22974623534000055\n",
      "Network communication : view network state (S) : 0.1182761627800653\n",
      "Phone calls : read phone state and identity (D) : 0.0883784626177036\n",
      "Services that cost you money : directly call phone numbers (D) : 0.0472112009349013\n",
      "Hardware controls : control vibrator (S) : 0.013172802580275348\n",
      "Network communication : view Wi-Fi state (S) : 0.007792659687669231\n",
      "System tools : send sticky broadcast (S) : 0.0057636195372806395\n",
      "Storage : modify/delete USB storage contents modify/delete SD card contents (D) : 0.0008222960368034997\n",
      "\n",
      "[Topic 1]\n",
      "System tools : prevent device from sleeping (D) : 0.24970541426826612\n",
      "Hardware controls : control vibrator (S) : 0.20393203868114282\n",
      "Network communication : full Internet access (D) : 0.1331076662124886\n",
      "Network communication : view Wi-Fi state (S) : 0.06792294163592356\n",
      "System tools : change Wi-Fi state (D) : 0.05113254480744325\n",
      "Network communication : create Bluetooth connections (D) : 0.035402718548323234\n",
      "System tools : disable keylock (D) : 0.031954743056354123\n",
      "Network communication : view network state (S) : 0.029645116414447704\n",
      "System tools : bluetooth administration (D) : 0.026854282423431474\n",
      "System tools : modify global system settings (D) : 0.025728833799650665\n",
      "\n",
      "[Topic 2]\n",
      "Network communication : full Internet access (D) : 0.6488442084021868\n",
      "Network communication : view network state (S) : 0.3366309089126922\n",
      "Network communication : receive data from Internet (S) : 0.014019043795014494\n",
      "Default : coarse (network-based) location (S) : 8.599429182775099e-05\n",
      "Your accounts : Google Maps (D) : 6.912589705100665e-05\n",
      "Your accounts : Google Finance (D) : 5.226858895203122e-05\n",
      "Default : Modify Google service configuration (S) : 1.8544917904988343e-05\n",
      "System tools : change your UI settings (D) : 1.6863481695702103e-06\n",
      "Hardware controls : control vibrator (S) : 1.6862968788560106e-06\n",
      "System tools : display system-level alerts (D) : 1.686241177671793e-06\n",
      "\n",
      "[Topic 3]\n",
      "Services that cost you money : send SMS messages (D) : 0.11510542217225424\n",
      "Your messages : receive SMS (D) : 0.0828600343336607\n",
      "Your personal information : read contact data (D) : 0.07644237329301536\n",
      "Your messages : read SMS or MMS (D) : 0.06790227198183477\n",
      "Phone calls : read phone state and identity (D) : 0.05842086110967577\n",
      "Network communication : full Internet access (D) : 0.057660812349020915\n",
      "Your accounts : discover known accounts (S) : 0.056577925916448134\n",
      "Your messages : edit SMS or MMS (D) : 0.05243966888467696\n",
      "Network communication : view network state (S) : 0.041629024637835264\n",
      "System tools : automatically start at boot (S) : 0.040910156017665095\n",
      "\n",
      "[Topic 4]\n",
      "System tools : automatically start at boot (S) : 0.22503500669398277\n",
      "Hardware controls : control vibrator (S) : 0.10693438015714861\n",
      "System tools : prevent device from sleeping (D) : 0.09848513786645095\n",
      "Phone calls : read phone state and identity (D) : 0.09402000729653746\n",
      "Your accounts : discover known accounts (S) : 0.09115814215187026\n",
      "Network communication : full Internet access (D) : 0.07777389097798924\n",
      "Network communication : view network state (S) : 0.07723292362646769\n",
      "Storage : modify/delete USB storage contents modify/delete SD card contents (D) : 0.0641524388657568\n",
      "Phone calls : intercept outgoing calls (D) : 0.04131669673250657\n",
      "Your accounts : view configured accounts (S) : 0.02538563495521601\n",
      "\n",
      "[Topic 5]\n",
      "Storage : modify/delete USB storage contents modify/delete SD card contents (D) : 0.32387345466668055\n",
      "Network communication : full Internet access (D) : 0.26921267302271046\n",
      "Network communication : view network state (S) : 0.17037277015010896\n",
      "System tools : set wallpaper (S) : 0.11201768748433932\n",
      "System tools : mount and unmount filesystems (D) : 0.03275564357731505\n",
      "System tools : prevent device from sleeping (D) : 0.027890218417935375\n",
      "Phone calls : read phone state and identity (D) : 0.022658436962109733\n",
      "Hardware controls : take pictures and videos (D) : 0.01672366646625901\n",
      "System tools : retrieve running applications (D) : 0.013691719455158948\n",
      "Your personal information : read sensitive log data (D) : 0.004750707159892505\n",
      "\n",
      "[Topic 6]\n",
      "Hardware controls : take pictures and videos (D) : 0.11953705036285579\n",
      "Network communication : full Internet access (D) : 0.09299805774546827\n",
      "Storage : modify/delete USB storage contents modify/delete SD card contents (D) : 0.09280655546414013\n",
      "Your location : fine (GPS) location (D) : 0.08377227374848348\n",
      "Your location : coarse (network-based) location (D) : 0.07550268048532953\n",
      "Network communication : view network state (S) : 0.06815883637892511\n",
      "Hardware controls : record audio (D) : 0.06602817848799152\n",
      "Hardware controls : control vibrator (S) : 0.0643795458050208\n",
      "Phone calls : read phone state and identity (D) : 0.06075955838818175\n",
      "Your location : access extra location provider commands (S) : 0.04402944740509361\n",
      "\n",
      "[Topic 7]\n",
      "Phone calls : read phone state and identity (D) : 0.23898511271596906\n",
      "Network communication : full Internet access (D) : 0.23729931642058028\n",
      "Network communication : view network state (S) : 0.20429248699648522\n",
      "Storage : modify/delete USB storage contents modify/delete SD card contents (D) : 0.153460335823726\n",
      "Network communication : view Wi-Fi state (S) : 0.11014828662539973\n",
      "Hardware controls : control vibrator (S) : 0.032446325841800794\n",
      "System tools : kill background processes (S) : 0.019163726747721994\n",
      "Default : disable or modify status bar (S) : 0.0011709617785876213\n",
      "Your personal information : read user defined dictionary (D) : 0.0011117356083912356\n",
      "Your personal information : write to user defined dictionary (S) : 0.0010305290240366263\n",
      "\n",
      "[Topic 8]\n",
      "Network communication : full Internet access (D) : 0.11521407500663107\n",
      "Network communication : view network state (S) : 0.0998359467034766\n",
      "Phone calls : read phone state and identity (D) : 0.09757753686032926\n",
      "Storage : modify/delete USB storage contents modify/delete SD card contents (D) : 0.09308461464790488\n",
      "Your location : fine (GPS) location (D) : 0.07742790376203751\n",
      "System tools : prevent device from sleeping (D) : 0.07383355033322314\n",
      "System tools : retrieve running applications (D) : 0.07023598743622014\n",
      "Network communication : receive data from Internet (S) : 0.06325610131708609\n",
      "Hardware controls : control vibrator (S) : 0.0628293918476608\n",
      "System tools : automatically start at boot (S) : 0.046598208992518014\n",
      "\n",
      "[Topic 9]\n",
      "Your personal information : read contact data (D) : 0.2200833228094873\n",
      "Services that cost you money : directly call phone numbers (D) : 0.17270474040918465\n",
      "Your personal information : write contact data (D) : 0.10456229050201364\n",
      "System tools : modify global system settings (D) : 0.0996921886034115\n",
      "Storage : modify/delete USB storage contents modify/delete SD card contents (D) : 0.0827914791939808\n",
      "Network communication : full Internet access (D) : 0.03534552711460082\n",
      "Your accounts : discover known accounts (S) : 0.031540128122264526\n",
      "System tools : set wallpaper size hints (S) : 0.025348299600892587\n",
      "System tools : set wallpaper (S) : 0.023469193953223045\n",
      "Default : directly call any phone numbers (S) : 0.0197555219454094\n",
      "\n"
     ]
    }
   ],
   "source": [
    "########################################################################\n",
    "######################### Write your code here #########################\n",
    "########################################################################\n",
    "print(lda.components_.shape)\n",
    "topic_word_distributions = np.array([row / row.sum() for row in lda.components_])\n",
    "\n",
    "num_top_words = 10\n",
    "\n",
    "def print_top_words(topic_word_distributions, num_top_words):\n",
    "    vocab = permission_columns\n",
    "    num_topics = len(topic_word_distributions)\n",
    "    print('Displaying the top %d words per topic and their probabilities within the topic...' % num_top_words)\n",
    "    print()\n",
    "\n",
    "    for topic_idx in range(num_topics):\n",
    "        print('[Topic ', topic_idx, ']', sep='')\n",
    "        sort_indices = np.argsort(-topic_word_distributions[topic_idx])\n",
    "        for rank in range(num_top_words):\n",
    "            word_idx = sort_indices[rank]\n",
    "            print(vocab[word_idx], ':',\n",
    "                  topic_word_distributions[topic_idx, word_idx])\n",
    "        print()\n",
    "\n",
    "print_top_words(topic_word_distributions, num_top_words)\n",
    "\n"
   ]
  },
  {
   "cell_type": "markdown",
   "metadata": {},
   "source": [
    "*** WRITE YOUR ANSWER HERE IN TEXT ***\n",
    "\n",
    "- Topic 0: this kind of apps require network connection, location and phone service. \n",
    "- Topic 1: network. system and bluetooth related capabilities.\n",
    "- Topic 2: some apps using Google accounts and network\n",
    "- Topic 3: some apps that send notifications through messages and phones\n",
    "- Topic 4: basic requests, cannot find particular features\n",
    "- Topic 5: some apps that set wallpaper and access phone functions\n",
    "- Topic 6: apps that access location, audio, and phones\n",
    "- Topic 7: apps that require personal information\n",
    "- Topic 8: basic requests and access location information\n",
    "- Topic 9: basic requests and access wallpaper change and phone functions"
   ]
  },
  {
   "cell_type": "markdown",
   "metadata": {},
   "source": [
    "### Part F: For each topic, list the top 3 apps with at least 100000 ratings having the highest probability assigned to that topic [15 points]\n",
    "\n",
    "   - This further helps us understand what the topics actually mean.\n",
    "   - However, the data is noisy and this exercise may result in listing a bunch of obscure apps.\n",
    "   - Hence, filtering out all apps with less than 100000 ratings may help."
   ]
  },
  {
   "cell_type": "code",
   "execution_count": 32,
   "metadata": {},
   "outputs": [
    {
     "name": "stdout",
     "output_type": "stream",
     "text": [
      "(10, 95) 95\n",
      "For topic 0: \n",
      "Toss It; Paper Toss; GasBuddy; \n",
      "For topic 1: \n",
      "PowerAMP Music Player (Trial); Pandora® internet radio; Pandora?? internet radio; \n",
      "For topic 2: \n",
      "Yoo Ninja! Free; Angry Birds Seasons; Adobe Reader; \n",
      "For topic 3: \n",
      "Gmail; Facebook for Android; Yahoo! Mail; \n",
      "For topic 4: \n",
      "ColorNote Notepad Notes; Advanced Task Killer; Bible; \n",
      "For topic 5: \n",
      "Wallpapers HD; Strip Poker; Backgrounds HD Wallpapers; \n",
      "For topic 6: \n",
      "Brightest Flashlight Free™; Brightest Flashlight Free???; TweetCaster for Twitter; \n",
      "For topic 7: \n",
      "Vaulty Free Hides Pictures; Live Holdem Poker Pro; World Newspapers; \n",
      "For topic 8: \n",
      "TuneIn Radio; Restaurant Story™; Restaurant Story???; \n",
      "For topic 9: \n",
      "Ringdroid; GO Launcher EX; Zedge Ringtones & Wallpapers; \n"
     ]
    }
   ],
   "source": [
    "########################################################################\n",
    "######################### Write your code here #########################\n",
    "app_topic = lda.transform(X)\n",
    "\n",
    "topic_app = app_topic[app_ratings>=100000].T\n",
    "filtered_apps_names = np.array(app_names)[app_ratings>=100000]\n",
    "print(topic_app.shape,len(filtered_apps_name))\n",
    "\n",
    "for i in range(10):\n",
    "    print(\"For topic {}: \".format(i))\n",
    "    result = sorted(zip(topic_app[i], filtered_apps_names), reverse=True)[:3]\n",
    "    for i in result:\n",
    "        print(i[1],end='; ')\n",
    "    print()"
   ]
  },
  {
   "cell_type": "markdown",
   "metadata": {},
   "source": [
    "### Part G: Visualize the document-topic proportion matrix in 2-D using t-SNE [10 points]\n",
    "\n",
    "Does our reduced dimensional space contain any structure? Visualize the documents (in the topic-space) using t-SNE.\n",
    "\n",
    "   * Use `TSNE` from `scikit-learn`.\n",
    "   * Set the angle to 0.99 and init to 'PCA'. Pick any learning rate that gives you a visually pleasing result.\n",
    "   * You may `fit` TSNE to a sample of the data (>1000 documents) instead of the full data.\n",
    "   * Remember to call `fit_transform` to obtain your 2-D data.\n",
    "   * Plot the t-SNE dimensions as a scatterplot.\n",
    "   * Color each point based on its most probable topic. Make sure you include a legend (10 colors).\n",
    "   \n",
    "Clusters in the t-SNE plot indicate groups of apps that have similar topics."
   ]
  },
  {
   "cell_type": "code",
   "execution_count": 35,
   "metadata": {},
   "outputs": [
    {
     "name": "stdout",
     "output_type": "stream",
     "text": [
      "(3000, 173)\n",
      "(3000, 2)\n",
      "Wall time: 25.6 s\n"
     ]
    }
   ],
   "source": [
    "%%time\n",
    "########################################################################\n",
    "######################### Write your code here #########################\n",
    "########################################################################\n",
    "sample_matrix = X[:3000]\n",
    "print(sample_matrix.shape)\n",
    "\n",
    "from sklearn.manifold import TSNE\n",
    "\n",
    "tsne = TSNE(n_components=2, random_state=0, angle=0.99, init='pca')  # note: in practice you should actually play with the perplexity, learning rate, and number of iterations\n",
    "sample_tsne2d = tsne.fit_transform(sample_matrix)\n",
    "print(sample_tsne2d.shape)\n"
   ]
  },
  {
   "cell_type": "code",
   "execution_count": 77,
   "metadata": {},
   "outputs": [
    {
     "data": {
      "text/plain": [
       "<AxesSubplot:>"
      ]
     },
     "execution_count": 77,
     "metadata": {},
     "output_type": "execute_result"
    },
    {
     "data": {
      "image/png": "[encoded data removed]",
      "text/plain": [
       "<Figure size 432x288 with 1 Axes>"
      ]
     },
     "metadata": {
      "needs_background": "light"
     },
     "output_type": "display_data"
    }
   ],
   "source": [
    "import seaborn as sns \n",
    "sns.scatterplot(x = tsne2d[:,0], y = tsne2d[:,1], hue = tsne2d[:,2], legend='full')"
   ]
  },
  {
   "cell_type": "markdown",
   "metadata": {},
   "source": [
    "## Question 3: Questionnaire [5 points]\n",
    "\n",
    "Please answer this survey after you have done this homework: https://forms.gle/ZHWcaABjUCYy8rLP9"
   ]
  }
 ],
 "metadata": {
  "kernelspec": {
   "display_name": "Python 3 (ipykernel)",
   "language": "python",
   "name": "python3"
  },
  "language_info": {
   "codemirror_mode": {
    "name": "ipython",
    "version": 3
   },
   "file_extension": ".py",
   "mimetype": "text/x-python",
   "name": "python",
   "nbconvert_exporter": "python",
   "pygments_lexer": "ipython3",
   "version": "3.8.8"
  }
 },
 "nbformat": 4,
 "nbformat_minor": 2
}
