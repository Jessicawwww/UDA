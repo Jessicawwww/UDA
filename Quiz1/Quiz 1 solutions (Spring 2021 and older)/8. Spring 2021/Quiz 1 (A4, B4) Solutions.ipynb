{
 "cells": [
  {
   "cell_type": "markdown",
   "metadata": {},
   "source": [
    "# 95-865 Spring 2021 A4/B4 Quiz 1 (80 minutes)\n",
    "\n",
    "**Please make sure that your Zoom video is *on* during the duration of the exam. Also, please make sure that you can hear the course staff make announcements (i.e., please mute yourself but please make sure your speakers/headphones/earphones/etc are on so that you can hear us say things). The exam ends at 4:30pm and we will only grade what is submitted to the official Canvas assignment submission system for Quiz 1.**\n",
    "\n",
    "You must fill in your name and your Andrew ID for this quiz to be graded. Moreover, filling out your name and Andrew ID below will serve as your agreement with us, the course staff, that you did not collaborate with anyone on this exam and that what you submit is truly your own individual work and not that of anyone else. Violations found will result in severe penalties.\n",
    "\n",
    "**Your name:** Solutions!\n",
    "\n",
    "**Your Andrew ID:** I don't have an Andrew ID =(\n",
    "\n",
    "**Warning: If you leave the above blank, your quiz will not be graded.**"
   ]
  },
  {
   "cell_type": "markdown",
   "metadata": {},
   "source": [
    "Note that Problems 1 (no coding) and 2 (coding) can be done in either order."
   ]
  },
  {
   "cell_type": "markdown",
   "metadata": {},
   "source": [
    "## Problem 1: Some Conceptual Questions (No Coding)\n",
    "\n",
    "In this problem, parts **(a)** and **(b)** can be done in either order.\n",
    "\n",
    "**(a)** Consider the following collection of three text documents:\n",
    "\n",
    "Document 1: `65673`\n",
    "\n",
    "Document 2: `2677237`\n",
    "\n",
    "Document 3: `614357`\n",
    "\n",
    "Suppose that we tokenize by looking at individual characters. For example, the first document has the tokens `6`, `5`, `6`, `7`, and `3`."
   ]
  },
  {
   "cell_type": "markdown",
   "metadata": {},
   "source": [
    "**Subpart i. [4 pts]** What is the collection term frequency of `7`? Please state both the raw count answer as well as the frequency as a fraction answer."
   ]
  },
  {
   "cell_type": "markdown",
   "metadata": {},
   "source": [
    "**Your raw count answer here along with a justification of your answer:** `7` has collection term frequency 5 (raw count).\n",
    "\n",
    "*Explanation.* We count the number of times `7` appears in the documents:\n",
    "\n",
    "- Document 1: `7` appears 1 time\n",
    "- Document 2: `7` appears 3 times\n",
    "- Document 3: `7` appears 1 time\n",
    "\n",
    "Thus, the collection term frequency as a raw count for `7` is 1 + 3 + 1 = 5.\n",
    "\n",
    "**Your frequency as a fraction answer here along with a justification of your answer:** `7` has collection term frequency 5/18 (fraction).\n",
    "\n",
    "*Explanation.* We divide the raw count by the total number of tokens encountered across the collection. The number of tokens in the documents are as follows:\n",
    "\n",
    "- Document 1: 5 tokens\n",
    "- Document 2: 7 tokens\n",
    "- Document 3: 6 tokens\n",
    "\n",
    "Thus, the total number of tokens is 5 + 7 + 6 = 18. Thus, the collection term frequency (as a fraction) for `7` is 5/18."
   ]
  },
  {
   "cell_type": "markdown",
   "metadata": {},
   "source": [
    "**Subpart ii. [8 pts]** Suppose that we remove all tokens that only show up in exactly 1 document. After removing these tokens, what are the term frequencies (as fractions) of the remaining tokens in document 2?"
   ]
  },
  {
   "cell_type": "markdown",
   "metadata": {},
   "source": [
    "**Your answer along with a justification of your answer:** Token `3` has frequency 1/5. Token `6` has frequency 1/5. Token `7` has frequency 3/5.\n",
    "\n",
    "*Explanation.* The first step is identifying which tokens show up exactly in 1 document. First off, the unique tokens present are `6`, `5`, `7`, `3`, `2`, `1`, and `4` (I basically went one token at a time starting from document 1 and going left to right to find unique tokens, so here they are ordered by when they first appeared). Of these unique tokens, we can easily check to see that `2`, `1`, and `4` each only appear in exactly 1 document. The rest of the tokens appear in at least 2 documents. Thus, after filtering out tokens that appear in exactly 1 document, we are left with the following tokens:\n",
    "\n",
    "- Document 1: `65673`\n",
    "- Document 2: `67737`\n",
    "- Document 3: `6357`\n",
    "\n",
    "Now we want the term frequency (as fractions) representation for document 2. There are a total of 5 tokens in it now. Thus, we have:\n",
    "\n",
    "- Token `3` has frequency 1/5.\n",
    "- Token `6` has frequency 1/5.\n",
    "- Token `7` has frequency 3/5."
   ]
  },
  {
   "cell_type": "markdown",
   "metadata": {},
   "source": [
    "**Subpart iii. [12 pts]** For this subpart, we use the original text documents as originally stated *without* removing any tokens (i.e., for this subpart, do not remove tokens like we did in subpart ii).\n",
    "\n",
    "What is the PMI of `5` and `6`? To do this calculation, for any two tokens, let the probability of the two tokens co-occurring be the fraction of documents that mention both tokens. The probability of a single token showing up by itself is the fraction of documents that mention that token."
   ]
  },
  {
   "cell_type": "markdown",
   "metadata": {},
   "source": [
    "**Your answer along with a justification of your answer:** The PMI of `5` and `6` is 0.\n",
    "\n",
    "*Explanation.* The fraction of documents that mention both `5` and `6` is 2/3 (documents 1 and 3 mention `5` and `6` out of a total of 3 documents). The fraction of documents that mention `5` is 2/3 (documents 1 and 3 mention `5` out of a total of 3 documents). The fraction of documents that mention `6` is 3/3 (all three documents mention `6`).\n",
    "\n",
    "Thus the PMI of `5` and `6` is:\n",
    "\n",
    "log{(fraction of documents that mention both `5` and `6`) / ((fraction of documents that mention `5`) * (fraction of documents that mention `6`))}\n",
    "\n",
    "= log((2/3)/((2/3) * (3/3))) = log(1) = 0"
   ]
  },
  {
   "attachments": {
    "mystery_image.png": {
     "image/png": "[encoded data removed]"
    }
   },
   "cell_type": "markdown",
   "metadata": {},
   "source": [
    "**(b) [12 pts across subparts]** Suppose that we transform the text data somehow (precisely how is not important for this problem) into a feature vector representation with **2738** features. We then fit a **500**-dimensional PCA model on it. Below we show the plot for the total proportion of variance explained (abbreviated as \"total variance explained\" in the plot) as a function of how many of the top PCA components we keep. (In case this plot is not correctly displaying in your Jupyter notebook, we have also included it as the file `mystery_image.png`.)\n",
    "\n",
    "![mystery_image.png](attachment:mystery_image.png)"
   ]
  },
  {
   "cell_type": "markdown",
   "metadata": {},
   "source": [
    "**Subpart i. [4 pts]** Roughly how many PCA components are needed to explain 45% of the variance in the data?"
   ]
  },
  {
   "cell_type": "markdown",
   "metadata": {},
   "source": [
    "**Your answer along with a justification of your answer:** Approximately 350 PCA dimensions.\n",
    "\n",
    "*Explanation.* We are basically looking for the x coordinate where the blue curve crosses a y coordinate value of 0.45. The x coordinate achieving this is approximately 350."
   ]
  },
  {
   "cell_type": "markdown",
   "metadata": {},
   "source": [
    "**Subpart ii. [4 pts]** If we already have a 500-dimensional PCA model that has been fitted to the data, do we have to re-fit the model if we instead wanted to plot the 2-dimensional PCA representation?"
   ]
  },
  {
   "cell_type": "markdown",
   "metadata": {},
   "source": [
    "**Your answer along with a justification of your answer:** No.\n",
    "\n",
    "*Explanation.* A 500-dimensional PCA model already fitted to the data contains the PCA representation for any number of dimensions less than 500 as well. In terms of code, when we use the model to transform new data, we simply look at the initial two coordinates of the 500-dimensional PCA representation."
   ]
  },
  {
   "cell_type": "markdown",
   "metadata": {},
   "source": [
    "**Subpart iii. [4 pts]** If we had instead fit a 2738-dimensional PCA model, what would the total explained variance be?"
   ]
  },
  {
   "cell_type": "markdown",
   "metadata": {},
   "source": [
    "**Your answer along with a justification of your answer:** 100%.\n",
    "\n",
    "*Explanation.* The dataset originally is 2738-dimensional so if we do not actually reduce the number of dimensions, then we would explain 100% of the variance."
   ]
  },
  {
   "cell_type": "markdown",
   "metadata": {},
   "source": [
    "## Problem 2. What Are Politicians Tweeting About? [64 points total]\n",
    "\n",
    "In this problem, you will be analyzing data extracted back in 2016 from the social network Twitter. This dataset contains posts only from six Twitter accounts: `realDonaldTrump`, `mike_pence`, `GOP`, `HillaryClinton`, `timkaine`, `TheDemocrats`. Each tweet (a post on Twitter) has an associated screen name (the Twitter handle of the user tweeting) as well as text of the tweet.\n",
    "\n",
    "The six screen names that we keep track of come from two political parties (Democrats and Republicans):\n",
    "- Democrats: `HillaryClinton`, `timkaine`, `TheDemocrats`\n",
    "- Republicans: `realDonaldTrump`, `mike_pence`, `GOP`\n",
    "\n",
    "Let's start with some imports. **Do not import anything else from what is imported in the next cell. This problem can be solved without using any other packages.**"
   ]
  },
  {
   "cell_type": "code",
   "execution_count": 1,
   "metadata": {},
   "outputs": [],
   "source": [
    "# <------------------ DO NOT MODIFY THIS CELL! ------------------>\n",
    "%matplotlib inline\n",
    "from collections import Counter\n",
    "import numpy as np\n",
    "import matplotlib.pyplot as plt"
   ]
  },
  {
   "cell_type": "markdown",
   "metadata": {},
   "source": [
    "**Loading the data.** Let's first load in the data. We've provided some code for you to do this."
   ]
  },
  {
   "cell_type": "markdown",
   "metadata": {},
   "source": [
    "For example, the 42nd tweet is by `timkaine` and has the text `\"joining the morning joe crew at 7 40am to talk foreign policy amp yesterday hearing on the counter isil operation\"`."
   ]
  },
  {
   "cell_type": "code",
   "execution_count": 2,
   "metadata": {},
   "outputs": [],
   "source": [
    "# <------------------ DO NOT MODIFY THIS CELL! ------------------>\n",
    "screen_names = np.load('mystery_apple.npy', allow_pickle=True)\n",
    "text = np.load('mystery_cold.npy', allow_pickle=True)"
   ]
  },
  {
   "cell_type": "code",
   "execution_count": 3,
   "metadata": {},
   "outputs": [
    {
     "name": "stdout",
     "output_type": "stream",
     "text": [
      "timkaine\n",
      "joining the morning joe crew at 7 40am to talk foreign policy amp yesterday hearing on the counter isil operation\n"
     ]
    }
   ],
   "source": [
    "# <------------------ DO NOT MODIFY THIS CELL! ------------------>\n",
    "print(screen_names[42])\n",
    "print(text[42])"
   ]
  },
  {
   "cell_type": "markdown",
   "metadata": {},
   "source": [
    "**(a) [4 pts]** As we will be comparing tweets written by Republicans vs Democrats, let's figure out labels for which tweet is by a Republican vs which tweet is by a Democrat. Write Python code that uses the variable `screen_names` to compute a new variable `labels` (a Python list) such that the i-th entry says whether the i-th screen name corresponds to a Republican or a Democrat account. Specifically, `labels[i]` should equal `'D'` if `screen_names[i]` corresponds to a Democrat account, and `'R'` if `screen_names[i]` corresponds to a Republican account. For example, since `screen_names[42]` is `timkaine`, your answer should have `labels[42]` equal to `'D'`."
   ]
  },
  {
   "cell_type": "code",
   "execution_count": 4,
   "metadata": {},
   "outputs": [],
   "source": [
    "# <------------------- YOUR CODE HERE ----------------------------->\n",
    "# there are many ways to code the solution here; we begin with a slick 1-line solution\n",
    "labels = ['D' if name in {'HillaryClinton', 'timkaine', 'TheDemocrats'} else 'R' for name in screen_names]"
   ]
  },
  {
   "cell_type": "markdown",
   "metadata": {},
   "source": [
    "**Alternative solutions.** There are a number of alternative solutions possible. For example, you can always expand the list comprehension in the above 1-line solution into a regular for loop, as shown below:\n",
    "\n",
    "```\n",
    "labels = []\n",
    "for name in screen_names:\n",
    "    if name in {'HillaryClinton', 'timkaine', 'TheDemocrats'}:\n",
    "        labels.append('D')\n",
    "    else:\n",
    "        labels.append('R')\n",
    "```\n",
    "\n",
    "Alternatively, in the if statement, you could have instead checked against the Republican screen names (and appended 'R', and had the else case append 'D').\n",
    "\n",
    "Of course, you don't have to use sets. For example, this other solution also works:\n",
    "\n",
    "```\n",
    "labels = []\n",
    "for name in screen_names:\n",
    "    if name == 'HillaryClinton' or name == 'timkaine' or name == 'TheDemocrats':\n",
    "        labels.append('D')\n",
    "    else:\n",
    "        labels.append('R')\n",
    "```\n",
    "\n",
    "Of course, you could have also use a Python list instead of a set:\n",
    "\n",
    "```\n",
    "labels = []\n",
    "for name in screen_names:\n",
    "    if name in ['HillaryClinton', 'timkaine', 'TheDemocrats']:\n",
    "        labels.append('D')\n",
    "    else:\n",
    "        labels.append('R')\n",
    "```"
   ]
  },
  {
   "cell_type": "markdown",
   "metadata": {},
   "source": [
    "**(b) [8 pts]** Write Python code that uses the variable `text` to compute a list `text_terms` such that the i-th entry of `text_terms` consists of a list that contains the individual words in `text[i]`. For example, since `text[42]` is equal to `'joining the morning joe crew at 7 40am to talk foreign policy amp yesterday hearing on the counter isil operation'`, then `text_terms[42]` should be equal to:\n",
    "\n",
    "```\n",
    "['joining',\n",
    " 'the',\n",
    " 'morning',\n",
    " 'joe',\n",
    " 'crew',\n",
    " 'at',\n",
    " '7',\n",
    " '40am',\n",
    " 'to',\n",
    " 'talk',\n",
    " 'foreign',\n",
    " 'policy',\n",
    " 'amp',\n",
    " 'yesterday',\n",
    " 'hearing',\n",
    " 'on',\n",
    " 'the',\n",
    " 'counter',\n",
    " 'isil',\n",
    " 'operation']\n",
    "```\n",
    "\n",
    "Note that for each tweet, to split the tweet's text into words, simply split on spaces (for example, if `x` is a string, then `x.split()` would split it based on spaces). **Do not use spaCy.**\n",
    "\n",
    "**Warning:** There is a slight twist! As you'll find out, some of the elements in `text` are actually not strings. For the i-th element of `text`, if `text[i]` is not a string, then your code should have `text_terms[i]` equal the empty list `[]`."
   ]
  },
  {
   "cell_type": "code",
   "execution_count": 5,
   "metadata": {},
   "outputs": [],
   "source": [
    "# <------------------- YOUR CODE HERE ----------------------------->\n",
    "# again, there is a 1-line solution\n",
    "text_terms = [x.split() if type(x) == str else [] for x in text]"
   ]
  },
  {
   "cell_type": "markdown",
   "metadata": {},
   "source": [
    "**Alternative solutions.** Just as we explained in the solution to part (a), you can expand a list comprehension as a regular for loop instead. There are other things you could have done.\n",
    "\n",
    "First and foremost, a debugging tip: because we gave you the warning up front that not every element of `text` is a string, you could have checked what the non-string items were, for example, using code like the following:\n",
    "\n",
    "```\n",
    "for x in text:\n",
    "    if type(x) != str:\n",
    "        print(type(x), x)\n",
    "```\n",
    "\n",
    "If you ran that, you would quickly realize that really there's only one other case to consider when the element isn't a string: it's a float (and, moreover, its value is nan).\n",
    "\n",
    "Thus, one possible alternative solution is as follows:\n",
    "\n",
    "```\n",
    "text_terms = []\n",
    "for x in text:\n",
    "    if type(x) == float:\n",
    "        text_terms.append([])\n",
    "    else:\n",
    "        text_terms.append(x.split())\n",
    "```"
   ]
  },
  {
   "cell_type": "markdown",
   "metadata": {},
   "source": [
    "**(c) [8 pts]** In this part, you will analyze what people are talking about on Twitter in terms of simply counting word frequencies. Count the number of tweets by Republican accounts and separately the average number of words in a tweet by Republican accounts. Repeat this for Democrat accounts. Print out these four numbers. **Do not use spaCy.**"
   ]
  },
  {
   "cell_type": "code",
   "execution_count": 6,
   "metadata": {},
   "outputs": [
    {
     "name": "stdout",
     "output_type": "stream",
     "text": [
      "8646 8652 15.98473282442748 16.565996301433195\n"
     ]
    }
   ],
   "source": [
    "# <------------------- YOUR CODE HERE ----------------------------->\n",
    "# here's a solution that's 1 line per variable\n",
    "republican_number_of_tweets = (np.array(labels) == 'R').sum()\n",
    "democrat_number_of_tweets = (np.array(labels) == 'D').sum()\n",
    "republican_average_number_of_words_in_tweet = np.mean([len(words) for words, label in zip(text_terms, labels) if label == 'R'])\n",
    "democrat_average_number_of_words_in_tweet = np.mean([len(words) for words, label in zip(text_terms, labels) if label == 'D'])\n",
    "\n",
    "# <------------------- DO NOT MODIFY THE CODE BELOW ----------------------------->\n",
    "print(republican_number_of_tweets,\n",
    "      democrat_number_of_tweets,\n",
    "      republican_average_number_of_words_in_tweet,\n",
    "      democrat_average_number_of_words_in_tweet)"
   ]
  },
  {
   "cell_type": "markdown",
   "metadata": {},
   "source": [
    "**Alternative solution.** There are many ways you could have written the code to get the correct answers. We give another example solution below:\n",
    "\n",
    "```\n",
    "republican_number_of_tweets = 0\n",
    "democrat_number_of_tweets = 0\n",
    "republican_average_number_of_words_in_tweet = 0\n",
    "democrat_average_number_of_words_in_tweet = 0\n",
    "\n",
    "for idx, label in enumerate(labels):\n",
    "    if label == 'R':\n",
    "        republican_number_of_tweets += 1\n",
    "        republican_average_number_of_words_in_tweet += len(text_terms[idx])\n",
    "    else:\n",
    "        democrat_number_of_tweets += 1\n",
    "        democrat_average_number_of_words_in_tweet += len(text_terms[idx])\n",
    "\n",
    "republican_average_number_of_words_in_tweet /= republican_number_of_tweets\n",
    "democrat_average_number_of_words_in_tweet /= democrat_number_of_tweets\n",
    "```"
   ]
  },
  {
   "cell_type": "markdown",
   "metadata": {},
   "source": [
    "**(d) [8 pts]** Compute a histogram (using `Counter`) for how often (raw count) words appear in Democrat tweets, and similarly for Republican tweets; when you compute this histogram, exclude stop words in the list provided below in the variable `stop_words`. **Do not use spaCy. Just use the raw words (i.e., do not change casing and do not lemmatize).**"
   ]
  },
  {
   "cell_type": "code",
   "execution_count": 7,
   "metadata": {},
   "outputs": [
    {
     "name": "stdout",
     "output_type": "stream",
     "text": [
      "[Democrat top 10]\n",
      "trump : 1407\n",
      "hillary : 843\n",
      "donald : 685\n",
      "president : 569\n",
      "today : 536\n",
      "vote : 373\n",
      "more : 363\n",
      "america : 345\n",
      "people : 321\n",
      "just : 320 \n",
      "\n",
      "[Republican top 10]\n",
      "govpencein : 1238\n",
      "clinton : 917\n",
      "hillary : 880\n",
      "indiana : 867\n",
      "great : 736\n",
      "thank : 594\n",
      "today : 512\n",
      "realdonaldtrump : 461\n",
      "new : 427\n",
      "more : 404\n"
     ]
    }
   ],
   "source": [
    "# DO NOT MODIFY THIS STOP WORDS LIST\n",
    "stop_words = ['the','to','in','rt','of','a', 'for','and','is','on','amp','you','i','at','will','our','we','be','with','that','it','this','are','https','s','have','by','from','has','all','as','not','was','out','t','your','my','who','her','me','he','about','so','make','just''2','w','she','they','us','his','if','up','again','an','what','one','no','here','but','can','last','than','were','do','would','been','am','http','had','when','made','them','or','there','another','isil','aumf','youre']\n",
    "\n",
    "# <------------------- YOUR CODE HERE ----------------------------->\n",
    "# note that it is possible to have 1-line solutions per variable here\n",
    "# but it's harder to parse so we only give it in the alternative solutions\n",
    "democrat_word_counter = Counter()\n",
    "republican_word_counter = Counter()\n",
    "\n",
    "for words, label in zip(text_terms, labels):\n",
    "    if label == 'D':\n",
    "        for word in words:\n",
    "            if word not in stop_words:\n",
    "                democrat_word_counter[word] += 1\n",
    "        # the above 3 lines could be written as 1 line: democrat_word_counter.update([word for word in words if word not in stop_words])\n",
    "    else:\n",
    "        for word in words:\n",
    "            if word not in stop_words:\n",
    "                republican_word_counter[word] += 1\n",
    "        # the above 3 lines could be written as 1 line: republican_word_counter.update([word for word in words if word not in stop_words])\n",
    "\n",
    "# <------------------- DO NOT MODIFY THE CODE BELOW ----------------------------->\n",
    "print('[Democrat top 10]')\n",
    "print('\\n'.join([word + ' : {}'.format(count)\n",
    "                 for word, count in democrat_word_counter.most_common()[:10]]), '\\n')\n",
    "print('[Republican top 10]')\n",
    "print('\\n'.join([word + ' : {}'.format(count)\n",
    "                 for word, count in republican_word_counter.most_common()[:10]]))"
   ]
  },
  {
   "cell_type": "markdown",
   "metadata": {},
   "source": [
    "**Alternative solutions.** As an example of another way to write the code, this time without zip(), we use an idea similar to the alternative solution in the previous part with enumerate():\n",
    "\n",
    "```\n",
    "democrat_word_counter = Counter()\n",
    "republican_word_counter = Counter()\n",
    "\n",
    "for idx, label in enumerate(labels):\n",
    "    words = text_terms[idx]\n",
    "    if label == 'D':\n",
    "        democrat_word_counter.update([word for word in words if word not in stop_words])\n",
    "    else:\n",
    "        republican_word_counter.update([word for word in words if word not in stop_words])\n",
    "```\n",
    "\n",
    "Finally, 1-line solutions per variable (each line is a bit long); note that this solution is somewhat more elaborate and requires a good understanding of how Counter objects can be initialized and also how to concatenate lists of words:\n",
    "\n",
    "```\n",
    "democrat_word_counter = Counter(np.concatenate([[word for word in words if word not in stop_words] for words, label in zip(text_terms, labels) if label == 'D']))\n",
    "republican_word_counter = Counter(np.concatenate([[word for word in words if word not in stop_words] for words, label in zip(text_terms, labels) if label == 'R']))\n",
    "```"
   ]
  },
  {
   "cell_type": "markdown",
   "metadata": {},
   "source": [
    "**(e) [4 pts]** The word counters from the previous part are raw counts. Recall that term frequencies could alternatively be represented as fractions between 0 and 1. Using the word counters you computed in part **(d)** (these counts should not include stop words that we have provided for you in the variable `stop_words`), now compute the frequency (as fractions) versions of these term frequencies. Specifically, for each raw count, divide it by the total number of words that appear across all tweets, regardless of whether the tweet is by a Democrat or a Republican (here, if a word appears multiple times within the same tweet, we count it multiple times). Store the resulting term frequencies (as fractions) in the variables `democrat_word_frequencies_as_fractions` and `republican_word_frequencies_as_fractions`.\n",
    "\n",
    "*Note:* One way to check if your answer is correct is by adding up all the values across your Republican and Democrat term frequencies: the sum should be 1. We have added this check for you."
   ]
  },
  {
   "cell_type": "code",
   "execution_count": 8,
   "metadata": {},
   "outputs": [
    {
     "name": "stdout",
     "output_type": "stream",
     "text": [
      "Do your frequency counters sum to 1? Yes \n",
      "\n",
      "[Democrat top 10]\n",
      "trump : 0.00791\n",
      "hillary : 0.00474\n",
      "donald : 0.00385\n",
      "president : 0.00320\n",
      "today : 0.00302\n",
      "vote : 0.00210\n",
      "more : 0.00204\n",
      "america : 0.00194\n",
      "people : 0.00181\n",
      "just : 0.00180 \n",
      "\n",
      "[Republican top 10]\n",
      "govpencein : 0.00696\n",
      "clinton : 0.00516\n",
      "hillary : 0.00495\n",
      "indiana : 0.00488\n",
      "great : 0.00414\n",
      "thank : 0.00334\n",
      "today : 0.00288\n",
      "realdonaldtrump : 0.00259\n",
      "new : 0.00240\n",
      "more : 0.00227\n"
     ]
    }
   ],
   "source": [
    "# <------------------- YOUR CODE HERE ----------------------------->\n",
    "democrat_word_frequencies_as_fractions = Counter()  # note: you can add fractional amounts to Counter objects\n",
    "republican_word_frequencies_as_fractions = Counter()\n",
    "\n",
    "# Step 1. Find the total number of words that we will divide by\n",
    "total = sum(democrat_word_counter.values()) + sum(republican_word_counter.values())\n",
    "\n",
    "# Step 2. Divide\n",
    "for word in democrat_word_counter:\n",
    "    democrat_word_frequencies_as_fractions[word] = democrat_word_counter[word] / total\n",
    "for word in republican_word_counter:\n",
    "    republican_word_frequencies_as_fractions[word] = republican_word_counter[word] / total\n",
    "\n",
    "# <------------------- DO NOT MODIFY THE CODE BELOW ----------------------------->\n",
    "print('Do your frequency counters sum to 1?',\n",
    "      'Yes'\n",
    "      if np.abs(sum(democrat_word_frequencies_as_fractions.values())\n",
    "                + sum(republican_word_frequencies_as_fractions.values()) - 1) < 1e-7\n",
    "      else 'No', '\\n')\n",
    "print('[Democrat top 10]')\n",
    "print('\\n'.join([word + ' : {:.5f}'.format(count)\n",
    "                 for word, count in democrat_word_frequencies_as_fractions.most_common()[:10]]), '\\n')\n",
    "print('[Republican top 10]')\n",
    "print('\\n'.join([word + ' : {:.5f}'.format(count)\n",
    "                 for word, count in republican_word_frequencies_as_fractions.most_common()[:10]]))"
   ]
  },
  {
   "cell_type": "markdown",
   "metadata": {},
   "source": [
    "**Alternative solutions.** Once you have the total, the division is fairly straightforward. We give two other ways of getting the total that we divide by. Perhaps the most straightforward approach is as follows:\n",
    "\n",
    "```\n",
    "total = 0\n",
    "for word in democrat_word_counter:\n",
    "    total += democrat_word_counter[word]\n",
    "for word in republican_word_counter:\n",
    "    total += republican_word_counter[word]\n",
    "```\n",
    "\n",
    "As another approach, recall that `items()` gives tuples of (word, count) pairs. Thus, we can do the following to get the total:\n",
    "\n",
    "```\n",
    "total = 0\n",
    "for word, count in democrat_word_counter.items():\n",
    "    total += count\n",
    "for word, count in republican_word_counter.items():\n",
    "    total += count\n",
    "```"
   ]
  },
  {
   "cell_type": "markdown",
   "metadata": {},
   "source": [
    "**(f) [12 pts]** Let's try a rough comparison of word frequencies: we'll look at the ratio of the **fraction of times a word is used by a Republican** divided by the **fraction of times a word is used by a Democrat**. Compute this ratio only for when the word appears in at least 100 times (i.e., if we add the number of times the word appears in tweets by Democrats and in tweets by Republicans, then we get at least 100) and, moreover, the word is mentioned at least once by a Democrat and also at least one by a Republican. Fill out these ratios in a Python dictionary stored in the variable `ratios`, where the keys of the Python dictionary are words that meet the above contraints, and the values of the Python dictionary are the ratios we've asked you to compute.\n",
    "\n",
    "We have already written code that prints out the bottom 20 and the top 20 words based on the ratio (although you have to of course compute the ratios first for the code to work!).\n",
    "\n",
    "**Note. Unfortunately the problem was originally worded incorrectly such that there were two interpretations for how to solve the problem, as a student during the exam pointed out (but this was pointed out late enough that a clarification didn't reach all students). We will award full credit if your solution checks for the word appearing in both Republican and Democrat tweets and then checks that the word appears at least 100 times OR if the word appears in at least 100 tweets.**"
   ]
  },
  {
   "cell_type": "code",
   "execution_count": 9,
   "metadata": {},
   "outputs": [
    {
     "name": "stdout",
     "output_type": "stream",
     "text": [
      "[Bottom 20]\n",
      "timkaine : 0.0072\n",
      "de : 0.0111\n",
      "lgbt : 0.0194\n",
      "la : 0.0609\n",
      "violence : 0.0846\n",
      "potus : 0.0965\n",
      "gun : 0.1076\n",
      "congress : 0.1078\n",
      "donald : 0.1095\n",
      "va : 0.1136\n",
      "progress : 0.1161\n",
      "discuss : 0.1346\n",
      "act : 0.1643\n",
      "rights : 0.1858\n",
      "democratic : 0.2024\n",
      "elect : 0.2095\n",
      "senate : 0.2115\n",
      "virginia : 0.2360\n",
      "democrats : 0.2363\n",
      "middle : 0.2381 \n",
      "\n",
      "[Top 20]\n",
      "gopconvention : 243.0000\n",
      "hoosiers : 213.0000\n",
      "poll : 149.0000\n",
      "emails : 99.0000\n",
      "foxnews : 99.0000\n",
      "indiana : 72.2500\n",
      "media : 20.0000\n",
      "email : 19.6000\n",
      "governor : 12.6000\n",
      "secret : 10.5556\n",
      "gov : 7.2941\n",
      "pence : 6.8049\n",
      "clinton : 5.5241\n",
      "mike : 5.4762\n",
      "sanders : 5.2222\n",
      "bernie : 4.9500\n",
      "thank : 4.9091\n",
      "iowa : 4.7368\n",
      "2 : 4.6316\n",
      "bad : 4.5200\n"
     ]
    }
   ],
   "source": [
    "# <------------------- YOUR CODE HERE ----------------------------->\n",
    "ratios = dict()\n",
    "\n",
    "# for at least 100 times where multiple times can happen in a tweet\n",
    "# (rather than at least 100 tweets), a possible solution looks like this:\n",
    "for word in democrat_word_counter:\n",
    "    if word in republican_word_counter:  # check that the word also appears in Republican tweets\n",
    "        if democrat_word_counter[word] + republican_word_counter[word] >= 100:\n",
    "            ratios[word] = republican_word_frequencies_as_fractions[word] / democrat_word_frequencies_as_fractions[word]\n",
    "\n",
    "# see the next cell for the code if we instead ask the word to be in at least 100 tweets\n",
    "\n",
    "# <------------------- DO NOT MODIFY THE CODE BELOW ----------------------------->\n",
    "ratio_list = sorted(ratios.items(), key=lambda x: x[1])\n",
    "print('[Bottom 20]')\n",
    "print(\"\\n\".join([word + ' : {:.4f}'.format(ratio) for word, ratio in ratio_list[:20]]), \"\\n\")\n",
    "print('[Top 20]')\n",
    "print(\"\\n\".join([word + ' : {:.4f}'.format(ratio) for word, ratio in ratio_list[-20:][::-1]]))"
   ]
  },
  {
   "cell_type": "code",
   "execution_count": 10,
   "metadata": {},
   "outputs": [
    {
     "name": "stdout",
     "output_type": "stream",
     "text": [
      "[Bottom 20]\n",
      "timkaine : 0.0072\n",
      "de : 0.0111\n",
      "violence : 0.0846\n",
      "potus : 0.0965\n",
      "gun : 0.1076\n",
      "congress : 0.1078\n",
      "donald : 0.1095\n",
      "va : 0.1136\n",
      "progress : 0.1161\n",
      "discuss : 0.1346\n",
      "act : 0.1643\n",
      "rights : 0.1858\n",
      "elect : 0.2095\n",
      "senate : 0.2115\n",
      "virginia : 0.2360\n",
      "democrats : 0.2363\n",
      "middle : 0.2381\n",
      "families : 0.2477\n",
      "voting : 0.2481\n",
      "students : 0.2661 \n",
      "\n",
      "[Top 20]\n",
      "gopconvention : 243.0000\n",
      "hoosiers : 213.0000\n",
      "poll : 149.0000\n",
      "foxnews : 99.0000\n",
      "indiana : 72.2500\n",
      "media : 20.0000\n",
      "email : 19.6000\n",
      "governor : 12.6000\n",
      "gov : 7.2941\n",
      "pence : 6.8049\n",
      "clinton : 5.5241\n",
      "mike : 5.4762\n",
      "sanders : 5.2222\n",
      "bernie : 4.9500\n",
      "thank : 4.9091\n",
      "iowa : 4.7368\n",
      "2 : 4.6316\n",
      "bad : 4.5200\n",
      "state : 4.3373\n",
      "realdonaldtrump : 4.1532\n"
     ]
    }
   ],
   "source": [
    "# <------------------- YOUR CODE HERE ----------------------------->\n",
    "ratios = dict()\n",
    "\n",
    "# here's a solution that only considers words that are in at least 100 tweets\n",
    "\n",
    "# Step 1. Compute the number of tweets that mention individual words\n",
    "# (also called the document frequency, as a raw count)\n",
    "df = Counter()\n",
    "for words in text_terms:\n",
    "    df.update(set(words))  # set() ensures each word shows up once\n",
    "\n",
    "# Step 2. Compute the ratios\n",
    "for word in democrat_word_counter:\n",
    "    if word in republican_word_counter:\n",
    "        if df[word] >= 100:\n",
    "            ratios[word] = republican_word_frequencies_as_fractions[word] / democrat_word_frequencies_as_fractions[word]\n",
    "\n",
    "# see the next cell for the code if we instead ask the word to be in at least 100 tweets\n",
    "\n",
    "# <------------------- DO NOT MODIFY THE CODE BELOW ----------------------------->\n",
    "ratio_list = sorted(ratios.items(), key=lambda x: x[1])\n",
    "print('[Bottom 20]')\n",
    "print(\"\\n\".join([word + ' : {:.4f}'.format(ratio) for word, ratio in ratio_list[:20]]), \"\\n\")\n",
    "print('[Top 20]')\n",
    "print(\"\\n\".join([word + ' : {:.4f}'.format(ratio) for word, ratio in ratio_list[-20:][::-1]]))"
   ]
  },
  {
   "cell_type": "markdown",
   "metadata": {},
   "source": [
    "For the above rankings, does the bottom 20 correspond to the words more frequently used by Republicans in comparison to Democrats, or are they the words more frequently used by Democrats in comparison to Republicans?"
   ]
  },
  {
   "cell_type": "markdown",
   "metadata": {},
   "source": [
    "**Your answer along with a justification of your answer:** The bottom 20 corresponds to words more frequently used by Democrats since this is when the fraction of times the word is used by Republicans is small compared to the fraction of times the word is used by Democrats."
   ]
  },
  {
   "cell_type": "markdown",
   "metadata": {},
   "source": [
    "Briefly comment on whether you found any of the words interesting or surprising (please keep your answer to no more than 3 sentences)."
   ]
  },
  {
   "cell_type": "markdown",
   "metadata": {},
   "source": [
    "**Your answer along with a justification of your answer:** Perhaps unsurprisingly `timkaine` is mentioned a lot by Democrats but not by Republicans at all (perhaps due to him being much less prominent/well-known compared to some of the other politicians mentioned). Meanwhile, unsurprisingly, `gopconvention` and `foxnews` show up a lot for Republicans as the former is their main convention and the latter is a popular news media outlet among Republicans.\n",
    "\n",
    "*Note.* When we use the filter of at least 100 times rather than at least 100 tweets, `lgbt` shows up for Democrats which suggests that it's mentioned far more by them than by Republicans. However, once we filter by at least 100 tweets instead, `lgbt` no longer shows up (in fact, you can check that it shows up in 95 tweets)."
   ]
  },
  {
   "cell_type": "markdown",
   "metadata": {},
   "source": [
    "**(g) [20 pts across subparts]** Suppose that we filter the words somehow to get of stop words as well as other words (e.g., words that appear in too few tweets are removed, and words that appear in too many tweets are also removed). *For the purposes of this problem, you will not need to know the precise details of this word filtering process to answer this problem.* After doing the filtering, we count how many words are left per tweet. These are stored in the variable `word_counts` below. For example, the 42nd tweet has number of words that remain after filtering given by `word_counts[42]` (which happens to be equal to 9)."
   ]
  },
  {
   "cell_type": "code",
   "execution_count": 11,
   "metadata": {},
   "outputs": [],
   "source": [
    "# <------------------ DO NOT MODIFY THIS CELL! ------------------>\n",
    "word_counts = np.loadtxt('mystery_river.txt').astype(np.int64) # DO NOT MODIFY"
   ]
  },
  {
   "cell_type": "markdown",
   "metadata": {},
   "source": [
    "**Subpart i. [8 pts]** Plot a histogram for how many words (after the filtering we have done) appear in tweets. Specifically, the x-axis should correspond to the number of words 0, 1, 2, ..., up to the maximum number of words in a tweet (according to `word_counts`). The y-axis should track the raw number of tweets."
   ]
  },
  {
   "cell_type": "code",
   "execution_count": 12,
   "metadata": {},
   "outputs": [
    {
     "data": {
      "text/plain": [
       "Text(0, 0.5, 'Raw count')"
      ]
     },
     "execution_count": 12,
     "metadata": {},
     "output_type": "execute_result"
    },
    {
     "data": {
      "image/png": "[encoded data removed]",
      "text/plain": [
       "<Figure size 432x288 with 1 Axes>"
      ]
     },
     "metadata": {
      "needs_background": "light"
     },
     "output_type": "display_data"
    }
   ],
   "source": [
    "# <------------------- YOUR CODE HERE ----------------------------->\n",
    "histogram = Counter(word_counts)\n",
    "max_num_words_in_tweet = max(histogram.keys())\n",
    "plt.bar(range(max_num_words_in_tweet), [histogram[num_words_in_tweet] for num_words_in_tweet in range(max_num_words_in_tweet)])\n",
    "plt.xlabel('Number of words in tweet')\n",
    "plt.ylabel('Raw count')"
   ]
  },
  {
   "cell_type": "markdown",
   "metadata": {},
   "source": [
    "**Alternative solution.** Here's an example of another solution:\n",
    "\n",
    "```\n",
    "histogram = Counter()\n",
    "max_num_words_in_tweet = -np.inf\n",
    "for num_words in word_counts:\n",
    "    histogram[num_words] += 1\n",
    "    if num_words > max_num_words_in_tweet:\n",
    "        max_num_words_in_tweet = num_words\n",
    "plt.bar(range(max_num_words_in_tweet), [histogram[num_words_in_tweet] for num_words_in_tweet in range(max_num_words_in_tweet)])\n",
    "plt.xlabel('Number of words in tweet')\n",
    "plt.ylabel('Raw count')\n",
    "```"
   ]
  },
  {
   "cell_type": "markdown",
   "metadata": {},
   "source": [
    "**Subpart ii. [4 pts]** Suppose that we fit a 2D PCA model on the tweet data (after doing the word filtering that we mentioned above). We find that the explained variance ratios of the top two PCA components are 0.0073 and 0.0065. The first principal component (or in terms of Python indexing, the \"0-th\" component) has the following top words when ranking by absolute value of weights (largest to smallest, just like in lecture):\n",
    "\n",
    "```\n",
    "thank : 0.6491\n",
    "trump2016 : 0.4317\n",
    "makeamericagreatagain : 0.3322\n",
    "trump : -0.2150\n",
    "great : 0.2038\n",
    "hillary : -0.1778\n",
    "donald : -0.1624\n",
    "america : 0.1590\n",
    "clinton : -0.1410\n",
    "president : -0.0886\n",
    "new : 0.0710\n",
    "support : 0.0555\n",
    "americafirst : 0.0552\n",
    "votetrump : 0.0540\n",
    "indiana : 0.0520\n",
    "poll : 0.0450\n",
    "obama : -0.0441\n",
    "realdonaldtrump : 0.0412\n",
    "join : 0.0350\n",
    "trumppence16 : 0.0346\n",
    "```"
   ]
  },
  {
   "cell_type": "markdown",
   "metadata": {},
   "source": [
    "What fraction of tweets from Democrat accounts mention the top word `thank`? What about from Republican accounts?"
   ]
  },
  {
   "cell_type": "code",
   "execution_count": 13,
   "metadata": {},
   "outputs": [
    {
     "name": "stdout",
     "output_type": "stream",
     "text": [
      "0.013985205732778548 0.06835530881332408\n"
     ]
    }
   ],
   "source": [
    "# <------------------- YOUR CODE HERE ----------------------------->\n",
    "# 1-line solutions per variable\n",
    "democrat_fraction_thank_tweets = np.mean([('thank' in words) for words, label in zip(text_terms, labels) if label == 'D'])\n",
    "republican_fraction_thank_tweets = np.mean([('thank' in words) for words, label in zip(text_terms, labels) if label == 'R'])\n",
    "\n",
    "# <------------------- DO NOT MODIFY THE CODE BELOW ----------------------------->\n",
    "print(democrat_fraction_thank_tweets, republican_fraction_thank_tweets)"
   ]
  },
  {
   "cell_type": "markdown",
   "metadata": {},
   "source": [
    "**Alternative solution.** Here's an example alternative solution:\n",
    "\n",
    "```\n",
    "democrat_fraction_thank_tweets = 0\n",
    "republican_fraction_thank_tweets = 0\n",
    "for idx, label in enumerate(labels):\n",
    "    words = text_terms[idx]\n",
    "    if 'thank' in words:\n",
    "        if label == 'R':\n",
    "            republican_fraction_thank_tweets += 1\n",
    "        else:\n",
    "            democrat_fraction_thank_tweets += 1\n",
    "democrat_fraction_thank_tweets /= democrat_number_of_tweets\n",
    "republican_fraction_thank_tweets /= republican_number_of_tweets\n",
    "```"
   ]
  },
  {
   "cell_type": "markdown",
   "metadata": {},
   "source": [
    "**Subpart iii. [8 pts]** We've precomputed the 2D PCA representation for you (the one that yields those first principal component weights you saw in subpart ii). Let's load it in first:"
   ]
  },
  {
   "cell_type": "code",
   "execution_count": 14,
   "metadata": {},
   "outputs": [
    {
     "name": "stdout",
     "output_type": "stream",
     "text": [
      "(17298, 2)\n"
     ]
    }
   ],
   "source": [
    "# <------------------ DO NOT MODIFY THIS CELL! ------------------>\n",
    "pca_representation = np.loadtxt('mystery_snowman.txt')\n",
    "print(pca_representation.shape)"
   ]
  },
  {
   "cell_type": "markdown",
   "metadata": {},
   "source": [
    "In particular, the i-th tweet has 2D PCA representation `pca_representation[i]`. Here's the plot:"
   ]
  },
  {
   "cell_type": "code",
   "execution_count": 15,
   "metadata": {},
   "outputs": [
    {
     "data": {
      "text/plain": [
       "(-0.3282665107412389,\n",
       " 0.8555928482298326,\n",
       " -0.28115737843141975,\n",
       " 0.8682425622801561)"
      ]
     },
     "execution_count": 15,
     "metadata": {},
     "output_type": "execute_result"
    },
    {
     "data": {
      "image/png": "[encoded data removed]",
      "text/plain": [
       "<Figure size 360x360 with 1 Axes>"
      ]
     },
     "metadata": {
      "needs_background": "light"
     },
     "output_type": "display_data"
    }
   ],
   "source": [
    "# <------------------ DO NOT MODIFY THIS CELL! ------------------>\n",
    "plt.figure(figsize=(5, 5))\n",
    "plt.scatter(pca_representation[:, 0], pca_representation[:, 1], alpha=0.5)  # alpha just makes points semi-transparent\n",
    "plt.xlabel('First principal component')\n",
    "plt.ylabel('Second principal component')\n",
    "plt.axis('equal')"
   ]
  },
  {
   "cell_type": "markdown",
   "metadata": {},
   "source": [
    "Make a version of the plot that only shows the 2D PCA representations of tweets that contain the word `thank`, and that colors the tweets from Democrats vs Republicans in two different colors."
   ]
  },
  {
   "cell_type": "code",
   "execution_count": 16,
   "metadata": {},
   "outputs": [
    {
     "data": {
      "text/plain": [
       "(-0.007751690010007133,\n",
       " 0.8403302377188215,\n",
       " -0.19184649924379643,\n",
       " 0.5359198900760067)"
      ]
     },
     "execution_count": 16,
     "metadata": {},
     "output_type": "execute_result"
    },
    {
     "data": {
      "image/png": "[encoded data removed]",
      "text/plain": [
       "<Figure size 360x360 with 1 Axes>"
      ]
     },
     "metadata": {
      "needs_background": "light"
     },
     "output_type": "display_data"
    }
   ],
   "source": [
    "# <------------------- YOUR CODE HERE ----------------------------->\n",
    "democrat_thank_boolean_mask = np.array([('thank' in words and label == 'D') for words, label in zip(text_terms, labels)])\n",
    "republican_thank_boolean_mask = np.array([('thank' in words and label == 'R') for words, label in zip(text_terms, labels)])\n",
    "plt.figure(figsize=(5, 5))\n",
    "plt.scatter(pca_representation[:, 0][republican_thank_boolean_mask], pca_representation[:, 1][republican_thank_boolean_mask], c='red', label='Republican', alpha=0.5)\n",
    "plt.scatter(pca_representation[:, 0][democrat_thank_boolean_mask], pca_representation[:, 1][democrat_thank_boolean_mask], c='blue', label='Democrat', alpha=0.5)\n",
    "plt.xlabel('First principal component')\n",
    "plt.ylabel('Second principal component')\n",
    "plt.legend()\n",
    "plt.axis('equal')"
   ]
  },
  {
   "cell_type": "markdown",
   "metadata": {},
   "source": [
    "**Alternative solution.** Here's another possible solution:\n",
    "\n",
    "```\n",
    "thank_tweet_pca_representations = []\n",
    "thank_labels = []\n",
    "for words, label, pca_repr in zip(text_terms, labels, pca_representation):\n",
    "    if 'thank' in words:\n",
    "        thank_tweet_pca_representations.append(pca_repr)\n",
    "        thank_labels.append(label)\n",
    "thank_tweet_pca_representations = np.array(thank_tweet_pca_representations)\n",
    "thank_labels = np.array(thank_labels)\n",
    "plt.figure(figsize=(5, 5))\n",
    "plt.scatter(thank_tweet_pca_representations[:, 0][thank_labels == 'R'], thank_tweet_pca_representations[:, 1][thank_labels == 'R'], c='red', label='Republican', alpha=0.6)  # alpha just makes points semi-transparent\n",
    "plt.scatter(thank_tweet_pca_representations[:, 0][thank_labels == 'D'], thank_tweet_pca_representations[:, 1][thank_labels == 'D'], c='blue', label='Democrat', alpha=0.6)  # alpha just makes points semi-transparent\n",
    "plt.xlabel('First principal component')\n",
    "plt.ylabel('Second principal component')\n",
    "plt.legend()\n",
    "plt.axis('equal')\n",
    "```"
   ]
  },
  {
   "cell_type": "markdown",
   "metadata": {},
   "source": [
    "For the plot you made, which color corresponds to Democrats and which corresponds to Republicans?"
   ]
  },
  {
   "cell_type": "markdown",
   "metadata": {},
   "source": [
    "**Your answer:** As the plot legend shows, red is for Republicans and blue is for Democrats. (Of course you could have used different colors. If you didn't have a legend, that's okay too but you should explain what color corresponds to Democrats/Republicans.)"
   ]
  },
  {
   "cell_type": "markdown",
   "metadata": {},
   "source": [
    "**As a friendly reminder:** Please remember to write your name and Andrew ID at the top of this notebook; we will only grade quizzes with these filled out. Thanks."
   ]
  }
 ],
 "metadata": {
  "kernelspec": {
   "display_name": "Python 3",
   "language": "python",
   "name": "python3"
  },
  "language_info": {
   "codemirror_mode": {
    "name": "ipython",
    "version": 3
   },
   "file_extension": ".py",
   "mimetype": "text/x-python",
   "name": "python",
   "nbconvert_exporter": "python",
   "pygments_lexer": "ipython3",
   "version": "3.8.8"
  }
 },
 "nbformat": 4,
 "nbformat_minor": 4
}
