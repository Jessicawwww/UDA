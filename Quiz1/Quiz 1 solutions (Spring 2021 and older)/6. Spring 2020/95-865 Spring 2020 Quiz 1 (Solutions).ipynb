{
 "cells": [
  {
   "cell_type": "markdown",
   "metadata": {},
   "source": [
    "# 95-865 Spring 2020 Quiz 1"
   ]
  },
  {
   "cell_type": "markdown",
   "metadata": {},
   "source": [
    "## Note: Different versions of SpaCy can give different results for Problem 2. We are aware of this and graded Problem 2 so that if your code is correct*, so long as your interpretation of results is consistent with what your code outputs, you still got full credit (or partial credit if there was some other error). This affected only a few students.\n",
    "\n",
    "*We checked for correctness by re-running your code in our compute environment so that the version of SpaCy is consistent with what we produced our solutions with."
   ]
  },
  {
   "cell_type": "markdown",
   "metadata": {},
   "source": [
    "**Your name:** Solutions\n",
    "\n",
    "**Your Andrew ID:** I don't have an Andrew ID =("
   ]
  },
  {
   "cell_type": "markdown",
   "metadata": {},
   "source": [
    "Before starting the quiz, please run this next cell first. **Important:** The exam is written so that all the packages that need to be imported are already imported in the next cell."
   ]
  },
  {
   "cell_type": "code",
   "execution_count": 1,
   "metadata": {},
   "outputs": [],
   "source": [
    "# ------------------------------------------------------------------------------\n",
    "# DO NOT MODIFY THIS CELL\n",
    "#\n",
    "import numpy as np\n",
    "%matplotlib inline\n",
    "import matplotlib.pyplot as plt\n",
    "plt.style.use('ggplot')\n",
    "import spacy\n",
    "from collections import Counter\n",
    "from operator import itemgetter"
   ]
  },
  {
   "cell_type": "markdown",
   "metadata": {},
   "source": [
    "## Problem 1 - Non-coding questions [45 points]\n",
    "\n",
    "There are two parts (a) and (b) that can be done in either order as they're unrelated to each other."
   ]
  },
  {
   "cell_type": "markdown",
   "metadata": {},
   "source": [
    "**(a) [35 points]** Suppose we are trying to understand what programming languages people use by just scraping code off the web. Let's say that we scrape off a specific database and end up with the following co-occurrence table:\n",
    "\n",
    "| <i></i> | C++ | Java | Matlab | Python | R |\n",
    "| ------- |:---:|:----:|:------:|:------:|:-:|\n",
    "| Alice   | 0   | `a`  | 0      | 0      | 0 |\n",
    "| Bob     | 0   | 0    | `b`    | 0      | 0 |\n",
    "\n",
    "Here, `a` is the number of code files that are by Alice and that are in Java, and `b` is the number of code files that are by Bob and that are in Matlab. Assume that the values of `a` and `b` are positive.\n",
    "\n",
    "Following what we did in lecture, imagine that each code file found is associated with a flashcard that we put into a bag, and we draw a flashcard from the bag (each flashcard in the bag is equally likely to be drawn).\n",
    "\n",
    "For each of the subparts below, please state your answer in terms of the variables `a` and `b` (unless these do not show up in the answer), and briefly explain how you got your answer. Do not plug in specific numerical values for `a` and `b` in your answers."
   ]
  },
  {
   "cell_type": "markdown",
   "metadata": {},
   "source": [
    "**Subpart i. [15 points]** What would the joint probability table be if people and programming languages were independent?"
   ]
  },
  {
   "cell_type": "markdown",
   "metadata": {},
   "source": [
    "**Your answer and explanation for how you got your answer**:\n",
    "\n",
    "| <i></i> | C++ | Java         | Matlab       | Python | R |\n",
    "| ------- |:---:|:------------:|:------------:|:------:|:-:|\n",
    "| Alice   | 0   | (a/(a+b))^2  | a\\*b/(a+b)^2 | 0      | 0 |\n",
    "| Bob     | 0   | a\\*b/(a+b)^2 | (b/(a+b))^2  | 0      | 0 |\n",
    "\n",
    "Explanation: We first compute the joint probability table:\n",
    "\n",
    "| <i></i> | C++ | Java    | Matlab  | Python | R |\n",
    "| ------- |:---:|:-------:|:-------:|:------:|:-:|\n",
    "| Alice   | 0   | a/(a+b) | 0       | 0      | 0 |\n",
    "| Bob     | 0   | 0       | b/(a+b) | 0      | 0 |\n",
    "\n",
    "The marginal probabilities of Alice and Bob are, respectively, a/(a+b) and b/(a+b).\n",
    "\n",
    "The marginal probabilities of C++, Java, Matlab, Python, and R are, respectively: 0, a/(a+b), b/(a+b), 0, 0.\n",
    "\n",
    "The joint probability table if people and programming languages were independent is then obtained by multiplying the marginal probabilities, e.g., P(Alice,C++)=P(Alice)P(C++). The final answer is in the top."
   ]
  },
  {
   "cell_type": "markdown",
   "metadata": {},
   "source": [
    "**Subpart ii. [5 points]** What is the PMI of Alice and Java? (You do not have to specify the base of the log you use.)"
   ]
  },
  {
   "cell_type": "markdown",
   "metadata": {},
   "source": [
    "**Your answer and explanation for how you got your answer**: log((a+b)/a)\n",
    "\n",
    "Explanation: We divide the observed joint probability a/(a+b) by what it would have been if people and companies were independent, namely (a/(a+b))^2. This yields (a+b)/a. We then take the log to get log((a+b)/a)."
   ]
  },
  {
   "cell_type": "markdown",
   "metadata": {},
   "source": [
    "**Subpart iii. [5 points]** What is the PMI of Bob and Python? (You do not have to specify the base of the log you use.)"
   ]
  },
  {
   "cell_type": "markdown",
   "metadata": {},
   "source": [
    "**Your answer and explanation for how you got your answer**: undefined\n",
    "\n",
    "Explanation: Bob and Python never co-occur. Also, Python never occurs. So we get a log(0/0), which is not defined. We also accepted answers of \"not a number\" or (technically incorrect) -infinity. (In class, we saw log(0/positive number)=-infinity, but if we have log(0/0), it's not -infinity.)"
   ]
  },
  {
   "cell_type": "markdown",
   "metadata": {},
   "source": [
    "**Subpart iv. [10 points]** What is the chi-square value that checks whether people are independent of programming languages?"
   ]
  },
  {
   "cell_type": "markdown",
   "metadata": {},
   "source": [
    "**Your answer and explanation for how you got your answer**: a+b\n",
    "\n",
    "Explanation: Since the co-occurrence relationship is deterministic, this is precisely the case from lecture where the phi-square value is as large as possible:\n",
    "\n",
    "phi-square = min(num rows, num columns) - 1 = min(2, 5) - 1 = 2 - 1 = 1.\n",
    "\n",
    "chi-square is the total co-occurrence count (in this case, a+b) multiplied by the phi-square value. The final answer is thus a+b.\n",
    "\n",
    "Note that we will also accept an answer of undefined/infinity if you simply did a brute-force calculation and tried to divide by the 0 probability entries. In practice, we would ignore the columns where nothing occurs (otherwise, we could easily just add as many columns as we want where nothing occurs, and the joint probability table would still be correct!)."
   ]
  },
  {
   "cell_type": "markdown",
   "metadata": {},
   "source": [
    "**(b) [10 points]** The plots below are dimensionality reduction results of a real text dataset (i.e., each point in the plots below corresponds to a text document).\n",
    "\n",
    "![dimensionality-reduction](dimensionality-reduction.png)\n",
    "\n",
    "The left plot is from using PCA in 2D and the right plot is from using t-SNE in 2D."
   ]
  },
  {
   "cell_type": "markdown",
   "metadata": {},
   "source": [
    "**Subpart i. [2 points]** First, as a conceptual question about t-SNE, is t-SNE a clustering algorithm (i.e., does it assign data points to clusters)?"
   ]
  },
  {
   "cell_type": "markdown",
   "metadata": {},
   "source": [
    "**Your answer (yes/no)**: No"
   ]
  },
  {
   "cell_type": "markdown",
   "metadata": {},
   "source": [
    "**Subpart ii. [4 points]** Does k-means seem appropriate for clustering the 2D PCA data?"
   ]
  },
  {
   "cell_type": "markdown",
   "metadata": {},
   "source": [
    "**Your answer with an explanation:** No; the points do not appear to come from a GMM with same-sized perfect circle clusters."
   ]
  },
  {
   "cell_type": "markdown",
   "metadata": {},
   "source": [
    "**Subpart iii. [4 points]** Let's now focus on the 2D t-SNE plot. Alice says the perplexity parameter was probably set too low. Why might she say this?"
   ]
  },
  {
   "cell_type": "markdown",
   "metadata": {},
   "source": [
    "**Your explanation**: When the perplexity parameter is set too low, we can have many little clumps of points that look like little islands. This is what is happening in the plot."
   ]
  },
  {
   "cell_type": "markdown",
   "metadata": {},
   "source": [
    "## Problem 2 - Billboard Top 100 Lyrics [55 points]"
   ]
  },
  {
   "cell_type": "markdown",
   "metadata": {},
   "source": [
    "In this problem, we will try to understand how popular songs differ in 1970 vs 2010. We will consider text data from the Billboard 1964-2015 Top 100 Lyrics dataset. This dataset is stored in the CSV file `lyrics.csv` (which should be in the same folder as this Jupyter notebook) and contains information on 5100 songs. The first line of the data contains the column headers `Rank`, `Song`, `Artist`, `Year` and `Lyrics`. We will disregard the `Rank` and `Artist` columns in this problem."
   ]
  },
  {
   "cell_type": "code",
   "execution_count": 2,
   "metadata": {},
   "outputs": [],
   "source": [
    "# ------------------------------------------------------------------------------\n",
    "# DO NOT MODIFY THIS CELL\n",
    "#\n",
    "song_list = []\n",
    "year_list = []\n",
    "lyrics_list = []\n",
    "\n",
    "with open('lyrics.csv', 'r', encoding='utf-8') as f:\n",
    "    f.readline()  # skip header\n",
    "    for line in f:\n",
    "        _, song, _, year, lyrics = line.split(\",\")\n",
    "        song_list.append(song)\n",
    "        year_list.append(int(year))\n",
    "        lyrics_list.append(lyrics)"
   ]
  },
  {
   "cell_type": "markdown",
   "metadata": {},
   "source": [
    "There are a number of ways we can examine how songs differ between 1970 and 2010. In this problem, we consider a simple strategy where we look at how the distribution of named entities' labels differ between song lyrics from 1970 and those from 2010. We will draw a bar chart that juxtaposes these two distributions. We will then try to make sense of the bar chart and investigate whether there is some sort of unusual behavior in the data.\n",
    "\n",
    "**For this problem, please work off the actual named entities and don't work at the token level.** For example, suppose that \"the United States\" is a named entity with label \"GPE\". Then we consider this as a single occurrence of the entity label \"GPE\" and not 3 occurrences (which would be the case if we instead looked at the token level)."
   ]
  },
  {
   "cell_type": "markdown",
   "metadata": {},
   "source": [
    "**(a) [5 points]** Write code that outputs two Python lists: `lyrics_1970` should consist of song lyrics from `lyrics_list` that come from 1970, and `lyrics_2010` should consist of song lyrics from `lyrics_list` that come from 2010. Recall that the years of songs are stored in the variable `year_list`."
   ]
  },
  {
   "cell_type": "code",
   "execution_count": 3,
   "metadata": {},
   "outputs": [],
   "source": [
    "# ------------------------------------------------------------------------------\n",
    "# YOUR CODE HERE\n",
    "#\n",
    "lyrics_1970 = [lyrics for lyrics, year in zip(lyrics_list, year_list) if year == 1970]\n",
    "lyrics_2010 = [lyrics for lyrics, year in zip(lyrics_list, year_list) if year == 2010]\n",
    "#\n",
    "# END OF YOUR CODE\n",
    "# ------------------------------------------------------------------------------"
   ]
  },
  {
   "cell_type": "markdown",
   "metadata": {},
   "source": [
    "**(b) [10 points]** Compute the raw count of named entity labels that appears in lyrics from 1970. Repeat this for lyrics from 2010. In both cases, please populate the counters that we have already defined for you below. As a reminder, an example of a named entity label is `GPE`. In how you do the counting, if a named entity label appears in a song n times, please add n to the overall count."
   ]
  },
  {
   "cell_type": "code",
   "execution_count": 4,
   "metadata": {},
   "outputs": [],
   "source": [
    "# ------------------------------------------------------------------------------\n",
    "# DO NOT MODIFY THIS CELL\n",
    "#\n",
    "nlp = spacy.load('en_core_web_sm', disable=['parser', 'tagger'])"
   ]
  },
  {
   "cell_type": "code",
   "execution_count": 5,
   "metadata": {},
   "outputs": [],
   "source": [
    "named_entity_label_counter_1970 = Counter()  # do not modify this line\n",
    "named_entity_label_counter_2010 = Counter()  # do not modify this line\n",
    "\n",
    "for lyrics in lyrics_1970:\n",
    "    # --------------------------------------------------------------------------\n",
    "    # YOUR CODE HERE\n",
    "    #\n",
    "    for entity in nlp(lyrics).ents:\n",
    "        named_entity_label_counter_1970[entity.label_] += 1\n",
    "    #\n",
    "    # END OF YOUR CODE\n",
    "    # --------------------------------------------------------------------------\n",
    "\n",
    "for lyrics in lyrics_2010:\n",
    "    # --------------------------------------------------------------------------\n",
    "    # YOUR CODE HERE (hint: the code here should look nearly identical to your\n",
    "    # code for the first for loop)\n",
    "    #\n",
    "    \n",
    "    for entity in nlp(lyrics).ents:\n",
    "        named_entity_label_counter_2010[entity.label_] += 1\n",
    "    #\n",
    "    # END OF YOUR CODE\n",
    "    # --------------------------------------------------------------------------"
   ]
  },
  {
   "cell_type": "markdown",
   "metadata": {},
   "source": [
    "**(c) [10 points]** Let's sort named entity labels in decreasing order of how often they appear in *either* 1970 or 2010. To do this, we first compute the following `Counter` object for you that combines label counts from `named_entity_label_counter_1970` and `named_entity_label_counter_2010`:"
   ]
  },
  {
   "cell_type": "code",
   "execution_count": 6,
   "metadata": {},
   "outputs": [],
   "source": [
    "# ------------------------------------------------------------------------------\n",
    "# DO NOT MODIFY THIS CELL\n",
    "#\n",
    "named_entity_label_counter_either_1970_or_2010 = named_entity_label_counter_1970 + named_entity_label_counter_2010"
   ]
  },
  {
   "cell_type": "markdown",
   "metadata": {},
   "source": [
    "Write code that computes the Python list `sorted_named_entity_labels` that consists of named entity labels sorted in decreasing order of how often they appear in the counter `named_entity_label_counter_either_1970_or_2010`. In particular, `sorted_named_entity_labels` should be a Python list consisting of strings (of entity names) and *not* a Python list consisting of tuples."
   ]
  },
  {
   "cell_type": "code",
   "execution_count": 7,
   "metadata": {},
   "outputs": [
    {
     "name": "stdout",
     "output_type": "stream",
     "text": [
      "Rank 1: PERSON\n",
      "Rank 2: CARDINAL\n",
      "Rank 3: DATE\n",
      "Rank 4: GPE\n",
      "Rank 5: TIME\n",
      "Rank 6: ORG\n",
      "Rank 7: NORP\n",
      "Rank 8: ORDINAL\n",
      "Rank 9: QUANTITY\n",
      "Rank 10: LOC\n",
      "Rank 11: FAC\n",
      "Rank 12: PRODUCT\n",
      "Rank 13: WORK_OF_ART\n",
      "Rank 14: EVENT\n"
     ]
    }
   ],
   "source": [
    "# ------------------------------------------------------------------------------\n",
    "# YOUR CODE HERE\n",
    "#\n",
    "sorted_tuples = sorted(named_entity_label_counter_either_1970_or_2010.items(),\n",
    "                       reverse=True, key=itemgetter(1))\n",
    "sorted_named_entity_labels = [label for label, count in sorted_tuples]\n",
    "#\n",
    "# END OF YOUR CODE\n",
    "# ------------------------------------------------------------------------------\n",
    "\n",
    "print(\"\\n\".join([\"Rank %d: %s\" % (rank + 1, label)\n",
    "                 for rank, label in enumerate(sorted_named_entity_labels)]))"
   ]
  },
  {
   "cell_type": "markdown",
   "metadata": {},
   "source": [
    "**(d) [5 points]** Write code that computes Python lists of raw counts for how often the sorted named entity labels appear in 1970 and, separately, 2010; these lists should have the counts appear in the same ordering as your labels computed in part **(c)** (see the Python comment in the code cell below). Please make use of the counters you computed in part **(b)**."
   ]
  },
  {
   "cell_type": "code",
   "execution_count": 8,
   "metadata": {},
   "outputs": [],
   "source": [
    "# ------------------------------------------------------------------------------\n",
    "# YOUR CODE HERE\n",
    "#\n",
    "\n",
    "# for each of the two lists below, the i-th element should correspond to the\n",
    "# i-th label in `sorted_named_entity_labels`\n",
    "raw_counts_1970_for_sorted_named_entity_labels = [named_entity_label_counter_1970[label]\n",
    "                                                  for label in sorted_named_entity_labels]\n",
    "raw_counts_2010_for_sorted_named_entity_labels = [named_entity_label_counter_2010[label]\n",
    "                                                  for label in sorted_named_entity_labels]\n",
    "\n",
    "#\n",
    "# END OF YOUR CODE\n",
    "# ------------------------------------------------------------------------------"
   ]
  },
  {
   "cell_type": "markdown",
   "metadata": {},
   "source": [
    "If your code in previous parts all works, then the following should produce a bar chart that compares the 1970 and 2010 named entity label distributions."
   ]
  },
  {
   "cell_type": "code",
   "execution_count": 9,
   "metadata": {},
   "outputs": [
    {
     "data": {
      "image/png": "[encoded data removed]",
      "text/plain": [
       "<Figure size 432x288 with 1 Axes>"
      ]
     },
     "metadata": {
      "needs_background": "light"
     },
     "output_type": "display_data"
    }
   ],
   "source": [
    "# ------------------------------------------------------------------------------\n",
    "# DO NOT MODIFY THIS CELL\n",
    "#\n",
    "def grouped_bar_chart_with_labels(named_entity_labels, counts_1970, counts_2010):\n",
    "    fig, ax = plt.subplots()\n",
    "    width = 0.35\n",
    "    x = np.arange(len(named_entity_labels))\n",
    "    ax.bar(x-width/2, counts_1970 / np.sum(counts_1970), width, label='1970')\n",
    "    ax.bar(x+width/2, counts_2010 / np.sum(counts_2010), width, label='2010')\n",
    "    ax.set_xticks(np.arange(len(named_entity_labels)))\n",
    "    ax.set_xticklabels(named_entity_labels, rotation=60)\n",
    "    ax.set_xlabel('Named entity labels')\n",
    "    ax.set_ylabel('Counts')\n",
    "    ax.legend()\n",
    "\n",
    "grouped_bar_chart_with_labels(sorted_named_entity_labels,\n",
    "                              raw_counts_1970_for_sorted_named_entity_labels,\n",
    "                              raw_counts_2010_for_sorted_named_entity_labels)"
   ]
  },
  {
   "cell_type": "markdown",
   "metadata": {},
   "source": [
    "**(e) [5 points]** What do you notice about how often the named entity label `PERSON` appears in 1970 vs 2010? What about `DATE`?"
   ]
  },
  {
   "cell_type": "markdown",
   "metadata": {},
   "source": [
    "**Your answer here (no code):** It appears that entity label `PERSON` appears less frequently in 1970 compared to 2010. Meanwhile, `DATE` appears more frequently in 1970 compared to 2010."
   ]
  },
  {
   "cell_type": "markdown",
   "metadata": {},
   "source": [
    "**(f) [10 points]** At this point, we examine *why* we might be getting the results from parts **(d)** and **(e)**; it is good to be suspicious as to whether there really is a change in distribution of the named entity labels and, if so, what explains the change.\n",
    "\n",
    "For simplicity, let's focus on the `DATE` entity label to see what might be happening in popular songs in 1970. Write code that populates the `Counter` object below with counts of how often different named entities with label `DATE` appear in popular song lyrics in 1970."
   ]
  },
  {
   "cell_type": "code",
   "execution_count": 10,
   "metadata": {},
   "outputs": [
    {
     "data": {
      "text/plain": [
       "[('saturday', 23),\n",
       " ('some day', 14),\n",
       " ('today', 10),\n",
       " ('tomorrow', 10),\n",
       " ('the day', 8),\n",
       " ('winters day', 4),\n",
       " ('years', 3),\n",
       " ('billion year old', 3),\n",
       " ('these days', 2),\n",
       " ('cryin', 2),\n",
       " ('1970', 2),\n",
       " ('daily', 2),\n",
       " ('day', 2),\n",
       " ('any day', 2),\n",
       " ('yesterday', 2),\n",
       " ('summer', 2),\n",
       " ('the lonely days', 2),\n",
       " ('days', 2),\n",
       " ('winters', 1),\n",
       " ('some day some day', 1),\n",
       " ('the week of august 15 1970', 1),\n",
       " ('13 weeks', 1),\n",
       " ('the week of september 19', 1),\n",
       " ('september', 1),\n",
       " ('one day', 1),\n",
       " ('up to youtwo days later', 1),\n",
       " ('the age of 13', 1),\n",
       " ('a long long time ago', 1),\n",
       " ('that day', 1),\n",
       " ('ajust', 1),\n",
       " ('just a week', 1),\n",
       " ('a day', 1),\n",
       " ('no more lonely days', 1),\n",
       " ('a crystal day', 1),\n",
       " ('a sunny day', 1),\n",
       " ('70s', 1),\n",
       " ('brighter days', 1),\n",
       " ('saturdays', 1),\n",
       " ('a new day', 1),\n",
       " ('the time of year', 1)]"
      ]
     },
     "execution_count": 10,
     "metadata": {},
     "output_type": "execute_result"
    }
   ],
   "source": [
    "entity_that_is_a_date_counter_1970 = Counter()  # do not modify this line\n",
    "\n",
    "# ------------------------------------------------------------------------------\n",
    "# YOUR CODE HERE\n",
    "#\n",
    "for lyrics in lyrics_1970:\n",
    "    # --------------------------------------------------------------------------\n",
    "    # Hint: the string representation of a named entity stored in the variable\n",
    "    # `entity` can be obtained via `entity.orth_`\n",
    "    #\n",
    "    for entity in nlp(lyrics).ents:\n",
    "        if entity.label_ == 'DATE':\n",
    "            entity_that_is_a_date_counter_1970[entity.orth_] += 1\n",
    "#\n",
    "# END OF YOUR CODE\n",
    "# ------------------------------------------------------------------------------\n",
    "\n",
    "# display the top 10 entries in the counter\n",
    "entity_that_is_a_date_counter_1970.most_common()"
   ]
  },
  {
   "cell_type": "markdown",
   "metadata": {},
   "source": [
    "You should find that the top `DATE` entity has an unusually high count that is greater than 20. What is this named entity?"
   ]
  },
  {
   "cell_type": "markdown",
   "metadata": {},
   "source": [
    "**Your answer here (no code):** saturday"
   ]
  },
  {
   "cell_type": "markdown",
   "metadata": {},
   "source": [
    "**(g) [10 points]** At this point, it's unclear whether the top `DATE` entity found in part **(f)** shows up in many songs in 1970 or just 1 song. The issue is that we didn't also keep track of songs! Write code that counts the number of times named entities that have entity label `DATE` appear in 1970 song lyrics, where we also keep track of what song the named entity came from. Specifically, the keys of the counter are of the form (song, entity used in song that has entity label `DATE`). In particular, when you do a `for` loop through the named entities, if the entity is a date, then you increment the count for the pair (song, entity's string representation)."
   ]
  },
  {
   "cell_type": "code",
   "execution_count": 11,
   "metadata": {},
   "outputs": [
    {
     "data": {
      "text/plain": [
       "[(('come saturday morning', 'saturday'), 23),\n",
       " (('ooh child', 'some day'), 8),\n",
       " (('everything is beautiful', 'winters day'), 4),\n",
       " (('ball of confusion thats what the world is today', 'today'), 4),\n",
       " (('its only make believe', 'some day'), 4),\n",
       " (('woodstock', 'billion year old'), 3),\n",
       " (('they long to be close to you', 'the day'), 2),\n",
       " (('the love you save', 'some day'), 2),\n",
       " (('cracklin rosie', 'these days'), 2),\n",
       " (('lookin out my back door', 'tomorrow'), 2)]"
      ]
     },
     "execution_count": 11,
     "metadata": {},
     "output_type": "execute_result"
    }
   ],
   "source": [
    "song_date_counter_1970 = Counter()  # do not modify this line\n",
    "\n",
    "# ------------------------------------------------------------------------------\n",
    "# YOUR CODE HERE\n",
    "#\n",
    "songs_1970 = [song for song, year in zip(song_list, year_list) if year == 1970]\n",
    "\n",
    "for song, lyrics in zip(songs_1970, lyrics_1970):\n",
    "    for entity in nlp(lyrics).ents:\n",
    "        if entity.label_ == 'DATE':\n",
    "            song_date_counter_1970[(song, entity.orth_)] += 1\n",
    "\n",
    "#\n",
    "# END OF YOUR CODE\n",
    "# ------------------------------------------------------------------------------\n",
    "\n",
    "# display the top 10 entries in the counter\n",
    "song_date_counter_1970.most_common()[:10]"
   ]
  },
  {
   "cell_type": "markdown",
   "metadata": {},
   "source": [
    "It appears that all the 20+ counts of the `DATE` named entity from part **(f)** is from the same song. What is the name of this song?"
   ]
  },
  {
   "cell_type": "markdown",
   "metadata": {},
   "source": [
    "**Your answer here (no code):** come saturday morning"
   ]
  },
  {
   "cell_type": "markdown",
   "metadata": {},
   "source": [
    "**Fun fact:** We did not actually investigate the `PERSON` entity label in more detail. We will spare you the coding effort and tell you that if you do check what the named entities are that have label `PERSON`, it turns out that SpaCy does a *terrible* job with many phrases that are not people's names being considered as `PERSON`, so any differences in changes of mentions of `PERSON` between popular song lyrics in 1970 and in 2010 are a bit suspect."
   ]
  }
 ],
 "metadata": {
  "kernelspec": {
   "display_name": "Python 3",
   "language": "python",
   "name": "python3"
  },
  "language_info": {
   "codemirror_mode": {
    "name": "ipython",
    "version": 3
   },
   "file_extension": ".py",
   "mimetype": "text/x-python",
   "name": "python",
   "nbconvert_exporter": "python",
   "pygments_lexer": "ipython3",
   "version": "3.7.4"
  }
 },
 "nbformat": 4,
 "nbformat_minor": 2
}
