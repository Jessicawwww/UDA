{
 "cells": [
  {
   "cell_type": "markdown",
   "id": "d056e3ab",
   "metadata": {},
   "source": [
    "# CMU 95-865 - Unstructured Data Analytics Spring 2022 Quiz 1\n",
    "\n",
    "**Make sure your Zoom video is on and that you can see/hear the course staff.**\n",
    "\n",
    "This is an 80 minute exam. We will only grade what is submitted via Canvas.\n",
    "\n",
    "You must fill in your name and your Andrew ID for this quiz to be graded. Moreover, filling out your name and Andrew ID below will serve as your agreement with us, the course staff, that you did not collaborate with anyone on this exam and that what you submit is truly your own individual work and not that of anyone else. Violations found will result in severe penalties."
   ]
  },
  {
   "cell_type": "markdown",
   "id": "759235e5",
   "metadata": {},
   "source": [
    "Your name: solutions\n",
    "\n",
    "Your Andrew ID: n/a\n",
    "\n",
    "**Warning: If you leave the above blank, your quiz will not be graded.**"
   ]
  },
  {
   "cell_type": "markdown",
   "id": "861df87a",
   "metadata": {},
   "source": [
    "**Important:** There are 2 problems that can be done in either order. The first problem has no coding. The second problem is mostly on coding with a few non-coding interpretation parts. The second problem has 3 parts (a), (b), and (c) that can be done in any order.\n",
    "\n",
    "**Throughout the coding problem, do not import any additional packages.**"
   ]
  },
  {
   "cell_type": "markdown",
   "id": "1daf5e73",
   "metadata": {},
   "source": [
    "## Problem 1: Co-occurrence analysis (no coding) [30 points]\n",
    "\n",
    "*Please do not answer any parts of this problem with code.*\n",
    "\n",
    "Suppose that we have a collection of text documents, and that someone has already run named entity recognition on each of the documents and found the following named enties (per document, we list the named entities found as a length-2 tuple of the format \"(named entity, named entity label)\"):\n",
    "\n",
    "- Document 1: (Alejandro Giammattei, PERSON)\n",
    "- Document 2: (Pope Francis, PERSON)\n",
    "- Document 3: (Boris Johnson, PERSON)\n",
    "- Document 4: (Volodymyr Zelensky, PERSON), (Ukraine, GPE)\n",
    "- Document 5: (Fumio Kishida, PERSON), (Japan, GPE), (Yoshihide Suga, PERSON)\n",
    "\n",
    "Each time a named entity appeared in a document, the named entity appeared exactly once.\n",
    "\n",
    "**(a) [10 points across subparts]** As we discussed in lecture, there are different ways that one can construct a co-occurrence table.\n",
    "\n",
    "**Subpart i. [5 points]** Let's first compute a co-occurrence table as follows: count the number of documents that mention both a specific PERSON and a specific GPE."
   ]
  },
  {
   "cell_type": "markdown",
   "id": "7b5a38ce",
   "metadata": {},
   "source": [
    "**Your answer here (fill out the table below; note that rows index people and columns index geopolitical entities)**:\n",
    "\n",
    "| <i></i>              | Ukraine | Japan |\n",
    "| -------------------- |:-------:|:-----:|\n",
    "| Alejandro Giammattei | 0       | 0     |\n",
    "| Pope Francis         | 0       | 0     |\n",
    "| Boris Johnson        | 0       | 0     |\n",
    "| Volodymyr Zelensky   | 1       | 0     |\n",
    "| Fumio Kishida        | 0       | 1     |\n",
    "| Yoshihide Suga       | 0       | 1     |\n",
    "\n",
    "There isn't really much of an explanation needed for this subpart as it is straightforward. We get the numbers above by counting the number of documents that mention the specific person of interest and Ukraine/Japan."
   ]
  },
  {
   "cell_type": "markdown",
   "id": "7614bd9d",
   "metadata": {},
   "source": [
    "**Subpart ii. [5 points]** For each of the nonzero counts in your co-occurrence table that you computed in **subpart i**, suppose that we create flashcards (1 per co-occurrence that you counted). For instance, if Pope Francis and Ukraine co-occurred 3 times, then we would create 3 flashcards that say \"Pope Francis, Ukraine\". We put these flashcards into a bag. What is the probability of drawing a flashcard that says \"Yoshihide Suga, Japan\"?"
   ]
  },
  {
   "cell_type": "markdown",
   "id": "0a7b307e",
   "metadata": {},
   "source": [
    "**Your answer here:** There are a total of 3 flashcards: \"Volodymyr Zelensky, Ukraine\", \"Fumio Kishida, Japan\", and \"Yoshihide Suga, Japan\". Assuming that these occur with equal probability, then drawing the flashcard that says \"Yoshihide Suga, Japan\" happens with probability 1/3."
   ]
  },
  {
   "cell_type": "markdown",
   "id": "e172cbc8",
   "metadata": {},
   "source": [
    "**(b) [15 points across subparts]** (This part does **not** depend on part **(a)**.) Let's consider a different setup from part **(a)**. Suppose that we put documents 1, 2, 3, 4, and 5 into a bag, where drawing any document out of the bag has equal probability (i.e., drawing each document has probability 1/5).\n",
    "\n",
    "**Subpart i. [5 points]**  What is the probability that you draw a document in which Yoshihide Suga and Japan co-occur?"
   ]
  },
  {
   "cell_type": "markdown",
   "id": "e4009c69",
   "metadata": {},
   "source": [
    "**Your answer here:** Yoshihide Suga and Japan only co-occur in document 5. Drawing document 5 out of the bag happens with probability 1/5."
   ]
  },
  {
   "cell_type": "markdown",
   "id": "035d61d0",
   "metadata": {},
   "source": [
    "**Subpart ii. [5 points]** Suppose that we compute PMI as follows:\n",
    "\n",
    "- Let x = probability of drawing a document from the bag in which named entities A and B both occur.\n",
    "- Let y = probability of drawing a document from the bag in which named entity A occurs.\n",
    "- Let z = probability of drawing a document from the bag in which named entity B occurs.\n",
    "- Let the PMI be given by log(x / (y * z)).\n",
    "\n",
    "Using the above steps, what is the PMI of Yoshihide Suga and Japan? (Note: leave the base of the log unspecified, i.e., if you think x = 1, y = 1, and z = 1/10, then leave your answer in the form \"log(10)\".)"
   ]
  },
  {
   "cell_type": "markdown",
   "id": "95d31c0d",
   "metadata": {},
   "source": [
    "**Your answer here:** Setting A = Yoshihide Suga and B = Japan, then note that **subpart i** says that x = 1/5.\n",
    "\n",
    "In this case, y and z are each also equal to the probability of drawing document 5.\n",
    "\n",
    "Thus x / (y * z) = (1/5) / ((1/5) * (1/5)) = 5.\n",
    "\n",
    "Thus, the PMI of Yoshihide Suga and Japan is given by log(5)."
   ]
  },
  {
   "cell_type": "markdown",
   "id": "a4e68edf",
   "metadata": {},
   "source": [
    "**Subpart iii. [5 points]** Using the same way to calculate PMI as stated in **subpart ii**, what is the PMI of Boris Johnson and Ukraine?"
   ]
  },
  {
   "cell_type": "markdown",
   "id": "ed6dd02e",
   "metadata": {},
   "source": [
    "**Your answer here:** Boris Johnson and Ukraine don't co-occur, so the probability of then co-occurring is 0. (If you then just say that this implies that the PMI is either negative infinity or undefined, we award full credit. However, in the solutions here, we provide a more detailed explanation.)\n",
    "\n",
    "Meanwhile, the probability of drawing a document that mentions Boris Johnson and, separately, the probability of drawing a document that mentions Ukraine are both positive (in fact they are both equal to 1/5).\n",
    "\n",
    "Thus, the PMI in this case is given by log(0 / ((1/5) * (1/5))) = log(0) which is negative infinity (we will also accept an answer of \"undefined\")."
   ]
  },
  {
   "cell_type": "markdown",
   "id": "9665a385",
   "metadata": {},
   "source": [
    "**(c) [5 points]** (This part depends on parts **(a)** (both subparts) and **(b)-subpart i**.) In problem **(a)-subpart ii**, we saw one way to compute the probability in which Yoshihide Suga and Japan co-occur. In problem **(b)-subpart i**, we saw another way to compute the probability in which Yoshihide Suga and Japan co-occur. Briefly explain why the answers that we get are different."
   ]
  },
  {
   "cell_type": "markdown",
   "id": "6468a848",
   "metadata": {},
   "source": [
    "**Your answer here:** We had set up two different probability models. In part **(a)**, we sample from a collection of co-occurrences. In part **(b)**, we are sampling the documents themselves.\n",
    "\n",
    "This problem is meant to emphasize this idea that when we say something like \"the probability of A and B co-occurring\", we do have to be clear about what the probability model is that we are working with. Sometimes it is intuitively obvious, but often times it is not!"
   ]
  },
  {
   "cell_type": "markdown",
   "id": "31db1691",
   "metadata": {
    "id": "31db1691"
   },
   "source": [
    "## Problem 2: What quiz questions are in Jeopardy? (coding, with a very brief non-coding component at the very end) [70 points]"
   ]
  },
  {
   "cell_type": "markdown",
   "id": "78e545d0",
   "metadata": {},
   "source": [
    "**Warning:** Throughout this problem, we import packages for you. Do **not** import any additional packages."
   ]
  },
  {
   "cell_type": "markdown",
   "id": "7ccd7226",
   "metadata": {
    "id": "7ccd7226"
   },
   "source": [
    "**Jeopardy!** is an American television game show created by Merv Griffin. The show features a quiz competition in which contestants are presented with general knowledge clues in the form of answers, and must phrase their responses in the form of questions.\n",
    "\n",
    "In this problem, we analyze a curated set of questions from Jeopardy. We begin by loading in the data."
   ]
  },
  {
   "cell_type": "code",
   "execution_count": 1,
   "id": "2128522d",
   "metadata": {},
   "outputs": [
    {
     "name": "stdout",
     "output_type": "stream",
     "text": [
      "Number of questions: 2588\n"
     ]
    }
   ],
   "source": [
    "# DO NOT MODIFY THIS CELL\n",
    "%matplotlib inline\n",
    "import numpy as np\n",
    "import matplotlib.pyplot as plt\n",
    "from collections import Counter\n",
    "from sklearn.decomposition import PCA\n",
    "\n",
    "plt.style.use('seaborn')\n",
    "\n",
    "def read_text_file(filename):\n",
    "    with open(filename, 'r', encoding='utf8') as f:\n",
    "        return [line.strip() for line in f.readlines()]\n",
    "\n",
    "questions = read_text_file('mystery_corn_flakes.txt')\n",
    "categories = read_text_file('mystery_blackjack.txt')\n",
    "answers = read_text_file('mystery_justice.txt')\n",
    "print('Number of questions:', len(questions))"
   ]
  },
  {
   "cell_type": "markdown",
   "id": "3a3325b4",
   "metadata": {},
   "source": [
    "Note that the i-th question corresponds to the i-th category and to the i-th answer. For instance, `questions[0]` is about the category `categories[0]` and has an answer given by `answers[0]`:"
   ]
  },
  {
   "cell_type": "code",
   "execution_count": 2,
   "id": "7f0aeb67",
   "metadata": {},
   "outputs": [
    {
     "name": "stdout",
     "output_type": "stream",
     "text": [
      "Question: For the last 8 years of his life, Galileo was under house arrest for espousing this man's theory\n",
      "Category: HISTORY\n",
      "Answer: Copernicus\n"
     ]
    }
   ],
   "source": [
    "# DO NOT MODIFY THIS CELL\n",
    "print('Question:', questions[0])\n",
    "print('Category:', categories[0])\n",
    "print('Answer:', answers[0])"
   ]
  },
  {
   "cell_type": "markdown",
   "id": "e02925bb",
   "metadata": {},
   "source": [
    "**Please run the cell below before doing anything else for this problem since it can take a little bit of time to run (for us it takes around 1-2 minutes but possibly it can take a bit longer on your machine).** This cell creates a variable `parsed_questions`, which contains spacy Doc objects, one per question in `questions`. In particular, the spacy Doc corresponding to `questions[i]` is `parsed_questions[i]`."
   ]
  },
  {
   "cell_type": "code",
   "execution_count": 3,
   "id": "51fe6695",
   "metadata": {},
   "outputs": [],
   "source": [
    "# DO NOT MODIFY THIS CELL\n",
    "import spacy\n",
    "nlp = spacy.load('en_core_web_sm', disable=['parser'])\n",
    "parsed_questions = [nlp(q) for q in questions]"
   ]
  },
  {
   "cell_type": "markdown",
   "id": "ade21144",
   "metadata": {},
   "source": [
    "**Warning:** Do **not** modify the variable `parsed_questions`. It is used in different parts of the problem and if you accidentally modify it, you would have to re-run the above cell.\n",
    "\n",
    "**This problem has been written so that parts (a), (b), and (c) can be done in any order.** For example, if you get stuck on part (b), you can skip over to doing part (c). However, within each of these three parts, the subparts can depend on each other. The first part (a) has no subparts and is intentionally shorter."
   ]
  },
  {
   "cell_type": "markdown",
   "id": "10edca3c",
   "metadata": {},
   "source": [
    "**(a) [10 points]** From one of the code cells we provided above, you should've seen that Copernicus is the answer to the 0-th question \"For the last 8 years of his life, Galileo was under house arrest for espousing this man's theory\". One can check that the string `\"Copernicus\"` does *not* actually appear anywhere in the questions in the dataset that we loaded in (in other words, no string in the list `questions` contains the substring `\"Copernicus\"`).\n",
    "\n",
    "Write code to determine the fraction of the strings in `answers` that can be found in **any strings** of questions. **Each element in the answers list is considered as one string. Your code should not split any strings by spaces.** For instance, suppose that `answers` consisted of three strings `\"Marie Curie\"`, `\"Nikola Tesla\"`, and `\"Sandro Botticelli\"`. If `\"Marie Curie\"` is contained in at least one of the strings in `questions`, but `\"Nikola Tesla\"` and `\"Sandro Botticelli\"` are *not* contained in any of the strings in `questions`, then the answer to this question would be 1/3. **For simplicity, do not convert any of the text to lowercase or uppercase--leave the casing the same and check for matches in a case-sensitive manner.**\n",
    "\n",
    "Hint: To see if the string `x` is in another string `y`, you can use the boolean expression `x in y`. For instance, `'Galileo' in questions[0]` returns `True` (indeed, `'Galileo'` is a substring contained in `questions[0]`)."
   ]
  },
  {
   "cell_type": "code",
   "execution_count": 4,
   "id": "1c022c3d",
   "metadata": {},
   "outputs": [
    {
     "name": "stdout",
     "output_type": "stream",
     "text": [
      "Fraction of answers that are contained in questions: 0.303323029366306\n"
     ]
    }
   ],
   "source": [
    "# <------------------- YOUR CODE HERE ----------------------------->\n",
    "found_matches = 0\n",
    "for answer in answers:\n",
    "    for question in questions:\n",
    "        if answer in question:\n",
    "            found_matches += 1\n",
    "            break  # we do a break here since there is at this point no need to check any other Jeopardy questions! otherwise, you could double count\n",
    "# <------------------- END OF YOUR CODE --------------------------->\n",
    "\n",
    "# DO NOT MODIFY THE LINE BELOW\n",
    "print('Fraction of answers that are contained in questions:', found_matches / len(answers))"
   ]
  },
  {
   "cell_type": "markdown",
   "id": "18498b74",
   "metadata": {},
   "source": [
    "*It turns out that most answers cannot be found in the questions, meaning that with only access to the questions (and not the answers) and no other datasets, we really can't hope to answer most of the questions!*"
   ]
  },
  {
   "cell_type": "markdown",
   "id": "1fbedfa7",
   "metadata": {},
   "source": [
    "**Alternate solution:** There are other ways you could have coded this problem up. Here's a one-liner (the basic strategy is to: (step 1) per answer, sum up the number of questions that contain that answer, and (step 2) sum up the number of answers for which the number of questions that contain the answer is at least 1):"
   ]
  },
  {
   "cell_type": "code",
   "execution_count": 5,
   "id": "eef56e4b",
   "metadata": {},
   "outputs": [
    {
     "name": "stdout",
     "output_type": "stream",
     "text": [
      "Fraction of answers that are contained in questions: 0.303323029366306\n"
     ]
    }
   ],
   "source": [
    "# <------------------- YOUR CODE HERE ----------------------------->\n",
    "found_matches = np.sum(np.sum([[1*(answer in question) for question in questions] for answer in answers], axis=1) >= 1)\n",
    "# <------------------- END OF YOUR CODE --------------------------->\n",
    "\n",
    "# DO NOT MODIFY THE LINE BELOW\n",
    "print('Fraction of answers that are contained in questions:', found_matches / len(answers))"
   ]
  },
  {
   "cell_type": "markdown",
   "id": "45a55aa3",
   "metadata": {},
   "source": [
    "**Alternate solution with a different final answer:** We also accepted the following different interpretation of the problem that iterates only through the unique answers (as to avoid double counting any answer --- it does require modifying the line after \"DO NOT MODIFY THE LINE BELOW\"):"
   ]
  },
  {
   "cell_type": "code",
   "execution_count": 6,
   "id": "1295d67c",
   "metadata": {},
   "outputs": [
    {
     "name": "stdout",
     "output_type": "stream",
     "text": [
      "Fraction of answers that are contained in questions: 0.2356717102246676\n"
     ]
    }
   ],
   "source": [
    "# <------------------- YOUR CODE HERE ----------------------------->\n",
    "found_matches = 0\n",
    "for answer in set(answers):\n",
    "    for question in questions:\n",
    "        if answer in question:\n",
    "            found_matches += 1\n",
    "            break  # we do a break here since there is at this point no need to check any other Jeopardy questions! otherwise, you could double count\n",
    "# <------------------- END OF YOUR CODE --------------------------->\n",
    "\n",
    "# DO NOT MODIFY THE LINE BELOW\n",
    "print('Fraction of answers that are contained in questions:', found_matches / len(set(answers)))"
   ]
  },
  {
   "cell_type": "markdown",
   "id": "43d99a18",
   "metadata": {
    "id": "43d99a18"
   },
   "source": [
    "**(b)** Many questions in the dataset involve dates. Does Jeopardy tend to favor particular dates in terms of the questions asked? To answer this, we focus just on *years* rather than specific dates that include months or days.\n",
    "\n",
    "**Subpart i. [8 points]** For each question in the dataset, look for named entities with the label `'DATE'` and that have string representations that are each exactly 4 characters long and consist only of digits---we shall assume that named entities satisfying these conditions correspond to years. Create a histogram `year_counter` (that is a `Counter` instance) that counts how often each year appears. **Important**: Your `year_counter` should have each key/value pair correspond to a year (integer)/raw count frequency (integer) pair.\n",
    "\n",
    "Note: in writing your code, please make use of the `parsed_questions` variable that we defined at the start of Problem 2 (that involves spaCy doing the parsing of the different questions). You should *not* have to re-run spaCy parsing!\n",
    "\n",
    "Hint: if the variable `x` is a string, then `x.isdigit()` checks whether `x` consists of digits."
   ]
  },
  {
   "cell_type": "code",
   "execution_count": 7,
   "id": "3551cf6b",
   "metadata": {
    "id": "3551cf6b"
   },
   "outputs": [],
   "source": [
    "year_counter = Counter()  # do not change this line; your code below should populate `year_counter`\n",
    "\n",
    "# <------------------- YOUR CODE HERE ----------------------------->\n",
    "for parsed in parsed_questions:\n",
    "    for ent in parsed.ents:\n",
    "        ent_str = str(ent)\n",
    "        if (ent.label_ == \"DATE\") and len(ent_str) == 4 and ent_str.isdigit():\n",
    "            year_counter[int(ent_str)] += 1\n",
    "# <------------------- END OF YOUR CODE --------------------------->"
   ]
  },
  {
   "cell_type": "markdown",
   "id": "9f8ddb66",
   "metadata": {},
   "source": [
    "**Alternate solution:** We don't really know of how to write the code in a more straightforward manner than what we've written above. If you wanted a one-liner solution, it would still use essentially the same logic. Here's a one-liner:"
   ]
  },
  {
   "cell_type": "code",
   "execution_count": 8,
   "id": "607c7f9c",
   "metadata": {},
   "outputs": [],
   "source": [
    "year_counter = Counter()  # do not change this line; your code below should populate `year_counter`\n",
    "\n",
    "# <------------------- YOUR CODE HERE ----------------------------->\n",
    "year_counter.update([int(str(ent)) for parsed in parsed_questions for ent in parsed.ents if (ent.label_ == \"DATE\") and len(str(ent)) == 4 and str(ent).isdigit()])\n",
    "# <------------------- END OF YOUR CODE --------------------------->"
   ]
  },
  {
   "cell_type": "markdown",
   "id": "5f04ef44",
   "metadata": {},
   "source": [
    "In fact the above cell could be made even shorter if we just write:"
   ]
  },
  {
   "cell_type": "code",
   "execution_count": 9,
   "id": "11f1d169",
   "metadata": {},
   "outputs": [],
   "source": [
    "year_counter = Counter([int(str(ent)) for parsed in parsed_questions for ent in parsed.ents if (ent.label_ == \"DATE\") and len(str(ent)) == 4 and str(ent).isdigit()])"
   ]
  },
  {
   "cell_type": "markdown",
   "id": "34a97b81",
   "metadata": {},
   "source": [
    "**Subpart ii. [4 points]** spaCy's named entity recognition isn't always accurate. Let's do a quick sanity check. What are the minimum and maximum years that you found (stored in `year_counter`)? To answer this question, write code that prints out the minimum and maximum years found. Note that we are asking about minimum as in earliest in time, and maximum as it latest in time----we are **not** asking about minimum as in least frequent and maximum as in most frequent."
   ]
  },
  {
   "cell_type": "code",
   "execution_count": 10,
   "id": "7970b0d2",
   "metadata": {},
   "outputs": [
    {
     "name": "stdout",
     "output_type": "stream",
     "text": [
      "Min year found: 1025\n",
      "Max year found: 3001\n"
     ]
    }
   ],
   "source": [
    "# <------------------- YOUR CODE HERE ----------------------------->\n",
    "min_year_found = min(year_counter.keys())\n",
    "max_year_found = max(year_counter.keys())\n",
    "# <------------------- END OF YOUR CODE --------------------------->\n",
    "\n",
    "# DO NOT MODIFY THE CODE BELOW\n",
    "print('Min year found:', min_year_found)\n",
    "print('Max year found:', max_year_found)"
   ]
  },
  {
   "cell_type": "markdown",
   "id": "71348cb1",
   "metadata": {},
   "source": [
    "**Subpart iii. [6 points]** Write code that finds and prints out all questions that contain a named entity corresponding to the minimum year found, and separately all questions that contain a named entity corresponding to the maximum year found. (These named entities should use the same filters as in **subpart i** to determine whether they are considered a year or not.)"
   ]
  },
  {
   "cell_type": "code",
   "execution_count": 11,
   "id": "7414eb92",
   "metadata": {},
   "outputs": [
    {
     "name": "stdout",
     "output_type": "stream",
     "text": [
      "[Question(s) containing the minimum year found]\n",
      "In 1025 Boleslaw I became this country's first king but died within the year\n",
      "\n",
      "[Question(s) containing the maximum year found]\n",
      "He wrote the \"2001\", \"2010\", \"2061\" & \"3001\" Odyssey books\n"
     ]
    }
   ],
   "source": [
    "print('[Question(s) containing the minimum year found]')  # DO NOT MODIFY THIS LINE\n",
    "\n",
    "# <------ YOUR CODE HERE FOR PRINTING OUT QUESTION(S) CONTAINING THE MINIMUM YEAR FOUND ------>\n",
    "# note that this code is actually largely just a copy and paste of the solution to subpart i, slightly modified\n",
    "for question, parsed in zip(questions, parsed_questions):\n",
    "    for ent in parsed.ents:\n",
    "        ent_str = str(ent)\n",
    "        if (ent.label_ == \"DATE\") and len(ent_str) == 4 and ent_str.isdigit():\n",
    "            if int(ent_str) == min_year_found:\n",
    "                print(question)\n",
    "                break  # we do a break here since there's no need to print the Jeopardy question more than once if the year appears a second time in the same question\n",
    "# <------ END OF YOUR CODE FOR PRINTING OUT QUESTION(S) CONTAINING THE MINIMUM YEAR FOUND ---->\n",
    "\n",
    "\n",
    "print(\"\\n[Question(s) containing the maximum year found]\")  # DO NOT MODIFY THIS LINE\n",
    "\n",
    "# <------ YOUR CODE HERE FOR PRINTING OUT QUESTION(S) CONTAINING THE MAXIMUM YEAR FOUND ------>\n",
    "# this code is the same as the one for the minimum year where we replace `min_year_found` with `max_year_found`\n",
    "for question, parsed in zip(questions, parsed_questions):\n",
    "    for ent in parsed.ents:\n",
    "        ent_str = str(ent)\n",
    "        if (ent.label_ == \"DATE\") and len(ent_str) == 4 and ent_str.isdigit():\n",
    "            if int(ent_str) == max_year_found:\n",
    "                print(question)\n",
    "                break  # we do a break here since there's no need to print the Jeopardy question more than once if the year appears a second time in the same question\n",
    "# <------ END OF YOUR CODE FOR PRINTING OUT QUESTION(S) CONTAINING THE MAXIMUM YEAR FOUND ---->"
   ]
  },
  {
   "cell_type": "markdown",
   "id": "0709e492",
   "metadata": {},
   "source": [
    "*Different versions of spaCy can detect different named entities a bit differently. We'll just say that when we run this, the minimum and maximum years actually do correspond to years and aren't errors in named entity recognition (although perhaps you get a different result).*"
   ]
  },
  {
   "cell_type": "markdown",
   "id": "cb063068",
   "metadata": {
    "id": "cb063068"
   },
   "source": [
    "**Subpart iv. [6 points]** Plot a histogram showing years 1900 to 2000 (including both 1900 and 2000) of the year counter. The x axis (corresponding to years) should be in chronological order. Be sure to label your x-axis and y-axis."
   ]
  },
  {
   "cell_type": "code",
   "execution_count": 12,
   "id": "8af30b69",
   "metadata": {
    "colab": {
     "base_uri": "https://localhost:8080/",
     "height": 344
    },
    "id": "8af30b69",
    "outputId": "ea3f2ef8-6c3f-463a-acf4-32d67ded2504"
   },
   "outputs": [
    {
     "data": {
      "image/png": "[encoded data removed]",
      "text/plain": [
       "<Figure size 1440x360 with 1 Axes>"
      ]
     },
     "metadata": {},
     "output_type": "display_data"
    }
   ],
   "source": [
    "plt.figure(figsize=(20, 5))\n",
    "\n",
    "# <------------------- YOUR CODE HERE ----------------------------->\n",
    "x_values = sorted([i for i in year_counter.keys() if i >= 1900 and i <= 2000])\n",
    "x_label = range(len(x_values))\n",
    "y_values = [year_counter[year] for year in x_values]\n",
    "plt.bar(x_label, y_values)\n",
    "plt.xticks(x_label, x_values)\n",
    "plt.xticks(fontsize=10, rotation=90)\n",
    "plt.xlabel('Year')\n",
    "plt.ylabel('Count')\n",
    "plt.show()\n",
    "# <------------------- END OF YOUR CODE --------------------------->"
   ]
  },
  {
   "cell_type": "markdown",
   "id": "42c3caa2",
   "metadata": {},
   "source": [
    "What do you observe? Are there any specific years which are immensely popular or is the distribution well spread out?"
   ]
  },
  {
   "cell_type": "markdown",
   "id": "0e062384",
   "metadata": {
    "id": "0e062384"
   },
   "source": [
    "**Your answer here**: The years in questions are quite diversified/spread out. A handful of years were frequently asked such as 1929, 1975, and 1912."
   ]
  },
  {
   "cell_type": "markdown",
   "id": "64f41cb7",
   "metadata": {
    "id": "64f41cb7"
   },
   "source": [
    "**(c)** In this part, we try to understand how questions in the category `\"WORLD HISTORY\"` differ from the ones in the category `\"LITERATURE\"`. We shall do this using both frequency analysis and dimensionality reduction.\n",
    "\n",
    "**Subpart i. [4 points]** Write code that obtains the subset of `questions`, `parsed_questions`, and `categories` for which `categories` is either `\"WORLD HISTORY\"` or `\"LITERATURE\"`. Store the resulting subsets in the variables `subset_questions`, `subset_parsed_questions`, and `subset_categories` respectively (so that `subset_questions[i]` has category given by `subset_categories[i]`, which should always be either `\"WORLD HISTORY\"` or `\"LITERATURE\"`, and the spaCy-parsed version of `subset_questions[i]` is in `subset_parsed_questions[i]`). You should *not* have to re-run spaCy parsing!\n",
    "\n",
    "Note that for this part, we will not use the `answers` variable.\n",
    "\n",
    "If your code works correctly, then `len(subset_questions)` should equal 873."
   ]
  },
  {
   "cell_type": "code",
   "execution_count": 13,
   "id": "278929ad",
   "metadata": {},
   "outputs": [],
   "source": [
    "# <------------------- YOUR CODE HERE ----------------------------->\n",
    "subset_questions = [question for question, category in zip(questions, categories) if category == \"WORLD HISTORY\" or category == \"LITERATURE\"]\n",
    "subset_categories = [category for category in categories if category == \"WORLD HISTORY\" or category == \"LITERATURE\"]\n",
    "subset_parsed_questions = [parsed_question for parsed_question, category in zip(parsed_questions, categories) if category == \"WORLD HISTORY\" or category == \"LITERATURE\"]\n",
    "# <------------------- END OF YOUR CODE --------------------------->"
   ]
  },
  {
   "cell_type": "markdown",
   "id": "28e36cf4",
   "metadata": {},
   "source": [
    "**Alternate solution:** Here's another solution:"
   ]
  },
  {
   "cell_type": "code",
   "execution_count": 14,
   "id": "1790e3a2",
   "metadata": {},
   "outputs": [],
   "source": [
    "# <------------------- YOUR CODE HERE ----------------------------->\n",
    "subset_questions = []\n",
    "subset_parsed_questions = []\n",
    "subset_categories = []\n",
    "for question, parsed_question, category in zip(questions, parsed_questions, categories):\n",
    "    if category == 'WORLD HISTORY' or category == 'LITERATURE':\n",
    "        subset_questions.append(question)\n",
    "        subset_parsed_questions.append(parsed_question)\n",
    "        subset_categories.append(category)\n",
    "# <------------------- END OF YOUR CODE --------------------------->"
   ]
  },
  {
   "cell_type": "markdown",
   "id": "6a03ca94",
   "metadata": {},
   "source": [
    "**Subpart ii. [10 points]** Let's now represent the questions as feature vectors. We first load in the vocabulary words that we will keep track of:"
   ]
  },
  {
   "cell_type": "code",
   "execution_count": 15,
   "id": "696f12e1",
   "metadata": {},
   "outputs": [
    {
     "name": "stdout",
     "output_type": "stream",
     "text": [
      "1130\n"
     ]
    }
   ],
   "source": [
    "# DO NOT MODIFY THIS CELL\n",
    "vocab = read_text_file('mystery_feather.txt')\n",
    "print(len(vocab))"
   ]
  },
  {
   "cell_type": "markdown",
   "id": "1b5e8f97",
   "metadata": {},
   "source": [
    "We will only be keeping track of how often the words in `vocab` appear. In the code cell below, please write code that fills in the variable `term_frequency_table` (a 2D numpy array, where rows correspond to questions in the same order as they appear in `subset_questions` that you computed in **subpart i**, and columns correspond to the different vocabulary words in the same order as they appear in `vocab`).\n",
    "\n",
    "To fill in `term_frequency_table`, remember that the i-th row corresponds to a Jeopardy question `subset_questions[i]`, for which you already have the parsed version (a spacy Doc given by `subset_parsed_questions[i]`). Iterate through the tokens of this parsed spacy Doc, convert each token to lowercase (do not lemmatize) and if the lowercase token appears in `vocab`, then you increment the count for the lowercase token by 1 in the i-th row of `term_frequency_table` (you have to figure out what column index the token corresponds to).\n",
    "\n",
    "For example, suppose that `vocab[200]` is the word `\"early\"`. If `subset_questions[5]` were to correspond to a Jeopardy question for which the word `\"early\"` shows up 17 times (according to the tokens found by spaCy, converted to lowercase), then `term_frequency_table[5, 200]` would be equal to 17.  (Note that this is a made up example. `vocab[200]` is not actually equal to `\"early\"` and `subset_questions[5, 200]` is not actually equal to 17.)"
   ]
  },
  {
   "cell_type": "code",
   "execution_count": 16,
   "id": "3ae6eee4",
   "metadata": {},
   "outputs": [],
   "source": [
    "term_frequency_table = np.zeros((len(subset_questions), len(vocab)))\n",
    "\n",
    "# <------------------- YOUR CODE HERE ----------------------------->\n",
    "for row_idx, parsed_question in enumerate(subset_parsed_questions):\n",
    "    for token in parsed_question:\n",
    "        token_str = token.orth_.lower()\n",
    "        if token_str in vocab:\n",
    "            col_idx = vocab.index(token_str)\n",
    "            term_frequency_table[row_idx, col_idx] += 1\n",
    "# <------------------- END OF YOUR CODE --------------------------->"
   ]
  },
  {
   "cell_type": "markdown",
   "id": "95433f4a",
   "metadata": {},
   "source": [
    "**Subpart iii. [4 points]** Unfortunately, using this term frequency representation, at least one question ends up getting represented as all 0's. Write code that prints out the question(s) that get represented as all 0's (i.e., these questions correspond to rows of `term_frequency_table` that are all 0's). Importantly, we are asking about printing the original question (from `subset_questions`) and *not* the raw counts representation."
   ]
  },
  {
   "cell_type": "code",
   "execution_count": 17,
   "id": "8ed7ff21",
   "metadata": {},
   "outputs": [
    {
     "name": "stdout",
     "output_type": "stream",
     "text": [
      "Shaw's scorched saint\n"
     ]
    }
   ],
   "source": [
    "# <------------------- YOUR CODE HERE ----------------------------->\n",
    "for row, question in zip(term_frequency_table, subset_questions):\n",
    "    if row.sum() == 0:\n",
    "        print(question)\n",
    "# <------------------- END OF YOUR CODE --------------------------->"
   ]
  },
  {
   "cell_type": "markdown",
   "id": "9f20578d",
   "metadata": {},
   "source": [
    "**Subpart iv. [6 points]** Notice that if we look at only the rows of `term_frequency_table` that correspond to the category `\"WORLD HISTORY\"`, then if we sum across these rows, we actually get the overall term frequencies for `\"WORLD HISTORY\"` questions---this could be thought of as collection term frequencies, where the \"collection\" is the set of `\"WORLD HISTORY\"` questions. Using this idea, compute the collection term frequencies for `\"WORLD HISTORY\"` questions, and separately the collection term frequencies for `\"LITERATURE\"` questions. Then print out the top 10 words for each of these, along with their counts.\n",
    "\n",
    "In writing your code here, please work off of `term_frequency_table`. No credit will be given if you create a new histogram/`Counter` from scratch. As a reminder, please do not import any additional packages."
   ]
  },
  {
   "cell_type": "code",
   "execution_count": 18,
   "id": "21a3b3d9",
   "metadata": {},
   "outputs": [
    {
     "name": "stdout",
     "output_type": "stream",
     "text": [
      "[Top words for world history]\n",
      "country : 75.0\n",
      "king : 37.0\n",
      "war : 30.0\n",
      "city : 26.0\n",
      "battle : 19.0\n",
      "great : 18.0\n",
      "years : 18.0\n",
      "england : 15.0\n",
      "island : 15.0\n",
      "called : 13.0\n",
      "\n",
      "[Top words for literature]\n",
      "novel : 166.0\n",
      "title : 57.0\n",
      "wrote : 46.0\n",
      "author : 36.0\n",
      "published : 33.0\n",
      "book : 32.0\n",
      "character : 28.0\n",
      "story : 28.0\n",
      "work : 28.0\n",
      "tale : 27.0\n"
     ]
    }
   ],
   "source": [
    "# <------ YOUR CODE HERE TO COMPUTE THE COLLECTION TERM FREQUENCIES ------>\n",
    "ctf_world_history = term_frequency_table[np.array(subset_categories) == 'WORLD HISTORY'].sum(axis=0)\n",
    "ctf_literature = term_frequency_table[np.array(subset_categories) == 'LITERATURE'].sum(axis=0)\n",
    "# <------ END OF YOUR CODE TO COMPUTE THE COLLECTION TERM FREQUENCIES ---->\n",
    "\n",
    "\n",
    "\n",
    "print(\"[Top words for world history]\") # DO NOT MODIFY THIS LINE\n",
    "\n",
    "# <------ YOUR CODE HERE TO PRINT OUT THE TOP 10 WORDS ALONG WITH THEIR COUNTS FOR WORLD HISTORY ------------->\n",
    "for word, count in sorted(list(zip(vocab, ctf_world_history)), reverse=True, key=lambda x: x[1])[:10]:\n",
    "    print(word, ':', count)\n",
    "# <------ END OF YOUR CODE HERE TO PRINT OUT THE TOP 10 WORDS ALONG WITH THEIR COUNTS FOR WORLD HISTORY ------>\n",
    "\n",
    "\n",
    "print(\"\\n[Top words for literature]\") # DO NOT MODIFY THIS LINE\n",
    "\n",
    "# <------ YOUR CODE HERE TO PRINT OUT THE TOP 10 WORDS, ALONG WITH THEIR COUNTS FOR LITERATURE ------------>\n",
    "for word, count in sorted(list(zip(vocab, ctf_literature)), reverse=True, key=lambda x: x[1])[:10]:\n",
    "    print(word, ':', count)\n",
    "# <------ END OF YOUR CODE HERE TO PRINT OUT THE TOP 10 WORDS ALONG WITH THEIR COUNTS FOR LITERATURE ------>"
   ]
  },
  {
   "cell_type": "markdown",
   "id": "a2cca7a0",
   "metadata": {},
   "source": [
    "**Subpart v. [12 points]** We now use dimensionality reduction to help visualize the data in 2D.\n",
    "\n",
    "First, we normalize the data. Specifically, we convert each question's raw count representation into fractional frequencies instead so that every question's feature vector's entries sum to 1 except for question's whose raw counts are all 0's. For just those cases, we leave their representation the same. Write code that computes this normalized representation and stores the resulting table in the variable `term_frequency_table_frac`. In particular, `term_frequency_table_frac` should be a 2D numpy table with the same shape as `term_frequency_table`; the i-th row of `term_frequency_table_frac` should correspond to the same underlying Jeopardy question as `term_frequency_table`."
   ]
  },
  {
   "cell_type": "code",
   "execution_count": 19,
   "id": "227ce7a5",
   "metadata": {},
   "outputs": [],
   "source": [
    "# <------------------- YOUR CODE HERE ----------------------------->\n",
    "term_frequency_table_frac = []\n",
    "for row in term_frequency_table:\n",
    "    row_sum = row.sum()\n",
    "    if row_sum > 0:\n",
    "        term_frequency_table_frac.append(row / row_sum)\n",
    "    else:\n",
    "        term_frequency_table_frac.append(row)\n",
    "term_frequency_table_frac = np.array(term_frequency_table_frac)\n",
    "# <------------------- END OF YOUR CODE --------------------------->"
   ]
  },
  {
   "cell_type": "markdown",
   "id": "dee74132",
   "metadata": {},
   "source": [
    "**Alternate solution 1:** There are other ways you could have coded this up. Here's a one-liner:"
   ]
  },
  {
   "cell_type": "code",
   "execution_count": 20,
   "id": "d0ba2c9e",
   "metadata": {},
   "outputs": [],
   "source": [
    "# <------------------- YOUR CODE HERE ----------------------------->\n",
    "term_frequency_table_frac = np.array([row / ((row.sum() > 0) and row.sum() or 1) for row in term_frequency_table])\n",
    "# <------------------- END OF YOUR CODE --------------------------->"
   ]
  },
  {
   "cell_type": "markdown",
   "id": "9fbd9af6",
   "metadata": {},
   "source": [
    "**Alternate solution 2:** Here's yet another way that uses fancier numpy functionality:"
   ]
  },
  {
   "cell_type": "code",
   "execution_count": 21,
   "id": "7d39308d",
   "metadata": {},
   "outputs": [],
   "source": [
    "# <------------------- YOUR CODE HERE ----------------------------->\n",
    "row_sum_nonzero_mask = (term_frequency_table.sum(axis=1) > 0)\n",
    "term_frequency_table_frac = term_frequency_table.copy()\n",
    "if np.any(row_sum_nonzero_mask):\n",
    "    term_frequency_table_frac[row_sum_nonzero_mask] /= term_frequency_table_frac[row_sum_nonzero_mask].sum(axis=1)[:, np.newaxis]\n",
    "# <------------------- END OF YOUR CODE --------------------------->"
   ]
  },
  {
   "cell_type": "markdown",
   "id": "5fdcc967",
   "metadata": {},
   "source": [
    "**Alternate solution 3:** For your amusement, we include this third alternate solution that is technically incorrect but gives an approximate answer that is close enough that in practice, people often won't care about the small error here. Note that many math functions in numpy/sklearn/torch actually do use these sorts of approximations as to make the code run faster."
   ]
  },
  {
   "cell_type": "code",
   "execution_count": 22,
   "id": "5787b691",
   "metadata": {},
   "outputs": [
    {
     "name": "stdout",
     "output_type": "stream",
     "text": [
      "Approximation error in l2 distance: 5.112047028741418e-12\n"
     ]
    }
   ],
   "source": [
    "# APPROXIMATE SOLUTION\n",
    "term_frequency_table_frac_approx = term_frequency_table / (term_frequency_table.sum(axis=1) + 1e-12)[:, np.newaxis]\n",
    "print('Approximation error in l2 distance:', np.linalg.norm(term_frequency_table_frac_approx - term_frequency_table_frac))"
   ]
  },
  {
   "cell_type": "markdown",
   "id": "1c567f8b",
   "metadata": {},
   "source": [
    "Next, write code that creates a 1D numpy array called `world_history_mask`, where the number of entries is given by `len(subset_categories)`, and the i-th entry is 1 if `subset_categories[i]` is equal to `\"WORLD HISTORY\"`, and the i-th entry is 0 otherwise."
   ]
  },
  {
   "cell_type": "code",
   "execution_count": 23,
   "id": "66369e5b",
   "metadata": {},
   "outputs": [],
   "source": [
    "# <------------------- YOUR CODE HERE ----------------------------->\n",
    "world_history_mask = 1*(np.array(subset_categories) == 'WORLD HISTORY')\n",
    "# <------------------- END OF YOUR CODE --------------------------->"
   ]
  },
  {
   "cell_type": "markdown",
   "id": "b8d1ce89",
   "metadata": {},
   "source": [
    "**Solution remark:** If you did not have \"1*\" before the boolean mask array, you will also receive full credit, and in fact the PCA plotting code below will still work as desired. We multiply by 1 here just to have the answer actually match what we're asking you to compute."
   ]
  },
  {
   "cell_type": "markdown",
   "id": "304b9ee8",
   "metadata": {},
   "source": [
    "**Alternate solution 1:** Here's another example solution using a list comprehension:"
   ]
  },
  {
   "cell_type": "code",
   "execution_count": 24,
   "id": "b4d4e6d1",
   "metadata": {},
   "outputs": [],
   "source": [
    "# <------------------- YOUR CODE HERE ----------------------------->\n",
    "world_history_mask = np.array([1*(category == 'WORLD HISTORY') for category in subset_categories])\n",
    "# <------------------- END OF YOUR CODE --------------------------->"
   ]
  },
  {
   "cell_type": "markdown",
   "id": "94704f82",
   "metadata": {},
   "source": [
    "**Alternate solution 2:** Here's yet another solution, this time more back-to-basics:"
   ]
  },
  {
   "cell_type": "code",
   "execution_count": 25,
   "id": "387fca60",
   "metadata": {},
   "outputs": [],
   "source": [
    "# <------------------- YOUR CODE HERE ----------------------------->\n",
    "world_history_mask = []\n",
    "for category in subset_categories:\n",
    "    if category == 'WORLD HISTORY':\n",
    "        world_history_mask.append(1)\n",
    "    else:\n",
    "        world_history_mask.append(0)\n",
    "world_history_mask = np.array(world_history_mask)\n",
    "# <------------------- END OF YOUR CODE --------------------------->"
   ]
  },
  {
   "cell_type": "markdown",
   "id": "e5505e34",
   "metadata": {},
   "source": [
    "If your code is correct, then the code cell below should plot the 2D PCA representation for you and also print out the explained variance ratios."
   ]
  },
  {
   "cell_type": "code",
   "execution_count": 26,
   "id": "a607fb68",
   "metadata": {},
   "outputs": [
    {
     "name": "stdout",
     "output_type": "stream",
     "text": [
      "Explained variance ratios: [0.03682397 0.02233863]\n"
     ]
    },
    {
     "data": {
      "image/png": "[encoded data removed]",
      "text/plain": [
       "<Figure size 576x396 with 1 Axes>"
      ]
     },
     "metadata": {},
     "output_type": "display_data"
    }
   ],
   "source": [
    "# DO NOT MODIFY\n",
    "pca = PCA(n_components=2)\n",
    "feature_vectors_pca2d = pca.fit_transform(term_frequency_table_frac)\n",
    "scatter = plt.scatter(feature_vectors_pca2d[:, 0], feature_vectors_pca2d[:, 1],\n",
    "                      c=world_history_mask,\n",
    "                      cmap='Set3', alpha=0.7)\n",
    "plt.xlabel('PC1')\n",
    "plt.ylabel('PC2')\n",
    "plt.legend(handles=scatter.legend_elements()[0], labels=['Literature', 'World History'])\n",
    "plt.axis('equal')\n",
    "\n",
    "print('Explained variance ratios:', pca.explained_variance_ratio_)"
   ]
  },
  {
   "cell_type": "markdown",
   "id": "84fd01b7",
   "metadata": {},
   "source": [
    "Even though the explained variance is low, it should be clear from the plot that questions from the two categories can actually often be distinguished from each other based on this 2D PCA representation!\n",
    "\n",
    "Which of the two principal components would you focus on to try to identify words most related to `\"WORLD HISTORY\"`? Would these words have the most negative or the most positive weights for this particular principal component?"
   ]
  },
  {
   "cell_type": "markdown",
   "id": "2a58efb8",
   "metadata": {},
   "source": [
    "**Your answer here (do not write code for this problem; please answer this as a non-coding question):** From the plot, we can see that the *negative* part of PC2 is where \"WORLD HISTORY\" Jeopardy questions mostly are. Because of how the feature vectors are defined, higher feature vector values correspond to more of specific words being present. Intuitively, for a specific Jeopardy question, if more words show up in it that are indicative of \"WORLD HISTORY\", then we would expect the PC2 value to be closer to where the yellow points are in the plot above--toward the negative direction of PC2. Thus, we should expect words indicative of \"WORLD HISTORY\" to tend to have *negative* PC2 weights.\n",
    "\n",
    "Note that while we explicitly asked you not to answer this question using code, just for this solution key, we also write some code for you to verify that our answer above is indeed true. In particular, we sort the PC2 weights from most negative to most positive (note that here we do *not* need to take the absolute value of the weights like we did in lecture, and we also sort in ascending order, smallest to largest since the smallest values will correspond to the most negative weights):"
   ]
  },
  {
   "cell_type": "code",
   "execution_count": 27,
   "id": "cd899487",
   "metadata": {},
   "outputs": [
    {
     "data": {
      "text/plain": [
       "[('country', -0.49290008934877383),\n",
       " ('government', -0.04919656911382324),\n",
       " ('king', -0.04897870510592394),\n",
       " ('set', -0.04667578390768739),\n",
       " ('constitution', -0.04073685705621684),\n",
       " ('established', -0.04064834096676351),\n",
       " ('ruled', -0.03351216563344515),\n",
       " ('1888', -0.03177965002988849),\n",
       " ('dynasty', -0.02375460907725619),\n",
       " ('called', -0.023254633516784334)]"
      ]
     },
     "execution_count": 27,
     "metadata": {},
     "output_type": "execute_result"
    }
   ],
   "source": [
    "list(sorted(zip(vocab, pca.components_[1]), key=lambda x: x[1]))[:10]"
   ]
  },
  {
   "cell_type": "markdown",
   "id": "7d52a382",
   "metadata": {},
   "source": [
    "The word with the most negative weight (\"country\") is the same as the most popular word for \"WORLD HISTORY\" found in **subpart iv**. We remark that \"country\" has a *very* large negative weight compared to all the other negative weights. Of course, we can't expect the words here to be identical to the ones we saw earlier in **subpart iv** as many of these words still do show up in \"LITERATURE\" as well."
   ]
  }
 ],
 "metadata": {
  "colab": {
   "collapsed_sections": [
    "81de71fe"
   ],
   "name": "Quiz 1 Programming.ipynb",
   "provenance": []
  },
  "kernelspec": {
   "display_name": "Python 3 (ipykernel)",
   "language": "python",
   "name": "python3"
  },
  "language_info": {
   "codemirror_mode": {
    "name": "ipython",
    "version": 3
   },
   "file_extension": ".py",
   "mimetype": "text/x-python",
   "name": "python",
   "nbconvert_exporter": "python",
   "pygments_lexer": "ipython3",
   "version": "3.9.7"
  }
 },
 "nbformat": 4,
 "nbformat_minor": 5
}
