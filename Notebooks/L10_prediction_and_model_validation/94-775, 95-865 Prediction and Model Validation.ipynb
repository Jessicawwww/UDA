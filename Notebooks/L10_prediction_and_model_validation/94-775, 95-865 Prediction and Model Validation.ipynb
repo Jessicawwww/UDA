{
 "cells": [
  {
   "cell_type": "markdown",
   "metadata": {},
   "source": [
    "# 94-775/95-865: Prediction and Model Validation\n",
    "\n",
    "Author: George H. Chen (georgechen [at symbol] cmu.edu)"
   ]
  },
  {
   "cell_type": "code",
   "execution_count": 1,
   "metadata": {},
   "outputs": [],
   "source": [
    "%matplotlib inline\n",
    "import matplotlib.pyplot as plt\n",
    "import numpy as np\n",
    "\n",
    "import torchvision\n",
    "import torchvision.transforms as transforms\n",
    "\n",
    "np.random.seed(0)"
   ]
  },
  {
   "cell_type": "code",
   "execution_count": 2,
   "metadata": {},
   "outputs": [],
   "source": [
    "import os\n",
    "os.environ[\"KMP_DUPLICATE_LIB_OK\"]  =  \"TRUE\""
   ]
  },
  {
   "cell_type": "markdown",
   "metadata": {},
   "source": [
    "## Loading in the data and a quick data inspection"
   ]
  },
  {
   "cell_type": "code",
   "execution_count": 3,
   "metadata": {},
   "outputs": [],
   "source": [
    "train_dataset = torchvision.datasets.MNIST(root='data/',\n",
    "                                           train=True,\n",
    "                                           transform=transforms.ToTensor(),\n",
    "                                           download=True)"
   ]
  },
  {
   "cell_type": "code",
   "execution_count": 4,
   "metadata": {},
   "outputs": [],
   "source": [
    "train_images = np.array([image.numpy() for image, label in train_dataset])"
   ]
  },
  {
   "cell_type": "code",
   "execution_count": 5,
   "metadata": {},
   "outputs": [],
   "source": [
    "train_labels = np.array([label for image, label in train_dataset])"
   ]
  },
  {
   "cell_type": "code",
   "execution_count": 6,
   "metadata": {},
   "outputs": [
    {
     "data": {
      "text/plain": [
       "(60000, 1, 28, 28)"
      ]
     },
     "execution_count": 6,
     "metadata": {},
     "output_type": "execute_result"
    }
   ],
   "source": [
    "train_images.shape"
   ]
  },
  {
   "cell_type": "code",
   "execution_count": 7,
   "metadata": {},
   "outputs": [
    {
     "data": {
      "text/plain": [
       "array([5, 0, 4, ..., 5, 6, 8])"
      ]
     },
     "execution_count": 7,
     "metadata": {},
     "output_type": "execute_result"
    }
   ],
   "source": [
    "train_labels"
   ]
  },
  {
   "cell_type": "code",
   "execution_count": 8,
   "metadata": {},
   "outputs": [
    {
     "data": {
      "text/plain": [
       "<matplotlib.image.AxesImage at 0x1ab37352bb0>"
      ]
     },
     "execution_count": 8,
     "metadata": {},
     "output_type": "execute_result"
    },
    {
     "data": {
      "image/png": "[encoded data removed]",
      "text/plain": [
       "<Figure size 432x288 with 1 Axes>"
      ]
     },
     "metadata": {
      "needs_background": "light"
     },
     "output_type": "display_data"
    }
   ],
   "source": [
    "plt.imshow(train_images[0][0], cmap='gray')"
   ]
  },
  {
   "cell_type": "code",
   "execution_count": 9,
   "metadata": {},
   "outputs": [],
   "source": [
    "train_images = train_images[:2000]\n",
    "train_labels = train_labels[:2000]"
   ]
  },
  {
   "cell_type": "code",
   "execution_count": 10,
   "metadata": {},
   "outputs": [],
   "source": [
    "train_images_flat = train_images.reshape(len(train_images), -1)  # flattens out each training image"
   ]
  },
  {
   "cell_type": "code",
   "execution_count": 11,
   "metadata": {},
   "outputs": [
    {
     "name": "stdout",
     "output_type": "stream",
     "text": [
      "(2000, 784)\n"
     ]
    }
   ],
   "source": [
    "print(train_images_flat.shape)"
   ]
  },
  {
   "cell_type": "markdown",
   "metadata": {},
   "source": [
    "## Classification using $k$-nearest neighbors"
   ]
  },
  {
   "cell_type": "code",
   "execution_count": 12,
   "metadata": {},
   "outputs": [
    {
     "data": {
      "text/plain": [
       "KNeighborsClassifier(n_neighbors=1)"
      ]
     },
     "execution_count": 12,
     "metadata": {},
     "output_type": "execute_result"
    }
   ],
   "source": [
    "from sklearn.neighbors import KNeighborsClassifier\n",
    "classifier = KNeighborsClassifier(n_neighbors=1)\n",
    "classifier.fit(train_images_flat, train_labels)"
   ]
  },
  {
   "cell_type": "code",
   "execution_count": 13,
   "metadata": {},
   "outputs": [],
   "source": [
    "predicted_train_labels = classifier.predict(train_images_flat)"
   ]
  },
  {
   "cell_type": "code",
   "execution_count": 14,
   "metadata": {},
   "outputs": [
    {
     "data": {
      "text/plain": [
       "array([5, 0, 4, ..., 5, 2, 0])"
      ]
     },
     "execution_count": 14,
     "metadata": {},
     "output_type": "execute_result"
    }
   ],
   "source": [
    "predicted_train_labels"
   ]
  },
  {
   "cell_type": "code",
   "execution_count": 15,
   "metadata": {},
   "outputs": [
    {
     "name": "stdout",
     "output_type": "stream",
     "text": [
      "0.0\n"
     ]
    }
   ],
   "source": [
    "error_rate = np.mean(predicted_train_labels != train_labels)\n",
    "print(error_rate) \n",
    "#the reason why this equals to 0 is that we set k=1, we are predicting the same dataset that we fit the model\n",
    "#except there are some corner cases, same feature vector but different label"
   ]
  },
  {
   "cell_type": "markdown",
   "metadata": {},
   "source": [
    "## Choosing hyperparameter $k$ (number of nearest neighbors) using simple data splitting"
   ]
  },
  {
   "cell_type": "code",
   "execution_count": 16,
   "metadata": {},
   "outputs": [],
   "source": [
    "from sklearn.model_selection import train_test_split\n",
    "\n",
    "proper_train_images_flat, val_images_flat, proper_train_labels, val_labels = \\\n",
    "    train_test_split(train_images_flat, train_labels, test_size=0.2, random_state=0)"
   ]
  },
  {
   "cell_type": "code",
   "execution_count": 17,
   "metadata": {},
   "outputs": [
    {
     "name": "stdout",
     "output_type": "stream",
     "text": [
      "k: 1 error rate: 0.1075\n",
      "k: 2 error rate: 0.13\n",
      "k: 4 error rate: 0.1325\n",
      "k: 8 error rate: 0.1475\n",
      "k: 16 error rate: 0.1675\n",
      "k: 32 error rate: 0.2025\n",
      "k: 64 error rate: 0.26\n",
      "k: 128 error rate: 0.33\n",
      "Best k: 1 error rate: 0.1075\n"
     ]
    }
   ],
   "source": [
    "lowest_error = np.inf\n",
    "best_k = None\n",
    "for k in 2**np.arange(0, 8):\n",
    "    classifier = KNeighborsClassifier(n_neighbors=k)\n",
    "    classifier.fit(proper_train_images_flat, proper_train_labels)\n",
    "    predicted_val_labels = classifier.predict(val_images_flat)\n",
    "    error = np.mean(predicted_val_labels != val_labels)\n",
    "    print('k:', k, 'error rate:', error)\n",
    "    \n",
    "    if error < lowest_error:\n",
    "        lowest_error = error\n",
    "        best_k = k\n",
    "\n",
    "print('Best k:', best_k, 'error rate:', lowest_error)"
   ]
  },
  {
   "cell_type": "markdown",
   "metadata": {},
   "source": [
    "## Choosing hyperparameter $k$ using 5-fold cross validation"
   ]
  },
  {
   "cell_type": "code",
   "execution_count": 23,
   "metadata": {},
   "outputs": [
    {
     "name": "stdout",
     "output_type": "stream",
     "text": [
      "1600 400\n",
      "1\n"
     ]
    }
   ],
   "source": [
    "from sklearn.model_selection import KFold\n",
    "kf = KFold(n_splits=5, shuffle=True, random_state=0)\n",
    "i=0\n",
    "for proper_train_indices, val_indices in kf.split(train_images_flat):\n",
    "    print(len(proper_train_indices), len(val_indices))\n",
    "    i+=1\n",
    "    print(i)\n",
    "    if i==1:\n",
    "        break"
   ]
  },
  {
   "cell_type": "code",
   "execution_count": 24,
   "metadata": {},
   "outputs": [
    {
     "name": "stdout",
     "output_type": "stream",
     "text": [
      "k: 1 cross validation error: 0.092\n",
      "k: 2 cross validation error: 0.10899999999999999\n",
      "k: 4 cross validation error: 0.10400000000000001\n",
      "k: 8 cross validation error: 0.1115\n",
      "k: 16 cross validation error: 0.1335\n",
      "k: 32 cross validation error: 0.1595\n",
      "k: 64 cross validation error: 0.198\n",
      "k: 128 cross validation error: 0.269\n",
      "Best k: 1 cross validation error: 0.092\n"
     ]
    }
   ],
   "source": [
    "from sklearn.model_selection import KFold\n",
    "\n",
    "lowest_cross_val_error = np.inf\n",
    "best_k = None\n",
    "\n",
    "kf = KFold(n_splits=5, shuffle=True, random_state=0)\n",
    "for k in 2**np.arange(0, 8):\n",
    "    errors = []\n",
    "    for proper_train_indices, val_indices in kf.split(train_images_flat):\n",
    "        proper_train_features = train_images_flat[proper_train_indices]\n",
    "        proper_train_labels = train_labels[proper_train_indices]\n",
    "        val_features = train_images_flat[val_indices]\n",
    "        val_labels = train_labels[val_indices]\n",
    "        \n",
    "        classifier = KNeighborsClassifier(n_neighbors=k)\n",
    "        classifier.fit(proper_train_features, proper_train_labels)\n",
    "        predicted_val_labels = classifier.predict(val_features)\n",
    "        error = np.mean(predicted_val_labels != val_labels)\n",
    "        errors.append(error)\n",
    "        \n",
    "    cross_val_error = np.mean(errors)\n",
    "    print('k:', k, 'cross validation error:', cross_val_error)\n",
    "\n",
    "    if cross_val_error < lowest_cross_val_error:\n",
    "        lowest_cross_val_error = cross_val_error\n",
    "        best_k = k\n",
    "\n",
    "print('Best k:', best_k, 'cross validation error:', lowest_cross_val_error)"
   ]
  },
  {
   "cell_type": "markdown",
   "metadata": {},
   "source": [
    "## Using different classifiers"
   ]
  },
  {
   "cell_type": "markdown",
   "metadata": {},
   "source": [
    "It's simple to work with other classifiers in scikit-learn. \n",
    "\n",
    "For example, here is how one can use random forest classifiers using the number of random features to use at each split (`max_features`) \n",
    "and the minimum number of samples allowed in a leaf cell (`min_samples_leaf`) as hyperparameters \n",
    "\n",
    "(there are other hyperparameters as well, but we're just using the scikit-learn default values in this demo--if you care about actually tuning the performance of a random forest classifier carefully, then you should look into what the other hyperparameters do by reading the documentation). \n",
    "\n",
    "Note that the default number of trees used (which can also be manually set via the parameter `n_estimators`) is 100."
   ]
  },
  {
   "cell_type": "code",
   "execution_count": 25,
   "metadata": {},
   "outputs": [
    {
     "name": "stdout",
     "output_type": "stream",
     "text": [
      "0.0\n"
     ]
    }
   ],
   "source": [
    "from sklearn.ensemble import RandomForestClassifier\n",
    "rf_classifier = RandomForestClassifier(max_features='auto', min_samples_leaf=1, random_state=0)  \n",
    "#n_estimator: number of trees, default=100\n",
    "#max_features: for each split, randomly choose k features and optimize the threshold, auto=sqrt of number of features\n",
    "#min_samples_leaf: minimum number of points that are allowed in the leaf node\n",
    "rf_classifier.fit(train_images_flat, train_labels)\n",
    "rf_predicted_train_labels = rf_classifier.predict(train_images_flat)\n",
    "rf_error = np.mean(rf_predicted_train_labels != train_labels)\n",
    "print(rf_error)  # training set error, min=1 and predict on train, you will always get 0 error"
   ]
  },
  {
   "cell_type": "markdown",
   "metadata": {},
   "source": [
    "Next, we see cross-validation for random forests. Importantly, now we sweep over two hyperparameters."
   ]
  },
  {
   "cell_type": "code",
   "execution_count": 26,
   "metadata": {},
   "outputs": [
    {
     "name": "stdout",
     "output_type": "stream",
     "text": [
      "Hyperparameter: (7, 1) cross validation error: 0.0895\n",
      "Hyperparameter: (7, 2) cross validation error: 0.09\n",
      "Hyperparameter: (7, 4) cross validation error: 0.10599999999999998\n",
      "Hyperparameter: (7, 8) cross validation error: 0.127\n",
      "Hyperparameter: (7, 16) cross validation error: 0.1485\n",
      "Hyperparameter: (28, 1) cross validation error: 0.08549999999999999\n",
      "Hyperparameter: (28, 2) cross validation error: 0.093\n",
      "Hyperparameter: (28, 4) cross validation error: 0.09200000000000001\n",
      "Hyperparameter: (28, 8) cross validation error: 0.1135\n",
      "Hyperparameter: (28, 16) cross validation error: 0.14350000000000002\n",
      "Hyperparameter: (112, 1) cross validation error: 0.08600000000000001\n",
      "Hyperparameter: (112, 2) cross validation error: 0.09100000000000001\n",
      "Hyperparameter: (112, 4) cross validation error: 0.099\n",
      "Hyperparameter: (112, 8) cross validation error: 0.11599999999999999\n",
      "Hyperparameter: (112, 16) cross validation error: 0.14900000000000002\n",
      "Best hyperparameter: (28, 1) cross validation error: 0.08549999999999999\n"
     ]
    }
   ],
   "source": [
    "lowest_cross_val_error = np.inf\n",
    "best_hyperparameter_setting = None\n",
    "\n",
    "num_features = train_images_flat.shape[1]\n",
    "hyperparameter_settings = [(max_features, min_samples_leaf)\n",
    "                           for max_features in [int(np.ceil(np.sqrt(num_features) / 4)),\n",
    "                                                int(np.ceil(np.sqrt(num_features))),\n",
    "                                                int(np.ceil(np.sqrt(num_features) * 4))]\n",
    "                           for min_samples_leaf in [1, 2, 4, 8, 16]]\n",
    "\n",
    "kf = KFold(n_splits=5, shuffle=True, random_state=0)\n",
    "for hyperparameter_setting in hyperparameter_settings:\n",
    "    max_features, min_samples_leaf = hyperparameter_setting\n",
    "    errors = []\n",
    "    for proper_train_indices, val_indices in kf.split(train_images_flat):\n",
    "        proper_train_features = train_images_flat[proper_train_indices]\n",
    "        proper_train_labels = train_labels[proper_train_indices]\n",
    "        val_features = train_images_flat[val_indices]\n",
    "        val_labels = train_labels[val_indices]\n",
    "        \n",
    "        classifier = RandomForestClassifier(max_features=max_features,\n",
    "                                            min_samples_leaf=min_samples_leaf,\n",
    "                                            random_state=0)\n",
    "        classifier.fit(proper_train_features, proper_train_labels)\n",
    "        predicted_val_labels = classifier.predict(val_features)\n",
    "        error = np.mean(predicted_val_labels != val_labels)\n",
    "        errors.append(error)\n",
    "        \n",
    "    cross_val_error = np.mean(errors)\n",
    "    print('Hyperparameter:', hyperparameter_setting, 'cross validation error:', cross_val_error)\n",
    "\n",
    "    if cross_val_error < lowest_cross_val_error:\n",
    "        lowest_cross_val_error = cross_val_error\n",
    "        best_hyperparameter_setting = hyperparameter_setting\n",
    "\n",
    "print('Best hyperparameter:', best_hyperparameter_setting, 'cross validation error:', lowest_cross_val_error)"
   ]
  },
  {
   "cell_type": "markdown",
   "metadata": {},
   "source": [
    "## Finally actually looking at the test data"
   ]
  },
  {
   "cell_type": "code",
   "execution_count": 27,
   "metadata": {},
   "outputs": [],
   "source": [
    "test_dataset = torchvision.datasets.MNIST(root='data/',\n",
    "                                          train=False,\n",
    "                                          transform=transforms.ToTensor(),\n",
    "                                          download=True)\n",
    "test_images = np.array([image.numpy() for image, label in test_dataset])\n",
    "test_labels = np.array([label for image, label in test_dataset])\n",
    "\n",
    "test_images = test_images[:500]\n",
    "test_labels = test_labels[:500]\n",
    "test_images_flat = test_images.reshape(len(test_images), -1)  # flattens out each test image"
   ]
  },
  {
   "cell_type": "code",
   "execution_count": 28,
   "metadata": {},
   "outputs": [
    {
     "name": "stdout",
     "output_type": "stream",
     "text": [
      "0.138\n"
     ]
    }
   ],
   "source": [
    "final_knn_classifier = KNeighborsClassifier(n_neighbors=best_k)\n",
    "final_knn_classifier.fit(train_images_flat, train_labels)\n",
    "predicted_test_labels = final_knn_classifier.predict(test_images_flat)\n",
    "test_set_error = np.mean(predicted_test_labels != test_labels)\n",
    "print(test_set_error)"
   ]
  },
  {
   "cell_type": "code",
   "execution_count": 29,
   "metadata": {},
   "outputs": [
    {
     "name": "stdout",
     "output_type": "stream",
     "text": [
      "0.09\n"
     ]
    }
   ],
   "source": [
    "best_max_features, best_min_samples_split = best_hyperparameter_setting\n",
    "final_rf_classifier = RandomForestClassifier(max_features=best_max_features,\n",
    "                                             min_samples_leaf=best_min_samples_split,\n",
    "                                             random_state=0)\n",
    "final_rf_classifier.fit(train_images_flat, train_labels)\n",
    "predicted_test_labels = final_rf_classifier.predict(test_images_flat)\n",
    "test_set_error = np.mean(predicted_test_labels != test_labels)\n",
    "print(test_set_error)"
   ]
  },
  {
   "cell_type": "markdown",
   "metadata": {},
   "source": [
    "Note that in general the cross validation error is not going to perfectly match up with the test set error."
   ]
  },
  {
   "cell_type": "markdown",
   "metadata": {},
   "source": [
    "## Confusion matrix\n",
    "\n",
    "We can visualize to see where (in terms of which classes) predictions agree or disagree with the true labels on the test set. This can help us quickly see which classes seem to be hard cases."
   ]
  },
  {
   "cell_type": "code",
   "execution_count": 30,
   "metadata": {},
   "outputs": [],
   "source": [
    "from sklearn.metrics import plot_confusion_matrix"
   ]
  },
  {
   "cell_type": "code",
   "execution_count": 31,
   "metadata": {},
   "outputs": [
    {
     "data": {
      "text/plain": [
       "<sklearn.metrics._plot.confusion_matrix.ConfusionMatrixDisplay at 0x1ab32902760>"
      ]
     },
     "execution_count": 31,
     "metadata": {},
     "output_type": "execute_result"
    },
    {
     "data": {
      "image/png": "[encoded data removed]",
      "text/plain": [
       "<Figure size 432x288 with 2 Axes>"
      ]
     },
     "metadata": {
      "needs_background": "light"
     },
     "output_type": "display_data"
    }
   ],
   "source": [
    "plot_confusion_matrix(final_knn_classifier, test_images_flat, test_labels)"
   ]
  },
  {
   "cell_type": "code",
   "execution_count": 32,
   "metadata": {},
   "outputs": [
    {
     "data": {
      "text/plain": [
       "<sklearn.metrics._plot.confusion_matrix.ConfusionMatrixDisplay at 0x1ab53b29fa0>"
      ]
     },
     "execution_count": 32,
     "metadata": {},
     "output_type": "execute_result"
    },
    {
     "data": {
      "image/png": "[encoded data removed]",
      "text/plain": [
       "<Figure size 432x288 with 2 Axes>"
      ]
     },
     "metadata": {
      "needs_background": "light"
     },
     "output_type": "display_data"
    }
   ],
   "source": [
    "plot_confusion_matrix(final_rf_classifier, test_images_flat, test_labels)"
   ]
  }
 ],
 "metadata": {
  "kernelspec": {
   "display_name": "Python 3",
   "language": "python",
   "name": "python3"
  },
  "language_info": {
   "codemirror_mode": {
    "name": "ipython",
    "version": 3
   },
   "file_extension": ".py",
   "mimetype": "text/x-python",
   "name": "python",
   "nbconvert_exporter": "python",
   "pygments_lexer": "ipython3",
   "version": "3.8.8"
  }
 },
 "nbformat": 4,
 "nbformat_minor": 2
}
