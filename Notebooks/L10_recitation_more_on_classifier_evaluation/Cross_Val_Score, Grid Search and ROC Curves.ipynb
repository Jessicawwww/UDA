{
 "cells": [
  {
   "cell_type": "markdown",
   "metadata": {},
   "source": [
    "# Recitation: Cross_Val_Score, Grid Search, ROC and Precision Recall Curves\n",
    "\n",
    "Author: Sachin K Sunny (ssunny [at symbol] andrew.cmu.edu)"
   ]
  },
  {
   "cell_type": "code",
   "execution_count": 1,
   "metadata": {},
   "outputs": [],
   "source": [
    "%matplotlib inline\n",
    "import matplotlib.pyplot as plt\n",
    "import numpy as np\n",
    "\n",
    "import torchvision\n",
    "import torchvision.transforms as transforms\n",
    "\n",
    "import warnings\n",
    "warnings.filterwarnings('ignore')\n",
    "\n",
    "np.random.seed(0)"
   ]
  },
  {
   "cell_type": "code",
   "execution_count": 2,
   "metadata": {},
   "outputs": [],
   "source": [
    "import os\n",
    "os.environ[\"KMP_DUPLICATE_LIB_OK\"]  =  \"TRUE\""
   ]
  },
  {
   "cell_type": "markdown",
   "metadata": {},
   "source": [
    "## Data preparation"
   ]
  },
  {
   "cell_type": "code",
   "execution_count": 4,
   "metadata": {},
   "outputs": [
    {
     "name": "stdout",
     "output_type": "stream",
     "text": [
      "Downloading http://yann.lecun.com/exdb/mnist/train-images-idx3-ubyte.gz\n",
      "Downloading http://yann.lecun.com/exdb/mnist/train-images-idx3-ubyte.gz to data/MNIST\\raw\\train-images-idx3-ubyte.gz\n"
     ]
    },
    {
     "name": "stderr",
     "output_type": "stream",
     "text": [
      "9913344it [00:03, 2592627.73it/s]                             \n"
     ]
    },
    {
     "name": "stdout",
     "output_type": "stream",
     "text": [
      "Extracting data/MNIST\\raw\\train-images-idx3-ubyte.gz to data/MNIST\\raw\n",
      "\n",
      "Downloading http://yann.lecun.com/exdb/mnist/train-labels-idx1-ubyte.gz\n",
      "Downloading http://yann.lecun.com/exdb/mnist/train-labels-idx1-ubyte.gz to data/MNIST\\raw\\train-labels-idx1-ubyte.gz\n"
     ]
    },
    {
     "name": "stderr",
     "output_type": "stream",
     "text": [
      "29696it [00:00, 8361015.75it/s]          \n"
     ]
    },
    {
     "name": "stdout",
     "output_type": "stream",
     "text": [
      "Extracting data/MNIST\\raw\\train-labels-idx1-ubyte.gz to data/MNIST\\raw\n",
      "\n",
      "Downloading http://yann.lecun.com/exdb/mnist/t10k-images-idx3-ubyte.gz\n",
      "Downloading http://yann.lecun.com/exdb/mnist/t10k-images-idx3-ubyte.gz to data/MNIST\\raw\\t10k-images-idx3-ubyte.gz\n"
     ]
    },
    {
     "name": "stderr",
     "output_type": "stream",
     "text": [
      "1649664it [00:02, 799714.32it/s]                              \n"
     ]
    },
    {
     "name": "stdout",
     "output_type": "stream",
     "text": [
      "Extracting data/MNIST\\raw\\t10k-images-idx3-ubyte.gz to data/MNIST\\raw\n",
      "\n",
      "Downloading http://yann.lecun.com/exdb/mnist/t10k-labels-idx1-ubyte.gz\n",
      "Downloading http://yann.lecun.com/exdb/mnist/t10k-labels-idx1-ubyte.gz to data/MNIST\\raw\\t10k-labels-idx1-ubyte.gz\n"
     ]
    },
    {
     "name": "stderr",
     "output_type": "stream",
     "text": [
      "5120it [00:00, 5131382.67it/s]          "
     ]
    },
    {
     "name": "stdout",
     "output_type": "stream",
     "text": [
      "Extracting data/MNIST\\raw\\t10k-labels-idx1-ubyte.gz to data/MNIST\\raw\n",
      "\n"
     ]
    },
    {
     "name": "stderr",
     "output_type": "stream",
     "text": [
      "\n"
     ]
    }
   ],
   "source": [
    "train_dataset = torchvision.datasets.MNIST(root='data/',\n",
    "                                           train=True,\n",
    "                                           transform=transforms.ToTensor(),\n",
    "                                           download=True)"
   ]
  },
  {
   "cell_type": "code",
   "execution_count": 5,
   "metadata": {},
   "outputs": [],
   "source": [
    "train_images = np.array([image.numpy() for image, label in train_dataset])"
   ]
  },
  {
   "cell_type": "code",
   "execution_count": 6,
   "metadata": {},
   "outputs": [],
   "source": [
    "train_labels = np.array([label for image, label in train_dataset])"
   ]
  },
  {
   "cell_type": "code",
   "execution_count": 7,
   "metadata": {},
   "outputs": [
    {
     "data": {
      "text/plain": [
       "(60000, 1, 28, 28)"
      ]
     },
     "execution_count": 7,
     "metadata": {},
     "output_type": "execute_result"
    }
   ],
   "source": [
    "train_images.shape"
   ]
  },
  {
   "cell_type": "code",
   "execution_count": 8,
   "metadata": {},
   "outputs": [
    {
     "data": {
      "text/plain": [
       "array([5, 0, 4, ..., 5, 6, 8])"
      ]
     },
     "execution_count": 8,
     "metadata": {},
     "output_type": "execute_result"
    }
   ],
   "source": [
    "train_labels"
   ]
  },
  {
   "cell_type": "code",
   "execution_count": 9,
   "metadata": {},
   "outputs": [
    {
     "data": {
      "text/plain": [
       "(60000, 1, 28, 28)"
      ]
     },
     "execution_count": 9,
     "metadata": {},
     "output_type": "execute_result"
    }
   ],
   "source": [
    "train_images.shape"
   ]
  },
  {
   "cell_type": "code",
   "execution_count": 10,
   "metadata": {},
   "outputs": [
    {
     "data": {
      "text/plain": [
       "<matplotlib.image.AxesImage at 0x18920050f70>"
      ]
     },
     "execution_count": 10,
     "metadata": {},
     "output_type": "execute_result"
    },
    {
     "data": {
      "image/png": "[encoded data removed]",
      "text/plain": [
       "<Figure size 432x288 with 1 Axes>"
      ]
     },
     "metadata": {
      "needs_background": "light"
     },
     "output_type": "display_data"
    }
   ],
   "source": [
    "plt.imshow(train_images[0][0], cmap='gray')"
   ]
  },
  {
   "cell_type": "code",
   "execution_count": 11,
   "metadata": {},
   "outputs": [],
   "source": [
    "train_images = train_images[:2000]\n",
    "train_labels = train_labels[:2000]"
   ]
  },
  {
   "cell_type": "code",
   "execution_count": 12,
   "metadata": {},
   "outputs": [],
   "source": [
    "train_images_flat = train_images.reshape(len(train_images), -1)  # flattens out each training image"
   ]
  },
  {
   "cell_type": "code",
   "execution_count": 13,
   "metadata": {},
   "outputs": [
    {
     "name": "stdout",
     "output_type": "stream",
     "text": [
      "(2000, 784)\n"
     ]
    }
   ],
   "source": [
    "print(train_images_flat.shape)"
   ]
  },
  {
   "cell_type": "markdown",
   "metadata": {},
   "source": [
    "## Choosing hyperparameter $k$ using cross_val_score"
   ]
  },
  {
   "cell_type": "code",
   "execution_count": 14,
   "metadata": {},
   "outputs": [
    {
     "name": "stdout",
     "output_type": "stream",
     "text": [
      "k: 1 cross validation accuracy: 0.8939999999999999\n",
      "k: 2 cross validation accuracy: 0.876\n",
      "k: 4 cross validation accuracy: 0.891\n",
      "k: 8 cross validation accuracy: 0.8835\n",
      "k: 16 cross validation accuracy: 0.8594999999999999\n",
      "k: 32 cross validation accuracy: 0.8380000000000001\n",
      "k: 64 cross validation accuracy: 0.7935\n",
      "k: 128 cross validation accuracy: 0.7184999999999999\n",
      "Best k: 1 cross validation accuracy: 0.8939999999999999\n"
     ]
    }
   ],
   "source": [
    "from sklearn.model_selection import KFold\n",
    "from sklearn.neighbors import KNeighborsClassifier\n",
    "from sklearn.model_selection import cross_val_score\n",
    "\n",
    "highest_cross_val_accuracy = -np.inf\n",
    "for k in 2**np.arange(0, 8):\n",
    "    classifier = KNeighborsClassifier(n_neighbors=k)\n",
    "    \n",
    "    scores = cross_val_score(classifier, train_images_flat, train_labels, scoring = 'accuracy', cv = 5)\n",
    "        \n",
    "    cross_val_accuracy = scores.mean()\n",
    "    print('k:', k, 'cross validation accuracy:', cross_val_accuracy)\n",
    "    \n",
    "    if cross_val_accuracy > highest_cross_val_accuracy:\n",
    "        highest_cross_val_accuracy = cross_val_accuracy\n",
    "        best_k = k\n",
    "\n",
    "print('Best k:', best_k, 'cross validation accuracy:', highest_cross_val_accuracy)"
   ]
  },
  {
   "cell_type": "markdown",
   "metadata": {},
   "source": [
    "## Using Random Forest classifiers and Grid Search"
   ]
  },
  {
   "cell_type": "markdown",
   "metadata": {},
   "source": [
    "Next, we see cross-validation for random forests. Importantly, now we sweep over two hyperparameters."
   ]
  },
  {
   "cell_type": "code",
   "execution_count": 15,
   "metadata": {},
   "outputs": [
    {
     "data": {
      "text/plain": [
       "GridSearchCV(cv=5, estimator=RandomForestClassifier(),\n",
       "             param_grid={'max_features': [7, 28, 112],\n",
       "                         'min_samples_leaf': [1, 2, 4, 8, 16]})"
      ]
     },
     "execution_count": 15,
     "metadata": {},
     "output_type": "execute_result"
    }
   ],
   "source": [
    "from sklearn.ensemble import RandomForestClassifier\n",
    "\n",
    "from sklearn.model_selection import GridSearchCV\n",
    "\n",
    "num_features = train_images_flat.shape[1]\n",
    "max_features= [int(np.ceil(np.sqrt(num_features) / 4)),int(np.ceil(np.sqrt(num_features))),\\\n",
    "                int(np.ceil(np.sqrt(num_features) * 4))]\n",
    "min_samples_leaf = [1, 2, 4, 8, 16]\n",
    "\n",
    "params = {'max_features': max_features, 'min_samples_leaf': min_samples_leaf} #hyperparameters to loop over\n",
    "\n",
    "classifier = RandomForestClassifier()\n",
    "\n",
    "gridsearch = GridSearchCV(classifier, params, cv=5) #create the grid search object\n",
    "\n",
    "gridsearch.fit(train_images_flat, train_labels) #run the grid search for each hyperparemeter configuration"
   ]
  },
  {
   "cell_type": "code",
   "execution_count": 17,
   "metadata": {},
   "outputs": [
    {
     "data": {
      "text/plain": [
       "array([0.8965, 0.898 , 0.8845, 0.8655, 0.838 , 0.911 , 0.904 , 0.8915,\n",
       "       0.876 , 0.8535, 0.9075, 0.907 , 0.8915, 0.885 , 0.846 ])"
      ]
     },
     "execution_count": 17,
     "metadata": {},
     "output_type": "execute_result"
    }
   ],
   "source": [
    "gridsearch.cv_results_['mean_test_score']"
   ]
  },
  {
   "cell_type": "code",
   "execution_count": 18,
   "metadata": {},
   "outputs": [
    {
     "data": {
      "text/plain": [
       "5"
      ]
     },
     "execution_count": 18,
     "metadata": {},
     "output_type": "execute_result"
    }
   ],
   "source": [
    "np.argmax(gridsearch.cv_results_['mean_test_score'])"
   ]
  },
  {
   "cell_type": "code",
   "execution_count": 19,
   "metadata": {},
   "outputs": [
    {
     "data": {
      "text/plain": [
       "{'max_features': 28, 'min_samples_leaf': 1}"
      ]
     },
     "execution_count": 19,
     "metadata": {},
     "output_type": "execute_result"
    }
   ],
   "source": [
    "#which configuration gave the best results?\n",
    "gridsearch.cv_results_['params'][np.argmax(gridsearch.cv_results_['mean_test_score'])]"
   ]
  },
  {
   "cell_type": "markdown",
   "metadata": {},
   "source": [
    "# ROC curve"
   ]
  },
  {
   "cell_type": "markdown",
   "metadata": {},
   "source": [
    "- [ROC curves](https://en.wikipedia.org/wiki/Receiver_operating_characteristic) are a way to evaluate classifiers\n",
    "- There is an inherent tradeoff between true positives and false positives\n",
    "\n",
    "\n",
    "More on the scikit-learn ROC curve module [here](https://scikit-learn.org/stable/modules/generated/sklearn.metrics.roc_curve.html)"
   ]
  },
  {
   "cell_type": "code",
   "execution_count": 20,
   "metadata": {},
   "outputs": [],
   "source": [
    "#Load Data \n",
    "from sklearn import datasets\n",
    "iris = datasets.load_iris()\n",
    "Xi = iris.data\n",
    "yi = iris.target\n",
    "Xi, yi = Xi[yi != 2], yi[yi != 2]\n",
    "n_samples, n_features = Xi.shape"
   ]
  },
  {
   "cell_type": "code",
   "execution_count": 22,
   "metadata": {},
   "outputs": [
    {
     "data": {
      "text/plain": [
       "sklearn.utils.Bunch"
      ]
     },
     "execution_count": 22,
     "metadata": {},
     "output_type": "execute_result"
    }
   ],
   "source": [
    "type(iris)"
   ]
  },
  {
   "cell_type": "code",
   "execution_count": 27,
   "metadata": {},
   "outputs": [
    {
     "data": {
      "text/plain": [
       "4"
      ]
     },
     "execution_count": 27,
     "metadata": {},
     "output_type": "execute_result"
    }
   ],
   "source": [
    "n_features"
   ]
  },
  {
   "cell_type": "code",
   "execution_count": 23,
   "metadata": {},
   "outputs": [
    {
     "data": {
      "text/plain": [
       "array([[5.1, 3.5, 1.4, 0.2],\n",
       "       [4.9, 3. , 1.4, 0.2],\n",
       "       [4.7, 3.2, 1.3, 0.2],\n",
       "       [4.6, 3.1, 1.5, 0.2],\n",
       "       [5. , 3.6, 1.4, 0.2],\n",
       "       [5.4, 3.9, 1.7, 0.4],\n",
       "       [4.6, 3.4, 1.4, 0.3],\n",
       "       [5. , 3.4, 1.5, 0.2],\n",
       "       [4.4, 2.9, 1.4, 0.2],\n",
       "       [4.9, 3.1, 1.5, 0.1],\n",
       "       [5.4, 3.7, 1.5, 0.2],\n",
       "       [4.8, 3.4, 1.6, 0.2],\n",
       "       [4.8, 3. , 1.4, 0.1],\n",
       "       [4.3, 3. , 1.1, 0.1],\n",
       "       [5.8, 4. , 1.2, 0.2],\n",
       "       [5.7, 4.4, 1.5, 0.4],\n",
       "       [5.4, 3.9, 1.3, 0.4],\n",
       "       [5.1, 3.5, 1.4, 0.3],\n",
       "       [5.7, 3.8, 1.7, 0.3],\n",
       "       [5.1, 3.8, 1.5, 0.3],\n",
       "       [5.4, 3.4, 1.7, 0.2],\n",
       "       [5.1, 3.7, 1.5, 0.4],\n",
       "       [4.6, 3.6, 1. , 0.2],\n",
       "       [5.1, 3.3, 1.7, 0.5],\n",
       "       [4.8, 3.4, 1.9, 0.2],\n",
       "       [5. , 3. , 1.6, 0.2],\n",
       "       [5. , 3.4, 1.6, 0.4],\n",
       "       [5.2, 3.5, 1.5, 0.2],\n",
       "       [5.2, 3.4, 1.4, 0.2],\n",
       "       [4.7, 3.2, 1.6, 0.2],\n",
       "       [4.8, 3.1, 1.6, 0.2],\n",
       "       [5.4, 3.4, 1.5, 0.4],\n",
       "       [5.2, 4.1, 1.5, 0.1],\n",
       "       [5.5, 4.2, 1.4, 0.2],\n",
       "       [4.9, 3.1, 1.5, 0.2],\n",
       "       [5. , 3.2, 1.2, 0.2],\n",
       "       [5.5, 3.5, 1.3, 0.2],\n",
       "       [4.9, 3.6, 1.4, 0.1],\n",
       "       [4.4, 3. , 1.3, 0.2],\n",
       "       [5.1, 3.4, 1.5, 0.2],\n",
       "       [5. , 3.5, 1.3, 0.3],\n",
       "       [4.5, 2.3, 1.3, 0.3],\n",
       "       [4.4, 3.2, 1.3, 0.2],\n",
       "       [5. , 3.5, 1.6, 0.6],\n",
       "       [5.1, 3.8, 1.9, 0.4],\n",
       "       [4.8, 3. , 1.4, 0.3],\n",
       "       [5.1, 3.8, 1.6, 0.2],\n",
       "       [4.6, 3.2, 1.4, 0.2],\n",
       "       [5.3, 3.7, 1.5, 0.2],\n",
       "       [5. , 3.3, 1.4, 0.2],\n",
       "       [7. , 3.2, 4.7, 1.4],\n",
       "       [6.4, 3.2, 4.5, 1.5],\n",
       "       [6.9, 3.1, 4.9, 1.5],\n",
       "       [5.5, 2.3, 4. , 1.3],\n",
       "       [6.5, 2.8, 4.6, 1.5],\n",
       "       [5.7, 2.8, 4.5, 1.3],\n",
       "       [6.3, 3.3, 4.7, 1.6],\n",
       "       [4.9, 2.4, 3.3, 1. ],\n",
       "       [6.6, 2.9, 4.6, 1.3],\n",
       "       [5.2, 2.7, 3.9, 1.4],\n",
       "       [5. , 2. , 3.5, 1. ],\n",
       "       [5.9, 3. , 4.2, 1.5],\n",
       "       [6. , 2.2, 4. , 1. ],\n",
       "       [6.1, 2.9, 4.7, 1.4],\n",
       "       [5.6, 2.9, 3.6, 1.3],\n",
       "       [6.7, 3.1, 4.4, 1.4],\n",
       "       [5.6, 3. , 4.5, 1.5],\n",
       "       [5.8, 2.7, 4.1, 1. ],\n",
       "       [6.2, 2.2, 4.5, 1.5],\n",
       "       [5.6, 2.5, 3.9, 1.1],\n",
       "       [5.9, 3.2, 4.8, 1.8],\n",
       "       [6.1, 2.8, 4. , 1.3],\n",
       "       [6.3, 2.5, 4.9, 1.5],\n",
       "       [6.1, 2.8, 4.7, 1.2],\n",
       "       [6.4, 2.9, 4.3, 1.3],\n",
       "       [6.6, 3. , 4.4, 1.4],\n",
       "       [6.8, 2.8, 4.8, 1.4],\n",
       "       [6.7, 3. , 5. , 1.7],\n",
       "       [6. , 2.9, 4.5, 1.5],\n",
       "       [5.7, 2.6, 3.5, 1. ],\n",
       "       [5.5, 2.4, 3.8, 1.1],\n",
       "       [5.5, 2.4, 3.7, 1. ],\n",
       "       [5.8, 2.7, 3.9, 1.2],\n",
       "       [6. , 2.7, 5.1, 1.6],\n",
       "       [5.4, 3. , 4.5, 1.5],\n",
       "       [6. , 3.4, 4.5, 1.6],\n",
       "       [6.7, 3.1, 4.7, 1.5],\n",
       "       [6.3, 2.3, 4.4, 1.3],\n",
       "       [5.6, 3. , 4.1, 1.3],\n",
       "       [5.5, 2.5, 4. , 1.3],\n",
       "       [5.5, 2.6, 4.4, 1.2],\n",
       "       [6.1, 3. , 4.6, 1.4],\n",
       "       [5.8, 2.6, 4. , 1.2],\n",
       "       [5. , 2.3, 3.3, 1. ],\n",
       "       [5.6, 2.7, 4.2, 1.3],\n",
       "       [5.7, 3. , 4.2, 1.2],\n",
       "       [5.7, 2.9, 4.2, 1.3],\n",
       "       [6.2, 2.9, 4.3, 1.3],\n",
       "       [5.1, 2.5, 3. , 1.1],\n",
       "       [5.7, 2.8, 4.1, 1.3]])"
      ]
     },
     "execution_count": 23,
     "metadata": {},
     "output_type": "execute_result"
    }
   ],
   "source": [
    "Xi"
   ]
  },
  {
   "cell_type": "code",
   "execution_count": 24,
   "metadata": {},
   "outputs": [],
   "source": [
    "# Add noisy features\n",
    "random_state = np.random.RandomState(0)\n",
    "Xi = np.c_[Xi, random_state.randn(n_samples, 200 * n_features)] #concatenates new features"
   ]
  },
  {
   "cell_type": "code",
   "execution_count": 26,
   "metadata": {},
   "outputs": [
    {
     "data": {
      "text/plain": [
       "(100, 804)"
      ]
     },
     "execution_count": 26,
     "metadata": {},
     "output_type": "execute_result"
    }
   ],
   "source": [
    "Xi.shape"
   ]
  },
  {
   "cell_type": "code",
   "execution_count": 28,
   "metadata": {},
   "outputs": [],
   "source": [
    "#Hold Out Test Data\n",
    "from sklearn.model_selection import train_test_split\n",
    "Xi_train, Xi_test, yi_train, yi_test = train_test_split(Xi, yi, test_size=0.25, shuffle=True)"
   ]
  },
  {
   "cell_type": "code",
   "execution_count": 29,
   "metadata": {},
   "outputs": [
    {
     "data": {
      "text/plain": [
       "array([0.51, 0.39, 0.67, 0.4 , 0.71, 0.66, 0.66, 0.68, 0.47, 0.45, 0.7 ,\n",
       "       0.56, 0.61, 0.36, 0.47, 0.45, 0.4 , 0.45, 0.39, 0.64, 0.41, 0.4 ,\n",
       "       0.39, 0.7 , 0.43])"
      ]
     },
     "execution_count": 29,
     "metadata": {},
     "output_type": "execute_result"
    }
   ],
   "source": [
    "from sklearn.metrics import roc_curve\n",
    "clf_rf = RandomForestClassifier(n_estimators=100)\n",
    "clf_rf.fit(Xi_train, yi_train)\n",
    "y_score = clf_rf.predict_proba(Xi_test)[:,1] #probabilistic classifier, so the model outputs probabilities"
   ]
  },
  {
   "cell_type": "code",
   "execution_count": 35,
   "metadata": {},
   "outputs": [
    {
     "data": {
      "text/plain": [
       "array([0, 1])"
      ]
     },
     "execution_count": 35,
     "metadata": {},
     "output_type": "execute_result"
    }
   ],
   "source": [
    "np.unique(yi_test.reshape(1,-1))"
   ]
  },
  {
   "cell_type": "code",
   "execution_count": 30,
   "metadata": {},
   "outputs": [
    {
     "data": {
      "text/plain": [
       "array([[0.49, 0.51],\n",
       "       [0.61, 0.39],\n",
       "       [0.33, 0.67],\n",
       "       [0.6 , 0.4 ],\n",
       "       [0.29, 0.71],\n",
       "       [0.34, 0.66],\n",
       "       [0.34, 0.66],\n",
       "       [0.32, 0.68],\n",
       "       [0.53, 0.47],\n",
       "       [0.55, 0.45],\n",
       "       [0.3 , 0.7 ],\n",
       "       [0.44, 0.56],\n",
       "       [0.39, 0.61],\n",
       "       [0.64, 0.36],\n",
       "       [0.53, 0.47],\n",
       "       [0.55, 0.45],\n",
       "       [0.6 , 0.4 ],\n",
       "       [0.55, 0.45],\n",
       "       [0.61, 0.39],\n",
       "       [0.36, 0.64],\n",
       "       [0.59, 0.41],\n",
       "       [0.6 , 0.4 ],\n",
       "       [0.61, 0.39],\n",
       "       [0.3 , 0.7 ],\n",
       "       [0.57, 0.43]])"
      ]
     },
     "execution_count": 30,
     "metadata": {},
     "output_type": "execute_result"
    }
   ],
   "source": [
    "clf_rf.predict_proba(Xi_test)"
   ]
  },
  {
   "cell_type": "code",
   "execution_count": 36,
   "metadata": {},
   "outputs": [
    {
     "data": {
      "text/plain": [
       "[<matplotlib.lines.Line2D at 0x1893a808e20>]"
      ]
     },
     "execution_count": 36,
     "metadata": {},
     "output_type": "execute_result"
    },
    {
     "data": {
      "image/png": "[encoded data removed]",
      "text/plain": [
       "<Figure size 432x288 with 1 Axes>"
      ]
     },
     "metadata": {
      "needs_background": "light"
     },
     "output_type": "display_data"
    }
   ],
   "source": [
    "fpr, tpr, thresholds = roc_curve(yi_test, y_score, pos_label=1)\n",
    "auc = np.trapz(tpr, fpr)\n",
    "plt.plot(fpr, tpr, linestyle='-', alpha=0.5, color= \"C0\", label = 100)"
   ]
  },
  {
   "cell_type": "code",
   "execution_count": 37,
   "metadata": {},
   "outputs": [
    {
     "data": {
      "image/png": "[encoded data removed]",
      "text/plain": [
       "<Figure size 720x720 with 1 Axes>"
      ]
     },
     "metadata": {
      "needs_background": "light"
     },
     "output_type": "display_data"
    }
   ],
   "source": [
    "from sklearn.metrics import roc_curve\n",
    "\n",
    "# Random Forests\n",
    "ntrees= [1, 10, 20, 100, 1000]\n",
    "colors = [\"C0\", \"C1\", 'C2','C3', 'C4']\n",
    "\n",
    "plt.figure(figsize=(10,10))\n",
    "for i in range(len(ntrees)):\n",
    "    clf_rf = RandomForestClassifier(n_estimators=ntrees[i])\n",
    "    clf_rf.fit(Xi_train, yi_train)\n",
    "    y_score = clf_rf.predict_proba(Xi_test)[:,1] #probabilistic classifier, so the model outputs probabilities\n",
    "    fpr, tpr, thresholds = roc_curve(yi_test, y_score, pos_label=1)\n",
    "    auc = np.trapz(tpr, fpr)\n",
    "    plt.plot(fpr, tpr, linestyle='-', alpha=0.5, color= colors[i], label = ntrees[i])\n",
    "\n",
    "plt.title(\"ROC curve\")\n",
    "plt.legend(title = \"Number of trees\", loc = \"best\")\n",
    "plt.xlabel(\"FPR\")\n",
    "plt.ylabel(\"TPR\")\n",
    "plt.grid()\n",
    "plt.show() "
   ]
  },
  {
   "cell_type": "markdown",
   "metadata": {},
   "source": [
    "# Predicting Diabetes Cases"
   ]
  },
  {
   "cell_type": "markdown",
   "metadata": {},
   "source": [
    "The National Institute of Diabetes and Digestive and Kidney Diseases has collected the Pima Indians dataset, which contains data from clinical exams for women age 21 and above of Pima Indian origins. In this problem, we predict whether each woman has diabetes or not based on diagnostic measurements.\n",
    "\n",
    "For each woman, the following features were recorded:\n",
    "- Pregnancies: Number of times pregnant\n",
    "- Glucose: Plasma glucose concentration a 2 hours in an oral glucose tolerance test\n",
    "- Blood Pressure: Diastolic blood pressure (mm Hg)\n",
    "- Skin Thickness: Triceps skin fold thickness (mm)\n",
    "- Insulin: 2-Hour serum insulin (mu U/ml)\n",
    "- BMI: Body mass index (weight in kg/(height in m)^2)\n",
    "- Diabetes Pedigree Function: Diabetes pedigree function\n",
    "- Age: Age (years)\n",
    "\n",
    "Per woman, the label is binary (1=diabetic, 0=not diabetic)."
   ]
  },
  {
   "cell_type": "markdown",
   "metadata": {},
   "source": [
    "We begin by loading in the data:"
   ]
  },
  {
   "cell_type": "code",
   "execution_count": 38,
   "metadata": {},
   "outputs": [
    {
     "name": "stdout",
     "output_type": "stream",
     "text": [
      "(576, 8) (576,)\n",
      "(192, 8) (192,)\n"
     ]
    }
   ],
   "source": [
    "diabetes_X_train = np.loadtxt('diabetes_X_train.txt')\n",
    "diabetes_y_train = np.loadtxt('diabetes_y_train.txt')\n",
    "diabetes_X_test = np.loadtxt('diabetes_X_test.txt')\n",
    "diabetes_y_test = np.loadtxt('diabetes_y_test.txt')\n",
    "diabetes_features = ['Pregnancies',\n",
    "                     'Glucose',\n",
    "                     'Blood Pressure',\n",
    "                     'Skin Thickness',\n",
    "                     'Insulin',\n",
    "                     'BMI',\n",
    "                     'Diabetes Pedigree Function',\n",
    "                     'Age']\n",
    "print(diabetes_X_train.shape, diabetes_y_train.shape)\n",
    "print(diabetes_X_test.shape, diabetes_y_test.shape)"
   ]
  },
  {
   "cell_type": "markdown",
   "metadata": {},
   "source": [
    "## Staring at Data\n",
    "\n",
    "Explore the training data by drawing a histogram for each feature."
   ]
  },
  {
   "cell_type": "code",
   "execution_count": 39,
   "metadata": {},
   "outputs": [
    {
     "name": "stdout",
     "output_type": "stream",
     "text": [
      "0\n",
      "1\n",
      "2\n",
      "3\n",
      "4\n",
      "5\n",
      "6\n",
      "7\n"
     ]
    }
   ],
   "source": [
    "for idx in range(diabetes_X_train.shape[1]):\n",
    "    print(idx)"
   ]
  },
  {
   "cell_type": "code",
   "execution_count": 41,
   "metadata": {},
   "outputs": [
    {
     "data": {
      "text/plain": [
       "numpy.ndarray"
      ]
     },
     "execution_count": 41,
     "metadata": {},
     "output_type": "execute_result"
    }
   ],
   "source": [
    "type(diabetes_X_train)"
   ]
  },
  {
   "cell_type": "code",
   "execution_count": 42,
   "metadata": {
    "scrolled": false
   },
   "outputs": [
    {
     "data": {
      "image/png": "[encoded data removed]",
      "text/plain": [
       "<Figure size 432x288 with 1 Axes>"
      ]
     },
     "metadata": {
      "needs_background": "light"
     },
     "output_type": "display_data"
    },
    {
     "data": {
      "image/png": "[encoded data removed]",
      "text/plain": [
       "<Figure size 432x288 with 1 Axes>"
      ]
     },
     "metadata": {
      "needs_background": "light"
     },
     "output_type": "display_data"
    },
    {
     "data": {
      "image/png": "[encoded data removed]",
      "text/plain": [
       "<Figure size 432x288 with 1 Axes>"
      ]
     },
     "metadata": {
      "needs_background": "light"
     },
     "output_type": "display_data"
    },
    {
     "data": {
      "image/png": "[encoded data removed]",
      "text/plain": [
       "<Figure size 432x288 with 1 Axes>"
      ]
     },
     "metadata": {
      "needs_background": "light"
     },
     "output_type": "display_data"
    },
    {
     "data": {
      "image/png": "[encoded data removed]",
      "text/plain": [
       "<Figure size 432x288 with 1 Axes>"
      ]
     },
     "metadata": {
      "needs_background": "light"
     },
     "output_type": "display_data"
    },
    {
     "data": {
      "image/png": "[encoded data removed]",
      "text/plain": [
       "<Figure size 432x288 with 1 Axes>"
      ]
     },
     "metadata": {
      "needs_background": "light"
     },
     "output_type": "display_data"
    },
    {
     "data": {
      "image/png": "[encoded data removed]",
      "text/plain": [
       "<Figure size 432x288 with 1 Axes>"
      ]
     },
     "metadata": {
      "needs_background": "light"
     },
     "output_type": "display_data"
    },
    {
     "data": {
      "image/png": "[encoded data removed]",
      "text/plain": [
       "<Figure size 432x288 with 1 Axes>"
      ]
     },
     "metadata": {
      "needs_background": "light"
     },
     "output_type": "display_data"
    }
   ],
   "source": [
    "# ------------------------------------------------------------------------------\n",
    "# TODO: WRITE YOUR CODE HERE\n",
    "#\n",
    "\n",
    "for idx in range(diabetes_X_train.shape[1]):\n",
    "    plt.hist(diabetes_X_train[:, idx])\n",
    "    plt.xlabel(diabetes_features[idx])\n",
    "    plt.ylabel('Raw count')\n",
    "    plt.show()\n",
    "\n",
    "#\n",
    "# END OF YOUR CODE\n",
    "# ------------------------------------------------------------------------------"
   ]
  },
  {
   "cell_type": "markdown",
   "metadata": {},
   "source": [
    "### Question:\n",
    "Clearly explain why the features should be standardized."
   ]
  },
  {
   "cell_type": "markdown",
   "metadata": {},
   "source": [
    "#### SOLUTION - \n",
    "The feature values have scales that are drastically different by orders of magnitude (for instance, compare insulin with diabetes pedigree function). Standardizing (by subtracting the mean and dividing by the standard deviation) would prevent the feature with the largest scale from dominating the analysis."
   ]
  },
  {
   "cell_type": "markdown",
   "metadata": {},
   "source": [
    "### Question: \n",
    "Suppose that we are standardizing the data (by subtracting off each feature's mean and dividing by its standard deviation) and also doing cross-validation. Explain why standardization should *not* be applied to the full training dataset first before running cross-validation. When should standardization be run?"
   ]
  },
  {
   "cell_type": "markdown",
   "metadata": {},
   "source": [
    "#### SOLUTION - \n",
    "Standardization should be applied within each cross-validation fold's training data and not across the full training dataset first. Each fold of cross-validation is meant to mimic what the actual setup is like during test time. In particular, if we were to standardize across the entire training dataset first, and then hide part of it to use as a validation set, we have contaminated our training data with validation data! Specifically, we have used each fold's validation data's values in standardizing features within the same fold's training data! Instead, within each cross-validation fold, we standardize based on that fold's training data's feature vectors."
   ]
  },
  {
   "cell_type": "markdown",
   "metadata": {},
   "source": [
    "### Model Selection\n",
    "We shall use 5-fold cross-validation but with a twist! For each fold, compute two different scores: precision and recall (separately and not the F1 score). Use a random forest classifier, sweeping over 4 different `n_estimators` values (50, 100, 150, 200) and 6 `max_depth` values (2, 3, 4, 5, 6, 7), i.e., sweep over a total of 4x6=24 hyperparameter settings. For the `RandomForestClassifier`, aside from `n_estimators` and `max_depth`, only specify one additional setting `random_state=95865`."
   ]
  },
  {
   "cell_type": "code",
   "execution_count": 50,
   "metadata": {},
   "outputs": [],
   "source": [
    "from sklearn.preprocessing import StandardScaler\n",
    "\n",
    "# WARNING: YOU SHOULD ONLY HAVE TO WRITE CODE IN THE PART BELOW THAT SAYS \"TODO\"\n",
    "kf = KFold(n_splits=5, random_state=95865, shuffle=True)\n",
    "\n",
    "fold_precision_scores = []\n",
    "fold_recall_scores = []\n",
    "i=0\n",
    "for train_indices, val_indices in kf.split(diabetes_X_train):\n",
    "    fold_X_train = diabetes_X_train[train_indices]\n",
    "    fold_y_train = diabetes_y_train[train_indices]\n",
    "    fold_X_val = diabetes_X_train[val_indices]\n",
    "    fold_y_val = diabetes_y_train[val_indices]\n",
    "        \n",
    "    fold_scaler = StandardScaler()\n",
    "    fold_X_train_standardized = fold_scaler.fit_transform(fold_X_train)\n",
    "    fold_classifier = RandomForestClassifier(n_estimators=100, max_depth=4, random_state=95865)\n",
    "    fold_classifier.fit(fold_X_train_standardized, fold_y_train)\n",
    "    fold_y_val_predicted = fold_classifier.predict(fold_scaler.transform(fold_X_val))\n",
    "        \n",
    "    fold_true_pred_mask = (fold_y_val_predicted == 1)\n",
    "    if fold_true_pred_mask.sum() > 0:\n",
    "        fold_precision = (fold_y_val[fold_true_pred_mask] == 1).mean()  #for those predicted as 1, count how many are actual 1, and sum the count and divided by all \n",
    "    else:\n",
    "        # corner case to avoid division by 0\n",
    "        fold_precision = 0.\n",
    "    \n",
    "    fold_recall_mask = (fold_y_val == 1)\n",
    "    if fold_recall_mask.sum() > 0:\n",
    "        fold_recall = (fold_y_val_predicted[fold_recall_mask] == 1).mean() # for those who are actual 1, count how many are predicted as 1, calculate the portion\n",
    "    else:\n",
    "        # corner case to avoid division by 0\n",
    "        fold_recall = 0.\n",
    "        \n",
    "    fold_precision_scores.append(fold_precision)\n",
    "    fold_recall_scores.append(fold_recall)\n"
   ]
  },
  {
   "cell_type": "code",
   "execution_count": 46,
   "metadata": {},
   "outputs": [
    {
     "data": {
      "text/plain": [
       "(116,)"
      ]
     },
     "execution_count": 46,
     "metadata": {},
     "output_type": "execute_result"
    }
   ],
   "source": [
    "fold_y_val.shape"
   ]
  },
  {
   "cell_type": "code",
   "execution_count": 49,
   "metadata": {},
   "outputs": [
    {
     "data": {
      "text/plain": [
       "0.8095238095238095"
      ]
     },
     "execution_count": 49,
     "metadata": {},
     "output_type": "execute_result"
    }
   ],
   "source": [
    "(fold_y_val[fold_true_pred_mask]==1).mean()"
   ]
  },
  {
   "cell_type": "code",
   "execution_count": 51,
   "metadata": {},
   "outputs": [
    {
     "name": "stdout",
     "output_type": "stream",
     "text": [
      "num_trees: 50 max_depth: 2 Precision: 0.795 Recall: 0.381\n",
      "num_trees: 50 max_depth: 3 Precision: 0.734 Recall: 0.439\n",
      "num_trees: 50 max_depth: 4 Precision: 0.745 Recall: 0.490\n",
      "num_trees: 50 max_depth: 5 Precision: 0.735 Recall: 0.541\n",
      "num_trees: 50 max_depth: 6 Precision: 0.752 Recall: 0.555\n",
      "num_trees: 50 max_depth: 7 Precision: 0.725 Recall: 0.567\n",
      "num_trees: 100 max_depth: 2 Precision: 0.826 Recall: 0.393\n",
      "num_trees: 100 max_depth: 3 Precision: 0.767 Recall: 0.446\n",
      "num_trees: 100 max_depth: 4 Precision: 0.750 Recall: 0.476\n",
      "num_trees: 100 max_depth: 5 Precision: 0.731 Recall: 0.525\n",
      "num_trees: 100 max_depth: 6 Precision: 0.742 Recall: 0.539\n",
      "num_trees: 100 max_depth: 7 Precision: 0.717 Recall: 0.545\n",
      "num_trees: 150 max_depth: 2 Precision: 0.793 Recall: 0.357\n",
      "num_trees: 150 max_depth: 3 Precision: 0.781 Recall: 0.446\n",
      "num_trees: 150 max_depth: 4 Precision: 0.755 Recall: 0.481\n",
      "num_trees: 150 max_depth: 5 Precision: 0.742 Recall: 0.529\n",
      "num_trees: 150 max_depth: 6 Precision: 0.741 Recall: 0.539\n",
      "num_trees: 150 max_depth: 7 Precision: 0.732 Recall: 0.546\n",
      "num_trees: 200 max_depth: 2 Precision: 0.811 Recall: 0.383\n",
      "num_trees: 200 max_depth: 3 Precision: 0.770 Recall: 0.432\n",
      "num_trees: 200 max_depth: 4 Precision: 0.757 Recall: 0.485\n",
      "num_trees: 200 max_depth: 5 Precision: 0.741 Recall: 0.519\n",
      "num_trees: 200 max_depth: 6 Precision: 0.745 Recall: 0.548\n",
      "num_trees: 200 max_depth: 7 Precision: 0.716 Recall: 0.555\n"
     ]
    },
    {
     "data": {
      "text/plain": [
       "Text(0, 0.5, 'Precision')"
      ]
     },
     "execution_count": 51,
     "metadata": {},
     "output_type": "execute_result"
    },
    {
     "data": {
      "image/png": "[encoded data removed]",
      "text/plain": [
       "<Figure size 432x288 with 1 Axes>"
      ]
     },
     "metadata": {
      "needs_background": "light"
     },
     "output_type": "display_data"
    }
   ],
   "source": [
    "from sklearn.preprocessing import StandardScaler\n",
    "\n",
    "# WARNING: YOU SHOULD ONLY HAVE TO WRITE CODE IN THE PART BELOW THAT SAYS \"TODO\"\n",
    "kf = KFold(n_splits=5, random_state=95865, shuffle=True)\n",
    "num_trees_choices = [50, 100, 150, 200]\n",
    "max_depth_choices = [2, 3, 4, 5, 6, 7]\n",
    "hyperparameter_choices = [(num_trees, max_depth)\n",
    "                          for num_trees in num_trees_choices\n",
    "                          for max_depth in max_depth_choices]\n",
    "rf_cross_validation_precision_scores = []\n",
    "rf_cross_validation_recall_scores = []\n",
    "\n",
    "for num_trees, max_depth in hyperparameter_choices:\n",
    "    # --------------------------------------------------------------------------\n",
    "    # TODO: WRITE YOUR CODE HERE\n",
    "    #\n",
    "    \n",
    "    \n",
    "    fold_precision_scores = []\n",
    "    fold_recall_scores = []\n",
    "    for train_indices, val_indices in kf.split(diabetes_X_train):\n",
    "        fold_X_train = diabetes_X_train[train_indices]\n",
    "        fold_y_train = diabetes_y_train[train_indices]\n",
    "        fold_X_val = diabetes_X_train[val_indices]\n",
    "        fold_y_val = diabetes_y_train[val_indices]\n",
    "        \n",
    "        fold_scaler = StandardScaler()\n",
    "        fold_X_train_standardized = fold_scaler.fit_transform(fold_X_train)\n",
    "        fold_classifier = RandomForestClassifier(n_estimators=num_trees, max_depth=max_depth, random_state=95865)\n",
    "        fold_classifier.fit(fold_X_train_standardized, fold_y_train)\n",
    "        fold_y_val_predicted = fold_classifier.predict(fold_scaler.transform(fold_X_val))\n",
    "        \n",
    "        fold_true_pred_mask = (fold_y_val_predicted == 1)\n",
    "        if fold_true_pred_mask.sum() > 0:\n",
    "            fold_precision = (fold_y_val[fold_true_pred_mask] == 1).mean()\n",
    "        else:\n",
    "            # corner case to avoid division by 0\n",
    "            fold_precision = 0.\n",
    "        \n",
    "        fold_recall_mask = (fold_y_val == 1)\n",
    "        if fold_recall_mask.sum() > 0:\n",
    "            fold_recall = (fold_y_val_predicted[fold_recall_mask] == 1).mean()\n",
    "        else:\n",
    "            # corner case to avoid division by 0\n",
    "            fold_recall = 0.\n",
    "        \n",
    "        fold_precision_scores.append(fold_precision)\n",
    "        fold_recall_scores.append(fold_recall)\n",
    "    cross_val_precision = np.mean(fold_precision_scores)\n",
    "    cross_val_recall = np.mean(fold_recall_scores)\n",
    "    \n",
    "    #\n",
    "    # END OF YOUR CODE\n",
    "    # --------------------------------------------------------------------------\n",
    "    \n",
    "    print('num_trees: %d' % num_trees,\n",
    "          'max_depth: %d' % max_depth,\n",
    "          'Precision: %5.3f' % cross_val_precision,\n",
    "          'Recall: %5.3f' % cross_val_recall)\n",
    "    rf_cross_validation_precision_scores.append(cross_val_precision)\n",
    "    rf_cross_validation_recall_scores.append(cross_val_recall)\n",
    "\n",
    "plt.scatter(rf_cross_validation_recall_scores,\n",
    "            rf_cross_validation_precision_scores)\n",
    "plt.xlabel('Recall')\n",
    "plt.ylabel('Precision')"
   ]
  },
  {
   "cell_type": "markdown",
   "metadata": {},
   "source": [
    "Using the precision-recall plot above, suppose that for our clinical application, we want at least a *true positive rate* of 60%. Under this constraint, what is the largest precision that we could approximately be able to achieve according to our cross validation results? Which value of hyperparameters (among the ones we tried in cross validation) does this roughly correspond to?\n",
    "\n",
    "**Solution**: Among the hyperparameter settings tested for random forests, none achieves recall of at least 60%. Thus, we cannot say what precision is possible beyond the trivial lower bound of 0%.\n",
    "\n",
    "**Important observation**: Your answer to the above question should make it clear that using training data and a precision-recall curve, we can actually pick a hyperparameter based on some application-specific constraint. The hyperparameter chosen can then be used for test data!"
   ]
  }
 ],
 "metadata": {
  "interpreter": {
   "hash": "a39925eeddc792af6d4e0b1873f8327b557d77fa2348d67e88f41275bd0f9008"
  },
  "kernelspec": {
   "display_name": "UDA",
   "language": "python",
   "name": "python3"
  },
  "language_info": {
   "codemirror_mode": {
    "name": "ipython",
    "version": 3
   },
   "file_extension": ".py",
   "mimetype": "text/x-python",
   "name": "python",
   "nbconvert_exporter": "python",
   "pygments_lexer": "ipython3",
   "version": "3.8.8"
  }
 },
 "nbformat": 4,
 "nbformat_minor": 2
}
