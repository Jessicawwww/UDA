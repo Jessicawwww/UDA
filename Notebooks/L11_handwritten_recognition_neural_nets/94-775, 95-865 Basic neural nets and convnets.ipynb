{
 "cells": [
  {
   "cell_type": "markdown",
   "metadata": {},
   "source": [
    "# 94-775/95-865: Handwritten Digit Recognition with Neural Nets\n",
    "\n",
    "Author: George H. Chen (georgechen [at symbol] cmu.edu)\n",
    "\n",
    "This demo shows how to train and evaluate four neural net models using PyTorch:\n",
    "\n",
    "1. Flatten -> fully connected -> softmax activation*\n",
    "\n",
    "2. Flatten -> fully connected -> ReLU -> fully connected -> softmax activation*\n",
    "\n",
    "3. Conv2d -> ReLU -> MaxPool2d -> flatten -> fully connected -> softmax activation*\n",
    "\n",
    "4. Conv2d -> ReLU -> MaxPool2d -> Conv2d -> ReLU -> MaxPool2d -> flatten -> fully connected -> softmax activation*\n",
    "\n",
    "*In PyTorch, softmax activation is automatically done as part of using the cross entropy loss."
   ]
  },
  {
   "cell_type": "code",
   "execution_count": 1,
   "metadata": {},
   "outputs": [],
   "source": [
    "%matplotlib inline\n",
    "import matplotlib.pyplot as plt\n",
    "import numpy as np\n",
    "import random\n",
    "\n",
    "# the next two lines are needed on my Intel-based MacBook Air to get the code to run; you likely don't need these two lines...\n",
    "# (in fact I used to not need these two lines)\n",
    "import os\n",
    "os.environ['KMP_DUPLICATE_LIB_OK'] = 'True'\n",
    "\n",
    "import torch\n",
    "torch.use_deterministic_algorithms(True)\n",
    "torch.backends.cudnn.benchmark = False\n",
    "import torch.nn as nn\n",
    "import torchvision\n",
    "import torchvision.transforms as transforms\n",
    "from torchsummaryX import summary\n",
    "\n",
    "from UDA_pytorch_utils import UDA_pytorch_classifier_fit, \\\n",
    "        UDA_plot_train_val_accuracy_vs_epoch, UDA_pytorch_classifier_predict, \\\n",
    "        UDA_compute_accuracy\n",
    "\n",
    "np.random.seed(0)\n",
    "torch.manual_seed(0)\n",
    "random.seed(0)"
   ]
  },
  {
   "cell_type": "markdown",
   "metadata": {},
   "source": [
    "## Loading in the data and a quick data inspection¶"
   ]
  },
  {
   "cell_type": "code",
   "execution_count": 2,
   "metadata": {},
   "outputs": [],
   "source": [
    "train_dataset = torchvision.datasets.MNIST(root='data/',\n",
    "                                           train=True,\n",
    "                                           transform=transforms.ToTensor(),\n",
    "                                           download=True)"
   ]
  },
  {
   "cell_type": "code",
   "execution_count": 3,
   "metadata": {},
   "outputs": [],
   "source": [
    "train_images = torch.tensor(np.array([image.numpy() for image, label in train_dataset]))"
   ]
  },
  {
   "cell_type": "code",
   "execution_count": 4,
   "metadata": {},
   "outputs": [],
   "source": [
    "train_labels = torch.tensor([label for image, label in train_dataset])"
   ]
  },
  {
   "cell_type": "code",
   "execution_count": 5,
   "metadata": {},
   "outputs": [
    {
     "data": {
      "text/plain": [
       "torch.Size([60000, 1, 28, 28])"
      ]
     },
     "execution_count": 5,
     "metadata": {},
     "output_type": "execute_result"
    }
   ],
   "source": [
    "train_images.shape"
   ]
  },
  {
   "cell_type": "code",
   "execution_count": 6,
   "metadata": {},
   "outputs": [
    {
     "data": {
      "text/plain": [
       "torch.Size([60000])"
      ]
     },
     "execution_count": 6,
     "metadata": {},
     "output_type": "execute_result"
    }
   ],
   "source": [
    "train_labels.shape"
   ]
  },
  {
   "cell_type": "markdown",
   "metadata": {},
   "source": [
    "We first take a look at the data."
   ]
  },
  {
   "cell_type": "code",
   "execution_count": 7,
   "metadata": {},
   "outputs": [
    {
     "data": {
      "text/plain": [
       "<matplotlib.image.AxesImage at 0x7f8834e5ec70>"
      ]
     },
     "execution_count": 7,
     "metadata": {},
     "output_type": "execute_result"
    },
    {
     "data": {
      "image/png": "[encoded data removed]",
      "text/plain": [
       "<Figure size 432x288 with 1 Axes>"
      ]
     },
     "metadata": {
      "needs_background": "light"
     },
     "output_type": "display_data"
    }
   ],
   "source": [
    "plt.imshow(train_images[13][0], cmap='gray')"
   ]
  },
  {
   "cell_type": "code",
   "execution_count": 8,
   "metadata": {},
   "outputs": [
    {
     "data": {
      "text/plain": [
       "tensor(6)"
      ]
     },
     "execution_count": 8,
     "metadata": {},
     "output_type": "execute_result"
    }
   ],
   "source": [
    "train_labels[13]"
   ]
  },
  {
   "cell_type": "markdown",
   "metadata": {},
   "source": [
    "## Basics of working with neural nets"
   ]
  },
  {
   "cell_type": "code",
   "execution_count": 9,
   "metadata": {},
   "outputs": [],
   "source": [
    "simple_model = nn.Sequential(nn.Flatten(),\n",
    "                             nn.Linear(in_features=784, out_features=10))"
   ]
  },
  {
   "cell_type": "code",
   "execution_count": 10,
   "metadata": {},
   "outputs": [
    {
     "name": "stdout",
     "output_type": "stream",
     "text": [
      "==================================================\n",
      "      Kernel Shape Output Shape Params Mult-Adds\n",
      "Layer                                           \n",
      "0_0              -     [5, 784]      -         -\n",
      "1_1      [784, 10]      [5, 10]  7.85k     7.84k\n",
      "--------------------------------------------------\n",
      "                      Totals\n",
      "Total params           7.85k\n",
      "Trainable params       7.85k\n",
      "Non-trainable params     0.0\n",
      "Mult-Adds              7.84k\n",
      "==================================================\n"
     ]
    },
    {
     "name": "stderr",
     "output_type": "stream",
     "text": [
      "/Users/georgehc/opt/anaconda3/lib/python3.9/site-packages/torchsummaryX/torchsummaryX.py:101: FutureWarning: Dropping of nuisance columns in DataFrame reductions (with 'numeric_only=None') is deprecated; in a future version this will raise TypeError.  Select only valid columns before calling the reduction.\n",
      "  df_sum = df.sum()\n"
     ]
    },
    {
     "data": {
      "text/html": [
       "<div>\n",
       "<style scoped>\n",
       "    .dataframe tbody tr th:only-of-type {\n",
       "        vertical-align: middle;\n",
       "    }\n",
       "\n",
       "    .dataframe tbody tr th {\n",
       "        vertical-align: top;\n",
       "    }\n",
       "\n",
       "    .dataframe thead th {\n",
       "        text-align: right;\n",
       "    }\n",
       "</style>\n",
       "<table border=\"1\" class=\"dataframe\">\n",
       "  <thead>\n",
       "    <tr style=\"text-align: right;\">\n",
       "      <th></th>\n",
       "      <th>Kernel Shape</th>\n",
       "      <th>Output Shape</th>\n",
       "      <th>Params</th>\n",
       "      <th>Mult-Adds</th>\n",
       "    </tr>\n",
       "    <tr>\n",
       "      <th>Layer</th>\n",
       "      <th></th>\n",
       "      <th></th>\n",
       "      <th></th>\n",
       "      <th></th>\n",
       "    </tr>\n",
       "  </thead>\n",
       "  <tbody>\n",
       "    <tr>\n",
       "      <th>0_0</th>\n",
       "      <td>-</td>\n",
       "      <td>[5, 784]</td>\n",
       "      <td>NaN</td>\n",
       "      <td>NaN</td>\n",
       "    </tr>\n",
       "    <tr>\n",
       "      <th>1_1</th>\n",
       "      <td>[784, 10]</td>\n",
       "      <td>[5, 10]</td>\n",
       "      <td>7850.0</td>\n",
       "      <td>7840.0</td>\n",
       "    </tr>\n",
       "  </tbody>\n",
       "</table>\n",
       "</div>"
      ],
      "text/plain": [
       "      Kernel Shape Output Shape  Params  Mult-Adds\n",
       "Layer                                             \n",
       "0_0              -     [5, 784]     NaN        NaN\n",
       "1_1      [784, 10]      [5, 10]  7850.0     7840.0"
      ]
     },
     "execution_count": 10,
     "metadata": {},
     "output_type": "execute_result"
    }
   ],
   "source": [
    "summary(simple_model, torch.zeros((5, 1, 28, 28)))   # (batch size, num channels, height, width)"
   ]
  },
  {
   "cell_type": "code",
   "execution_count": 11,
   "metadata": {},
   "outputs": [],
   "source": [
    "proper_train_size = int(0.8 * len(train_dataset))\n",
    "val_size = len(train_dataset) - proper_train_size\n",
    "proper_train_dataset, val_dataset = torch.utils.data.random_split(train_dataset,\n",
    "                                                                  [proper_train_size,\n",
    "                                                                   val_size])"
   ]
  },
  {
   "cell_type": "code",
   "execution_count": 12,
   "metadata": {},
   "outputs": [
    {
     "name": "stdout",
     "output_type": "stream",
     "text": [
      "Epoch 1 [==================================================] 48000/48000\n",
      "  Train accuracy: 0.8913\n",
      "  Validation accuracy: 0.8873\n",
      "Epoch 2 [==================================================] 48000/48000\n",
      "  Train accuracy: 0.9075\n",
      "  Validation accuracy: 0.9046\n",
      "Epoch 3 [==================================================] 48000/48000\n",
      "  Train accuracy: 0.9125\n",
      "  Validation accuracy: 0.9107\n",
      "Epoch 4 [==================================================] 48000/48000\n",
      "  Train accuracy: 0.9179\n",
      "  Validation accuracy: 0.9127\n",
      "Epoch 5 [==================================================] 48000/48000\n",
      "  Train accuracy: 0.9194\n",
      "  Validation accuracy: 0.9147\n",
      "Epoch 6 [==================================================] 48000/48000\n",
      "  Train accuracy: 0.9229\n",
      "  Validation accuracy: 0.9166\n",
      "Epoch 7 [==================================================] 48000/48000\n",
      "  Train accuracy: 0.9254\n",
      "  Validation accuracy: 0.9178\n",
      "Epoch 8 [==================================================] 48000/48000\n",
      "  Train accuracy: 0.9266\n",
      "  Validation accuracy: 0.9188\n",
      "Epoch 9 [==================================================] 48000/48000\n",
      "  Train accuracy: 0.9278\n",
      "  Validation accuracy: 0.9197\n",
      "Epoch 10 [==================================================] 48000/48000\n",
      "  Train accuracy: 0.9278\n",
      "  Validation accuracy: 0.9187\n"
     ]
    }
   ],
   "source": [
    "num_epochs = 10  # during optimization, how many times we look at training data\n",
    "batch_size = 128  # during optimization, how many training data to use at each step\n",
    "learning_rate = 0.001  # during optimization, how much we nudge our solution at each step\n",
    "\n",
    "train_accuracies, val_accuracies = \\\n",
    "    UDA_pytorch_classifier_fit(simple_model,\n",
    "                               torch.optim.Adam(simple_model.parameters(),\n",
    "                                                lr=learning_rate),\n",
    "                               nn.CrossEntropyLoss(),  # includes softmax\n",
    "                               proper_train_dataset, val_dataset,\n",
    "                               num_epochs, batch_size)"
   ]
  },
  {
   "cell_type": "code",
   "execution_count": 13,
   "metadata": {},
   "outputs": [
    {
     "data": {
      "image/png": "[encoded data removed]",
      "text/plain": [
       "<Figure size 432x288 with 1 Axes>"
      ]
     },
     "metadata": {
      "needs_background": "light"
     },
     "output_type": "display_data"
    }
   ],
   "source": [
    "UDA_plot_train_val_accuracy_vs_epoch(train_accuracies, val_accuracies)"
   ]
  },
  {
   "cell_type": "code",
   "execution_count": 14,
   "metadata": {},
   "outputs": [
    {
     "name": "stdout",
     "output_type": "stream",
     "text": [
      "====================================================\n",
      "      Kernel Shape Output Shape   Params Mult-Adds\n",
      "Layer                                             \n",
      "0_0              -     [1, 784]        -         -\n",
      "1_1     [784, 512]     [1, 512]  401.92k  401.408k\n",
      "2_2              -     [1, 512]        -         -\n",
      "3_3      [512, 10]      [1, 10]    5.13k     5.12k\n",
      "----------------------------------------------------\n",
      "                        Totals\n",
      "Total params           407.05k\n",
      "Trainable params       407.05k\n",
      "Non-trainable params       0.0\n",
      "Mult-Adds             406.528k\n",
      "====================================================\n",
      "Epoch 1 [=                                                 ] 1024/48000"
     ]
    },
    {
     "name": "stderr",
     "output_type": "stream",
     "text": [
      "/Users/georgehc/opt/anaconda3/lib/python3.9/site-packages/torchsummaryX/torchsummaryX.py:101: FutureWarning: Dropping of nuisance columns in DataFrame reductions (with 'numeric_only=None') is deprecated; in a future version this will raise TypeError.  Select only valid columns before calling the reduction.\n",
      "  df_sum = df.sum()\n"
     ]
    },
    {
     "name": "stdout",
     "output_type": "stream",
     "text": [
      "Epoch 1 [==================================================] 48000/48000\n",
      "  Train accuracy: 0.9521\n",
      "  Validation accuracy: 0.9438\n",
      "Epoch 2 [==================================================] 48000/48000\n",
      "  Train accuracy: 0.9719\n",
      "  Validation accuracy: 0.9650\n",
      "Epoch 3 [==================================================] 48000/48000\n",
      "  Train accuracy: 0.9805\n",
      "  Validation accuracy: 0.9706\n",
      "Epoch 4 [==================================================] 48000/48000\n",
      "  Train accuracy: 0.9864\n",
      "  Validation accuracy: 0.9748\n",
      "Epoch 5 [==================================================] 48000/48000\n",
      "  Train accuracy: 0.9902\n",
      "  Validation accuracy: 0.9765\n",
      "Epoch 6 [==================================================] 48000/48000\n",
      "  Train accuracy: 0.9921\n",
      "  Validation accuracy: 0.9754\n",
      "Epoch 7 [==================================================] 48000/48000\n",
      "  Train accuracy: 0.9943\n",
      "  Validation accuracy: 0.9779\n",
      "Epoch 8 [==================================================] 48000/48000\n",
      "  Train accuracy: 0.9943\n",
      "  Validation accuracy: 0.9762\n",
      "Epoch 9 [==================================================] 48000/48000\n",
      "  Train accuracy: 0.9959\n",
      "  Validation accuracy: 0.9771\n",
      "Epoch 10 [==================================================] 48000/48000\n",
      "  Train accuracy: 0.9961\n",
      "  Validation accuracy: 0.9775\n"
     ]
    },
    {
     "data": {
      "image/png": "[encoded data removed]",
      "text/plain": [
       "<Figure size 432x288 with 1 Axes>"
      ]
     },
     "metadata": {
      "needs_background": "light"
     },
     "output_type": "display_data"
    }
   ],
   "source": [
    "deeper_model = nn.Sequential(nn.Flatten(),\n",
    "                             nn.Linear(in_features=784, out_features=512),\n",
    "                             nn.ReLU(),\n",
    "                             nn.Linear(in_features=512, out_features=10))\n",
    "summary(deeper_model, torch.zeros((1, 1, 28, 28)))  # (batch size, num channels, height, width)\n",
    "\n",
    "train_accuracies, val_accuracies = \\\n",
    "    UDA_pytorch_classifier_fit(deeper_model,\n",
    "                               torch.optim.Adam(deeper_model.parameters(),\n",
    "                                                lr=learning_rate),\n",
    "                               nn.CrossEntropyLoss(),  # includes softmax\n",
    "                               proper_train_dataset, val_dataset,\n",
    "                               num_epochs, batch_size)\n",
    "\n",
    "UDA_plot_train_val_accuracy_vs_epoch(train_accuracies, val_accuracies)"
   ]
  },
  {
   "cell_type": "markdown",
   "metadata": {},
   "source": [
    "## Convnets"
   ]
  },
  {
   "cell_type": "code",
   "execution_count": 15,
   "metadata": {},
   "outputs": [
    {
     "name": "stdout",
     "output_type": "stream",
     "text": [
      "=========================================================\n",
      "        Kernel Shape     Output Shape  Params Mult-Adds\n",
      "Layer                                                  \n",
      "0_0    [1, 32, 3, 3]  [1, 32, 26, 26]   320.0  194.688k\n",
      "1_1                -  [1, 32, 26, 26]       -         -\n",
      "2_2                -  [1, 32, 13, 13]       -         -\n",
      "3_3                -        [1, 5408]       -         -\n",
      "4_4       [5408, 10]          [1, 10]  54.09k    54.08k\n",
      "---------------------------------------------------------\n",
      "                        Totals\n",
      "Total params            54.41k\n",
      "Trainable params        54.41k\n",
      "Non-trainable params       0.0\n",
      "Mult-Adds             248.768k\n",
      "=========================================================\n"
     ]
    },
    {
     "name": "stderr",
     "output_type": "stream",
     "text": [
      "/Users/georgehc/opt/anaconda3/lib/python3.9/site-packages/torchsummaryX/torchsummaryX.py:101: FutureWarning: Dropping of nuisance columns in DataFrame reductions (with 'numeric_only=None') is deprecated; in a future version this will raise TypeError.  Select only valid columns before calling the reduction.\n",
      "  df_sum = df.sum()\n"
     ]
    },
    {
     "data": {
      "text/html": [
       "<div>\n",
       "<style scoped>\n",
       "    .dataframe tbody tr th:only-of-type {\n",
       "        vertical-align: middle;\n",
       "    }\n",
       "\n",
       "    .dataframe tbody tr th {\n",
       "        vertical-align: top;\n",
       "    }\n",
       "\n",
       "    .dataframe thead th {\n",
       "        text-align: right;\n",
       "    }\n",
       "</style>\n",
       "<table border=\"1\" class=\"dataframe\">\n",
       "  <thead>\n",
       "    <tr style=\"text-align: right;\">\n",
       "      <th></th>\n",
       "      <th>Kernel Shape</th>\n",
       "      <th>Output Shape</th>\n",
       "      <th>Params</th>\n",
       "      <th>Mult-Adds</th>\n",
       "    </tr>\n",
       "    <tr>\n",
       "      <th>Layer</th>\n",
       "      <th></th>\n",
       "      <th></th>\n",
       "      <th></th>\n",
       "      <th></th>\n",
       "    </tr>\n",
       "  </thead>\n",
       "  <tbody>\n",
       "    <tr>\n",
       "      <th>0_0</th>\n",
       "      <td>[1, 32, 3, 3]</td>\n",
       "      <td>[1, 32, 26, 26]</td>\n",
       "      <td>320.0</td>\n",
       "      <td>194688.0</td>\n",
       "    </tr>\n",
       "    <tr>\n",
       "      <th>1_1</th>\n",
       "      <td>-</td>\n",
       "      <td>[1, 32, 26, 26]</td>\n",
       "      <td>NaN</td>\n",
       "      <td>NaN</td>\n",
       "    </tr>\n",
       "    <tr>\n",
       "      <th>2_2</th>\n",
       "      <td>-</td>\n",
       "      <td>[1, 32, 13, 13]</td>\n",
       "      <td>NaN</td>\n",
       "      <td>NaN</td>\n",
       "    </tr>\n",
       "    <tr>\n",
       "      <th>3_3</th>\n",
       "      <td>-</td>\n",
       "      <td>[1, 5408]</td>\n",
       "      <td>NaN</td>\n",
       "      <td>NaN</td>\n",
       "    </tr>\n",
       "    <tr>\n",
       "      <th>4_4</th>\n",
       "      <td>[5408, 10]</td>\n",
       "      <td>[1, 10]</td>\n",
       "      <td>54090.0</td>\n",
       "      <td>54080.0</td>\n",
       "    </tr>\n",
       "  </tbody>\n",
       "</table>\n",
       "</div>"
      ],
      "text/plain": [
       "        Kernel Shape     Output Shape   Params  Mult-Adds\n",
       "Layer                                                    \n",
       "0_0    [1, 32, 3, 3]  [1, 32, 26, 26]    320.0   194688.0\n",
       "1_1                -  [1, 32, 26, 26]      NaN        NaN\n",
       "2_2                -  [1, 32, 13, 13]      NaN        NaN\n",
       "3_3                -        [1, 5408]      NaN        NaN\n",
       "4_4       [5408, 10]          [1, 10]  54090.0    54080.0"
      ]
     },
     "execution_count": 15,
     "metadata": {},
     "output_type": "execute_result"
    }
   ],
   "source": [
    "simple_convnet = nn.Sequential(nn.Conv2d(1, 32, 3),\n",
    "                               nn.ReLU(),\n",
    "                               nn.MaxPool2d(2),\n",
    "                               nn.Flatten(),\n",
    "                               nn.Linear(in_features=5408, out_features=10))\n",
    "summary(simple_convnet, torch.zeros((1, 1, 28, 28)))  # (batch size, num channels, height, width)"
   ]
  },
  {
   "cell_type": "code",
   "execution_count": 16,
   "metadata": {},
   "outputs": [
    {
     "name": "stdout",
     "output_type": "stream",
     "text": [
      "Epoch 1 [==================================================] 48000/48000\n",
      "  Train accuracy: 0.9540\n",
      "  Validation accuracy: 0.9507\n",
      "Epoch 2 [==================================================] 48000/48000\n",
      "  Train accuracy: 0.9722\n",
      "  Validation accuracy: 0.9683\n",
      "Epoch 3 [==================================================] 48000/48000\n",
      "  Train accuracy: 0.9797\n",
      "  Validation accuracy: 0.9758\n",
      "Epoch 4 [==================================================] 48000/48000\n",
      "  Train accuracy: 0.9847\n",
      "  Validation accuracy: 0.9802\n",
      "Epoch 5 [==================================================] 48000/48000\n",
      "  Train accuracy: 0.9872\n",
      "  Validation accuracy: 0.9816\n",
      "Epoch 6 [==================================================] 48000/48000\n",
      "  Train accuracy: 0.9880\n",
      "  Validation accuracy: 0.9816\n",
      "Epoch 7 [==================================================] 48000/48000\n",
      "  Train accuracy: 0.9896\n",
      "  Validation accuracy: 0.9822\n",
      "Epoch 8 [==================================================] 48000/48000\n",
      "  Train accuracy: 0.9911\n",
      "  Validation accuracy: 0.9828\n",
      "Epoch 9 [==================================================] 48000/48000\n",
      "  Train accuracy: 0.9921\n",
      "  Validation accuracy: 0.9825\n",
      "Epoch 10 [==================================================] 48000/48000\n",
      "  Train accuracy: 0.9918\n",
      "  Validation accuracy: 0.9822\n"
     ]
    },
    {
     "data": {
      "image/png": "[encoded data removed]",
      "text/plain": [
       "<Figure size 432x288 with 1 Axes>"
      ]
     },
     "metadata": {
      "needs_background": "light"
     },
     "output_type": "display_data"
    }
   ],
   "source": [
    "train_accuracies, val_accuracies = \\\n",
    "    UDA_pytorch_classifier_fit(simple_convnet,\n",
    "                               torch.optim.Adam(simple_convnet.parameters(),\n",
    "                                                lr=learning_rate),\n",
    "                               nn.CrossEntropyLoss(),  # includes softmax\n",
    "                               proper_train_dataset, val_dataset,\n",
    "                               num_epochs, batch_size)\n",
    "\n",
    "UDA_plot_train_val_accuracy_vs_epoch(train_accuracies, val_accuracies)"
   ]
  },
  {
   "cell_type": "code",
   "execution_count": 17,
   "metadata": {},
   "outputs": [
    {
     "name": "stdout",
     "output_type": "stream",
     "text": [
      "=========================================================\n",
      "         Kernel Shape     Output Shape  Params Mult-Adds\n",
      "Layer                                                   \n",
      "0_0     [1, 32, 3, 3]  [1, 32, 26, 26]   320.0  194.688k\n",
      "1_1                 -  [1, 32, 26, 26]       -         -\n",
      "2_2                 -  [1, 32, 13, 13]       -         -\n",
      "3_3    [32, 16, 3, 3]  [1, 16, 11, 11]  4.624k  557.568k\n",
      "4_4                 -  [1, 16, 11, 11]       -         -\n",
      "5_5                 -    [1, 16, 5, 5]       -         -\n",
      "6_6                 -         [1, 400]       -         -\n",
      "7_7         [400, 10]          [1, 10]   4.01k      4.0k\n",
      "---------------------------------------------------------\n",
      "                        Totals\n",
      "Total params            8.954k\n",
      "Trainable params        8.954k\n",
      "Non-trainable params       0.0\n",
      "Mult-Adds             756.256k\n",
      "=========================================================\n"
     ]
    },
    {
     "name": "stderr",
     "output_type": "stream",
     "text": [
      "/Users/georgehc/opt/anaconda3/lib/python3.9/site-packages/torchsummaryX/torchsummaryX.py:101: FutureWarning: Dropping of nuisance columns in DataFrame reductions (with 'numeric_only=None') is deprecated; in a future version this will raise TypeError.  Select only valid columns before calling the reduction.\n",
      "  df_sum = df.sum()\n"
     ]
    },
    {
     "data": {
      "text/html": [
       "<div>\n",
       "<style scoped>\n",
       "    .dataframe tbody tr th:only-of-type {\n",
       "        vertical-align: middle;\n",
       "    }\n",
       "\n",
       "    .dataframe tbody tr th {\n",
       "        vertical-align: top;\n",
       "    }\n",
       "\n",
       "    .dataframe thead th {\n",
       "        text-align: right;\n",
       "    }\n",
       "</style>\n",
       "<table border=\"1\" class=\"dataframe\">\n",
       "  <thead>\n",
       "    <tr style=\"text-align: right;\">\n",
       "      <th></th>\n",
       "      <th>Kernel Shape</th>\n",
       "      <th>Output Shape</th>\n",
       "      <th>Params</th>\n",
       "      <th>Mult-Adds</th>\n",
       "    </tr>\n",
       "    <tr>\n",
       "      <th>Layer</th>\n",
       "      <th></th>\n",
       "      <th></th>\n",
       "      <th></th>\n",
       "      <th></th>\n",
       "    </tr>\n",
       "  </thead>\n",
       "  <tbody>\n",
       "    <tr>\n",
       "      <th>0_0</th>\n",
       "      <td>[1, 32, 3, 3]</td>\n",
       "      <td>[1, 32, 26, 26]</td>\n",
       "      <td>320.0</td>\n",
       "      <td>194688.0</td>\n",
       "    </tr>\n",
       "    <tr>\n",
       "      <th>1_1</th>\n",
       "      <td>-</td>\n",
       "      <td>[1, 32, 26, 26]</td>\n",
       "      <td>NaN</td>\n",
       "      <td>NaN</td>\n",
       "    </tr>\n",
       "    <tr>\n",
       "      <th>2_2</th>\n",
       "      <td>-</td>\n",
       "      <td>[1, 32, 13, 13]</td>\n",
       "      <td>NaN</td>\n",
       "      <td>NaN</td>\n",
       "    </tr>\n",
       "    <tr>\n",
       "      <th>3_3</th>\n",
       "      <td>[32, 16, 3, 3]</td>\n",
       "      <td>[1, 16, 11, 11]</td>\n",
       "      <td>4624.0</td>\n",
       "      <td>557568.0</td>\n",
       "    </tr>\n",
       "    <tr>\n",
       "      <th>4_4</th>\n",
       "      <td>-</td>\n",
       "      <td>[1, 16, 11, 11]</td>\n",
       "      <td>NaN</td>\n",
       "      <td>NaN</td>\n",
       "    </tr>\n",
       "    <tr>\n",
       "      <th>5_5</th>\n",
       "      <td>-</td>\n",
       "      <td>[1, 16, 5, 5]</td>\n",
       "      <td>NaN</td>\n",
       "      <td>NaN</td>\n",
       "    </tr>\n",
       "    <tr>\n",
       "      <th>6_6</th>\n",
       "      <td>-</td>\n",
       "      <td>[1, 400]</td>\n",
       "      <td>NaN</td>\n",
       "      <td>NaN</td>\n",
       "    </tr>\n",
       "    <tr>\n",
       "      <th>7_7</th>\n",
       "      <td>[400, 10]</td>\n",
       "      <td>[1, 10]</td>\n",
       "      <td>4010.0</td>\n",
       "      <td>4000.0</td>\n",
       "    </tr>\n",
       "  </tbody>\n",
       "</table>\n",
       "</div>"
      ],
      "text/plain": [
       "         Kernel Shape     Output Shape  Params  Mult-Adds\n",
       "Layer                                                    \n",
       "0_0     [1, 32, 3, 3]  [1, 32, 26, 26]   320.0   194688.0\n",
       "1_1                 -  [1, 32, 26, 26]     NaN        NaN\n",
       "2_2                 -  [1, 32, 13, 13]     NaN        NaN\n",
       "3_3    [32, 16, 3, 3]  [1, 16, 11, 11]  4624.0   557568.0\n",
       "4_4                 -  [1, 16, 11, 11]     NaN        NaN\n",
       "5_5                 -    [1, 16, 5, 5]     NaN        NaN\n",
       "6_6                 -         [1, 400]     NaN        NaN\n",
       "7_7         [400, 10]          [1, 10]  4010.0     4000.0"
      ]
     },
     "execution_count": 17,
     "metadata": {},
     "output_type": "execute_result"
    }
   ],
   "source": [
    "deeper_convnet = nn.Sequential(nn.Conv2d(1, 32, 3),\n",
    "                               nn.ReLU(),\n",
    "                               nn.MaxPool2d(2),\n",
    "                               nn.Conv2d(32, 16, 3),\n",
    "                               nn.ReLU(),\n",
    "                               nn.MaxPool2d(2),\n",
    "                               nn.Flatten(),\n",
    "                               nn.Linear(in_features=400, out_features=10))\n",
    "summary(deeper_convnet, torch.zeros((1, 1, 28, 28)))  # (batch size, num channels, height, width)"
   ]
  },
  {
   "cell_type": "code",
   "execution_count": 18,
   "metadata": {},
   "outputs": [
    {
     "name": "stdout",
     "output_type": "stream",
     "text": [
      "Epoch 1 [==================================================] 48000/48000\n",
      "  Train accuracy: 0.9564\n",
      "  Validation accuracy: 0.9556\n",
      "Epoch 2 [==================================================] 48000/48000\n",
      "  Train accuracy: 0.9711\n",
      "  Validation accuracy: 0.9712\n",
      "Epoch 3 [==================================================] 48000/48000\n",
      "  Train accuracy: 0.9771\n",
      "  Validation accuracy: 0.9754\n",
      "Epoch 4 [==================================================] 48000/48000\n",
      "  Train accuracy: 0.9810\n",
      "  Validation accuracy: 0.9802\n",
      "Epoch 5 [==================================================] 48000/48000\n",
      "  Train accuracy: 0.9829\n",
      "  Validation accuracy: 0.9820\n",
      "Epoch 6 [==================================================] 48000/48000\n",
      "  Train accuracy: 0.9843\n",
      "  Validation accuracy: 0.9822\n",
      "Epoch 7 [==================================================] 48000/48000\n",
      "  Train accuracy: 0.9841\n",
      "  Validation accuracy: 0.9827\n",
      "Epoch 8 [==================================================] 48000/48000\n",
      "  Train accuracy: 0.9873\n",
      "  Validation accuracy: 0.9847\n",
      "Epoch 9 [==================================================] 48000/48000\n",
      "  Train accuracy: 0.9880\n",
      "  Validation accuracy: 0.9852\n",
      "Epoch 10 [==================================================] 48000/48000\n",
      "  Train accuracy: 0.9868\n",
      "  Validation accuracy: 0.9843\n"
     ]
    },
    {
     "data": {
      "image/png": "[encoded data removed]",
      "text/plain": [
       "<Figure size 432x288 with 1 Axes>"
      ]
     },
     "metadata": {
      "needs_background": "light"
     },
     "output_type": "display_data"
    }
   ],
   "source": [
    "train_accuracies, val_accuracies = \\\n",
    "    UDA_pytorch_classifier_fit(deeper_convnet,\n",
    "                               torch.optim.Adam(deeper_convnet.parameters(),\n",
    "                                                lr=learning_rate),\n",
    "                               nn.CrossEntropyLoss(),  # includes softmax\n",
    "                               proper_train_dataset, val_dataset,\n",
    "                               num_epochs, batch_size)\n",
    "\n",
    "UDA_plot_train_val_accuracy_vs_epoch(train_accuracies, val_accuracies)"
   ]
  },
  {
   "cell_type": "markdown",
   "metadata": {},
   "source": [
    "## Finally evaluate on test data"
   ]
  },
  {
   "cell_type": "code",
   "execution_count": 19,
   "metadata": {},
   "outputs": [],
   "source": [
    "test_dataset = torchvision.datasets.MNIST(root='data/',\n",
    "                                          train=False,\n",
    "                                          transform=transforms.ToTensor(),\n",
    "                                          download=True)\n",
    "test_images = torch.tensor(np.array([image.numpy() for image, label in test_dataset]))"
   ]
  },
  {
   "cell_type": "code",
   "execution_count": 20,
   "metadata": {},
   "outputs": [
    {
     "name": "stdout",
     "output_type": "stream",
     "text": [
      "Test accuracy: 0.9241\n"
     ]
    }
   ],
   "source": [
    "predicted_test_labels = UDA_pytorch_classifier_predict(simple_model, test_images)\n",
    "print('Test accuracy:', UDA_compute_accuracy(predicted_test_labels, test_dataset.targets))"
   ]
  },
  {
   "cell_type": "code",
   "execution_count": 21,
   "metadata": {},
   "outputs": [
    {
     "name": "stdout",
     "output_type": "stream",
     "text": [
      "Test accuracy: 0.9767\n"
     ]
    }
   ],
   "source": [
    "predicted_test_labels = UDA_pytorch_classifier_predict(deeper_model, test_images)\n",
    "print('Test accuracy:', UDA_compute_accuracy(predicted_test_labels, test_dataset.targets))"
   ]
  },
  {
   "cell_type": "code",
   "execution_count": 22,
   "metadata": {},
   "outputs": [
    {
     "name": "stdout",
     "output_type": "stream",
     "text": [
      "Test accuracy: 0.9816\n"
     ]
    }
   ],
   "source": [
    "predicted_test_labels = UDA_pytorch_classifier_predict(simple_convnet, test_images)\n",
    "print('Test accuracy:', UDA_compute_accuracy(predicted_test_labels, test_dataset.targets))"
   ]
  },
  {
   "cell_type": "code",
   "execution_count": 23,
   "metadata": {},
   "outputs": [
    {
     "name": "stdout",
     "output_type": "stream",
     "text": [
      "Test accuracy: 0.9838\n"
     ]
    }
   ],
   "source": [
    "predicted_test_labels = UDA_pytorch_classifier_predict(deeper_convnet, test_images)\n",
    "print('Test accuracy:', UDA_compute_accuracy(predicted_test_labels, test_dataset.targets))"
   ]
  }
 ],
 "metadata": {
  "kernelspec": {
   "display_name": "Python 3 (ipykernel)",
   "language": "python",
   "name": "python3"
  },
  "language_info": {
   "codemirror_mode": {
    "name": "ipython",
    "version": 3
   },
   "file_extension": ".py",
   "mimetype": "text/x-python",
   "name": "python",
   "nbconvert_exporter": "python",
   "pygments_lexer": "ipython3",
   "version": "3.9.7"
  }
 },
 "nbformat": 4,
 "nbformat_minor": 2
}