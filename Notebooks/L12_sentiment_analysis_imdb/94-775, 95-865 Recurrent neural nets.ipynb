{
 "cells": [
  {
   "cell_type": "markdown",
   "metadata": {},
   "source": [
    "# 94-775/95-865: Sentiment Analysis with IMDb Reviews\n",
    "\n",
    "Author: George H. Chen (georgechen [at symbol] cmu.edu)\n",
    "\n",
    "This demo shows how to train an LSTM model for sentiment analysis with IMDB reviews. This is a binary classification task: for each review, we classify it as having positive or negative sentiment."
   ]
  },
  {
   "cell_type": "code",
   "execution_count": 1,
   "metadata": {},
   "outputs": [],
   "source": [
    "%matplotlib inline\n",
    "import matplotlib.pyplot as plt\n",
    "import numpy as np\n",
    "import random\n",
    "\n",
    "# the next two lines are needed on my Intel-based MacBook Air to get the code to run; you likely don't need these two lines...\n",
    "# (in fact I used to not need these two lines)\n",
    "import os\n",
    "os.environ['KMP_DUPLICATE_LIB_OK'] = 'True'\n",
    "\n",
    "import torch\n",
    "torch.use_deterministic_algorithms(True)\n",
    "torch.backends.cudnn.benchmark = False\n",
    "import torch.nn as nn\n",
    "from torchsummaryX import summary\n",
    "\n",
    "from UDA_pytorch_utils import UDA_LSTMforSequential, UDA_pytorch_classifier_fit, \\\n",
    "    UDA_plot_train_val_accuracy_vs_epoch, UDA_pytorch_classifier_predict, \\\n",
    "    UDA_compute_accuracy\n",
    "\n",
    "np.random.seed(0)\n",
    "torch.manual_seed(0)\n",
    "random.seed(0)"
   ]
  },
  {
   "cell_type": "markdown",
   "metadata": {},
   "source": [
    "## Load the dataset"
   ]
  },
  {
   "cell_type": "code",
   "execution_count": 2,
   "metadata": {},
   "outputs": [
    {
     "data": {
      "text/plain": [
       "<torch._C.Generator at 0x7fcf16b70d70>"
      ]
     },
     "execution_count": 2,
     "metadata": {},
     "output_type": "execute_result"
    }
   ],
   "source": [
    "from torchnlp.datasets import imdb_dataset\n",
    "torch.manual_seed(0)"
   ]
  },
  {
   "cell_type": "code",
   "execution_count": 3,
   "metadata": {},
   "outputs": [],
   "source": [
    "train_dataset = imdb_dataset(train=True)"
   ]
  },
  {
   "cell_type": "code",
   "execution_count": 4,
   "metadata": {},
   "outputs": [
    {
     "data": {
      "text/plain": [
       "25000"
      ]
     },
     "execution_count": 4,
     "metadata": {},
     "output_type": "execute_result"
    }
   ],
   "source": [
    "len(train_dataset)"
   ]
  },
  {
   "cell_type": "code",
   "execution_count": 5,
   "metadata": {},
   "outputs": [],
   "source": [
    "proper_train_size = int(len(train_dataset) * 0.8)\n",
    "val_size = len(train_dataset) - proper_train_size"
   ]
  },
  {
   "cell_type": "code",
   "execution_count": 6,
   "metadata": {},
   "outputs": [],
   "source": [
    "proper_train_dataset, val_dataset = torch.utils.data.random_split(train_dataset,\n",
    "                                                                  [proper_train_size,\n",
    "                                                                   val_size])"
   ]
  },
  {
   "cell_type": "code",
   "execution_count": 7,
   "metadata": {},
   "outputs": [
    {
     "data": {
      "text/plain": [
       "{'text': '\"Heartland\" is a wonderful depiction of what it was really like to live on the frontier. The hard work and individual strength that were needed to survive the hardships of the climate and the lack of medical care are blended with the camaraderie and the interdependence of the settlers. The drama was especially meaningful because the story is based on the diaries of real people whose descendants still live there. It was also nice to see the west inhabited by real people. No one was glamorous or looked as if they had just spent a session with the makeup or costume department. Conchatta Ferrell is just wonderful. She is an example of the strong, persevering people who came to Wyoming in the early 20th century and let no hardship stand in their way of a new life in a new land.',\n",
       " 'sentiment': 'pos'}"
      ]
     },
     "execution_count": 7,
     "metadata": {},
     "output_type": "execute_result"
    }
   ],
   "source": [
    "proper_train_dataset[1]"
   ]
  },
  {
   "cell_type": "code",
   "execution_count": 8,
   "metadata": {},
   "outputs": [],
   "source": [
    "from torchnlp.encoders.text import SpacyEncoder"
   ]
  },
  {
   "cell_type": "code",
   "execution_count": 9,
   "metadata": {
    "scrolled": false
   },
   "outputs": [],
   "source": [
    "encoder = SpacyEncoder([data['text'] for data in proper_train_dataset])"
   ]
  },
  {
   "cell_type": "code",
   "execution_count": 10,
   "metadata": {},
   "outputs": [],
   "source": [
    "proper_train_encoded = [encoder.encode(data['text']) for data in proper_train_dataset]"
   ]
  },
  {
   "cell_type": "code",
   "execution_count": 11,
   "metadata": {},
   "outputs": [
    {
     "data": {
      "text/plain": [
       "tensor([  5, 266,   5,  50,  14, 267, 268,  37,  22,  87,  88,  70, 269,  23,\n",
       "        270,  33,  47, 271,  16,   6, 272, 273,  31, 274, 275, 109, 276, 277,\n",
       "         23, 278,  47, 279,  37,  47, 280,  31,  47, 281,  37, 282, 283, 284,\n",
       "        285,  85,  47, 286,  31,  47, 287,  37,  47, 288,  16,   6, 289,  88,\n",
       "        290, 291, 130,  47, 292,  50,  32,  33,  47, 293,  37, 294, 295, 210,\n",
       "        296, 297, 270, 206,  16, 298,  88, 299, 300,  23, 301,  47, 302, 303,\n",
       "         27, 294, 295,  16, 304,  36,  88, 305, 306, 307,  13, 308, 185,  18,\n",
       "        309, 310,  14, 311,  85,  47, 312, 306, 313, 314,  16, 315, 316,  50,\n",
       "        309, 267,  16, 232,  50,  98, 317,  37,  47, 134,  30, 318, 295, 132,\n",
       "         11,  23, 319,  12,  47, 320, 321, 322,  31, 323,  19, 324, 325,  12,\n",
       "        223, 181,  37,  14, 326,  67,  12,  14, 326, 327,  16])"
      ]
     },
     "execution_count": 11,
     "metadata": {},
     "output_type": "execute_result"
    }
   ],
   "source": [
    "proper_train_encoded[1]"
   ]
  },
  {
   "cell_type": "code",
   "execution_count": 12,
   "metadata": {},
   "outputs": [
    {
     "name": "stdout",
     "output_type": "stream",
     "text": [
      "['\"', 'Heartland', '\"', 'is', 'a', 'wonderful', 'depiction', 'of', 'what', 'it', 'was', 'really', 'like', 'to', 'live', 'on', 'the', 'frontier', '.', 'The', 'hard', 'work', 'and', 'individual', 'strength', 'that', 'were', 'needed', 'to', 'survive', 'the', 'hardships', 'of', 'the', 'climate', 'and', 'the', 'lack', 'of', 'medical', 'care', 'are', 'blended', 'with', 'the', 'camaraderie', 'and', 'the', 'interdependence', 'of', 'the', 'settlers', '.', 'The', 'drama', 'was', 'especially', 'meaningful', 'because', 'the', 'story', 'is', 'based', 'on', 'the', 'diaries', 'of', 'real', 'people', 'whose', 'descendants', 'still', 'live', 'there', '.', 'It', 'was', 'also', 'nice', 'to', 'see', 'the', 'west', 'inhabited', 'by', 'real', 'people', '.', 'No', 'one', 'was', 'glamorous', 'or', 'looked', 'as', 'if', 'they', 'had', 'just', 'spent', 'a', 'session', 'with', 'the', 'makeup', 'or', 'costume', 'department', '.', 'Conchatta', 'Ferrell', 'is', 'just', 'wonderful', '.', 'She', 'is', 'an', 'example', 'of', 'the', 'strong', ',', 'persevering', 'people', 'who', 'came', 'to', 'Wyoming', 'in', 'the', 'early', '20th', 'century', 'and', 'let', 'no', 'hardship', 'stand', 'in', 'their', 'way', 'of', 'a', 'new', 'life', 'in', 'a', 'new', 'land', '.']\n"
     ]
    }
   ],
   "source": [
    "print([encoder.vocab[word_idx] for word_idx in proper_train_encoded[1]])"
   ]
  },
  {
   "cell_type": "code",
   "execution_count": 13,
   "metadata": {},
   "outputs": [],
   "source": [
    "proper_train_labels = torch.tensor([int(data['sentiment'] == 'pos')\n",
    "                                    for data in proper_train_dataset])"
   ]
  },
  {
   "cell_type": "code",
   "execution_count": 14,
   "metadata": {},
   "outputs": [],
   "source": [
    "val_encoded = [encoder.encode(data['text']) for data in val_dataset]"
   ]
  },
  {
   "cell_type": "code",
   "execution_count": 15,
   "metadata": {},
   "outputs": [],
   "source": [
    "val_labels = torch.tensor([int(data['sentiment'] == 'pos') for data in val_dataset])"
   ]
  },
  {
   "cell_type": "code",
   "execution_count": 16,
   "metadata": {},
   "outputs": [],
   "source": [
    "proper_train_dataset_encoded = list(zip(proper_train_encoded, proper_train_labels))\n",
    "val_dataset_encoded = list(zip(val_encoded, val_labels))"
   ]
  },
  {
   "cell_type": "markdown",
   "metadata": {},
   "source": [
    "## Setting up a recurrent neural net for sentiment analysis that uses pre-trained word embeddings"
   ]
  },
  {
   "cell_type": "markdown",
   "metadata": {},
   "source": [
    "We first load in pre-trained GloVe embeddings only for tokens that we encountered in the proper training data."
   ]
  },
  {
   "cell_type": "code",
   "execution_count": 17,
   "metadata": {},
   "outputs": [],
   "source": [
    "from torchnlp.word_to_vector import GloVe\n",
    "pretrained_embedding = GloVe(name='6B', dim=100)"
   ]
  },
  {
   "cell_type": "code",
   "execution_count": 18,
   "metadata": {},
   "outputs": [
    {
     "data": {
      "text/plain": [
       "torchnlp.word_to_vector.glove.GloVe"
      ]
     },
     "execution_count": 18,
     "metadata": {},
     "output_type": "execute_result"
    }
   ],
   "source": [
    "type(pretrained_embedding)"
   ]
  },
  {
   "cell_type": "code",
   "execution_count": 19,
   "metadata": {},
   "outputs": [
    {
     "data": {
      "text/plain": [
       "tensor([ 0.2309,  0.2828,  0.6318, -0.5941, -0.5860,  0.6326,  0.2440, -0.1411,\n",
       "         0.0608, -0.7898, -0.2910,  0.1429,  0.7227,  0.2043,  0.1407,  0.9876,\n",
       "         0.5253,  0.0975,  0.8822,  0.5122,  0.4020,  0.2117, -0.0131, -0.7162,\n",
       "         0.5539,  1.1452, -0.8804, -0.5022, -0.2281,  0.0239,  0.1072,  0.0837,\n",
       "         0.5501,  0.5848,  0.7582,  0.4571, -0.2800,  0.2522,  0.6896, -0.6097,\n",
       "         0.1958,  0.0442, -0.3114, -0.6883, -0.2272,  0.4618, -0.7716,  0.1021,\n",
       "         0.5564,  0.0674, -0.5721,  0.2374,  0.4717,  0.8277, -0.2926, -1.3422,\n",
       "        -0.0993,  0.2814,  0.4160,  0.1058,  0.6220,  0.8950, -0.2345,  0.5135,\n",
       "         0.9938,  1.1846, -0.1636,  0.2065,  0.7385,  0.2406, -0.9647,  0.1348,\n",
       "        -0.0072,  0.3302, -0.1236,  0.2719, -0.4095,  0.0219, -0.6069,  0.4076,\n",
       "         0.1957, -0.4180,  0.1864, -0.0327, -0.7857, -0.1385,  0.0440, -0.0844,\n",
       "         0.0491,  0.2410,  0.4527, -0.1868,  0.4618,  0.0891, -0.1819, -0.0152,\n",
       "        -0.7368, -0.1453,  0.1510, -0.7149])"
      ]
     },
     "execution_count": 19,
     "metadata": {},
     "output_type": "execute_result"
    }
   ],
   "source": [
    "pretrained_embedding['cat']"
   ]
  },
  {
   "cell_type": "code",
   "execution_count": 20,
   "metadata": {},
   "outputs": [],
   "source": [
    "embedding_weights = torch.empty(encoder.vocab_size, pretrained_embedding.dim)\n",
    "for i, token in enumerate(encoder.vocab):\n",
    "    embedding_weights[i] = pretrained_embedding[token]"
   ]
  },
  {
   "cell_type": "code",
   "execution_count": 21,
   "metadata": {},
   "outputs": [],
   "source": [
    "simple_lstm_model = nn.Sequential(nn.Embedding.from_pretrained(embedding_weights),\n",
    "                                  UDA_LSTMforSequential(100, 64),\n",
    "                                  nn.Linear(64, 2))"
   ]
  },
  {
   "cell_type": "code",
   "execution_count": 22,
   "metadata": {},
   "outputs": [
    {
     "name": "stdout",
     "output_type": "stream",
     "text": [
      "==============================================================\n",
      "                 Kernel Shape Output Shape   Params Mult-Adds\n",
      "Layer                                                        \n",
      "0_0             [100, 108380]  [1, 5, 100]        -         -\n",
      "1_1.LSTM_model              -   [1, 5, 64]  42.496k   41.984k\n",
      "2_2                   [64, 2]       [1, 2]    130.0     128.0\n",
      "--------------------------------------------------------------\n",
      "                          Totals\n",
      "Total params          10.880626M\n",
      "Trainable params         42.626k\n",
      "Non-trainable params     10.838M\n",
      "Mult-Adds                42.112k\n",
      "==============================================================\n"
     ]
    },
    {
     "name": "stderr",
     "output_type": "stream",
     "text": [
      "/Users/georgehc/opt/anaconda3/lib/python3.9/site-packages/torchsummaryX/torchsummaryX.py:101: FutureWarning: Dropping of nuisance columns in DataFrame reductions (with 'numeric_only=None') is deprecated; in a future version this will raise TypeError.  Select only valid columns before calling the reduction.\n",
      "  df_sum = df.sum()\n"
     ]
    },
    {
     "data": {
      "text/html": [
       "<div>\n",
       "<style scoped>\n",
       "    .dataframe tbody tr th:only-of-type {\n",
       "        vertical-align: middle;\n",
       "    }\n",
       "\n",
       "    .dataframe tbody tr th {\n",
       "        vertical-align: top;\n",
       "    }\n",
       "\n",
       "    .dataframe thead th {\n",
       "        text-align: right;\n",
       "    }\n",
       "</style>\n",
       "<table border=\"1\" class=\"dataframe\">\n",
       "  <thead>\n",
       "    <tr style=\"text-align: right;\">\n",
       "      <th></th>\n",
       "      <th>Kernel Shape</th>\n",
       "      <th>Output Shape</th>\n",
       "      <th>Params</th>\n",
       "      <th>Mult-Adds</th>\n",
       "    </tr>\n",
       "    <tr>\n",
       "      <th>Layer</th>\n",
       "      <th></th>\n",
       "      <th></th>\n",
       "      <th></th>\n",
       "      <th></th>\n",
       "    </tr>\n",
       "  </thead>\n",
       "  <tbody>\n",
       "    <tr>\n",
       "      <th>0_0</th>\n",
       "      <td>[100, 108380]</td>\n",
       "      <td>[1, 5, 100]</td>\n",
       "      <td>NaN</td>\n",
       "      <td>NaN</td>\n",
       "    </tr>\n",
       "    <tr>\n",
       "      <th>1_1.LSTM_model</th>\n",
       "      <td>-</td>\n",
       "      <td>[1, 5, 64]</td>\n",
       "      <td>42496.0</td>\n",
       "      <td>41984.0</td>\n",
       "    </tr>\n",
       "    <tr>\n",
       "      <th>2_2</th>\n",
       "      <td>[64, 2]</td>\n",
       "      <td>[1, 2]</td>\n",
       "      <td>130.0</td>\n",
       "      <td>128.0</td>\n",
       "    </tr>\n",
       "  </tbody>\n",
       "</table>\n",
       "</div>"
      ],
      "text/plain": [
       "                 Kernel Shape Output Shape   Params  Mult-Adds\n",
       "Layer                                                         \n",
       "0_0             [100, 108380]  [1, 5, 100]      NaN        NaN\n",
       "1_1.LSTM_model              -   [1, 5, 64]  42496.0    41984.0\n",
       "2_2                   [64, 2]       [1, 2]    130.0      128.0"
      ]
     },
     "execution_count": 22,
     "metadata": {},
     "output_type": "execute_result"
    }
   ],
   "source": [
    "summary(simple_lstm_model, torch.zeros((1, 5), dtype=torch.long))"
   ]
  },
  {
   "cell_type": "code",
   "execution_count": 23,
   "metadata": {},
   "outputs": [],
   "source": [
    "os.makedirs('./saved_model_checkpoints', exist_ok=True)"
   ]
  },
  {
   "cell_type": "code",
   "execution_count": 24,
   "metadata": {},
   "outputs": [
    {
     "name": "stdout",
     "output_type": "stream",
     "text": [
      "Epoch 1 [==================================================] 20000/20000\n",
      "  Train accuracy: 0.7994\n",
      "  Validation accuracy: 0.7858\n",
      "Epoch 2 [==================================================] 20000/20000\n",
      "  Train accuracy: 0.8462\n",
      "  Validation accuracy: 0.8366\n",
      "Epoch 3 [==================================================] 20000/20000\n",
      "  Train accuracy: 0.7997\n",
      "  Validation accuracy: 0.8016\n",
      "Epoch 4 [==================================================] 20000/20000\n",
      "  Train accuracy: 0.8569\n",
      "  Validation accuracy: 0.8384\n",
      "Epoch 5 [==================================================] 20000/20000\n",
      "  Train accuracy: 0.8820\n",
      "  Validation accuracy: 0.8564\n",
      "Epoch 6 [==================================================] 20000/20000\n",
      "  Train accuracy: 0.8926\n",
      "  Validation accuracy: 0.8630\n",
      "Epoch 7 [==================================================] 20000/20000\n",
      "  Train accuracy: 0.9039\n",
      "  Validation accuracy: 0.8660\n",
      "Epoch 8 [==================================================] 20000/20000\n",
      "  Train accuracy: 0.9005\n",
      "  Validation accuracy: 0.8550\n",
      "Epoch 9 [==================================================] 20000/20000\n",
      "  Train accuracy: 0.9098\n",
      "  Validation accuracy: 0.8620\n",
      "Epoch 10 [==================================================] 20000/20000\n",
      "  Train accuracy: 0.9137\n",
      "  Validation accuracy: 0.8582\n",
      "Epoch 11 [==================================================] 20000/20000\n",
      "  Train accuracy: 0.9261\n",
      "  Validation accuracy: 0.8642\n",
      "Epoch 12 [==================================================] 20000/20000\n",
      "  Train accuracy: 0.8894\n",
      "  Validation accuracy: 0.8336\n",
      "Epoch 13 [==================================================] 20000/20000\n",
      "  Train accuracy: 0.8931\n",
      "  Validation accuracy: 0.8348\n",
      "Epoch 14 [==================================================] 20000/20000\n",
      "  Train accuracy: 0.9063\n",
      "  Validation accuracy: 0.8432\n",
      "Epoch 15 [==================================================] 20000/20000\n",
      "  Train accuracy: 0.9162\n",
      "  Validation accuracy: 0.8394\n",
      "Epoch 16 [==================================================] 20000/20000\n",
      "  Train accuracy: 0.9360\n",
      "  Validation accuracy: 0.8518\n",
      "Epoch 17 [==================================================] 20000/20000\n",
      "  Train accuracy: 0.9447\n",
      "  Validation accuracy: 0.8512\n",
      "Epoch 18 [==================================================] 20000/20000\n",
      "  Train accuracy: 0.9563\n",
      "  Validation accuracy: 0.8556\n",
      "Epoch 19 [==================================================] 20000/20000\n",
      "  Train accuracy: 0.9465\n",
      "  Validation accuracy: 0.8524\n",
      "Epoch 20 [==================================================] 20000/20000\n",
      "  Train accuracy: 0.9460\n",
      "  Validation accuracy: 0.8528\n",
      "Epoch 21 [==================================================] 20000/20000\n",
      "  Train accuracy: 0.9439\n",
      "  Validation accuracy: 0.8560\n",
      "Epoch 22 [==================================================] 20000/20000\n",
      "  Train accuracy: 0.9558\n",
      "  Validation accuracy: 0.8544\n",
      "Epoch 23 [==================================================] 20000/20000\n",
      "  Train accuracy: 0.9454\n",
      "  Validation accuracy: 0.8510\n",
      "Epoch 24 [==================================================] 20000/20000\n",
      "  Train accuracy: 0.9471\n",
      "  Validation accuracy: 0.8504\n",
      "Epoch 25 [==================================================] 20000/20000\n",
      "  Train accuracy: 0.9476\n",
      "  Validation accuracy: 0.8556\n",
      "Epoch 26 [==================================================] 20000/20000\n",
      "  Train accuracy: 0.9560\n",
      "  Validation accuracy: 0.8582\n",
      "Epoch 27 [==================================================] 20000/20000\n",
      "  Train accuracy: 0.9398\n",
      "  Validation accuracy: 0.8472\n",
      "Epoch 28 [==================================================] 20000/20000\n",
      "  Train accuracy: 0.9518\n",
      "  Validation accuracy: 0.8534\n",
      "Epoch 29 [==================================================] 20000/20000\n",
      "  Train accuracy: 0.9387\n",
      "  Validation accuracy: 0.8464\n",
      "Epoch 30 [==================================================] 20000/20000\n",
      "  Train accuracy: 0.9544\n",
      "  Validation accuracy: 0.8534\n",
      "Epoch 31 [==================================================] 20000/20000\n",
      "  Train accuracy: 0.9574\n",
      "  Validation accuracy: 0.8554\n",
      "Epoch 32 [==================================================] 20000/20000\n",
      "  Train accuracy: 0.9596\n",
      "  Validation accuracy: 0.8554\n",
      "Epoch 33 [==================================================] 20000/20000\n",
      "  Train accuracy: 0.9542\n",
      "  Validation accuracy: 0.8578\n",
      "Epoch 34 [==================================================] 20000/20000\n",
      "  Train accuracy: 0.9518\n",
      "  Validation accuracy: 0.8508\n",
      "Epoch 35 [==================================================] 20000/20000\n",
      "  Train accuracy: 0.8696\n",
      "  Validation accuracy: 0.8272\n",
      "Epoch 36 [==================================================] 20000/20000\n",
      "  Train accuracy: 0.8936\n",
      "  Validation accuracy: 0.8430\n",
      "Epoch 37 [==================================================] 20000/20000\n",
      "  Train accuracy: 0.9093\n",
      "  Validation accuracy: 0.8476\n",
      "Epoch 38 [==================================================] 20000/20000\n",
      "  Train accuracy: 0.9222\n",
      "  Validation accuracy: 0.8458\n",
      "Epoch 39 [==================================================] 20000/20000\n",
      "  Train accuracy: 0.9295\n",
      "  Validation accuracy: 0.8476\n",
      "Epoch 40 [==================================================] 20000/20000\n",
      "  Train accuracy: 0.9372\n",
      "  Validation accuracy: 0.8506\n",
      "Epoch 41 [==================================================] 20000/20000\n",
      "  Train accuracy: 0.7367\n",
      "  Validation accuracy: 0.6810\n",
      "Epoch 42 [==================================================] 20000/20000\n",
      "  Train accuracy: 0.9170\n",
      "  Validation accuracy: 0.8328\n",
      "Epoch 43 [==================================================] 20000/20000\n",
      "  Train accuracy: 0.9456\n",
      "  Validation accuracy: 0.8470\n",
      "Epoch 44 [==================================================] 20000/20000\n",
      "  Train accuracy: 0.9530\n",
      "  Validation accuracy: 0.8470\n",
      "Epoch 45 [==================================================] 20000/20000\n",
      "  Train accuracy: 0.9407\n",
      "  Validation accuracy: 0.8384\n",
      "Epoch 46 [==================================================] 20000/20000\n",
      "  Train accuracy: 0.9494\n",
      "  Validation accuracy: 0.8460\n",
      "Epoch 47 [==================================================] 20000/20000\n",
      "  Train accuracy: 0.9429\n",
      "  Validation accuracy: 0.8482\n",
      "Epoch 48 [==================================================] 20000/20000\n",
      "  Train accuracy: 0.9415\n",
      "  Validation accuracy: 0.8514\n",
      "Epoch 49 [==================================================] 20000/20000\n",
      "  Train accuracy: 0.9518\n",
      "  Validation accuracy: 0.8520\n",
      "Epoch 50 [==================================================] 20000/20000\n",
      "  Train accuracy: 0.9278\n",
      "  Validation accuracy: 0.8412\n",
      "Epoch 51 [==================================================] 20000/20000\n",
      "  Train accuracy: 0.9590\n",
      "  Validation accuracy: 0.8518\n",
      "Epoch 52 [==================================================] 20000/20000\n",
      "  Train accuracy: 0.9423\n",
      "  Validation accuracy: 0.8502\n",
      "Epoch 53 [==================================================] 20000/20000\n",
      "  Train accuracy: 0.9519\n",
      "  Validation accuracy: 0.8460\n",
      "Epoch 54 [==================================================] 20000/20000\n",
      "  Train accuracy: 0.9586\n",
      "  Validation accuracy: 0.8506\n",
      "Epoch 55 [==================================================] 20000/20000\n",
      "  Train accuracy: 0.9563\n",
      "  Validation accuracy: 0.8520\n",
      "Epoch 56 [==================================================] 20000/20000\n",
      "  Train accuracy: 0.9650\n",
      "  Validation accuracy: 0.8550\n",
      "Epoch 57 [==================================================] 20000/20000\n",
      "  Train accuracy: 0.8292\n",
      "  Validation accuracy: 0.8032\n",
      "Epoch 58 [==================================================] 20000/20000\n",
      "  Train accuracy: 0.8671\n",
      "  Validation accuracy: 0.8268\n",
      "Epoch 59 [==================================================] 20000/20000\n",
      "  Train accuracy: 0.8833\n",
      "  Validation accuracy: 0.8384\n",
      "Epoch 60 [==================================================] 20000/20000\n",
      "  Train accuracy: 0.8973\n",
      "  Validation accuracy: 0.8440\n",
      "Epoch 61 [==================================================] 20000/20000\n",
      "  Train accuracy: 0.9096\n",
      "  Validation accuracy: 0.8456\n",
      "Epoch 62 [==================================================] 20000/20000\n",
      "  Train accuracy: 0.9206\n",
      "  Validation accuracy: 0.8430\n",
      "Epoch 63 [==================================================] 20000/20000\n",
      "  Train accuracy: 0.5366\n",
      "  Validation accuracy: 0.5450\n",
      "Epoch 64 [==================================================] 20000/20000\n",
      "  Train accuracy: 0.5177\n"
     ]
    },
    {
     "name": "stdout",
     "output_type": "stream",
     "text": [
      "  Validation accuracy: 0.5242\n",
      "Epoch 65 [==================================================] 20000/20000\n",
      "  Train accuracy: 0.7853\n",
      "  Validation accuracy: 0.7740\n",
      "Epoch 66 [==================================================] 20000/20000\n",
      "  Train accuracy: 0.7916\n",
      "  Validation accuracy: 0.7798\n",
      "Epoch 67 [==================================================] 20000/20000\n",
      "  Train accuracy: 0.6038\n",
      "  Validation accuracy: 0.6058\n",
      "Epoch 68 [==================================================] 20000/20000\n",
      "  Train accuracy: 0.6278\n",
      "  Validation accuracy: 0.6210\n",
      "Epoch 69 [==================================================] 20000/20000\n",
      "  Train accuracy: 0.6282\n",
      "  Validation accuracy: 0.6226\n",
      "Epoch 70 [==================================================] 20000/20000\n",
      "  Train accuracy: 0.6432\n",
      "  Validation accuracy: 0.6380\n",
      "Epoch 71 [==================================================] 20000/20000\n",
      "  Train accuracy: 0.6517\n",
      "  Validation accuracy: 0.6454\n",
      "Epoch 72 [==================================================] 20000/20000\n",
      "  Train accuracy: 0.6606\n",
      "  Validation accuracy: 0.6588\n",
      "Epoch 73 [==================================================] 20000/20000\n",
      "  Train accuracy: 0.6853\n",
      "  Validation accuracy: 0.6814\n",
      "Epoch 74 [==================================================] 20000/20000\n",
      "  Train accuracy: 0.6931\n",
      "  Validation accuracy: 0.6976\n",
      "Epoch 75 [==================================================] 20000/20000\n",
      "  Train accuracy: 0.6648\n",
      "  Validation accuracy: 0.6676\n",
      "Epoch 76 [==================================================] 20000/20000\n",
      "  Train accuracy: 0.6708\n",
      "  Validation accuracy: 0.6724\n",
      "Epoch 77 [==================================================] 20000/20000\n",
      "  Train accuracy: 0.6723\n",
      "  Validation accuracy: 0.6748\n",
      "Epoch 78 [==================================================] 20000/20000\n",
      "  Train accuracy: 0.6737\n",
      "  Validation accuracy: 0.6738\n",
      "Epoch 79 [==================================================] 20000/20000\n",
      "  Train accuracy: 0.6773\n",
      "  Validation accuracy: 0.6782\n",
      "Epoch 80 [==================================================] 20000/20000\n",
      "  Train accuracy: 0.7423\n",
      "  Validation accuracy: 0.7400\n",
      "Epoch 81 [==================================================] 20000/20000\n",
      "  Train accuracy: 0.6243\n",
      "  Validation accuracy: 0.6248\n",
      "Epoch 82 [==================================================] 20000/20000\n",
      "  Train accuracy: 0.5303\n",
      "  Validation accuracy: 0.5370\n",
      "Epoch 83 [==================================================] 20000/20000\n",
      "  Train accuracy: 0.5298\n",
      "  Validation accuracy: 0.5356\n",
      "Epoch 84 [==================================================] 20000/20000\n",
      "  Train accuracy: 0.5288\n",
      "  Validation accuracy: 0.5366\n",
      "Epoch 85 [==================================================] 20000/20000\n",
      "  Train accuracy: 0.5293\n",
      "  Validation accuracy: 0.5364\n",
      "Epoch 86 [==================================================] 20000/20000\n",
      "  Train accuracy: 0.5314\n",
      "  Validation accuracy: 0.5394\n",
      "Epoch 87 [==================================================] 20000/20000\n",
      "  Train accuracy: 0.5382\n",
      "  Validation accuracy: 0.5454\n",
      "Epoch 88 [==================================================] 20000/20000\n",
      "  Train accuracy: 0.5468\n",
      "  Validation accuracy: 0.5506\n",
      "Epoch 89 [==================================================] 20000/20000\n",
      "  Train accuracy: 0.5592\n",
      "  Validation accuracy: 0.5622\n",
      "Epoch 90 [==================================================] 20000/20000\n",
      "  Train accuracy: 0.6414\n",
      "  Validation accuracy: 0.6362\n",
      "Epoch 91 [==================================================] 20000/20000\n",
      "  Train accuracy: 0.7195\n",
      "  Validation accuracy: 0.7050\n",
      "Epoch 92 [==================================================] 20000/20000\n",
      "  Train accuracy: 0.8198\n",
      "  Validation accuracy: 0.8044\n",
      "Epoch 93 [==================================================] 20000/20000\n",
      "  Train accuracy: 0.8312\n",
      "  Validation accuracy: 0.8178\n",
      "Epoch 94 [==================================================] 20000/20000\n",
      "  Train accuracy: 0.8362\n",
      "  Validation accuracy: 0.8210\n",
      "Epoch 95 [==================================================] 20000/20000\n",
      "  Train accuracy: 0.8367\n",
      "  Validation accuracy: 0.8166\n",
      "Epoch 96 [==================================================] 20000/20000\n",
      "  Train accuracy: 0.8436\n",
      "  Validation accuracy: 0.8236\n",
      "Epoch 97 [==================================================] 20000/20000\n",
      "  Train accuracy: 0.8465\n",
      "  Validation accuracy: 0.8202\n",
      "Epoch 98 [==================================================] 20000/20000\n",
      "  Train accuracy: 0.8445\n",
      "  Validation accuracy: 0.8180\n",
      "Epoch 99 [==================================================] 20000/20000\n",
      "  Train accuracy: 0.8377\n",
      "  Validation accuracy: 0.8192\n",
      "Epoch 100 [==================================================] 20000/20000\n",
      "  Train accuracy: 0.8393\n",
      "  Validation accuracy: 0.8182\n"
     ]
    },
    {
     "data": {
      "image/png": "[encoded data removed]",
      "text/plain": [
       "<Figure size 432x288 with 1 Axes>"
      ]
     },
     "metadata": {
      "needs_background": "light"
     },
     "output_type": "display_data"
    }
   ],
   "source": [
    "num_epochs = 100  # during optimization, how many times we look at training data\n",
    "batch_size = 64  # during optimization, how many training data to use at each step\n",
    "learning_rate = 0.005  # during optimization, how much we nudge our solution at each step\n",
    "\n",
    "train_accuracies, val_accuracies = \\\n",
    "    UDA_pytorch_classifier_fit(simple_lstm_model,\n",
    "                               torch.optim.Adam(simple_lstm_model.parameters(),\n",
    "                                                lr=learning_rate),\n",
    "                               nn.CrossEntropyLoss(),  # includes softmax\n",
    "                               proper_train_dataset_encoded, val_dataset_encoded,\n",
    "                               num_epochs, batch_size,\n",
    "                               sequence=True,\n",
    "                               save_epoch_checkpoint_prefix='./saved_model_checkpoints/imdb_lstm')\n",
    "\n",
    "UDA_plot_train_val_accuracy_vs_epoch(train_accuracies, val_accuracies)"
   ]
  },
  {
   "cell_type": "code",
   "execution_count": 25,
   "metadata": {},
   "outputs": [
    {
     "name": "stdout",
     "output_type": "stream",
     "text": [
      "The model at the end of epoch 7 achieved the highest validation accuracy: 0.866000\n"
     ]
    },
    {
     "data": {
      "text/plain": [
       "<All keys matched successfully>"
      ]
     },
     "execution_count": 25,
     "metadata": {},
     "output_type": "execute_result"
    }
   ],
   "source": [
    "best_epoch_idx = np.argmax(val_accuracies)\n",
    "print('The model at the end of epoch %d achieved the highest validation accuracy: %f'\n",
    "      % (best_epoch_idx + 1, val_accuracies[best_epoch_idx]))\n",
    "simple_lstm_model.load_state_dict(torch.load('./saved_model_checkpoints/imdb_lstm_epoch%d.pt' % (best_epoch_idx + 1)))"
   ]
  },
  {
   "cell_type": "markdown",
   "metadata": {},
   "source": [
    "## Finally evaluate on test data"
   ]
  },
  {
   "cell_type": "code",
   "execution_count": 26,
   "metadata": {},
   "outputs": [],
   "source": [
    "test_dataset = imdb_dataset(train=False, test=True)"
   ]
  },
  {
   "cell_type": "code",
   "execution_count": 27,
   "metadata": {},
   "outputs": [],
   "source": [
    "test_encoded = [encoder.encode(data['text']) for data in test_dataset]"
   ]
  },
  {
   "cell_type": "code",
   "execution_count": 28,
   "metadata": {},
   "outputs": [],
   "source": [
    "test_labels = torch.tensor([int(data['sentiment'] == 'pos') for data in test_dataset])"
   ]
  },
  {
   "cell_type": "code",
   "execution_count": 29,
   "metadata": {},
   "outputs": [],
   "source": [
    "predicted_test_labels = UDA_pytorch_classifier_predict(simple_lstm_model,\n",
    "                                                       test_encoded,\n",
    "                                                       sequence=True)"
   ]
  },
  {
   "cell_type": "code",
   "execution_count": 30,
   "metadata": {},
   "outputs": [
    {
     "name": "stdout",
     "output_type": "stream",
     "text": [
      "Test accuracy: 0.86952\n"
     ]
    }
   ],
   "source": [
    "print('Test accuracy:', UDA_compute_accuracy(predicted_test_labels, test_labels))"
   ]
  },
  {
   "cell_type": "code",
   "execution_count": 31,
   "metadata": {},
   "outputs": [
    {
     "data": {
      "text/plain": [
       "tensor([1])"
      ]
     },
     "execution_count": 31,
     "metadata": {},
     "output_type": "execute_result"
    }
   ],
   "source": [
    "UDA_pytorch_classifier_predict(simple_lstm_model,\n",
    "                               [encoder.encode('this movie rocks')],\n",
    "                               sequence=True)"
   ]
  },
  {
   "cell_type": "code",
   "execution_count": 32,
   "metadata": {},
   "outputs": [
    {
     "data": {
      "text/plain": [
       "tensor([0])"
      ]
     },
     "execution_count": 32,
     "metadata": {},
     "output_type": "execute_result"
    }
   ],
   "source": [
    "UDA_pytorch_classifier_predict(simple_lstm_model,\n",
    "                               [encoder.encode('this movie sucks')],\n",
    "                               sequence=True)"
   ]
  },
  {
   "cell_type": "code",
   "execution_count": 33,
   "metadata": {},
   "outputs": [
    {
     "data": {
      "text/plain": [
       "tensor([0])"
      ]
     },
     "execution_count": 33,
     "metadata": {},
     "output_type": "execute_result"
    }
   ],
   "source": [
    "UDA_pytorch_classifier_predict(simple_lstm_model,\n",
    "                               [encoder.encode('this sucks')],\n",
    "                               sequence=True)"
   ]
  }
 ],
 "metadata": {
  "anaconda-cloud": {},
  "kernelspec": {
   "display_name": "Python 3 (ipykernel)",
   "language": "python",
   "name": "python3"
  },
  "language_info": {
   "codemirror_mode": {
    "name": "ipython",
    "version": 3
   },
   "file_extension": ".py",
   "mimetype": "text/x-python",
   "name": "python",
   "nbconvert_exporter": "python",
   "pygments_lexer": "ipython3",
   "version": "3.9.7"
  }
 },
 "nbformat": 4,
 "nbformat_minor": 1
}