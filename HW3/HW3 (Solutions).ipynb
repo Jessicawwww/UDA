{
 "cells": [
  {
   "cell_type": "markdown",
   "metadata": {},
   "source": [
    "# Homework 3"
   ]
  },
  {
   "cell_type": "code",
   "execution_count": 1,
   "metadata": {},
   "outputs": [],
   "source": [
    "%matplotlib inline\n",
    "import numpy as np\n",
    "import matplotlib.pyplot as plt\n",
    "import os"
   ]
  },
  {
   "cell_type": "markdown",
   "metadata": {},
   "source": [
    "# Part 1: Email spam classification [30 points]"
   ]
  },
  {
   "cell_type": "markdown",
   "metadata": {},
   "source": [
    "   - Get the data from: http://www.andrew.cmu.edu/user/georgech/preprocessed-enron-email-dataset.zip\n",
    "   - Unzip this into the same folder as this notebook, rename it to `email-data`\n",
    "   - The folder contains 3 subfolders:\n",
    "      - `ham` contains ham emails.\n",
    "      - `spam` contains spam emails.\n",
    "      - `testing` is a folder containing test emails for your classifier. The ham/spam label is in the filename.\n",
    "      \n",
    "**Important**: For this problem, do *not* use neural nets/deep nets."
   ]
  },
  {
   "cell_type": "markdown",
   "metadata": {},
   "source": [
    "**(a) Print the number of ham and spam emails [1 point]**\n",
    "\n",
    "In addition to providing the code, respond to the following questions:\n",
    "\n",
    "   - Is this dataset imbalanced? Will this be problematic in training the model?\n",
    "   - If so, how would you address it? (You do *not* have to implement what you suggest here for later parts of the problem.)"
   ]
  },
  {
   "cell_type": "code",
   "execution_count": 2,
   "metadata": {},
   "outputs": [
    {
     "name": "stdout",
     "output_type": "stream",
     "text": [
      "3671\n",
      "1500\n"
     ]
    }
   ],
   "source": [
    "#your code here\n",
    "from glob import glob\n",
    "spam_count = len(glob('./email-data/spam/*.txt'))\n",
    "ham_count = len(glob('./email-data/ham/*.txt'))\n",
    "print(spam_count)\n",
    "print(ham_count)"
   ]
  },
  {
   "cell_type": "markdown",
   "metadata": {},
   "source": [
    "**Your answers to the above questions:** While there's class imbalance (there are a lot more spam than ham examples), the class imbalance is not extreme (e.g., where one class takes up 99% of the total number of examples). To deal with this class imbalance, many methods are possible. For example, stratified k-fold cross-validation can preserve the class proportions per fold (stratified k-fold cross-validation just enforces that the same proportion of each class is sampled per fold as the overall training data). Again, since the class imbalance is actually not that extreme, this sort of precaution isn't actually necessary. Note that if instead the class imbalance were extreme, a strategy like stratified k-fold cross-validation could be essential to ensure that enough minority class examples actually show up in each fold.\n",
    "\n",
    "There are many other methods possible as well, with the basic idea of either undersampling a class with too many examples (for example, just randomly sampling from the majority class so that it's the same size as the minority class), or oversampling a class with too few examples (a naive approach would be to just duplicate some randomly chosen minority examples to increase the minority class size; fancier approaches are possible that try to generate synthetic examples based on interpolating between real examples). For a whole library of functions for dealing with imbalanced data, see: https://imbalanced-learn.org/stable/index.html"
   ]
  },
  {
   "cell_type": "markdown",
   "metadata": {},
   "source": [
    "**(b) Construct the documents [4 points]**\n",
    " \n",
    "   - Provided below is a function that returns a document present in a file given a fileName.\n",
    "   - The function performs some preprocessing to (1) remove punctuation, (2),(3) remove whitespace and (4) lowercase all words.\n",
    "   - Use this function to construct a list of documents.\n",
    "   - Also construct a list of document labels containing `1` for spam and `0` for ham."
   ]
  },
  {
   "cell_type": "code",
   "execution_count": 3,
   "metadata": {},
   "outputs": [],
   "source": [
    "import re\n",
    "import string\n",
    "import codecs\n",
    "\n",
    "def makeWordList(path):\n",
    "    \n",
    "    with codecs.open(path, \"r\", encoding='utf-8', errors='ignore') as f:\n",
    "        corpus_text = f.read()\n",
    "\n",
    "    for c in string.punctuation:\n",
    "        corpus_text = corpus_text.replace(c, \"\")  # -- (1)\n",
    "    \n",
    "    text = re.sub(r'\\S*\\d\\S*','',corpus_text) # -- (2)\n",
    "    text = re.sub(r'[^\\w\\s]','',text)         # -- (3)\n",
    "    \n",
    "    text = text.lower().split()           # -- (4)         \n",
    "    \n",
    "    li = []\n",
    "    for token in text:\n",
    "        li.append(token)\n",
    "\n",
    "    return \" \".join(li)"
   ]
  },
  {
   "cell_type": "code",
   "execution_count": 4,
   "metadata": {},
   "outputs": [
    {
     "name": "stdout",
     "output_type": "stream",
     "text": [
      "5171\n"
     ]
    }
   ],
   "source": [
    "#your code here\n",
    "documents = [makeWordList(filename) for filename in glob('./email-data/spam/*.txt')] \\\n",
    "    + [makeWordList(filename) for filename in glob('./email-data/ham/*.txt')]\n",
    "labels = np.concatenate((np.ones(spam_count), np.zeros(ham_count)))\n",
    "print(len(documents))"
   ]
  },
  {
   "cell_type": "markdown",
   "metadata": {},
   "source": [
    "**(c) Construct the document matrix `X` as a matrix of word frequencies [5 points]**\n",
    "\n",
    "   - Use the `CountVectorizer` from scikit-learn.\n",
    "   - Set `min_df=50`; this drops words that don't occur in at least 50 documents.\n",
    "   - Set `stop_words=\"english\"` and `max_df=0.8` to filter out stop-words.\n",
    "   - Print the size of the vocabulary (number of unique words)"
   ]
  },
  {
   "cell_type": "code",
   "execution_count": 5,
   "metadata": {},
   "outputs": [
    {
     "name": "stdout",
     "output_type": "stream",
     "text": [
      "1680\n"
     ]
    }
   ],
   "source": [
    "#your code here\n",
    "from sklearn.feature_extraction.text import CountVectorizer\n",
    "vectorizer = CountVectorizer(min_df=50, max_df=0.8, stop_words=\"english\")\n",
    "X = vectorizer.fit_transform(documents)\n",
    "print(len(vectorizer.vocabulary_))"
   ]
  },
  {
   "cell_type": "markdown",
   "metadata": {},
   "source": [
    "**(d) k-NN and random forest: Hyperparameter selection [10 points]**\n",
    "\n",
    "Now that you have your documents and labels as training data, you can perform 5-fold cross-validation to select the hyperparameters for different learning algorithms.\n",
    "\n",
    "The hyperparameter with the best performance averaged across 5 folds is chosen. Use the **weighted F1-score** as the evaluation metric (i.e., for the `f1_score` function imported from `sklearn.metrics`, be sure to use the parameter `average='weighted'`).\n",
    "\n",
    "   - k-NN: Select `k` from a range of values of your choice.\n",
    "   - Random forest: Select `max_features` **and** `min_samples_leaf` from a grid of your choice.\n",
    "\n",
    "Store each chosen hyperparameter as `best_k`, `best_max_features`, and `best_min_samples_leaf` respectively.\n",
    "\n",
    "Provided is some seed code for cross-validation that you may modify and reuse. Do not use the cross-validations score or grid-search functions from scikit-learn (you may use `KFold`)."
   ]
  },
  {
   "cell_type": "code",
   "execution_count": 6,
   "metadata": {},
   "outputs": [
    {
     "name": "stdout",
     "output_type": "stream",
     "text": [
      "1 : 0.9369646862749883\n",
      "2 : 0.9337350526159673\n",
      "3 : 0.91398157387451\n",
      "4 : 0.9328559341967946\n",
      "5 : 0.9115445180580579\n",
      "Best hyperparameter setting: 1\n"
     ]
    }
   ],
   "source": [
    "from sklearn.model_selection import KFold\n",
    "from sklearn.neighbors import KNeighborsClassifier\n",
    "from sklearn.metrics import f1_score\n",
    "\n",
    "num_folds = 5\n",
    "k_fold = KFold(num_folds, shuffle=True, random_state=0)\n",
    "hyperparameter_settings = np.arange(1, 6)\n",
    "\n",
    "best_hyperparam_setting = None\n",
    "best_cross_val_score = -np.inf  # assumes that a higher score is better\n",
    "for hyperparam_setting in hyperparameter_settings:\n",
    "    fold_scores = []\n",
    "    # your code to train and score the training data here\n",
    "    k = hyperparam_setting\n",
    "    for proper_train_indices, val_indices in k_fold.split(X, labels):\n",
    "        proper_train_features = X[proper_train_indices]\n",
    "        proper_train_labels = labels[proper_train_indices]\n",
    "        val_features = X[val_indices]\n",
    "        val_labels = labels[val_indices]\n",
    "        \n",
    "        clf = KNeighborsClassifier(n_neighbors=k)\n",
    "        clf.fit(proper_train_features, proper_train_labels)\n",
    "        predicted_val_labels = clf.predict(val_features)\n",
    "        fold_scores.append(f1_score(val_labels, predicted_val_labels,\n",
    "                                    average='weighted'))\n",
    "    \n",
    "    cross_val_score = np.mean(fold_scores)\n",
    "    print(hyperparam_setting, ':', cross_val_score)\n",
    "    if cross_val_score > best_cross_val_score:  # assumes that a higher score is better\n",
    "        best_cross_val_score = cross_val_score\n",
    "        best_hyperparam_setting = hyperparam_setting\n",
    "\n",
    "print('Best hyperparameter setting:', best_hyperparam_setting)\n",
    "best_k = best_hyperparam_setting"
   ]
  },
  {
   "cell_type": "code",
   "execution_count": 7,
   "metadata": {},
   "outputs": [
    {
     "name": "stdout",
     "output_type": "stream",
     "text": [
      "(10, 1) : 0.9906762546227655\n",
      "(10, 2) : 0.9820347666672257\n",
      "(10, 4) : 0.9733230807301012\n",
      "(10, 8) : 0.9506780975645059\n",
      "(10, 16) : 0.9176062058248908\n",
      "(10, 32) : 0.8632045664508929\n",
      "(10, 64) : 0.7421763494998922\n",
      "(20, 1) : 0.9893261675476186\n",
      "(20, 2) : 0.9844100171854444\n",
      "(20, 4) : 0.9784841834828623\n",
      "(20, 8) : 0.9683120894424537\n",
      "(20, 16) : 0.9469565992240018\n",
      "(20, 32) : 0.9102053337811938\n",
      "(20, 64) : 0.8235920170274641\n",
      "(40, 1) : 0.9881794673416229\n",
      "(40, 2) : 0.983847259441198\n",
      "(40, 4) : 0.979498596286672\n",
      "(40, 8) : 0.9739369604429738\n",
      "(40, 16) : 0.9613279578147965\n",
      "(40, 32) : 0.9407961223715006\n",
      "(40, 64) : 0.8840070791375547\n",
      "(81, 1) : 0.9844980357624303\n",
      "(81, 2) : 0.981728024032104\n",
      "(81, 4) : 0.9775983804996912\n",
      "(81, 8) : 0.9734112834525123\n",
      "(81, 16) : 0.9650168036611113\n",
      "(81, 32) : 0.9515745640741858\n",
      "(81, 64) : 0.9234150970369169\n",
      "(163, 1) : 0.9798585850446448\n",
      "(163, 2) : 0.9795985739977058\n",
      "(163, 4) : 0.9738719612186502\n",
      "(163, 8) : 0.967370021348937\n",
      "(163, 16) : 0.9623698382804158\n",
      "(163, 32) : 0.950868534326918\n",
      "(163, 64) : 0.935366753555677\n",
      "Best hyperparameter setting: (10, 1)\n"
     ]
    }
   ],
   "source": [
    "from sklearn.ensemble import RandomForestClassifier\n",
    "\n",
    "k_fold = KFold(num_folds, shuffle=True, random_state=0)\n",
    "num_features = X.shape[1]\n",
    "hyperparameter_settings = [(max_features, min_samples_leaf)\n",
    "                           for max_features in [int(np.sqrt(num_features) / 4),\n",
    "                                                int(np.sqrt(num_features) / 2),\n",
    "                                                int(np.sqrt(num_features)),\n",
    "                                                int(np.sqrt(num_features) * 2),\n",
    "                                                int(np.sqrt(num_features) * 4)]\n",
    "                           for min_samples_leaf in [1, 2, 4, 8, 16, 32, 64]]\n",
    "best_cross_val_score = -np.inf  # assumes that a higher score is better\n",
    "for hyperparam_setting in hyperparameter_settings:\n",
    "    fold_scores = []\n",
    "    # your code to train and score the training data here\n",
    "    max_features, min_samples_leaf = hyperparam_setting\n",
    "    for proper_train_indices, val_indices in k_fold.split(X, labels):\n",
    "        proper_train_features = X[proper_train_indices]\n",
    "        proper_train_labels = labels[proper_train_indices]\n",
    "        val_features = X[val_indices]\n",
    "        val_labels = labels[val_indices]\n",
    "        \n",
    "        clf = RandomForestClassifier(max_features=max_features,\n",
    "                                     min_samples_leaf=min_samples_leaf,\n",
    "                                     random_state=0)\n",
    "        clf.fit(proper_train_features, proper_train_labels)\n",
    "        predicted_val_labels = clf.predict(val_features)\n",
    "        fold_scores.append(f1_score(val_labels, predicted_val_labels,\n",
    "                                    average='weighted'))\n",
    "    \n",
    "    cross_val_score = np.mean(fold_scores)\n",
    "    print(hyperparam_setting, ':', cross_val_score)\n",
    "    if cross_val_score > best_cross_val_score:  # assumes that a higher score is better\n",
    "        best_cross_val_score = cross_val_score\n",
    "        best_hyperparam_setting = hyperparam_setting\n",
    "\n",
    "print('Best hyperparameter setting:', best_hyperparam_setting)\n",
    "best_max_features, best_min_samples_leaf = best_hyperparam_setting"
   ]
  },
  {
   "cell_type": "markdown",
   "metadata": {},
   "source": [
    "**(e) Classifier testing: Precision-Recall and ROC curves [10 points]**\n",
    "\n",
    "   - Use the best hyperparameters for each classifier from the previous question to **train** your classifiers on the full training data.\n",
    "   - Use test emails in the `testing` folder to **test** your classifiers and construct the plots below.\n",
    "\n",
    "Things to plot:\n",
    "\n",
    "   - Construct one plot containing 2 ROC curves, one for each classifier. (We vary the threshold probability of declaring an email to be spam to obtain these plots.)\n",
    "   - In the legend of this plot, display the AUC for each classifier.\n",
    "   - Construct one plot containing 2 precision-recall curves, one for each classifier.\n",
    "   - In the legend of each plot, display the average precision for each classifier using the sklearn function [`average_precision_score`](https://scikit-learn.org/stable/modules/generated/sklearn.metrics.average_precision_score.html#sklearn.metrics.average_precision_score); average precision is essentially an approximation of the area under the precision-recall curve that avoids being overly optimistic.\n",
    "\n",
    "Note that these plots are on the test data: you will have to read in this data, construct a document matrix and labels. Some words in the test data may not have been present in the training data: there are multiple ways to address this, briefly describe your approach.\n",
    "\n",
    "Things to answer:\n",
    "\n",
    "   - Of the ROC and Precision-Recall curves, which one would you use for this task and why?\n",
    "   - Which classifier is the best, according to your chosen curves?"
   ]
  },
  {
   "cell_type": "code",
   "execution_count": 8,
   "metadata": {},
   "outputs": [
    {
     "data": {
      "image/png": "[encoded data removed]",
      "text/plain": [
       "<Figure size 432x288 with 1 Axes>"
      ]
     },
     "metadata": {
      "needs_background": "light"
     },
     "output_type": "display_data"
    },
    {
     "data": {
      "image/png": "[encoded data removed]",
      "text/plain": [
       "<Figure size 432x288 with 1 Axes>"
      ]
     },
     "metadata": {
      "needs_background": "light"
     },
     "output_type": "display_data"
    }
   ],
   "source": [
    "#your code here\n",
    "\n",
    "# Step 1. Train classifiers using best hyperparameter choices\n",
    "clf_knn = KNeighborsClassifier(n_neighbors=best_k)\n",
    "clf_rf = RandomForestClassifier(max_features=best_max_features,\n",
    "                                min_samples_leaf=best_min_samples_leaf,\n",
    "                                random_state=0)\n",
    "clf_knn.fit(X, labels)\n",
    "clf_rf.fit(X, labels)\n",
    "\n",
    "# Step 2. Load test data\n",
    "test_files = glob('./email-data/testing/*.txt')\n",
    "\n",
    "test_documents = []\n",
    "test_labels = []\n",
    "for file in test_files:\n",
    "    test_documents.append(makeWordList(file))\n",
    "    if file.find(\"ham\") != -1:\n",
    "        test_labels.append(0)\n",
    "    else:\n",
    "        test_labels.append(1)\n",
    "\n",
    "test_features = vectorizer.transform(test_documents)\n",
    "\n",
    "# Step 3. Predict on test data\n",
    "predicted_test_labels_knn = clf_knn.predict_proba(test_features)[:,1]\n",
    "predicted_test_labels_rf = clf_rf.predict_proba(test_features)[:,1]\n",
    "\n",
    "# Step 4. Plot ROC curves\n",
    "\n",
    "from sklearn.metrics import roc_curve\n",
    "\n",
    "plt.figure()\n",
    "\n",
    "fpr, tpr, _ = roc_curve(test_labels, predicted_test_labels_knn, pos_label=1)\n",
    "auc = np.trapz(tpr, fpr)\n",
    "plt.plot(fpr, tpr, label=\"K-NN AUC=\" + \"{:.3f}\".format(auc))\n",
    "\n",
    "fpr, tpr, _ = roc_curve(test_labels, predicted_test_labels_rf, pos_label=1)\n",
    "auc = np.trapz(tpr, fpr)\n",
    "plt.plot(fpr, tpr, label=\"RF AUC=\" + \"{:.3f}\".format(auc))\n",
    "\n",
    "plt.xlabel(\"FPR\")\n",
    "plt.ylabel(\"TPR\")\n",
    "plt.grid()\n",
    "plt.legend()\n",
    "plt.show()\n",
    "\n",
    "# Step 5. Plot precision-recall curves\n",
    "\n",
    "from sklearn.metrics import precision_recall_curve, average_precision_score\n",
    "\n",
    "plt.figure()\n",
    "\n",
    "p, r, _ = precision_recall_curve(test_labels, predicted_test_labels_knn, pos_label=1)\n",
    "ap = average_precision_score(test_labels, predicted_test_labels_knn)\n",
    "plt.plot(r, p, label=\"KNN AP=\" + \"{:.3f}\".format(ap))\n",
    "\n",
    "p, r, _ = precision_recall_curve(test_labels, predicted_test_labels_rf, pos_label=1)\n",
    "ap = average_precision_score(test_labels, predicted_test_labels_rf)\n",
    "plt.plot(r, p, label=\"RF AP=\" + \"{:.3f}\".format(ap))\n",
    "\n",
    "plt.xlabel(\"Recall\")\n",
    "plt.ylabel(\"Precision\")\n",
    "plt.grid()\n",
    "plt.legend()\n",
    "plt.show()"
   ]
  },
  {
   "cell_type": "markdown",
   "metadata": {},
   "source": [
    "**Your answers to the above questions:** For email spam detection in particular, actually either an ROC curve or a precision-recall curve is fine. The main thing here to think about is what the user experience is and what the cost to a user is of an error in classification. Most people probably don't check their spam box that often, so it would be great if an extremely important ham email doesn't end up being predicted as spam --- this would be a false positive. However, people do frequently check the inbox (which consists of items predicted as ham), and if there's spam there, the cost to the user is actually not all that high--the user just flags a spam email in the inbox as \"spam\" and moves on with life. In particular, email spam detection is not a high-stakes problem (usually).\n",
    "\n",
    "The errors we want to minimize are false positives. An ROC curve let's us directly see the false positive rate; we can ask for this to be some desired level (close to 0) and then look for a classifier that has as high of a true positive rate as possible. However, precision in this case could also be used for the following reason: every single predicted spam email gets put into the spam box; we want as close to 0 of these to be ham, which precisely corresponds to the precision being as close to 100% as possible. Errors showing up within the items predicted to be ham and thus placed in the inbox are less of a concern. Thus, alternatively we could ask for the precision to be some desired level (close to 100%) and then look for a classifier that has as high of a recall (which is the same as true positive rate) as possible."
   ]
  },
  {
   "cell_type": "markdown",
   "metadata": {},
   "source": [
    "# Part 2: Representation Learning [40 points]\n",
    "\n",
    "Before getting started, please put the attached file `pretrained_convnet.pt` in the same directory as this notebook.\n",
    "\n",
    "Recall from lecture the \"crumpled paper analogy\": in a neural net, as you progress through the layers from input to output, the layers should be \"unfolding the original space\" to disentangle the classes. When you get to the layer before the classifier, you should've changed the data representation into something that makes classification easy. **We will refer to the layer before the classifier in the neural net as the bottleneck layer.**\n",
    "\n",
    "In this problem, you will be using an output of a bottleneck layer from pre-trained CNN as input features for a few simple classifiers. The CNN provided was trained with the Fashion MNIST dataset which consists of 10 classes of 28x28 grayscale images; this dataset is very similar to MNIST in that there are 10 classes with images that are the same size as MNIST and in fact even the training and test set sizes are the same (60,000 and 10,000 respectively). However, the classes are not the digits 0 through 9. Instead the classes are:\n",
    "\n",
    "| Class | Description |\n",
    "| ----- | :---------: |\n",
    "| 0     | T-shirt/top |\n",
    "| 1     | Trouser     |\n",
    "| 2     | Pullover    |\n",
    "| 3     | Dress       |\n",
    "| 4     | Coat        |\n",
    "| 5     | Sandal      |\n",
    "| 6     | Shirt       |\n",
    "| 7     | Sneaker     |\n",
    "| 8     | Bag         |\n",
    "| 9     | Ankle boot  |"
   ]
  },
  {
   "cell_type": "markdown",
   "metadata": {},
   "source": [
    "Let's start with some imports."
   ]
  },
  {
   "cell_type": "code",
   "execution_count": 9,
   "metadata": {},
   "outputs": [],
   "source": [
    "%matplotlib inline\n",
    "import matplotlib.pyplot as plt\n",
    "import numpy as np\n",
    "\n",
    "import torch\n",
    "import torch.nn as nn\n",
    "import torchvision\n",
    "import torchvision.transforms as transforms\n",
    "from torchsummaryX import summary\n",
    "\n",
    "from UDA_pytorch_utils import UDA_pytorch_model_transform"
   ]
  },
  {
   "cell_type": "markdown",
   "metadata": {},
   "source": [
    "**Loading in the data.** We first load the Fashion MNIST dataset and plot some example images."
   ]
  },
  {
   "cell_type": "code",
   "execution_count": 10,
   "metadata": {},
   "outputs": [
    {
     "data": {
      "image/png": "[encoded data removed]",
      "text/plain": [
       "<Figure size 432x288 with 64 Axes>"
      ]
     },
     "metadata": {
      "needs_background": "light"
     },
     "output_type": "display_data"
    }
   ],
   "source": [
    "# do not modify this cell\n",
    "train_dataset = torchvision.datasets.FashionMNIST(root='data/',\n",
    "                                                  train=True,\n",
    "                                                  transform=transforms.ToTensor(),\n",
    "                                                  download=True)\n",
    "\n",
    "train_images = torch.tensor([image.numpy() for image, label in train_dataset])\n",
    "train_labels = torch.tensor([label for image, label in train_dataset])\n",
    "\n",
    "test_dataset = torchvision.datasets.FashionMNIST(root='data/',\n",
    "                                                 train=False,\n",
    "                                                 transform=transforms.ToTensor(),\n",
    "                                                 download=True)\n",
    "\n",
    "test_images = torch.tensor([image.numpy() for image, label in test_dataset])\n",
    "test_labels = torch.tensor([label for image, label in test_dataset])\n",
    "\n",
    "# show some of the first training images\n",
    "square_grid_num_rows = 8\n",
    "num_images_to_show = square_grid_num_rows ** 2\n",
    "for idx in range(num_images_to_show):\n",
    "    plt.subplot(square_grid_num_rows, square_grid_num_rows, idx + 1)\n",
    "    plt.imshow(train_images[idx][0], cmap='gray')\n",
    "    plt.axis('off')"
   ]
  },
  {
   "cell_type": "markdown",
   "metadata": {},
   "source": [
    "**(a) [5 points]** Select train and test data that belong to classes 2 (corresponding to pullovers) or 6 (corresponding to fancier shirts than t-shirts; note: class 0 corresponds to t-shirts), i.e., subsample all the data that has label 2 or 6. Save the variables as `x_train`, `x_test`, `y_train`, `y_test`. From now on, we are only dealing with the images that are in classes 2 (pullovers) or 6 (shirts). Moreover, in `y_train` and `y_test`, please renumber the two classes so that pullovers now instead corresponds to 0 and shirts corresponds to 1 (we will consider shirts to be the \"positive\" class and pullovers to be the \"negative\" class)."
   ]
  },
  {
   "cell_type": "code",
   "execution_count": 11,
   "metadata": {},
   "outputs": [],
   "source": [
    "# write your code here\n",
    "mask = (train_labels == 2) | (train_labels == 6)\n",
    "x_train = train_images[mask]\n",
    "y_train = 1*(train_labels[mask] == 6)\n",
    "\n",
    "mask = (test_labels == 2) | (test_labels == 6)\n",
    "x_test = test_images[mask]\n",
    "y_test = 1*(test_labels[mask] == 6)"
   ]
  },
  {
   "cell_type": "code",
   "execution_count": 12,
   "metadata": {},
   "outputs": [
    {
     "name": "stdout",
     "output_type": "stream",
     "text": [
      "torch.Size([12000, 1, 28, 28]) torch.Size([12000])\n",
      "torch.Size([2000, 1, 28, 28]) torch.Size([2000])\n"
     ]
    }
   ],
   "source": [
    "# do not modify this cell\n",
    "print(x_train.shape, y_train.shape)\n",
    "print(x_test.shape, y_test.shape)"
   ]
  },
  {
   "cell_type": "markdown",
   "metadata": {},
   "source": [
    "We will make some t-SNE visualizations shortly and using all the training data will be too slow. We reduce the size of the training dataset by randomly subsampling 1000 samples from `x_train`/`y_train` pairs and saving the subsampled versions as `x_train_small`/`y_train_small` (the i-th image in `x_train_small` should have its label given by the i-th entry in `y_train_small`). We have provided the indices of which 1000 samples to use (from within `x_train`/`y_train`)."
   ]
  },
  {
   "cell_type": "code",
   "execution_count": 13,
   "metadata": {},
   "outputs": [],
   "source": [
    "# do not modify this cell\n",
    "np.random.seed(0)\n",
    "random_sample = np.random.permutation(len(x_train))[:1000]"
   ]
  },
  {
   "cell_type": "code",
   "execution_count": 14,
   "metadata": {},
   "outputs": [],
   "source": [
    "# write your code here\n",
    "x_train_small = x_train[random_sample]\n",
    "y_train_small = y_train[random_sample]"
   ]
  },
  {
   "cell_type": "markdown",
   "metadata": {},
   "source": [
    "**(b) [9 points]** We are ready to load the pre-trained convnet. The bottleneck layer is right before the final linear layer and corresponds to the output of a ReLU that has 84 values. **We refer to the output of this ReLU as the bottleneck feature vector representation of whatever the input is.**\n",
    "\n",
    "Note that the convnet was pre-trained using the entire training dataset which consists of 60,000 samples and all 10 labels."
   ]
  },
  {
   "cell_type": "code",
   "execution_count": 15,
   "metadata": {},
   "outputs": [
    {
     "name": "stdout",
     "output_type": "stream",
     "text": [
      "[Summary of pre-trained convnet]\n",
      "=========================================================\n",
      "        Kernel Shape     Output Shape   Params Mult-Adds\n",
      "Layer                                                   \n",
      "0_0     [1, 6, 3, 3]   [1, 6, 26, 26]     60.0   36.504k\n",
      "1_1                -   [1, 6, 26, 26]        -         -\n",
      "2_2                -   [1, 6, 13, 13]        -         -\n",
      "3_3    [6, 16, 3, 3]  [1, 16, 11, 11]    880.0  104.544k\n",
      "4_4                -  [1, 16, 11, 11]        -         -\n",
      "5_5                -    [1, 16, 5, 5]        -         -\n",
      "6_6                -         [1, 400]        -         -\n",
      "7_7       [400, 120]         [1, 120]   48.12k     48.0k\n",
      "8_8                -         [1, 120]        -         -\n",
      "9_9        [120, 84]          [1, 84]  10.164k    10.08k\n",
      "10_10              -          [1, 84]        -         -\n",
      "11_11       [84, 10]          [1, 10]    850.0     840.0\n",
      "---------------------------------------------------------\n",
      "                        Totals\n",
      "Total params           60.074k\n",
      "Trainable params       60.074k\n",
      "Non-trainable params       0.0\n",
      "Mult-Adds             199.968k\n",
      "=========================================================\n",
      "\n",
      "[Summary of the pre-trained convnet up to the bottleneck layer]\n",
      "=========================================================\n",
      "        Kernel Shape     Output Shape   Params Mult-Adds\n",
      "Layer                                                   \n",
      "0_0     [1, 6, 3, 3]   [1, 6, 26, 26]     60.0   36.504k\n",
      "1_1                -   [1, 6, 26, 26]        -         -\n",
      "2_2                -   [1, 6, 13, 13]        -         -\n",
      "3_3    [6, 16, 3, 3]  [1, 16, 11, 11]    880.0  104.544k\n",
      "4_4                -  [1, 16, 11, 11]        -         -\n",
      "5_5                -    [1, 16, 5, 5]        -         -\n",
      "6_6                -         [1, 400]        -         -\n",
      "7_7       [400, 120]         [1, 120]   48.12k     48.0k\n",
      "8_8                -         [1, 120]        -         -\n",
      "9_9        [120, 84]          [1, 84]  10.164k    10.08k\n",
      "10_10              -          [1, 84]        -         -\n",
      "---------------------------------------------------------\n",
      "                        Totals\n",
      "Total params           59.224k\n",
      "Trainable params       59.224k\n",
      "Non-trainable params       0.0\n",
      "Mult-Adds             199.128k\n",
      "=========================================================\n"
     ]
    },
    {
     "data": {
      "text/html": [
       "<div>\n",
       "<style scoped>\n",
       "    .dataframe tbody tr th:only-of-type {\n",
       "        vertical-align: middle;\n",
       "    }\n",
       "\n",
       "    .dataframe tbody tr th {\n",
       "        vertical-align: top;\n",
       "    }\n",
       "\n",
       "    .dataframe thead th {\n",
       "        text-align: right;\n",
       "    }\n",
       "</style>\n",
       "<table border=\"1\" class=\"dataframe\">\n",
       "  <thead>\n",
       "    <tr style=\"text-align: right;\">\n",
       "      <th></th>\n",
       "      <th>Kernel Shape</th>\n",
       "      <th>Output Shape</th>\n",
       "      <th>Params</th>\n",
       "      <th>Mult-Adds</th>\n",
       "    </tr>\n",
       "    <tr>\n",
       "      <th>Layer</th>\n",
       "      <th></th>\n",
       "      <th></th>\n",
       "      <th></th>\n",
       "      <th></th>\n",
       "    </tr>\n",
       "  </thead>\n",
       "  <tbody>\n",
       "    <tr>\n",
       "      <th>0_0</th>\n",
       "      <td>[1, 6, 3, 3]</td>\n",
       "      <td>[1, 6, 26, 26]</td>\n",
       "      <td>60.0</td>\n",
       "      <td>36504.0</td>\n",
       "    </tr>\n",
       "    <tr>\n",
       "      <th>1_1</th>\n",
       "      <td>-</td>\n",
       "      <td>[1, 6, 26, 26]</td>\n",
       "      <td>NaN</td>\n",
       "      <td>NaN</td>\n",
       "    </tr>\n",
       "    <tr>\n",
       "      <th>2_2</th>\n",
       "      <td>-</td>\n",
       "      <td>[1, 6, 13, 13]</td>\n",
       "      <td>NaN</td>\n",
       "      <td>NaN</td>\n",
       "    </tr>\n",
       "    <tr>\n",
       "      <th>3_3</th>\n",
       "      <td>[6, 16, 3, 3]</td>\n",
       "      <td>[1, 16, 11, 11]</td>\n",
       "      <td>880.0</td>\n",
       "      <td>104544.0</td>\n",
       "    </tr>\n",
       "    <tr>\n",
       "      <th>4_4</th>\n",
       "      <td>-</td>\n",
       "      <td>[1, 16, 11, 11]</td>\n",
       "      <td>NaN</td>\n",
       "      <td>NaN</td>\n",
       "    </tr>\n",
       "    <tr>\n",
       "      <th>5_5</th>\n",
       "      <td>-</td>\n",
       "      <td>[1, 16, 5, 5]</td>\n",
       "      <td>NaN</td>\n",
       "      <td>NaN</td>\n",
       "    </tr>\n",
       "    <tr>\n",
       "      <th>6_6</th>\n",
       "      <td>-</td>\n",
       "      <td>[1, 400]</td>\n",
       "      <td>NaN</td>\n",
       "      <td>NaN</td>\n",
       "    </tr>\n",
       "    <tr>\n",
       "      <th>7_7</th>\n",
       "      <td>[400, 120]</td>\n",
       "      <td>[1, 120]</td>\n",
       "      <td>48120.0</td>\n",
       "      <td>48000.0</td>\n",
       "    </tr>\n",
       "    <tr>\n",
       "      <th>8_8</th>\n",
       "      <td>-</td>\n",
       "      <td>[1, 120]</td>\n",
       "      <td>NaN</td>\n",
       "      <td>NaN</td>\n",
       "    </tr>\n",
       "    <tr>\n",
       "      <th>9_9</th>\n",
       "      <td>[120, 84]</td>\n",
       "      <td>[1, 84]</td>\n",
       "      <td>10164.0</td>\n",
       "      <td>10080.0</td>\n",
       "    </tr>\n",
       "    <tr>\n",
       "      <th>10_10</th>\n",
       "      <td>-</td>\n",
       "      <td>[1, 84]</td>\n",
       "      <td>NaN</td>\n",
       "      <td>NaN</td>\n",
       "    </tr>\n",
       "  </tbody>\n",
       "</table>\n",
       "</div>"
      ],
      "text/plain": [
       "        Kernel Shape     Output Shape   Params  Mult-Adds\n",
       "Layer                                                    \n",
       "0_0     [1, 6, 3, 3]   [1, 6, 26, 26]     60.0    36504.0\n",
       "1_1                -   [1, 6, 26, 26]      NaN        NaN\n",
       "2_2                -   [1, 6, 13, 13]      NaN        NaN\n",
       "3_3    [6, 16, 3, 3]  [1, 16, 11, 11]    880.0   104544.0\n",
       "4_4                -  [1, 16, 11, 11]      NaN        NaN\n",
       "5_5                -    [1, 16, 5, 5]      NaN        NaN\n",
       "6_6                -         [1, 400]      NaN        NaN\n",
       "7_7       [400, 120]         [1, 120]  48120.0    48000.0\n",
       "8_8                -         [1, 120]      NaN        NaN\n",
       "9_9        [120, 84]          [1, 84]  10164.0    10080.0\n",
       "10_10              -          [1, 84]      NaN        NaN"
      ]
     },
     "execution_count": 15,
     "metadata": {},
     "output_type": "execute_result"
    }
   ],
   "source": [
    "# load the pre-trained CNN\n",
    "convnet = nn.Sequential(nn.Conv2d(1, 6, 3),\n",
    "                        nn.ReLU(),\n",
    "                        nn.MaxPool2d(2),\n",
    "                        nn.Conv2d(6, 16, 3),\n",
    "                        nn.ReLU(),\n",
    "                        nn.MaxPool2d(2),\n",
    "                        nn.Flatten(),\n",
    "                        nn.Linear(in_features=16 * 5 * 5, out_features=120),\n",
    "                        nn.ReLU(),\n",
    "                        nn.Linear(in_features=120, out_features=84),\n",
    "                        nn.ReLU(),\n",
    "                        nn.Linear(in_features=84, out_features=10))\n",
    "convnet.load_state_dict(torch.load('pretrained_convnet.pt'))\n",
    "convnet.eval()\n",
    "print('[Summary of pre-trained convnet]')\n",
    "summary(convnet, torch.zeros((1, 1, 28, 28)))\n",
    "print()\n",
    "\n",
    "# select the pretrained CNN upto the bottleneck layer\n",
    "intermediate_layer_model = convnet[:-1]\n",
    "print('[Summary of the pre-trained convnet up to the bottleneck layer]')\n",
    "summary(intermediate_layer_model, torch.zeros((1, 1, 28, 28)))"
   ]
  },
  {
   "cell_type": "markdown",
   "metadata": {},
   "source": [
    "We first extract bottleneck feature vectors of the subsampled 1000 training data from the intermediate model."
   ]
  },
  {
   "cell_type": "code",
   "execution_count": 16,
   "metadata": {},
   "outputs": [],
   "source": [
    "# do not modify this cell\n",
    "x_train_small_bottleneck_representation = UDA_pytorch_model_transform(intermediate_layer_model, x_train_small)"
   ]
  },
  {
   "cell_type": "markdown",
   "metadata": {},
   "source": [
    "Next, visualize two different types of features with t-SNE.\n",
    "\n",
    "1. Make a t-SNE plot using the **784 (=28$\\times$28) dimensional raw features** from the subsampled training data (i.e., using `x_train_small`). Set `n_components=2, verbose=1, perplexity=25, random_state=0` for `TSNE` from scikit-learn. Plot the two classes in different colors.\n",
    "\n",
    "2. Repeat the previous step (using the exact same arguments for `TSNE`) except now using the **84 dimensional bottleneck features** (i.e., using `x_train_small_bottleneck_representation`.\n",
    "\n",
    "You may need to convert between PyTorch tensors and NumPy arrays."
   ]
  },
  {
   "cell_type": "code",
   "execution_count": 17,
   "metadata": {},
   "outputs": [
    {
     "name": "stdout",
     "output_type": "stream",
     "text": [
      "[t-SNE] Computing 76 nearest neighbors...\n",
      "[t-SNE] Indexed 1000 samples in 0.034s...\n",
      "[t-SNE] Computed neighbors for 1000 samples in 1.195s...\n",
      "[t-SNE] Computed conditional probabilities for sample 1000 / 1000\n",
      "[t-SNE] Mean sigma: 1.929498\n",
      "[t-SNE] KL divergence after 250 iterations with early exaggeration: 70.154861\n",
      "[t-SNE] KL divergence after 1000 iterations: 1.066527\n",
      "[t-SNE] Computing 76 nearest neighbors...\n",
      "[t-SNE] Indexed 1000 samples in 0.004s...\n",
      "[t-SNE] Computed neighbors for 1000 samples in 0.140s...\n",
      "[t-SNE] Computed conditional probabilities for sample 1000 / 1000\n",
      "[t-SNE] Mean sigma: 2.053075\n",
      "[t-SNE] KL divergence after 250 iterations with early exaggeration: 67.484764\n",
      "[t-SNE] KL divergence after 1000 iterations: 0.987599\n"
     ]
    },
    {
     "data": {
      "text/plain": [
       "(-56.781060160018214,\n",
       " 39.992581308699855,\n",
       " -63.241412943825296,\n",
       " 41.43156797312216)"
      ]
     },
     "execution_count": 17,
     "metadata": {},
     "output_type": "execute_result"
    },
    {
     "data": {
      "image/png": "[encoded data removed]",
      "text/plain": [
       "<Figure size 432x288 with 2 Axes>"
      ]
     },
     "metadata": {
      "needs_background": "light"
     },
     "output_type": "display_data"
    }
   ],
   "source": [
    "# write your code here\n",
    "from sklearn.manifold import TSNE\n",
    "\n",
    "x_train_small_np = x_train_small.cpu().numpy().reshape(-1, 28*28)\n",
    "x_train_small_bottleneck_representation_np = x_train_small_bottleneck_representation.cpu().numpy().reshape(-1, 84)\n",
    "\n",
    "plt.subplot(1, 2, 1)\n",
    "tsne_original = TSNE(n_components=2, verbose=1, perplexity=25, random_state=0)\n",
    "x_train_small_tsne = tsne_original.fit_transform(x_train_small_np)\n",
    "plt.scatter(x_train_small_tsne[:, 0],\n",
    "            x_train_small_tsne[:, 1],\n",
    "            c=y_train_small, alpha=0.5)\n",
    "plt.axis('equal')\n",
    "\n",
    "plt.subplot(1, 2, 2)\n",
    "tsne_bottleneck = TSNE(n_components=2, verbose=1, perplexity=25, random_state=0)\n",
    "x_train_small_bottleneck_representation_tsne = tsne_bottleneck.fit_transform(x_train_small_bottleneck_representation_np)\n",
    "plt.scatter(x_train_small_bottleneck_representation_tsne[:, 0],\n",
    "            x_train_small_bottleneck_representation_tsne[:, 1],\n",
    "            c=y_train_small, alpha=0.5)\n",
    "plt.axis('equal')"
   ]
  },
  {
   "cell_type": "markdown",
   "metadata": {},
   "source": [
    "**(c) [16 points]** We now evaluate on test data and compare several different classifiers. Train **5-NN** and **random forest** classifiers with **784 (=28$\\times$28) raw features** and, separately, the **84 bottleneck features** from **all training data**, respectively. That means you should train 4 models in total:\n",
    "\n",
    "1. 5-NN classifier trained on all raw training features\n",
    "2. 5-NN classifier trained on all training bottleneck features\n",
    "3. Random forest trained on all raw training features (for reproducibility of code, please use arguments `n_estimators=100, random_state=0` for `RandomForestClassifier`)\n",
    "4. Random forest trained on all training bottleneck features (again, use `n_estimators=100, random_state=0`)\n",
    "\n",
    "Test each model with corresponding **test dataset** and print the test accuracy (raw accuracy and not some other score like weighted F1). Also, compute and print the test accuracy of the **pre-trained convnet** (`convnet`) by using **test data**. You may think of this task as filling in the blanks of the following table with test accuracy results.\n",
    "\n",
    "| Model type       | Raw features        | Bottleneck features  |\n",
    "|:---------------- |:-------------------:|:--------------------:|\n",
    "| Pretrained CNN   |                0.891| this cell stays empty|\n",
    "| 5-NN             |                0.856|                 0.888|\n",
    "| Random forest    |               0.8765|                 0.898|\n",
    "\n",
    "Important: the pre-trained convnet is for all 10 classes; only look at the probabilities corresponding to pullovers (class 2) and shirts (class 6), and take an argmax only over these two class probabilities to come up with predictions stricted to pullovers or shirts."
   ]
  },
  {
   "cell_type": "code",
   "execution_count": 18,
   "metadata": {},
   "outputs": [
    {
     "name": "stdout",
     "output_type": "stream",
     "text": [
      "                Raw features    Bottleneck features\n",
      "Pre-trained CNN 0.891                          \n",
      "5-NN            0.856           0.888          \n",
      "Random Forest   0.8765          0.898          \n"
     ]
    }
   ],
   "source": [
    "# write your code here\n",
    "x_train_np = x_train.cpu().numpy().reshape(-1, 28*28)\n",
    "y_train_np = y_train.cpu().numpy()\n",
    "x_test_np = x_test.cpu().numpy().reshape(-1, 28*28)\n",
    "y_test_np = y_test.cpu().numpy()\n",
    "\n",
    "def print_result(name,r_acc,b_acc):\n",
    "    print(name.ljust(15), str(r_acc).ljust(15), str(b_acc).ljust(15), flush=True)\n",
    "\n",
    "print_result('', 'Raw features', 'Bottleneck features')\n",
    "\n",
    "# Evaluate Pretrained CNN accuracy on x_test (raw features)\n",
    "cnn_predictions = UDA_pytorch_model_transform(convnet, x_test)[:, [2, 6]].argmax(axis=1)\n",
    "cnn_predictions_np = cnn_predictions.cpu().numpy()\n",
    "cnn_accuracy = np.mean(cnn_predictions_np == y_test_np)\n",
    "print_result('Pre-trained CNN', cnn_accuracy, '')\n",
    "import copy\n",
    "\n",
    "x_train_bottleneck_representation = UDA_pytorch_model_transform(intermediate_layer_model, x_train)\n",
    "x_test_bottleneck_representation = UDA_pytorch_model_transform(intermediate_layer_model, x_test)\n",
    "\n",
    "x_train_bottleneck_representation_np = x_train_bottleneck_representation.cpu().numpy()\n",
    "x_test_bottleneck_representation_np = x_test_bottleneck_representation.cpu().numpy()\n",
    "\n",
    "names = ['5-NN', 'Random Forest']\n",
    "clfs = [KNeighborsClassifier(5), RandomForestClassifier(n_estimators=100, random_state=0)]\n",
    "for name, clf_using_raw_features, clf_using_bottleneck_features in zip(names, clfs, copy.deepcopy(clfs)):\n",
    "    # train models with raw features and bottleneck features repectively\n",
    "    # train and test with raw features\n",
    "    clf_using_raw_features.fit(x_train_np, y_train_np)\n",
    "    accuracy_using_raw_features = clf_using_raw_features.score(x_test_np, y_test_np)\n",
    "    \n",
    "    # train and test with bottleneck features\n",
    "    clf_using_bottleneck_features.fit(x_train_bottleneck_representation_np, y_train_np)\n",
    "    accuracy_using_bottleneck_features = \\\n",
    "        clf_using_bottleneck_features.score(x_test_bottleneck_representation_np, y_test_np)\n",
    "    \n",
    "    print_result(name, accuracy_using_raw_features, accuracy_using_bottleneck_features)"
   ]
  },
  {
   "cell_type": "markdown",
   "metadata": {},
   "source": [
    "Among the five models above, which model performed the best? Which model showed the lowest accuracy? For the 5-NN and random forest classifiers, is the prediction accuracy higher using bottleneck features instead of the raw features?"
   ]
  },
  {
   "cell_type": "markdown",
   "metadata": {},
   "source": [
    "**Write your answers here:** The random forest with bottleneck features has the highest accuracy. 5-NN with raw features has the lowest accuracy. For both 5-NN and random forest classifiers, using bottleneck features results in a noticeable boost in accuracy.\n",
    "\n",
    "Note that in general, the neural net might not actually achieve the best accuracy. The last layer is just doing multinomial logistic regression, which could fare worse than a more clever final classifier that uses the same bottleneck features."
   ]
  },
  {
   "cell_type": "markdown",
   "metadata": {},
   "source": [
    "**(d) [10 points]** We now look at plotting an ROC curve, varying $k$ in $k$-NN. Train k-NN classifiers with $k=1,2,...,50$ with **bottleneck** feature vectors of all **training** data. As a result, you will get 50 classifiers. Draw a scatter plot that has false positive rate (FPR) on x-axis and true positive rate (TPR) on y-axis. Each scatter point represents one k-NN classifier. Use the **test** data to compute FPR and TPR.\n",
    "\n",
    "Recall that true and false positive rate calculations require you to specify one of the two outcomes as the \"positive\" class and the other as the \"negative\" class. For this problem, use class 6 (shirts) as the \"positive\" class, and class 2 (pullovers) as the \"negative\" class."
   ]
  },
  {
   "cell_type": "code",
   "execution_count": 19,
   "metadata": {},
   "outputs": [
    {
     "name": "stdout",
     "output_type": "stream",
     "text": [
      "1\n",
      "2\n",
      "3\n",
      "4\n",
      "5\n",
      "6\n",
      "7\n",
      "8\n",
      "9\n",
      "10\n",
      "11\n",
      "12\n",
      "13\n",
      "14\n",
      "15\n",
      "16\n",
      "17\n",
      "18\n",
      "19\n",
      "20\n",
      "21\n",
      "22\n",
      "23\n",
      "24\n",
      "25\n",
      "26\n",
      "27\n",
      "28\n",
      "29\n",
      "30\n",
      "31\n",
      "32\n",
      "33\n",
      "34\n",
      "35\n",
      "36\n",
      "37\n",
      "38\n",
      "39\n",
      "40\n",
      "41\n",
      "42\n",
      "43\n",
      "44\n",
      "45\n",
      "46\n",
      "47\n",
      "48\n",
      "49\n",
      "50\n"
     ]
    },
    {
     "data": {
      "image/png": "[encoded data removed]",
      "text/plain": [
       "<Figure size 864x864 with 1 Axes>"
      ]
     },
     "metadata": {
      "needs_background": "light"
     },
     "output_type": "display_data"
    }
   ],
   "source": [
    "# write your code here\n",
    "FPR_list = []\n",
    "TPR_list = []\n",
    "k_list = np.arange(1, 51)\n",
    "\n",
    "for k in k_list:\n",
    "    print(k)\n",
    "    \n",
    "    clf = KNeighborsClassifier(k)\n",
    "    clf.fit(x_train_bottleneck_representation_np, y_train_np)\n",
    "    predicted_y_test = clf.predict(x_test_bottleneck_representation_np)\n",
    "    \n",
    "    true_neg_mask = (y_test_np == 0)\n",
    "    FPR = (predicted_y_test[true_neg_mask] == 1).sum() / true_neg_mask.sum()\n",
    "    \n",
    "    true_pos_mask = (y_test_np == 1)\n",
    "    TPR = (predicted_y_test[true_pos_mask] == 1).sum() / true_pos_mask.sum()\n",
    "    \n",
    "    FPR_list.append(FPR)\n",
    "    TPR_list.append(TPR)\n",
    "\n",
    "plt.figure(figsize=(12, 12))\n",
    "plt.scatter(FPR_list, TPR_list)\n",
    "plt.xlabel(\"FPR\")\n",
    "plt.ylabel(\"TPR\")\n",
    "plt.grid()\n",
    "plt.axis('equal')\n",
    "\n",
    "for k, FPR, TPR in zip(k_list, FPR_list, TPR_list):\n",
    "    plt.text(FPR, TPR, k, alpha=0.5)"
   ]
  },
  {
   "cell_type": "markdown",
   "metadata": {},
   "source": [
    "Suppose you work for a company that wants to figure out when a shirt appears among photos that have either shirts or pullovers. The company tells you that it cannot tolerate a false positive rate of detecting shirts that is more than 12.5%. What value of number of nearest neighbors $k$ achieves the highest true positive rate, but doesn't have more than a 12.5% false positive rate?"
   ]
  },
  {
   "cell_type": "markdown",
   "metadata": {},
   "source": [
    "**Write your answer here:** We look at which choice of $k$ yields as high of a true positive rate as possible while maintaining a false positive rate at most 12.5%; by eyeballing the plot above, it looks like $k=11$ or $k=13$ are both good choices and achieve similar true positive rate values."
   ]
  },
  {
   "cell_type": "markdown",
   "metadata": {},
   "source": [
    "# Part 3: Sentiment Analysis [40 points]\n",
    "\n",
    "Download data from: http://www.andrew.cmu.edu/user/georgech/HW3-data.zip <br>\n",
    "\n",
    "The folder contains:\n",
    "\n",
    "- `train.csv`\n",
    "- `test.csv`\n",
    "\n",
    "In this problem, we look at predicting whether a tweet has positive or negative sentiment. We intentionally write this problem to be a bit open-ended to let you play with different neural net code yourself and also for you to compare against a classical baseline."
   ]
  },
  {
   "cell_type": "markdown",
   "metadata": {},
   "source": [
    "**(a) [5 points]** We first read in the tweet data. Read the data present in `train.csv` file. **Please do not change the filename. In particular, use a relative path, i.e., `./HW3-data/train.csv`**. Then do the following:\n",
    "\n",
    "1. Keep only the sentiment and sentiment text in the data - the first and the last coumn\n",
    "2. Print the number of positive and negative sentiment labels\n",
    "\n",
    "Note: If you are using `open()`, you may have to set `encoding='iso8859'`."
   ]
  },
  {
   "cell_type": "code",
   "execution_count": 20,
   "metadata": {},
   "outputs": [],
   "source": [
    "import numpy as np\n",
    "import torch\n",
    "import torch.nn as nn\n",
    "\n",
    "%matplotlib inline\n",
    "import matplotlib.pyplot as plt"
   ]
  },
  {
   "cell_type": "code",
   "execution_count": 21,
   "metadata": {},
   "outputs": [
    {
     "name": "stdout",
     "output_type": "stream",
     "text": [
      "Number of positive labels: 800000\n",
      "Number of negative labels: 800000\n"
     ]
    }
   ],
   "source": [
    "# your code here\n",
    "import csv\n",
    "def load_csv(csv_filename):\n",
    "    labels = []\n",
    "    tweets = []\n",
    "    with open(csv_filename, encoding='iso8859') as f:\n",
    "        csv_reader = csv.reader(f)\n",
    "        for row in csv_reader:\n",
    "            labels.append(int(row[0]))\n",
    "            tweets.append(row[-1])\n",
    "    return tweets, np.array(labels)\n",
    "\n",
    "train_text, train_labels = load_csv('HW3-data/train.csv')\n",
    "print('Number of positive labels:', (train_labels == 1).sum())\n",
    "print('Number of negative labels:', (train_labels == 0).sum())"
   ]
  },
  {
   "cell_type": "markdown",
   "metadata": {},
   "source": [
    "**(b) [25 points]** Modify the LSTM demo code from lecture to work with this Twitter dataset. Play with the learning rate and batch size so that the training gives reasonable increases in training and validation accuracies as we progress through epochs (leave the number of epochs at 10). Also feel free to try different neural net architectures (although you do not have to). What test accuracy are you able to achieve?"
   ]
  },
  {
   "cell_type": "code",
   "execution_count": 22,
   "metadata": {},
   "outputs": [],
   "source": [
    "# your code here\n",
    "train_dataset = list(zip(train_text, train_labels))\n",
    "\n",
    "proper_train_size = int(len(train_dataset) * 0.8)\n",
    "val_size = len(train_dataset) - proper_train_size\n",
    "\n",
    "torch.manual_seed(0)\n",
    "proper_train_dataset, val_dataset = torch.utils.data.random_split(train_dataset,\n",
    "                                                                  [proper_train_size,\n",
    "                                                                   val_size])"
   ]
  },
  {
   "cell_type": "code",
   "execution_count": 23,
   "metadata": {
    "scrolled": false
   },
   "outputs": [
    {
     "name": "stdout",
     "output_type": "stream",
     "text": [
      "Parsing tweet 10000/1280000, dictionary size: 18070\n",
      "Parsing tweet 20000/1280000, dictionary size: 30016\n",
      "Parsing tweet 30000/1280000, dictionary size: 40690\n",
      "Parsing tweet 40000/1280000, dictionary size: 50442\n",
      "Parsing tweet 50000/1280000, dictionary size: 59643\n",
      "Parsing tweet 60000/1280000, dictionary size: 68236\n",
      "Parsing tweet 70000/1280000, dictionary size: 76487\n",
      "Parsing tweet 80000/1280000, dictionary size: 84484\n",
      "Parsing tweet 90000/1280000, dictionary size: 92350\n",
      "Parsing tweet 100000/1280000, dictionary size: 100059\n",
      "Parsing tweet 110000/1280000, dictionary size: 107685\n",
      "Parsing tweet 120000/1280000, dictionary size: 115073\n",
      "Parsing tweet 130000/1280000, dictionary size: 122191\n",
      "Parsing tweet 140000/1280000, dictionary size: 129093\n",
      "Parsing tweet 150000/1280000, dictionary size: 135849\n",
      "Parsing tweet 160000/1280000, dictionary size: 142701\n",
      "Parsing tweet 170000/1280000, dictionary size: 149362\n",
      "Parsing tweet 180000/1280000, dictionary size: 155947\n",
      "Parsing tweet 190000/1280000, dictionary size: 162456\n",
      "Parsing tweet 200000/1280000, dictionary size: 168714\n",
      "Parsing tweet 210000/1280000, dictionary size: 174981\n",
      "Parsing tweet 220000/1280000, dictionary size: 181309\n",
      "Parsing tweet 230000/1280000, dictionary size: 187617\n",
      "Parsing tweet 240000/1280000, dictionary size: 193768\n",
      "Parsing tweet 250000/1280000, dictionary size: 199612\n",
      "Parsing tweet 260000/1280000, dictionary size: 205414\n",
      "Parsing tweet 270000/1280000, dictionary size: 211103\n",
      "Parsing tweet 280000/1280000, dictionary size: 216802\n",
      "Parsing tweet 290000/1280000, dictionary size: 222524\n",
      "Parsing tweet 300000/1280000, dictionary size: 228137\n",
      "Parsing tweet 310000/1280000, dictionary size: 233733\n",
      "Parsing tweet 320000/1280000, dictionary size: 239319\n",
      "Parsing tweet 330000/1280000, dictionary size: 245061\n",
      "Parsing tweet 340000/1280000, dictionary size: 250576\n",
      "Parsing tweet 350000/1280000, dictionary size: 256005\n",
      "Parsing tweet 360000/1280000, dictionary size: 261525\n",
      "Parsing tweet 370000/1280000, dictionary size: 266901\n",
      "Parsing tweet 380000/1280000, dictionary size: 272094\n",
      "Parsing tweet 390000/1280000, dictionary size: 277303\n",
      "Parsing tweet 400000/1280000, dictionary size: 282688\n",
      "Parsing tweet 410000/1280000, dictionary size: 287940\n",
      "Parsing tweet 420000/1280000, dictionary size: 293141\n",
      "Parsing tweet 430000/1280000, dictionary size: 298165\n",
      "Parsing tweet 440000/1280000, dictionary size: 303292\n",
      "Parsing tweet 450000/1280000, dictionary size: 308272\n",
      "Parsing tweet 460000/1280000, dictionary size: 313349\n",
      "Parsing tweet 470000/1280000, dictionary size: 318209\n",
      "Parsing tweet 480000/1280000, dictionary size: 323256\n",
      "Parsing tweet 490000/1280000, dictionary size: 328141\n",
      "Parsing tweet 500000/1280000, dictionary size: 332920\n",
      "Parsing tweet 510000/1280000, dictionary size: 337795\n",
      "Parsing tweet 520000/1280000, dictionary size: 342756\n",
      "Parsing tweet 530000/1280000, dictionary size: 347616\n",
      "Parsing tweet 540000/1280000, dictionary size: 352376\n",
      "Parsing tweet 550000/1280000, dictionary size: 357096\n",
      "Parsing tweet 560000/1280000, dictionary size: 361876\n",
      "Parsing tweet 570000/1280000, dictionary size: 366579\n",
      "Parsing tweet 580000/1280000, dictionary size: 371297\n",
      "Parsing tweet 590000/1280000, dictionary size: 375960\n",
      "Parsing tweet 600000/1280000, dictionary size: 380557\n",
      "Parsing tweet 610000/1280000, dictionary size: 385200\n",
      "Parsing tweet 620000/1280000, dictionary size: 389773\n",
      "Parsing tweet 630000/1280000, dictionary size: 394294\n",
      "Parsing tweet 640000/1280000, dictionary size: 398773\n",
      "Parsing tweet 650000/1280000, dictionary size: 403429\n",
      "Parsing tweet 660000/1280000, dictionary size: 407897\n",
      "Parsing tweet 670000/1280000, dictionary size: 412383\n",
      "Parsing tweet 680000/1280000, dictionary size: 416808\n",
      "Parsing tweet 690000/1280000, dictionary size: 421138\n",
      "Parsing tweet 700000/1280000, dictionary size: 425633\n",
      "Parsing tweet 710000/1280000, dictionary size: 429983\n",
      "Parsing tweet 720000/1280000, dictionary size: 434300\n",
      "Parsing tweet 730000/1280000, dictionary size: 438637\n",
      "Parsing tweet 740000/1280000, dictionary size: 443048\n",
      "Parsing tweet 750000/1280000, dictionary size: 447367\n",
      "Parsing tweet 760000/1280000, dictionary size: 451605\n",
      "Parsing tweet 770000/1280000, dictionary size: 455824\n",
      "Parsing tweet 780000/1280000, dictionary size: 459945\n",
      "Parsing tweet 790000/1280000, dictionary size: 464160\n",
      "Parsing tweet 800000/1280000, dictionary size: 468406\n",
      "Parsing tweet 810000/1280000, dictionary size: 472692\n",
      "Parsing tweet 820000/1280000, dictionary size: 476895\n",
      "Parsing tweet 830000/1280000, dictionary size: 481140\n",
      "Parsing tweet 840000/1280000, dictionary size: 485274\n",
      "Parsing tweet 850000/1280000, dictionary size: 489411\n",
      "Parsing tweet 860000/1280000, dictionary size: 493516\n",
      "Parsing tweet 870000/1280000, dictionary size: 497558\n",
      "Parsing tweet 880000/1280000, dictionary size: 501707\n",
      "Parsing tweet 890000/1280000, dictionary size: 505825\n",
      "Parsing tweet 900000/1280000, dictionary size: 509693\n",
      "Parsing tweet 910000/1280000, dictionary size: 513689\n",
      "Parsing tweet 920000/1280000, dictionary size: 517649\n",
      "Parsing tweet 930000/1280000, dictionary size: 521615\n",
      "Parsing tweet 940000/1280000, dictionary size: 525562\n",
      "Parsing tweet 950000/1280000, dictionary size: 529621\n",
      "Parsing tweet 960000/1280000, dictionary size: 533502\n",
      "Parsing tweet 970000/1280000, dictionary size: 537391\n",
      "Parsing tweet 980000/1280000, dictionary size: 541396\n",
      "Parsing tweet 990000/1280000, dictionary size: 545335\n",
      "Parsing tweet 1000000/1280000, dictionary size: 549170\n",
      "Parsing tweet 1010000/1280000, dictionary size: 552978\n",
      "Parsing tweet 1020000/1280000, dictionary size: 556844\n",
      "Parsing tweet 1030000/1280000, dictionary size: 560732\n",
      "Parsing tweet 1040000/1280000, dictionary size: 564583\n",
      "Parsing tweet 1050000/1280000, dictionary size: 568375\n",
      "Parsing tweet 1060000/1280000, dictionary size: 572208\n",
      "Parsing tweet 1070000/1280000, dictionary size: 575909\n",
      "Parsing tweet 1080000/1280000, dictionary size: 579648\n",
      "Parsing tweet 1090000/1280000, dictionary size: 583564\n",
      "Parsing tweet 1100000/1280000, dictionary size: 587431\n",
      "Parsing tweet 1110000/1280000, dictionary size: 591167\n",
      "Parsing tweet 1120000/1280000, dictionary size: 594805\n",
      "Parsing tweet 1130000/1280000, dictionary size: 598532\n",
      "Parsing tweet 1140000/1280000, dictionary size: 602282\n",
      "Parsing tweet 1150000/1280000, dictionary size: 605939\n",
      "Parsing tweet 1160000/1280000, dictionary size: 609712\n",
      "Parsing tweet 1170000/1280000, dictionary size: 613317\n",
      "Parsing tweet 1180000/1280000, dictionary size: 616891\n",
      "Parsing tweet 1190000/1280000, dictionary size: 620585\n",
      "Parsing tweet 1200000/1280000, dictionary size: 624302\n",
      "Parsing tweet 1210000/1280000, dictionary size: 627917\n",
      "Parsing tweet 1220000/1280000, dictionary size: 631578\n",
      "Parsing tweet 1230000/1280000, dictionary size: 635273\n",
      "Parsing tweet 1240000/1280000, dictionary size: 638927\n",
      "Parsing tweet 1250000/1280000, dictionary size: 642517\n",
      "Parsing tweet 1260000/1280000, dictionary size: 646079\n",
      "Parsing tweet 1270000/1280000, dictionary size: 649638\n",
      "Parsing tweet 1280000/1280000, dictionary size: 653335\n",
      "Vocabulary size: 2000\n"
     ]
    }
   ],
   "source": [
    "import spacy\n",
    "spacy.require_gpu()\n",
    "from collections import Counter\n",
    "\n",
    "# there are many ways to preprocess the data; this is just one way\n",
    "nlp = spacy.load('en_core_web_sm', disable=['ner', 'tagger', 'parser'])\n",
    "proper_train_tweets = [tweet for tweet, label in proper_train_dataset]\n",
    "histogram = Counter()\n",
    "for idx, doc in enumerate(nlp.pipe(proper_train_tweets)):\n",
    "    if (idx + 1) % 10000 == 0:\n",
    "        print('Parsing tweet %d/%d, dictionary size: %d' % (idx + 1, proper_train_size, len(histogram)))\n",
    "    for token in doc:\n",
    "        lemma = token.lemma_.lower()\n",
    "        if not (len(lemma.strip()) == 0 \\\n",
    "                or token.pos_ == 'SPACE'):\n",
    "            histogram[lemma] += 1\n",
    "\n",
    "vocab_size = 2000\n",
    "vocab = ['<pad>', '<unk>'] \\\n",
    "    + sorted([word for word, count in histogram.most_common()[:(vocab_size-2)]])\n",
    "vocab_to_idx = {word: idx for idx, word in enumerate(vocab)}\n",
    "print('Vocabulary size:', vocab_size)"
   ]
  },
  {
   "cell_type": "code",
   "execution_count": 24,
   "metadata": {},
   "outputs": [],
   "source": [
    "def encode_tweets(tweets):\n",
    "    n = len(tweets)\n",
    "    all_encoded = []\n",
    "    for idx, doc in enumerate(nlp.pipe(tweets)):\n",
    "        encoded = []\n",
    "        if (idx + 1) % 10000 == 0:\n",
    "            print('Parsing tweet %d/%d' % (idx + 1, n))\n",
    "        for token in doc:\n",
    "            lemma = token.lemma_.lower()\n",
    "            if not (len(lemma.strip()) == 0 \\\n",
    "                    or token.pos_ == 'SPACE'):\n",
    "                if lemma in vocab_to_idx:\n",
    "                    encoded.append(vocab_to_idx[lemma])\n",
    "                else:\n",
    "                    encoded.append(vocab_to_idx['<unk>'])\n",
    "        all_encoded.append(torch.tensor(encoded, dtype=torch.long))\n",
    "    return all_encoded"
   ]
  },
  {
   "cell_type": "code",
   "execution_count": 25,
   "metadata": {
    "scrolled": false
   },
   "outputs": [
    {
     "name": "stdout",
     "output_type": "stream",
     "text": [
      "Parsing tweet 10000/1280000\n",
      "Parsing tweet 20000/1280000\n",
      "Parsing tweet 30000/1280000\n",
      "Parsing tweet 40000/1280000\n",
      "Parsing tweet 50000/1280000\n",
      "Parsing tweet 60000/1280000\n",
      "Parsing tweet 70000/1280000\n",
      "Parsing tweet 80000/1280000\n",
      "Parsing tweet 90000/1280000\n",
      "Parsing tweet 100000/1280000\n",
      "Parsing tweet 110000/1280000\n",
      "Parsing tweet 120000/1280000\n",
      "Parsing tweet 130000/1280000\n",
      "Parsing tweet 140000/1280000\n",
      "Parsing tweet 150000/1280000\n",
      "Parsing tweet 160000/1280000\n",
      "Parsing tweet 170000/1280000\n",
      "Parsing tweet 180000/1280000\n",
      "Parsing tweet 190000/1280000\n",
      "Parsing tweet 200000/1280000\n",
      "Parsing tweet 210000/1280000\n",
      "Parsing tweet 220000/1280000\n",
      "Parsing tweet 230000/1280000\n",
      "Parsing tweet 240000/1280000\n",
      "Parsing tweet 250000/1280000\n",
      "Parsing tweet 260000/1280000\n",
      "Parsing tweet 270000/1280000\n",
      "Parsing tweet 280000/1280000\n",
      "Parsing tweet 290000/1280000\n",
      "Parsing tweet 300000/1280000\n",
      "Parsing tweet 310000/1280000\n",
      "Parsing tweet 320000/1280000\n",
      "Parsing tweet 330000/1280000\n",
      "Parsing tweet 340000/1280000\n",
      "Parsing tweet 350000/1280000\n",
      "Parsing tweet 360000/1280000\n",
      "Parsing tweet 370000/1280000\n",
      "Parsing tweet 380000/1280000\n",
      "Parsing tweet 390000/1280000\n",
      "Parsing tweet 400000/1280000\n",
      "Parsing tweet 410000/1280000\n",
      "Parsing tweet 420000/1280000\n",
      "Parsing tweet 430000/1280000\n",
      "Parsing tweet 440000/1280000\n",
      "Parsing tweet 450000/1280000\n",
      "Parsing tweet 460000/1280000\n",
      "Parsing tweet 470000/1280000\n",
      "Parsing tweet 480000/1280000\n",
      "Parsing tweet 490000/1280000\n",
      "Parsing tweet 500000/1280000\n",
      "Parsing tweet 510000/1280000\n",
      "Parsing tweet 520000/1280000\n",
      "Parsing tweet 530000/1280000\n",
      "Parsing tweet 540000/1280000\n",
      "Parsing tweet 550000/1280000\n",
      "Parsing tweet 560000/1280000\n",
      "Parsing tweet 570000/1280000\n",
      "Parsing tweet 580000/1280000\n",
      "Parsing tweet 590000/1280000\n",
      "Parsing tweet 600000/1280000\n",
      "Parsing tweet 610000/1280000\n",
      "Parsing tweet 620000/1280000\n",
      "Parsing tweet 630000/1280000\n",
      "Parsing tweet 640000/1280000\n",
      "Parsing tweet 650000/1280000\n",
      "Parsing tweet 660000/1280000\n",
      "Parsing tweet 670000/1280000\n",
      "Parsing tweet 680000/1280000\n",
      "Parsing tweet 690000/1280000\n",
      "Parsing tweet 700000/1280000\n",
      "Parsing tweet 710000/1280000\n",
      "Parsing tweet 720000/1280000\n",
      "Parsing tweet 730000/1280000\n",
      "Parsing tweet 740000/1280000\n",
      "Parsing tweet 750000/1280000\n",
      "Parsing tweet 760000/1280000\n",
      "Parsing tweet 770000/1280000\n",
      "Parsing tweet 780000/1280000\n",
      "Parsing tweet 790000/1280000\n",
      "Parsing tweet 800000/1280000\n",
      "Parsing tweet 810000/1280000\n",
      "Parsing tweet 820000/1280000\n",
      "Parsing tweet 830000/1280000\n",
      "Parsing tweet 840000/1280000\n",
      "Parsing tweet 850000/1280000\n",
      "Parsing tweet 860000/1280000\n",
      "Parsing tweet 870000/1280000\n",
      "Parsing tweet 880000/1280000\n",
      "Parsing tweet 890000/1280000\n",
      "Parsing tweet 900000/1280000\n",
      "Parsing tweet 910000/1280000\n",
      "Parsing tweet 920000/1280000\n",
      "Parsing tweet 930000/1280000\n",
      "Parsing tweet 940000/1280000\n",
      "Parsing tweet 950000/1280000\n",
      "Parsing tweet 960000/1280000\n",
      "Parsing tweet 970000/1280000\n",
      "Parsing tweet 980000/1280000\n",
      "Parsing tweet 990000/1280000\n",
      "Parsing tweet 1000000/1280000\n",
      "Parsing tweet 1010000/1280000\n",
      "Parsing tweet 1020000/1280000\n",
      "Parsing tweet 1030000/1280000\n",
      "Parsing tweet 1040000/1280000\n",
      "Parsing tweet 1050000/1280000\n",
      "Parsing tweet 1060000/1280000\n",
      "Parsing tweet 1070000/1280000\n",
      "Parsing tweet 1080000/1280000\n",
      "Parsing tweet 1090000/1280000\n",
      "Parsing tweet 1100000/1280000\n",
      "Parsing tweet 1110000/1280000\n",
      "Parsing tweet 1120000/1280000\n",
      "Parsing tweet 1130000/1280000\n",
      "Parsing tweet 1140000/1280000\n",
      "Parsing tweet 1150000/1280000\n",
      "Parsing tweet 1160000/1280000\n",
      "Parsing tweet 1170000/1280000\n",
      "Parsing tweet 1180000/1280000\n",
      "Parsing tweet 1190000/1280000\n",
      "Parsing tweet 1200000/1280000\n",
      "Parsing tweet 1210000/1280000\n",
      "Parsing tweet 1220000/1280000\n",
      "Parsing tweet 1230000/1280000\n",
      "Parsing tweet 1240000/1280000\n",
      "Parsing tweet 1250000/1280000\n",
      "Parsing tweet 1260000/1280000\n",
      "Parsing tweet 1270000/1280000\n",
      "Parsing tweet 1280000/1280000\n"
     ]
    }
   ],
   "source": [
    "proper_train_encoded = encode_tweets(proper_train_tweets)\n",
    "proper_train_labels = torch.tensor([label for tweet, label in proper_train_dataset], dtype=torch.long)"
   ]
  },
  {
   "cell_type": "code",
   "execution_count": 26,
   "metadata": {},
   "outputs": [
    {
     "name": "stdout",
     "output_type": "stream",
     "text": [
      "Parsing tweet 10000/320000\n",
      "Parsing tweet 20000/320000\n",
      "Parsing tweet 30000/320000\n",
      "Parsing tweet 40000/320000\n",
      "Parsing tweet 50000/320000\n",
      "Parsing tweet 60000/320000\n",
      "Parsing tweet 70000/320000\n",
      "Parsing tweet 80000/320000\n",
      "Parsing tweet 90000/320000\n",
      "Parsing tweet 100000/320000\n",
      "Parsing tweet 110000/320000\n",
      "Parsing tweet 120000/320000\n",
      "Parsing tweet 130000/320000\n",
      "Parsing tweet 140000/320000\n",
      "Parsing tweet 150000/320000\n",
      "Parsing tweet 160000/320000\n",
      "Parsing tweet 170000/320000\n",
      "Parsing tweet 180000/320000\n",
      "Parsing tweet 190000/320000\n",
      "Parsing tweet 200000/320000\n",
      "Parsing tweet 210000/320000\n",
      "Parsing tweet 220000/320000\n",
      "Parsing tweet 230000/320000\n",
      "Parsing tweet 240000/320000\n",
      "Parsing tweet 250000/320000\n",
      "Parsing tweet 260000/320000\n",
      "Parsing tweet 270000/320000\n",
      "Parsing tweet 280000/320000\n",
      "Parsing tweet 290000/320000\n",
      "Parsing tweet 300000/320000\n",
      "Parsing tweet 310000/320000\n",
      "Parsing tweet 320000/320000\n"
     ]
    }
   ],
   "source": [
    "val_encoded = encode_tweets([tweet for tweet, label in val_dataset])\n",
    "val_labels = torch.tensor([label for tweet, label in val_dataset], dtype=torch.long)"
   ]
  },
  {
   "cell_type": "code",
   "execution_count": 27,
   "metadata": {},
   "outputs": [],
   "source": [
    "from torchnlp.word_to_vector import GloVe\n",
    "pretrained_embedding = GloVe(name='6B', dim=100)\n",
    "\n",
    "embedding_weights = torch.Tensor(vocab_size, pretrained_embedding.dim)\n",
    "for i, word in enumerate(vocab):\n",
    "    embedding_weights[i] = pretrained_embedding[word]"
   ]
  },
  {
   "cell_type": "code",
   "execution_count": 28,
   "metadata": {},
   "outputs": [],
   "source": [
    "proper_train_dataset_encoded = list(zip(proper_train_encoded, proper_train_labels))\n",
    "val_dataset_encoded = list(zip(val_encoded, val_labels))"
   ]
  },
  {
   "cell_type": "code",
   "execution_count": 29,
   "metadata": {},
   "outputs": [
    {
     "name": "stdout",
     "output_type": "stream",
     "text": [
      "Epoch 1 [==================================================] 1280000/1280000\n",
      "  Train accuracy: 0.7790\n",
      "  Validation accuracy: 0.7760\n",
      "Epoch 2 [==================================================] 1280000/1280000\n",
      "  Train accuracy: 0.8053\n",
      "  Validation accuracy: 0.8014\n",
      "Epoch 3 [==================================================] 1280000/1280000\n",
      "  Train accuracy: 0.7994\n",
      "  Validation accuracy: 0.7945\n",
      "Epoch 4 [==================================================] 1280000/1280000\n",
      "  Train accuracy: 0.8050\n",
      "  Validation accuracy: 0.7995\n",
      "Epoch 5 [==================================================] 1280000/1280000\n",
      "  Train accuracy: 0.8012\n",
      "  Validation accuracy: 0.7949\n",
      "Epoch 6 [==================================================] 1280000/1280000\n",
      "  Train accuracy: 0.8131\n",
      "  Validation accuracy: 0.8065\n",
      "Epoch 7 [==================================================] 1280000/1280000\n",
      "  Train accuracy: 0.8149\n",
      "  Validation accuracy: 0.8085\n",
      "Epoch 8 [==================================================] 1280000/1280000\n",
      "  Train accuracy: 0.8145\n",
      "  Validation accuracy: 0.8075\n",
      "Epoch 9 [==================================================] 1280000/1280000\n",
      "  Train accuracy: 0.8127\n",
      "  Validation accuracy: 0.8051\n",
      "Epoch 10 [==================================================] 1280000/1280000\n",
      "  Train accuracy: 0.8169\n",
      "  Validation accuracy: 0.8094\n"
     ]
    },
    {
     "data": {
      "image/png": "[encoded data removed]",
      "text/plain": [
       "<Figure size 432x288 with 1 Axes>"
      ]
     },
     "metadata": {
      "needs_background": "light"
     },
     "output_type": "display_data"
    }
   ],
   "source": [
    "from UDA_pytorch_utils import UDA_LSTMforSequential, UDA_pytorch_classifier_fit, \\\n",
    "    UDA_plot_train_val_accuracy_vs_epoch, UDA_pytorch_classifier_predict, \\\n",
    "    UDA_compute_accuracy\n",
    "\n",
    "simple_lstm_model = nn.Sequential(nn.Embedding.from_pretrained(embedding_weights),\n",
    "                                  UDA_LSTMforSequential(100, 64),\n",
    "                                  nn.Linear(64, 2))\n",
    "\n",
    "num_epochs = 10  # during optimization, how many times we look at training data\n",
    "batch_size = 512  # during optimization, how many training data to use at each step\n",
    "learning_rate = 0.01  # during optimization, how much we nudge our solution at each step\n",
    "\n",
    "train_accuracies, val_accuracies = \\\n",
    "    UDA_pytorch_classifier_fit(simple_lstm_model,\n",
    "                               torch.optim.AdamW(simple_lstm_model.parameters(),\n",
    "                                                 lr=learning_rate),\n",
    "                               nn.CrossEntropyLoss(),  # includes softmax\n",
    "                               proper_train_dataset_encoded, val_dataset_encoded,\n",
    "                               num_epochs, batch_size,\n",
    "                               sequence=True)\n",
    "\n",
    "UDA_plot_train_val_accuracy_vs_epoch(train_accuracies, val_accuracies)"
   ]
  },
  {
   "cell_type": "code",
   "execution_count": 30,
   "metadata": {},
   "outputs": [
    {
     "name": "stdout",
     "output_type": "stream",
     "text": [
      "Test accuracy: 0.6325301204819277\n"
     ]
    }
   ],
   "source": [
    "test_tweets, test_labels = load_csv('HW3-data/test.csv')\n",
    "test_dataset = list(zip(test_tweets, test_labels))\n",
    "test_encoded = encode_tweets([tweet for tweet, label in test_dataset])\n",
    "test_labels = torch.tensor([label for tweet, label in test_dataset], dtype=torch.long)\n",
    "\n",
    "predicted_test_labels = UDA_pytorch_classifier_predict(simple_lstm_model,\n",
    "                                                       test_encoded,\n",
    "                                                       sequence=True)\n",
    "\n",
    "print('Test accuracy:', UDA_compute_accuracy(predicted_test_labels, test_labels))"
   ]
  },
  {
   "cell_type": "markdown",
   "metadata": {},
   "source": [
    "**(c) [10 points]** How well does an LSTM compare with using a classical classifier? To investigate this question, let's try training a random forest for sentiment analysis. Your code from part **(b)** should involve coming up with encoded representations of text, i.e., representing a tweet using a sequence of word indices. Use this to come up with a term frequency representation for each tweet. Feel free to remove stop words and/or apply TF-IDF weighting, and then feed the resulting feature vector representations for tweets to a random forest classifier. You can use cross-validation to select hyperparameters. Try to make the random forest classifier perform as well as possible (it is good practice in real-world applications to try to make baselines as good as possible rather than intentionally using a baseline with lousy hyperparameter choices; in particular, it is *bad* practice to tune hyperparameters carefully only on a method you're proposing while not tuning hyperparameters on baselines!). What test set accuracy are you able to achieve with the random forest?"
   ]
  },
  {
   "cell_type": "code",
   "execution_count": 31,
   "metadata": {},
   "outputs": [],
   "source": [
    "# your code here\n",
    "from multiprocessing import Pool\n",
    "\n",
    "def bag_of_words_encode_tweet(args):\n",
    "    tweet, vocab_size = args\n",
    "    feature_vector = np.zeros(vocab_size)\n",
    "    for word_idx in tweet:\n",
    "        feature_vector[word_idx] += 1\n",
    "    return feature_vector\n",
    "\n",
    "def bag_of_words_encode(already_encoded_tweets):\n",
    "    p = Pool()\n",
    "    feature_vectors = p.map(bag_of_words_encode_tweet,\n",
    "                            [(encoded.cpu().numpy(), vocab_size)\n",
    "                             for encoded in already_encoded_tweets])\n",
    "    p.close()\n",
    "    return feature_vectors\n",
    "\n",
    "baseline_proper_train_encoded = bag_of_words_encode(proper_train_encoded)\n",
    "baseline_proper_train_labels = [label for tweet, label in proper_train_dataset]\n",
    "baseline_val_encoded = bag_of_words_encode(val_encoded)\n",
    "baseline_val_labels = [label for tweet, label in val_dataset]"
   ]
  },
  {
   "cell_type": "code",
   "execution_count": 32,
   "metadata": {},
   "outputs": [],
   "source": [
    "from scipy.sparse import csc_matrix\n",
    "\n",
    "baseline_proper_train_encoded_sparse = csc_matrix(baseline_proper_train_encoded)\n",
    "baseline_val_encoded_sparse = csc_matrix(baseline_val_encoded)"
   ]
  },
  {
   "cell_type": "code",
   "execution_count": 33,
   "metadata": {},
   "outputs": [
    {
     "name": "stderr",
     "output_type": "stream",
     "text": [
      "[Parallel(n_jobs=-1)]: Using backend ThreadingBackend with 36 concurrent workers.\n",
      "[Parallel(n_jobs=-1)]: Done 100 out of 100 | elapsed:  4.0min finished\n",
      "[Parallel(n_jobs=36)]: Using backend ThreadingBackend with 36 concurrent workers.\n",
      "[Parallel(n_jobs=36)]: Done 100 out of 100 | elapsed:    1.5s finished\n"
     ]
    },
    {
     "name": "stdout",
     "output_type": "stream",
     "text": [
      "(11, 1) : 0.778803125\n"
     ]
    },
    {
     "name": "stderr",
     "output_type": "stream",
     "text": [
      "[Parallel(n_jobs=-1)]: Using backend ThreadingBackend with 36 concurrent workers.\n",
      "[Parallel(n_jobs=-1)]: Done 100 out of 100 | elapsed:  5.0min finished\n",
      "[Parallel(n_jobs=36)]: Using backend ThreadingBackend with 36 concurrent workers.\n",
      "[Parallel(n_jobs=36)]: Done 100 out of 100 | elapsed:    1.3s finished\n"
     ]
    },
    {
     "name": "stdout",
     "output_type": "stream",
     "text": [
      "(22, 1) : 0.77644375\n"
     ]
    },
    {
     "name": "stderr",
     "output_type": "stream",
     "text": [
      "[Parallel(n_jobs=-1)]: Using backend ThreadingBackend with 36 concurrent workers.\n",
      "[Parallel(n_jobs=-1)]: Done 100 out of 100 | elapsed:  6.6min finished\n",
      "[Parallel(n_jobs=36)]: Using backend ThreadingBackend with 36 concurrent workers.\n",
      "[Parallel(n_jobs=36)]: Done 100 out of 100 | elapsed:    1.1s finished\n"
     ]
    },
    {
     "name": "stdout",
     "output_type": "stream",
     "text": [
      "(44, 1) : 0.7723\n"
     ]
    },
    {
     "name": "stderr",
     "output_type": "stream",
     "text": [
      "[Parallel(n_jobs=-1)]: Using backend ThreadingBackend with 36 concurrent workers.\n",
      "[Parallel(n_jobs=-1)]: Done 100 out of 100 | elapsed:  9.8min finished\n",
      "[Parallel(n_jobs=36)]: Using backend ThreadingBackend with 36 concurrent workers.\n",
      "[Parallel(n_jobs=36)]: Done 100 out of 100 | elapsed:    0.9s finished\n"
     ]
    },
    {
     "name": "stdout",
     "output_type": "stream",
     "text": [
      "(89, 1) : 0.76830625\n"
     ]
    },
    {
     "name": "stderr",
     "output_type": "stream",
     "text": [
      "[Parallel(n_jobs=-1)]: Using backend ThreadingBackend with 36 concurrent workers.\n",
      "[Parallel(n_jobs=-1)]: Done 100 out of 100 | elapsed: 15.7min finished\n",
      "[Parallel(n_jobs=36)]: Using backend ThreadingBackend with 36 concurrent workers.\n"
     ]
    },
    {
     "name": "stdout",
     "output_type": "stream",
     "text": [
      "(178, 1) : 0.7654125\n",
      "Best hyperparameter setting: (11, 1)\n"
     ]
    },
    {
     "name": "stderr",
     "output_type": "stream",
     "text": [
      "[Parallel(n_jobs=36)]: Done 100 out of 100 | elapsed:    0.8s finished\n"
     ]
    }
   ],
   "source": [
    "num_features = vocab_size\n",
    "hyperparameter_settings = [(max_features, min_samples_leaf)\n",
    "                           for max_features in [int(np.sqrt(num_features) / 4),\n",
    "                                                int(np.sqrt(num_features) / 2),\n",
    "                                                int(np.sqrt(num_features)),\n",
    "                                                int(np.sqrt(num_features) * 2),\n",
    "                                                int(np.sqrt(num_features) * 4)]\n",
    "                           for min_samples_leaf in [1]]\n",
    "best_val_score = -np.inf  # assumes that a higher score is better\n",
    "best_model = None\n",
    "\n",
    "for hyperparam_setting in hyperparameter_settings:\n",
    "    # your code to train and score the training data here\n",
    "    max_features, min_samples_leaf = hyperparam_setting\n",
    "    \n",
    "    clf = RandomForestClassifier(max_features=max_features,\n",
    "                                 min_samples_leaf=min_samples_leaf,\n",
    "                                 random_state=0, verbose=1, n_jobs=-1,\n",
    "                                 max_samples=0.1)\n",
    "    clf.fit(baseline_proper_train_encoded_sparse,\n",
    "            baseline_proper_train_labels)\n",
    "    \n",
    "    predicted_val_labels = clf.predict(baseline_val_encoded_sparse)\n",
    "    val_score = np.mean(baseline_val_labels == predicted_val_labels)\n",
    "    \n",
    "    print(hyperparam_setting, ':', val_score)\n",
    "    if val_score > best_val_score:  # assumes that a higher score is better\n",
    "        best_val_score = val_score\n",
    "        best_hyperparam_setting = hyperparam_setting\n",
    "        best_model = clf\n",
    "\n",
    "print('Best hyperparameter setting:', best_hyperparam_setting)\n",
    "# best_max_features, best_min_samples_leaf = best_hyperparam_setting"
   ]
  },
  {
   "cell_type": "code",
   "execution_count": 34,
   "metadata": {},
   "outputs": [
    {
     "name": "stderr",
     "output_type": "stream",
     "text": [
      "[Parallel(n_jobs=36)]: Using backend ThreadingBackend with 36 concurrent workers.\n"
     ]
    },
    {
     "name": "stdout",
     "output_type": "stream",
     "text": [
      "Test accuracy: 0.606425702811245\n"
     ]
    },
    {
     "name": "stderr",
     "output_type": "stream",
     "text": [
      "[Parallel(n_jobs=36)]: Done 100 out of 100 | elapsed:    0.2s finished\n"
     ]
    }
   ],
   "source": [
    "baseline_test_encoded_sparse = csc_matrix(bag_of_words_encode(test_encoded))\n",
    "\n",
    "baseline_predicted_test_labels = best_model.predict(baseline_test_encoded_sparse)\n",
    "print('Test accuracy:', np.mean(baseline_predicted_test_labels == test_labels.cpu().numpy()))"
   ]
  }
 ],
 "metadata": {
  "kernelspec": {
   "display_name": "Python 3 (ipykernel)",
   "language": "python",
   "name": "python3"
  },
  "language_info": {
   "codemirror_mode": {
    "name": "ipython",
    "version": 3
   },
   "file_extension": ".py",
   "mimetype": "text/x-python",
   "name": "python",
   "nbconvert_exporter": "python",
   "pygments_lexer": "ipython3",
   "version": "3.9.7"
  }
 },
 "nbformat": 4,
 "nbformat_minor": 2
}
